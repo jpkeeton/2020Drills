{
 "cells": [
  {
   "cell_type": "markdown",
   "metadata": {},
   "source": [
    "Pandas Concepts and Drills\n",
    "* notes are from these places:\n",
    "    * https://www.udemy.com/course/master-data-analysis-with-python-intro-to-pandas/learn/lecture/13981248#overview\n",
    "    * "
   ]
  },
  {
   "cell_type": "markdown",
   "metadata": {},
   "source": [
    "**Lists:**\n",
    "* General purpose data structure\n",
    "* not built for scientific computing\n",
    "* ordered\n",
    "* mutable\n",
    "* dupes OK\n",
    "* indexed\n",
    "* Can store any object of any type\n",
    "* Not optimized for tabular data analysis.\n",
    "* What lacks, is a data structure that contains homogeneous data types for fast access and numerical computation. \n",
    "* uses [ ] \n",
    "* This data structure, usually referred to as an ‘array’ in most languages is provided by the numpy third-part library\n",
    "    * though since 3.3 Python does have the array, import array is fine for basics, \"If all you're doing is creating arrays of simple data types and doing I/O, the array module will do just fine.\" per https://stackoverflow.com/questions/111983/python-array-versus-numpy-array\n",
    "\n",
    "Pandas is built on numpy (numerical Python)\n",
    "* numpy's primary data structure is an n-dimensional array, more powerful and performant than a Python list\n"
   ]
  },
  {
   "cell_type": "markdown",
   "metadata": {},
   "source": [
    "**Dataframe** - 2-dimensional data structure, has rows & columns\n",
    "\n",
    "**Series** - 1-dimensional data structure, has single column, 1-dimensional array"
   ]
  },
  {
   "cell_type": "markdown",
   "metadata": {},
   "source": [
    "**What can I do with Pandas?**\n",
    " \n",
    "* read\n",
    "* filter\n",
    "* aggregate\n",
    "* dis-aggregate\n",
    "* tidying/cleaning\n",
    "* joining\n",
    "* time series analysis\n",
    "* viz!\n"
   ]
  },
  {
   "cell_type": "markdown",
   "metadata": {},
   "source": [
    "head method is very handy!\n",
    "- gives first 5 rows of dataframe or series\n",
    "- you can also jsut give a number ex .head(3), I think would be an example\n",
    "- will be 60 rows w/o the head method by default"
   ]
  },
  {
   "cell_type": "code",
   "execution_count": 2,
   "metadata": {},
   "outputs": [],
   "source": [
    "# read_csv method\n",
    "# - very commonly used\n",
    "# - can read"
   ]
  },
  {
   "cell_type": "code",
   "execution_count": null,
   "metadata": {},
   "outputs": [],
   "source": []
  }
 ],
 "metadata": {
  "kernelspec": {
   "display_name": "Python 3",
   "language": "python",
   "name": "python3"
  },
  "language_info": {
   "codemirror_mode": {
    "name": "ipython",
    "version": 3
   },
   "file_extension": ".py",
   "mimetype": "text/x-python",
   "name": "python",
   "nbconvert_exporter": "python",
   "pygments_lexer": "ipython3",
   "version": "3.7.6"
  }
 },
 "nbformat": 4,
 "nbformat_minor": 4
}
