{
 "cells": [
  {
   "cell_type": "markdown",
   "metadata": {},
   "source": [
    "Here I'm just  concepts from my Udemy course (Master Data Analysis with Python - Intro to Pandas)\n",
    "\n",
    "Code cells will have the word **Code** in that same menu. \n",
    "\n",
    "Also, all code cells will have the word **`In`** displayed directly to the left of the cell and a number inside of brackets denoting its order of execution. \n",
    "\n",
    "If there is no number inside the brackets, then the code cell has yet to be executed. \n",
    "\n",
    "If the cell has been executed, the result will be displayed directly below with the word **`Out`** directly to the left. \n",
    "\n",
    "Some code cells do not output anything upon execution and will not have an **`Out`** section."
   ]
  },
  {
   "cell_type": "code",
   "execution_count": null,
   "metadata": {},
   "outputs": [],
   "source": [
    "thisList = [\"apple\", \"bananas\", \"pear\"]"
   ]
  },
  {
   "cell_type": "code",
   "execution_count": null,
   "metadata": {},
   "outputs": [],
   "source": [
    "print(thisList)"
   ]
  },
  {
   "cell_type": "code",
   "execution_count": null,
   "metadata": {},
   "outputs": [],
   "source": [
    "print(thisList[0])"
   ]
  },
  {
   "cell_type": "code",
   "execution_count": null,
   "metadata": {},
   "outputs": [],
   "source": [
    "#tuple\n",
    "thistuple = (\"apple\", \"banana\", \"cherry\")\n",
    "print(thistuple)"
   ]
  },
  {
   "cell_type": "code",
   "execution_count": null,
   "metadata": {},
   "outputs": [],
   "source": [
    "#for example\n",
    "for x in thisList:\n",
    "    print(x)"
   ]
  },
  {
   "cell_type": "code",
   "execution_count": null,
   "metadata": {},
   "outputs": [],
   "source": [
    "#while example\n",
    "currentValue = 1\n",
    "while currentValue <=5:\n",
    "    print(currentValue)\n",
    "    currentValue +=1"
   ]
  },
  {
   "cell_type": "code",
   "execution_count": null,
   "metadata": {},
   "outputs": [],
   "source": [
    "# list comprehensions\n",
    "# lots of power in a single line of code\n",
    "# concise way to create lists\n",
    "squares = [x**2 for x in range(1,11)]\n",
    "print(squares)"
   ]
  },
  {
   "cell_type": "code",
   "execution_count": null,
   "metadata": {},
   "outputs": [],
   "source": [
    "moreSquares = [y**2 for y in range(1,100)]"
   ]
  },
  {
   "cell_type": "code",
   "execution_count": null,
   "metadata": {},
   "outputs": [],
   "source": [
    "print(moreSquares)"
   ]
  },
  {
   "cell_type": "code",
   "execution_count": null,
   "metadata": {},
   "outputs": [],
   "source": [
    "#now work on subsetting this list etc....\n",
    "print(moreSquares[:3])"
   ]
  },
  {
   "cell_type": "code",
   "execution_count": null,
   "metadata": {},
   "outputs": [],
   "source": [
    "print(moreSquares[85:])"
   ]
  },
  {
   "cell_type": "markdown",
   "metadata": {},
   "source": [
    "**Generator Object**"
   ]
  },
  {
   "cell_type": "code",
   "execution_count": null,
   "metadata": {},
   "outputs": [],
   "source": [
    "int_list = [-2, 3, 5, 6, -6]\n",
    "print(x for x in int_list if x > 0)"
   ]
  },
  {
   "cell_type": "markdown",
   "metadata": {},
   "source": [
    "Generators vs List Comprehensions:\n",
    "* https://code-maven.com/range-vs-xrange-in-python\n",
    "* https://code-maven.com/list-comprehension-vs-generator-expression\n",
    "* https://code-maven.com/range-vs-xrange-in-python"
   ]
  },
  {
   "cell_type": "code",
   "execution_count": null,
   "metadata": {},
   "outputs": [],
   "source": [
    "str1 = \"AB\"\n",
    "str2 = \"34\""
   ]
  },
  {
   "cell_type": "code",
   "execution_count": null,
   "metadata": {},
   "outputs": [],
   "source": [
    "[x + y for y in str1 for x in str2]"
   ]
  },
  {
   "cell_type": "code",
   "execution_count": null,
   "metadata": {},
   "outputs": [],
   "source": [
    "x = 123\n",
    "print([y * 2 for y in x])\n",
    "# this is correct, per the DataCamp skills practice, the correct answer WAS TypeError"
   ]
  },
  {
   "cell_type": "code",
   "execution_count": null,
   "metadata": {},
   "outputs": [],
   "source": [
    "superheroes = ['thor', 'hulk']\n",
    "def to_upper(x):\n",
    "    for i in x:\n",
    "        yield i.upper()"
   ]
  },
  {
   "cell_type": "code",
   "execution_count": null,
   "metadata": {},
   "outputs": [],
   "source": [
    "# this will give me a generator object\n",
    "print(to_upper(superheroes))"
   ]
  },
  {
   "cell_type": "code",
   "execution_count": null,
   "metadata": {},
   "outputs": [],
   "source": [
    "x = [2, 4, 1, 5]\n",
    "squares = {i: i**2 for i in x}\n",
    "print(squares)"
   ]
  },
  {
   "cell_type": "markdown",
   "metadata": {},
   "source": [
    "**Crash Course in Python Exercises**\n",
    "     * page 29 "
   ]
  },
  {
   "cell_type": "code",
   "execution_count": null,
   "metadata": {},
   "outputs": [],
   "source": [
    "# Personal Message\n",
    "# store  a person's name in a variable\n",
    "personName = \"JingleHeimer\"\n",
    "# print a message to that person\n",
    "print(\"Hello\" + \" \" + personName)\n"
   ]
  },
  {
   "cell_type": "code",
   "execution_count": 1,
   "metadata": {},
   "outputs": [
    {
     "name": "stdout",
     "output_type": "stream",
     "text": [
      "James Jingle der Heimer\n"
     ]
    }
   ],
   "source": [
    "# Names Cases \n",
    "# store a person's name in a variable\n",
    "personName2 = \"James Jingle der Heimer\"\n",
    "# print the person's nma in lowercase, uppercase and titlecase\n",
    "print(personName2)"
   ]
  },
  {
   "cell_type": "code",
   "execution_count": 2,
   "metadata": {},
   "outputs": [],
   "source": [
    "# go thru these exercises and then write tests for them"
   ]
  },
  {
   "cell_type": "code",
   "execution_count": 4,
   "metadata": {},
   "outputs": [
    {
     "name": "stdout",
     "output_type": "stream",
     "text": [
      "James Jingle der Heimer\n"
     ]
    }
   ],
   "source": [
    "print(personName2)"
   ]
  },
  {
   "cell_type": "code",
   "execution_count": null,
   "metadata": {},
   "outputs": [],
   "source": [
    "# combining sentence with string and adding a method\n",
    "print(\"Hello\" + \" \" + personName2.title())"
   ]
  },
  {
   "cell_type": "code",
   "execution_count": 5,
   "metadata": {},
   "outputs": [
    {
     "ename": "SyntaxError",
     "evalue": "invalid character in identifier (<ipython-input-5-6250ce86be54>, line 3)",
     "output_type": "error",
     "traceback": [
      "\u001b[1;36m  File \u001b[1;32m\"<ipython-input-5-6250ce86be54>\"\u001b[1;36m, line \u001b[1;32m3\u001b[0m\n\u001b[1;33m    movtivatingQuote = (\"Here is a famous quote from Confucious - \" “It does not matter how slowly you go as long as you do not stop.”)“It does not matter how slowly you go as long as you do not stop.” Confucius\")\u001b[0m\n\u001b[1;37m                                                                      ^\u001b[0m\n\u001b[1;31mSyntaxError\u001b[0m\u001b[1;31m:\u001b[0m invalid character in identifier\n"
     ]
    }
   ],
   "source": [
    "# famous quote exercise, page 29\n",
    "# “It does not matter how slowly you go as long as you do not stop.” Confucius\n",
    "movtivatingQuote = (\"Here is a famous quote from Confucious - \" “It does not matter how slowly you go as long as you do not stop.”)“It does not matter how slowly you go as long as you do not stop.” Confucius\")"
   ]
  },
  {
   "cell_type": "code",
   "execution_count": 12,
   "metadata": {},
   "outputs": [
    {
     "name": "stdout",
     "output_type": "stream",
     "text": [
      "LIKE CONFUCIOUS SAYS - \"IT DOES NOT MATTER HOW SLOWLY YOU GO AS LONG AS YOU DO NOT STOP.\"\n"
     ]
    }
   ],
   "source": [
    "motivatingQuote2 = (\"Like confucious says - \\\"It does not matter how slowly you go as long as you do not stop.\\\"\")\n",
    "print(motivatingQuote2.upper())"
   ]
  },
  {
   "cell_type": "code",
   "execution_count": 22,
   "metadata": {},
   "outputs": [
    {
     "name": "stdout",
     "output_type": "stream",
     "text": [
      "LIKE CONFUCIOUS SAYS - \"IT DOES NOT MATTER HOW SLOWLY YOU GO AS LONG AS YOU DO NOT STOP.\"\n"
     ]
    }
   ],
   "source": [
    "motivatingQuote3 = (\"Like confucious says - \\\"It does not matter how slowly you go as long as you do not stop.\\\"\")\n",
    "print(motivatingQuote3.upper())"
   ]
  },
  {
   "cell_type": "code",
   "execution_count": 23,
   "metadata": {},
   "outputs": [
    {
     "name": "stdout",
     "output_type": "stream",
     "text": [
      "yes, they are the same\n"
     ]
    }
   ],
   "source": [
    "if motivatingQuote2 ==motivatingQuote3:\n",
    "    print(\"yes, they are the same\".lower())\n",
    "else:\n",
    "    print(\"the 2 quotes are different\".upper())"
   ]
  },
  {
   "cell_type": "code",
   "execution_count": 42,
   "metadata": {},
   "outputs": [],
   "source": [
    "# famous quote 2 exercise, page 29\n",
    "famousPerson = \"Confucious\"\n",
    "# print(famousPerson)\n",
    "motivatingQuote4 = f\"Like {famousPerson} says - \\\"It does not matter how slowly you go as long as you do not stop\\\"\""
   ]
  },
  {
   "cell_type": "code",
   "execution_count": 43,
   "metadata": {},
   "outputs": [
    {
     "name": "stdout",
     "output_type": "stream",
     "text": [
      "Like Confucious says - \"It does not matter how slowly you go as long as you do not stop\"\n"
     ]
    }
   ],
   "source": [
    "print(motivatingQuote4)"
   ]
  },
  {
   "cell_type": "code",
   "execution_count": 65,
   "metadata": {},
   "outputs": [
    {
     "data": {
      "text/plain": [
       "'there are spaces here'"
      ]
     },
     "execution_count": 65,
     "metadata": {},
     "output_type": "execute_result"
    }
   ],
   "source": [
    "# Stripping Names exercise, page 29\n",
    "# store a persons name with and w/o whitespace\n",
    "\n",
    "# first let's do new lines\n",
    "# print('Sammy\\'s balloon')\n",
    "stripName = \"    there are spaces here   \"\n",
    "# use rstrip, lstrip and strip to remove whitespace from the right, left and entire string respectively\n",
    "stripName.strip()"
   ]
  },
  {
   "cell_type": "code",
   "execution_count": null,
   "metadata": {},
   "outputs": [],
   "source": [
    "and practice # use character combinations \"\\t\" and \"\\n\""
   ]
  },
  {
   "cell_type": "code",
   "execution_count": 73,
   "metadata": {},
   "outputs": [],
   "source": [
    "tabPractice = \"this\\tis\\t a\\t tab\\t practice\""
   ]
  },
  {
   "cell_type": "code",
   "execution_count": 74,
   "metadata": {},
   "outputs": [
    {
     "name": "stdout",
     "output_type": "stream",
     "text": [
      "this\tis\t a\t tab\t practice\n"
     ]
    }
   ],
   "source": [
    "print(tabPractice)"
   ]
  },
  {
   "cell_type": "code",
   "execution_count": 114,
   "metadata": {},
   "outputs": [],
   "source": [
    "newLinePractice = \"this\\n\\tis\""
   ]
  },
  {
   "cell_type": "code",
   "execution_count": 115,
   "metadata": {},
   "outputs": [
    {
     "name": "stdout",
     "output_type": "stream",
     "text": [
      "this\n",
      "\tis\n"
     ]
    }
   ],
   "source": [
    "print(newLinePractice)"
   ]
  },
  {
   "cell_type": "code",
   "execution_count": null,
   "metadata": {},
   "outputs": [],
   "source": []
  },
  {
   "cell_type": "code",
   "execution_count": null,
   "metadata": {},
   "outputs": [],
   "source": []
  },
  {
   "cell_type": "code",
   "execution_count": 66,
   "metadata": {},
   "outputs": [
    {
     "name": "stdout",
     "output_type": "stream",
     "text": [
      "    there are spaces here   \n"
     ]
    }
   ],
   "source": [
    "print(stripName)"
   ]
  },
  {
   "cell_type": "code",
   "execution_count": 67,
   "metadata": {},
   "outputs": [
    {
     "name": "stdout",
     "output_type": "stream",
     "text": [
      "What is the \"program\"\n"
     ]
    }
   ],
   "source": [
    "print(\"What is the \\\"program\\\"\")"
   ]
  },
  {
   "cell_type": "code",
   "execution_count": null,
   "metadata": {},
   "outputs": [],
   "source": []
  },
  {
   "cell_type": "code",
   "execution_count": null,
   "metadata": {},
   "outputs": [],
   "source": [
    "# more string methods here: https://www.w3schools.com/python/python_ref_string.asp"
   ]
  },
  {
   "cell_type": "code",
   "execution_count": 68,
   "metadata": {},
   "outputs": [
    {
     "name": "stdout",
     "output_type": "stream",
     "text": [
      "False\n"
     ]
    }
   ],
   "source": [
    "# simple testing, here using 'isdigit'\n",
    "txt = \"Blue\"\n",
    "x = txt.isdigit()\n",
    "print(x)"
   ]
  },
  {
   "cell_type": "code",
   "execution_count": 69,
   "metadata": {},
   "outputs": [
    {
     "data": {
      "text/plain": [
       "5"
      ]
     },
     "execution_count": 69,
     "metadata": {},
     "output_type": "execute_result"
    }
   ],
   "source": [
    "number5 = 5\n",
    "number5"
   ]
  },
  {
   "cell_type": "code",
   "execution_count": 72,
   "metadata": {},
   "outputs": [
    {
     "ename": "SyntaxError",
     "evalue": "invalid syntax (<ipython-input-72-416730e5c9b4>, line 1)",
     "output_type": "error",
     "traceback": [
      "\u001b[1;36m  File \u001b[1;32m\"<ipython-input-72-416730e5c9b4>\"\u001b[1;36m, line \u001b[1;32m1\u001b[0m\n\u001b[1;33m    practicing asserts\u001b[0m\n\u001b[1;37m                     ^\u001b[0m\n\u001b[1;31mSyntaxError\u001b[0m\u001b[1;31m:\u001b[0m invalid syntax\n"
     ]
    }
   ],
   "source": [
    "practicing asserts\n",
    "x = \"hello\"\n",
    "\n",
    "#if condition returns True, then nothing happens:\n",
    "assert x == \"hello\"\n",
    "\n",
    "# #if condition returns False, AssertionError is raised:\n",
    "# assert x == \"goodbye\"\n",
    "\n"
   ]
  },
  {
   "cell_type": "code",
   "execution_count": null,
   "metadata": {},
   "outputs": [],
   "source": [
    "x = 6\n",
    "if x == 5:\n",
    "    print(\"looks like X is equal to five yall\")\n",
    "else:\n",
    "    print(\"we found a bug\")\n",
    "    "
   ]
  },
  {
   "cell_type": "code",
   "execution_count": null,
   "metadata": {},
   "outputs": [],
   "source": [
    "# assert_stmt ::= \"assert\" expression1 [\",\" expression2]\n",
    "\n",
    "assert number 5 == 5"
   ]
  },
  {
   "cell_type": "code",
   "execution_count": null,
   "metadata": {},
   "outputs": [],
   "source": []
  }
 ],
 "metadata": {
  "kernelspec": {
   "display_name": "Python 3",
   "language": "python",
   "name": "python3"
  },
  "language_info": {
   "codemirror_mode": {
    "name": "ipython",
    "version": 3
   },
   "file_extension": ".py",
   "mimetype": "text/x-python",
   "name": "python",
   "nbconvert_exporter": "python",
   "pygments_lexer": "ipython3",
   "version": "3.7.6"
  }
 },
 "nbformat": 4,
 "nbformat_minor": 4
}
