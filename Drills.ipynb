{
 "cells": [
  {
   "cell_type": "code",
   "execution_count": 15,
   "metadata": {},
   "outputs": [
    {
     "name": "stdout",
     "output_type": "stream",
     "text": [
      "Available Themes: \n",
      "   chesterish\n",
      "   grade3\n",
      "   gruvboxd\n",
      "   gruvboxl\n",
      "   monokai\n",
      "   oceans16\n",
      "   onedork\n",
      "   solarizedd\n",
      "   solarizedl\n"
     ]
    }
   ],
   "source": [
    "# Get more out of Jupyter Notebooks\n",
    "# https://towardsdatascience.com/bringing-the-best-out-of-jupyter-notebooks-for-data-science-f0871519ca29\n",
    "\n",
    "import jupyterthemes\n",
    "# list the Jupyter themes\n",
    "!jt -l"
   ]
  },
  {
   "cell_type": "code",
   "execution_count": 13,
   "metadata": {},
   "outputs": [],
   "source": [
    "# https://towardsdatascience.com/bringing-the-best-out-of-jupyter-notebooks-for-data-science-f0871519ca29\n",
    "# selecting a particular theme\n",
    "# jt -t <name of the theme>\n",
    "# reverting to original Theme\n",
    "# jt -r\n",
    "\n",
    "# Just use a '!' upfront if you want to change the theme w/in Jupyter Notebooks\n",
    "\n",
    "\n",
    "# !jt -t onedork\n",
    "\n",
    "!jt -t chesterish\n",
    "\n",
    "\n"
   ]
  },
  {
   "cell_type": "code",
   "execution_count": 105,
   "metadata": {},
   "outputs": [
    {
     "data": {
      "text/plain": [
       "'C:\\\\Users\\\\jpkee\\\\Desktop\\\\PythonProjects'"
      ]
     },
     "execution_count": 105,
     "metadata": {},
     "output_type": "execute_result"
    }
   ],
   "source": [
    "# magic and shell commands -> \n",
    "# https://jakevdp.github.io/PythonDataScienceHandbook/01.05-ipython-and-shell-commands.html\n",
    "\n",
    "# use %ls to get the directory\n",
    "# %ls\n",
    "# print working directory\n",
    "# %pwd"
   ]
  },
  {
   "cell_type": "markdown",
   "metadata": {},
   "source": [
    "Here I'm just  concepts from my Udemy course (Master Data Analysis with Python - Intro to Pandas)\n",
    "\n",
    "Code cells will have the word **Code** in that same menu. \n",
    "\n",
    "Also, all code cells will have the word **`In`** displayed directly to the left of the cell and a number inside of brackets denoting its order of execution. \n",
    "\n",
    "If there is no number inside the brackets, then the code cell has yet to be executed. \n",
    "\n",
    "If the cell has been executed, the result will be displayed directly below with the word **`Out`** directly to the left. \n",
    "\n",
    "Some code cells do not output anything upon execution and will not have an **`Out`** section."
   ]
  },
  {
   "cell_type": "code",
   "execution_count": 16,
   "metadata": {},
   "outputs": [],
   "source": [
    "# create a list\n",
    "thisList = [\"apple\", \"bananas\", \"pear\", \"zucch\", \"asxxxd\", \"zzzzd\", \"sssss\"]"
   ]
  },
  {
   "cell_type": "code",
   "execution_count": 6,
   "metadata": {},
   "outputs": [
    {
     "name": "stdout",
     "output_type": "stream",
     "text": [
      "['apple', 'bananas', 'pear', 'zucch', 'asxxxd', 'zzzzd', 'sssss']\n"
     ]
    }
   ],
   "source": [
    "print(thisList)"
   ]
  },
  {
   "cell_type": "code",
   "execution_count": 17,
   "metadata": {},
   "outputs": [
    {
     "name": "stdout",
     "output_type": "stream",
     "text": [
      "pear\n",
      "['pear', 'zucch']\n"
     ]
    }
   ],
   "source": [
    "# index the list, remember indexing and slicing are the 2 constructs for pulling data \n",
    "# out of sequence-like types (lists, tuples, and even strings)\n",
    "print(thisList[2])\n",
    "\n",
    "# Slicing example\n",
    "print(thisList[2:4])"
   ]
  },
  {
   "cell_type": "code",
   "execution_count": 19,
   "metadata": {},
   "outputs": [
    {
     "name": "stdout",
     "output_type": "stream",
     "text": [
      "('apple', 'banana', 'cherry')\n"
     ]
    }
   ],
   "source": [
    "#tuple\n",
    "# remember tuples are immutable, which means once defined you cannot edit\n",
    "thistuple = (\"apple\", \"banana\", \"cherry\")\n",
    "print(thistuple)"
   ]
  },
  {
   "cell_type": "code",
   "execution_count": 22,
   "metadata": {},
   "outputs": [
    {
     "name": "stdout",
     "output_type": "stream",
     "text": [
      "['this will print the same number of times as there are list elements in thisList']\n",
      "['this will print the same number of times as there are list elements in thisList']\n",
      "['this will print the same number of times as there are list elements in thisList']\n",
      "['this will print the same number of times as there are list elements in thisList']\n",
      "['this will print the same number of times as there are list elements in thisList']\n",
      "['this will print the same number of times as there are list elements in thisList']\n",
      "['this will print the same number of times as there are list elements in thisList']\n"
     ]
    }
   ],
   "source": [
    "#a for loop example\n",
    "for a in thisList:\n",
    "    print([\"this will print the same number of times as there are list elements in thisList\"])"
   ]
  },
  {
   "cell_type": "code",
   "execution_count": 30,
   "metadata": {},
   "outputs": [
    {
     "name": "stdout",
     "output_type": "stream",
     "text": [
      "here is an element's nth character: a, and the nth element is: l\n",
      "here is an element's nth character: b, and the nth element is: a\n",
      "here is an element's nth character: p, and the nth element is: r\n",
      "here is an element's nth character: z, and the nth element is: c\n",
      "here is an element's nth character: a, and the nth element is: x\n",
      "here is an element's nth character: z, and the nth element is: z\n",
      "here is an element's nth character: s, and the nth element is: s\n"
     ]
    }
   ],
   "source": [
    "# another for loop example\n",
    "for x in thisList:\n",
    "    print(\"here is an element's nth character: \" + x[0] +  ', and the nth element is: ' + x[3])"
   ]
  },
  {
   "cell_type": "code",
   "execution_count": 32,
   "metadata": {},
   "outputs": [
    {
     "data": {
      "text/plain": [
       "3"
      ]
     },
     "execution_count": 32,
     "metadata": {},
     "output_type": "execute_result"
    }
   ],
   "source": [
    "# len(thisList)\n",
    "len(thistuple)"
   ]
  },
  {
   "cell_type": "code",
   "execution_count": 134,
   "metadata": {},
   "outputs": [
    {
     "data": {
      "text/plain": [
       "3"
      ]
     },
     "execution_count": 134,
     "metadata": {},
     "output_type": "execute_result"
    }
   ],
   "source": [
    "# Length function\n",
    "# From <http://stackoverflow.com/questions/4130027/python-count-elements-in-list> \n",
    "# len() \n",
    "# it will count the element in the list, tuple and string and dictionary, eg.\n",
    "mylist = [1,2,3]\n",
    "len(mylist)"
   ]
  },
  {
   "cell_type": "code",
   "execution_count": 12,
   "metadata": {},
   "outputs": [
    {
     "data": {
      "text/plain": [
       "3"
      ]
     },
     "execution_count": 12,
     "metadata": {},
     "output_type": "execute_result"
    }
   ],
   "source": [
    "# other length examples\n",
    ">>> word = 'hello' # string \n",
    ">>> len(word)\n",
    "5\n",
    ">>> vals = {'a':1,'b':2} #dictionary\n",
    ">>> len(vals)\n",
    "2\n",
    ">>> tup = (4,5,6) # tuple \n",
    ">>> len(tup)\n",
    "3"
   ]
  },
  {
   "cell_type": "code",
   "execution_count": null,
   "metadata": {},
   "outputs": [],
   "source": [
    "  "
   ]
  },
  {
   "cell_type": "code",
   "execution_count": null,
   "metadata": {},
   "outputs": [],
   "source": []
  },
  {
   "cell_type": "code",
   "execution_count": null,
   "metadata": {},
   "outputs": [],
   "source": []
  },
  {
   "cell_type": "code",
   "execution_count": null,
   "metadata": {},
   "outputs": [],
   "source": [
    "# Decorators\n",
    "# http://stackoverflow.com/questions/739654/how-to-make-a-chain-of-function-decorators/1594484#1594484\n",
    "# There is also one for generators"
   ]
  },
  {
   "cell_type": "code",
   "execution_count": null,
   "metadata": {},
   "outputs": [],
   "source": []
  },
  {
   "cell_type": "markdown",
   "metadata": {},
   "source": [
    "**Sorting**\n",
    "* sort() vs sorted()\n",
    "    * sort() \n",
    "        * changes the list directly and doesn't return any value\n",
    "    * sorted() \n",
    "        * doesn't change the list and returns the sorted list"
   ]
  },
  {
   "cell_type": "code",
   "execution_count": 33,
   "metadata": {},
   "outputs": [
    {
     "name": "stdout",
     "output_type": "stream",
     "text": [
      "['apple', 'asxxxd', 'bananas', 'pear', 'sssss', 'zucch', 'zzzzd']\n"
     ]
    }
   ],
   "source": [
    "sortedS = sorted(thisList)\n",
    "print(sortedS)"
   ]
  },
  {
   "cell_type": "code",
   "execution_count": 34,
   "metadata": {},
   "outputs": [
    {
     "data": {
      "text/plain": [
       "['zzzzd', 'zucch', 'sssss', 'pear', 'bananas', 'asxxxd', 'apple']"
      ]
     },
     "execution_count": 34,
     "metadata": {},
     "output_type": "execute_result"
    }
   ],
   "source": [
    "sorted(thisList, reverse=True)"
   ]
  },
  {
   "cell_type": "code",
   "execution_count": null,
   "metadata": {},
   "outputs": [],
   "source": []
  },
  {
   "cell_type": "code",
   "execution_count": 138,
   "metadata": {},
   "outputs": [
    {
     "name": "stdout",
     "output_type": "stream",
     "text": [
      "1\n",
      "2\n",
      "3\n",
      "4\n",
      "5\n"
     ]
    }
   ],
   "source": [
    "# While loop example\n",
    "# create a counter\n",
    "currentValue = 1\n",
    "# while something is happening\n",
    "while currentValue <=5:\n",
    "    # do something\n",
    "    print(currentValue)\n",
    "    # iterator\n",
    "    currentValue +=1"
   ]
  },
  {
   "cell_type": "code",
   "execution_count": 8,
   "metadata": {},
   "outputs": [
    {
     "name": "stdout",
     "output_type": "stream",
     "text": [
      "[1, 4, 9, 16, 25, 36, 49, 64, 81, 100]\n"
     ]
    }
   ],
   "source": [
    "# list comprehensions\n",
    "# lots of power in a single line of code\n",
    "# concise way to create lists\n",
    "squares = [x**2 for x in range(1,11)]\n",
    "print(squares)"
   ]
  },
  {
   "cell_type": "code",
   "execution_count": 139,
   "metadata": {},
   "outputs": [],
   "source": [
    "# another list comprehension example\n",
    "moreSquares = [y**2 for y in range(1,100)]\n"
   ]
  },
  {
   "cell_type": "code",
   "execution_count": 144,
   "metadata": {},
   "outputs": [
    {
     "data": {
      "text/plain": [
       "list"
      ]
     },
     "execution_count": 144,
     "metadata": {},
     "output_type": "execute_result"
    }
   ],
   "source": [
    "type(moreSquares)"
   ]
  },
  {
   "cell_type": "code",
   "execution_count": 140,
   "metadata": {},
   "outputs": [
    {
     "name": "stdout",
     "output_type": "stream",
     "text": [
      "[1, 4, 9, 16, 25, 36, 49, 64, 81, 100, 121, 144, 169, 196, 225, 256, 289, 324, 361, 400, 441, 484, 529, 576, 625, 676, 729, 784, 841, 900, 961, 1024, 1089, 1156, 1225, 1296, 1369, 1444, 1521, 1600, 1681, 1764, 1849, 1936, 2025, 2116, 2209, 2304, 2401, 2500, 2601, 2704, 2809, 2916, 3025, 3136, 3249, 3364, 3481, 3600, 3721, 3844, 3969, 4096, 4225, 4356, 4489, 4624, 4761, 4900, 5041, 5184, 5329, 5476, 5625, 5776, 5929, 6084, 6241, 6400, 6561, 6724, 6889, 7056, 7225, 7396, 7569, 7744, 7921, 8100, 8281, 8464, 8649, 8836, 9025, 9216, 9409, 9604, 9801]\n"
     ]
    }
   ],
   "source": [
    "print(moreSquares)"
   ]
  },
  {
   "cell_type": "code",
   "execution_count": 141,
   "metadata": {},
   "outputs": [
    {
     "name": "stdout",
     "output_type": "stream",
     "text": [
      "[1, 4, 9]\n"
     ]
    }
   ],
   "source": [
    "#now subset/index the list, grabbing up to but NOT including the 4th element, as it's exclusive \n",
    "print(moreSquares[:3])"
   ]
  },
  {
   "cell_type": "code",
   "execution_count": 142,
   "metadata": {},
   "outputs": [
    {
     "name": "stdout",
     "output_type": "stream",
     "text": [
      "[7396, 7569, 7744, 7921, 8100, 8281, 8464, 8649, 8836, 9025, 9216, 9409, 9604, 9801]\n"
     ]
    }
   ],
   "source": [
    "# index from 85th element onward\n",
    "print(moreSquares[85:])"
   ]
  },
  {
   "cell_type": "markdown",
   "metadata": {},
   "source": [
    "**Generator Object**\n",
    "* simple way of creating iterators\n",
    "* "
   ]
  },
  {
   "cell_type": "code",
   "execution_count": 143,
   "metadata": {},
   "outputs": [
    {
     "name": "stdout",
     "output_type": "stream",
     "text": [
      "<generator object <genexpr> at 0x0000017CD72B43C8>\n"
     ]
    }
   ],
   "source": [
    "int_list = [-2, 3, 5, 6, -6]\n",
    "# notice the parens!\n",
    "print(x for x in int_list if x > 0)"
   ]
  },
  {
   "cell_type": "code",
   "execution_count": 145,
   "metadata": {},
   "outputs": [
    {
     "data": {
      "text/plain": [
       "list"
      ]
     },
     "execution_count": 145,
     "metadata": {},
     "output_type": "execute_result"
    }
   ],
   "source": [
    "type(int_list)"
   ]
  },
  {
   "cell_type": "markdown",
   "metadata": {},
   "source": [
    "Generators vs List Comprehensions:\n",
    "* https://code-maven.com/list-comprehension-vs-generator-expression\n",
    "\n",
    "So generators are just like list comprehensions, but generators are lazy\n",
    "   * list comprehension executes immediately and retuns a list\n",
    "   * generator returns an object and can be iterated over\n",
    "   * Similar to range and xrange -> https://www.geeksforgeeks.org/range-vs-xrange-python\n",
    "   * list is bigger in memory\n",
    "       * use print(sys.getsizeof(int_list))\n",
    "           * see below\n",
    "   * generator cannot be accessed by index\n",
    "   * both are loopable\n",
    "   \n",
    "* l = [n*2 for n in range(1000)] # List comprehension\n",
    "* g = (n*2 for n in range(1000))  # Generator expression\n",
    "\n",
    "\n"
   ]
  },
  {
   "cell_type": "code",
   "execution_count": 160,
   "metadata": {},
   "outputs": [
    {
     "name": "stdout",
     "output_type": "stream",
     "text": [
      "104\n",
      "51\n"
     ]
    }
   ],
   "source": [
    "import sys\n",
    "print(sys.getsizeof(int_list))\n",
    "print(sys.getsizeof(str2))"
   ]
  },
  {
   "cell_type": "code",
   "execution_count": null,
   "metadata": {},
   "outputs": [],
   "source": []
  },
  {
   "cell_type": "code",
   "execution_count": 159,
   "metadata": {},
   "outputs": [],
   "source": [
    "str1 = \"AB\"\n",
    "str2 = \"34\""
   ]
  },
  {
   "cell_type": "code",
   "execution_count": 161,
   "metadata": {},
   "outputs": [
    {
     "data": {
      "text/plain": [
       "['3A', '4A', '3B', '4B']"
      ]
     },
     "execution_count": 161,
     "metadata": {},
     "output_type": "execute_result"
    }
   ],
   "source": [
    "# another list comprehension\n",
    "[x + y for y in str1 for x in str2]"
   ]
  },
  {
   "cell_type": "code",
   "execution_count": 162,
   "metadata": {},
   "outputs": [
    {
     "ename": "TypeError",
     "evalue": "'int' object is not iterable",
     "output_type": "error",
     "traceback": [
      "\u001b[1;31m---------------------------------------------------------------------------\u001b[0m",
      "\u001b[1;31mTypeError\u001b[0m                                 Traceback (most recent call last)",
      "\u001b[1;32m<ipython-input-162-323cd338aa88>\u001b[0m in \u001b[0;36m<module>\u001b[1;34m\u001b[0m\n\u001b[0;32m      1\u001b[0m \u001b[0mx\u001b[0m \u001b[1;33m=\u001b[0m \u001b[1;36m123\u001b[0m\u001b[1;33m\u001b[0m\u001b[1;33m\u001b[0m\u001b[0m\n\u001b[1;32m----> 2\u001b[1;33m \u001b[0mprint\u001b[0m\u001b[1;33m(\u001b[0m\u001b[1;33m[\u001b[0m\u001b[0my\u001b[0m \u001b[1;33m*\u001b[0m \u001b[1;36m2\u001b[0m \u001b[1;32mfor\u001b[0m \u001b[0my\u001b[0m \u001b[1;32min\u001b[0m \u001b[0mx\u001b[0m\u001b[1;33m]\u001b[0m\u001b[1;33m)\u001b[0m\u001b[1;33m\u001b[0m\u001b[1;33m\u001b[0m\u001b[0m\n\u001b[0m\u001b[0;32m      3\u001b[0m \u001b[1;31m# this is correct, per the DataCamp skills practice, the correct answer WAS TypeError\u001b[0m\u001b[1;33m\u001b[0m\u001b[1;33m\u001b[0m\u001b[1;33m\u001b[0m\u001b[0m\n",
      "\u001b[1;31mTypeError\u001b[0m: 'int' object is not iterable"
     ]
    }
   ],
   "source": [
    "x = 123\n",
    "print([y * 2 for y in x])\n",
    "# this is correct, per the DataCamp skills practice, the correct answer WAS TypeError"
   ]
  },
  {
   "cell_type": "code",
   "execution_count": 163,
   "metadata": {},
   "outputs": [],
   "source": [
    "superheroes = ['thor', 'hulk']\n",
    "def to_upper(x):\n",
    "    for i in x:\n",
    "        yield i.upper()"
   ]
  },
  {
   "cell_type": "code",
   "execution_count": 167,
   "metadata": {},
   "outputs": [
    {
     "data": {
      "text/plain": [
       "<generator object to_upper at 0x0000017CD72B4DC8>"
      ]
     },
     "execution_count": 167,
     "metadata": {},
     "output_type": "execute_result"
    }
   ],
   "source": [
    "# this will give me a generator object\n",
    "# print(to_upper(superheroes))\n"
   ]
  },
  {
   "cell_type": "code",
   "execution_count": 168,
   "metadata": {},
   "outputs": [
    {
     "name": "stdout",
     "output_type": "stream",
     "text": [
      "{2: 4, 4: 16, 1: 1, 5: 25}\n"
     ]
    }
   ],
   "source": [
    "x = [2, 4, 1, 5]\n",
    "squares = {i: i**2 for i in x}\n",
    "print(squares)"
   ]
  },
  {
   "cell_type": "markdown",
   "metadata": {},
   "source": [
    "**Crash Course in Python Exercises**\n",
    "     * page 29 "
   ]
  },
  {
   "cell_type": "code",
   "execution_count": 169,
   "metadata": {},
   "outputs": [
    {
     "name": "stdout",
     "output_type": "stream",
     "text": [
      "Hello JingleHeimer\n"
     ]
    }
   ],
   "source": [
    "# Personal Message\n",
    "# store  a person's name in a variable\n",
    "personName = \"JingleHeimer\"\n",
    "# print a message to that person\n",
    "print(\"Hello\" + \" \" + personName)\n"
   ]
  },
  {
   "cell_type": "code",
   "execution_count": 170,
   "metadata": {},
   "outputs": [
    {
     "name": "stdout",
     "output_type": "stream",
     "text": [
      "James Jingle der Heimer\n"
     ]
    }
   ],
   "source": [
    "# Names Cases \n",
    "# store a person's name in a variable\n",
    "personName2 = \"James Jingle der Heimer\"\n",
    "# print the person's nma in lowercase, uppercase and titlecase\n",
    "print(personName2)"
   ]
  },
  {
   "cell_type": "code",
   "execution_count": 2,
   "metadata": {},
   "outputs": [],
   "source": [
    "# go thru these exercises and then write tests for them"
   ]
  },
  {
   "cell_type": "code",
   "execution_count": 171,
   "metadata": {},
   "outputs": [
    {
     "name": "stdout",
     "output_type": "stream",
     "text": [
      "James Jingle der Heimer\n"
     ]
    }
   ],
   "source": [
    "print(personName2)"
   ]
  },
  {
   "cell_type": "code",
   "execution_count": 172,
   "metadata": {},
   "outputs": [
    {
     "name": "stdout",
     "output_type": "stream",
     "text": [
      "Hello James Jingle Der Heimer\n"
     ]
    }
   ],
   "source": [
    "# combining sentence with string and adding a method\n",
    "print(\"Hello\" + \" \" + personName2.title())"
   ]
  },
  {
   "cell_type": "code",
   "execution_count": 173,
   "metadata": {},
   "outputs": [
    {
     "ename": "SyntaxError",
     "evalue": "invalid character in identifier (<ipython-input-173-c27dd8afbbe0>, line 3)",
     "output_type": "error",
     "traceback": [
      "\u001b[1;36m  File \u001b[1;32m\"<ipython-input-173-c27dd8afbbe0>\"\u001b[1;36m, line \u001b[1;32m3\u001b[0m\n\u001b[1;33m    movtivatingQuote = (\"Here is a famous quote from Confucious - \" “It does not matter how slowly you go as long as you do not stop.”)“It does not matter how slowly you go as long as you do not stop.” Confucius\")\u001b[0m\n\u001b[1;37m                                                                      ^\u001b[0m\n\u001b[1;31mSyntaxError\u001b[0m\u001b[1;31m:\u001b[0m invalid character in identifier\n"
     ]
    }
   ],
   "source": [
    "# famous quote exercise, page 29\n",
    "# “It does not matter how slowly you go as long as you do not stop.” Confucius\n",
    "movtivatingQuote = (\"Here is a famous quote from Confucious - \" “It does not matter how slowly you go as long as you do not stop.”)“It does not matter how slowly you go as long as you do not stop.” Confucius\")"
   ]
  },
  {
   "cell_type": "code",
   "execution_count": 175,
   "metadata": {},
   "outputs": [
    {
     "name": "stdout",
     "output_type": "stream",
     "text": [
      "Like Confucious Says - \"It Does Not Matter How Slowly You Go As Long As You Do Not Stop.\"\n"
     ]
    }
   ],
   "source": [
    "motivatingQuote2 = (\"Like confucious says - \\\"It does not matter how slowly you go as long as you do not stop.\\\"\")\n",
    "print(motivatingQuote2.title())"
   ]
  },
  {
   "cell_type": "code",
   "execution_count": 177,
   "metadata": {},
   "outputs": [
    {
     "name": "stdout",
     "output_type": "stream",
     "text": [
      "LIKE CONFUCIOUS SAYS - \"IT DOES NOT MATTER HOW SLOWLY YOU GO AS LONG AS YOU DO NOT STOP.\"\n"
     ]
    }
   ],
   "source": [
    "motivatingQuote3 = (\"Like confucious says - \\\"It does not matter how slowly you go as long as you do not stop.\\\"\")\n",
    "print(motivatingQuote3.upper())"
   ]
  },
  {
   "cell_type": "code",
   "execution_count": 178,
   "metadata": {},
   "outputs": [
    {
     "name": "stdout",
     "output_type": "stream",
     "text": [
      "yes, they are the same\n"
     ]
    }
   ],
   "source": [
    "# checking equivalence\n",
    "if motivatingQuote2 == motivatingQuote3:\n",
    "    print(\"yes, they are the same\".lower())\n",
    "else:\n",
    "    print(\"the 2 quotes are different\".upper())"
   ]
  },
  {
   "cell_type": "code",
   "execution_count": 179,
   "metadata": {},
   "outputs": [],
   "source": [
    "# famous quote 2 exercise, page 29\n",
    "famousPerson = \"Confucious\"\n",
    "# print(famousPerson)\n",
    "motivatingQuote4 = f\"Like {famousPerson} says - \\\"It does not matter how slowly you go as long as you do not stop\\\"\""
   ]
  },
  {
   "cell_type": "code",
   "execution_count": 180,
   "metadata": {},
   "outputs": [
    {
     "name": "stdout",
     "output_type": "stream",
     "text": [
      "Like Confucious says - \"It does not matter how slowly you go as long as you do not stop\"\n"
     ]
    }
   ],
   "source": [
    "print(motivatingQuote4)"
   ]
  },
  {
   "cell_type": "code",
   "execution_count": 183,
   "metadata": {},
   "outputs": [
    {
     "data": {
      "text/plain": [
       "'there are spaces here'"
      ]
     },
     "execution_count": 183,
     "metadata": {},
     "output_type": "execute_result"
    }
   ],
   "source": [
    "# Stripping Names exercise, page 29\n",
    "# store a persons name with and w/o whitespace\n",
    "\n",
    "# first let's do new lines\n",
    "# print('Sammy\\'s balloon')\n",
    "stripName = \"    there are spaces here   \"\n",
    "# use rstrip, lstrip and strip to remove whitespace from \n",
    "# the right, left and entire string respectively\n",
    "stripName.strip()"
   ]
  },
  {
   "cell_type": "code",
   "execution_count": 195,
   "metadata": {},
   "outputs": [
    {
     "name": "stdout",
     "output_type": "stream",
     "text": [
      "this\tis\t a\t tab\n",
      " and\n",
      " newline practice\n"
     ]
    }
   ],
   "source": [
    "# using character combinations \"\\t\" and \"\\n\"\n",
    "tabPractice = \"this\\tis\\t a\\t tab\\n and\\n newline practice\"\n",
    "print(tabPractice)"
   ]
  },
  {
   "cell_type": "code",
   "execution_count": 198,
   "metadata": {},
   "outputs": [
    {
     "name": "stdout",
     "output_type": "stream",
     "text": [
      "this\n",
      "\tis\n"
     ]
    }
   ],
   "source": [
    "# and more\n",
    "newLinePractice = \"this\\n\\tis\"\n",
    "print(newLinePractice)"
   ]
  },
  {
   "cell_type": "code",
   "execution_count": 66,
   "metadata": {},
   "outputs": [
    {
     "name": "stdout",
     "output_type": "stream",
     "text": [
      "    there are spaces here   \n"
     ]
    }
   ],
   "source": [
    "print(stripName)"
   ]
  },
  {
   "cell_type": "code",
   "execution_count": 199,
   "metadata": {},
   "outputs": [
    {
     "name": "stdout",
     "output_type": "stream",
     "text": [
      "What is the \"program\"\n"
     ]
    }
   ],
   "source": [
    "# escaping quotes\n",
    "print(\"What is the \\\"program\\\"\")"
   ]
  },
  {
   "cell_type": "code",
   "execution_count": null,
   "metadata": {},
   "outputs": [],
   "source": []
  },
  {
   "cell_type": "code",
   "execution_count": null,
   "metadata": {},
   "outputs": [],
   "source": [
    "# more string methods here: https://www.w3schools.com/python/python_ref_string.asp"
   ]
  },
  {
   "cell_type": "code",
   "execution_count": 202,
   "metadata": {},
   "outputs": [
    {
     "name": "stdout",
     "output_type": "stream",
     "text": [
      "True\n"
     ]
    }
   ],
   "source": [
    "# simple testing, here using 'isdigit'\n",
    "txt = \"3\"\n",
    "x = txt.isdigit()\n",
    "print(x)"
   ]
  },
  {
   "cell_type": "code",
   "execution_count": 206,
   "metadata": {},
   "outputs": [
    {
     "data": {
      "text/plain": [
       "5"
      ]
     },
     "execution_count": 206,
     "metadata": {},
     "output_type": "execute_result"
    }
   ],
   "source": [
    "number5 = 5\n",
    "number5"
   ]
  },
  {
   "cell_type": "code",
   "execution_count": 217,
   "metadata": {},
   "outputs": [],
   "source": [
    "# practicing asserts\n",
    "x = \"hello\"\n",
    "\n",
    "\n",
    "# if condition returns True, then nothing happens:\n",
    "assert x == \"hello\"\n",
    "\n",
    "# if condition returns False, AssertionError is raised:\n",
    "# assert x == \"goodbye\""
   ]
  },
  {
   "cell_type": "code",
   "execution_count": 218,
   "metadata": {},
   "outputs": [
    {
     "name": "stdout",
     "output_type": "stream",
     "text": [
      "we found a bug\n"
     ]
    }
   ],
   "source": [
    "# now do an if/else example\n",
    "x = 6\n",
    "if x == 5:\n",
    "    print(\"looks like X is equal to five yall\")\n",
    "else:\n",
    "    print(\"we found a bug\")\n",
    "    "
   ]
  },
  {
   "cell_type": "code",
   "execution_count": 223,
   "metadata": {},
   "outputs": [],
   "source": [
    "# assert_stmt ::= \"assert\" expression1 [\",\" expression2]\n",
    "number = 5\n",
    "assert number == 5"
   ]
  },
  {
   "cell_type": "code",
   "execution_count": 224,
   "metadata": {},
   "outputs": [
    {
     "data": {
      "text/plain": [
       "5"
      ]
     },
     "execution_count": 224,
     "metadata": {},
     "output_type": "execute_result"
    }
   ],
   "source": [
    "# from Crash Course, p 30 -> Numbers\n",
    "# integers\n",
    "# you can add/subtract/multiply and divide ints in Python\n",
    "2 + 3"
   ]
  },
  {
   "cell_type": "code",
   "execution_count": 225,
   "metadata": {},
   "outputs": [
    {
     "data": {
      "text/plain": [
       "0.6666666666666666"
      ]
     },
     "execution_count": 225,
     "metadata": {},
     "output_type": "execute_result"
    }
   ],
   "source": [
    "2/3"
   ]
  },
  {
   "cell_type": "code",
   "execution_count": 13,
   "metadata": {},
   "outputs": [
    {
     "data": {
      "text/plain": [
       "0"
      ]
     },
     "execution_count": 13,
     "metadata": {},
     "output_type": "execute_result"
    }
   ],
   "source": [
    "2//3"
   ]
  },
  {
   "cell_type": "code",
   "execution_count": 14,
   "metadata": {},
   "outputs": [
    {
     "data": {
      "text/plain": [
       "6"
      ]
     },
     "execution_count": 14,
     "metadata": {},
     "output_type": "execute_result"
    }
   ],
   "source": [
    "2 * 3"
   ]
  },
  {
   "cell_type": "code",
   "execution_count": 15,
   "metadata": {},
   "outputs": [
    {
     "data": {
      "text/plain": [
       "-1"
      ]
     },
     "execution_count": 15,
     "metadata": {},
     "output_type": "execute_result"
    }
   ],
   "source": [
    "2-3"
   ]
  },
  {
   "cell_type": "code",
   "execution_count": 16,
   "metadata": {},
   "outputs": [
    {
     "data": {
      "text/plain": [
       "81"
      ]
     },
     "execution_count": 16,
     "metadata": {},
     "output_type": "execute_result"
    }
   ],
   "source": [
    "3 ** 4"
   ]
  },
  {
   "cell_type": "code",
   "execution_count": 18,
   "metadata": {},
   "outputs": [
    {
     "data": {
      "text/plain": [
       "81"
      ]
     },
     "execution_count": 18,
     "metadata": {},
     "output_type": "execute_result"
    }
   ],
   "source": [
    "27*3"
   ]
  },
  {
   "cell_type": "code",
   "execution_count": 19,
   "metadata": {},
   "outputs": [
    {
     "data": {
      "text/plain": [
       "43"
      ]
     },
     "execution_count": 19,
     "metadata": {},
     "output_type": "execute_result"
    }
   ],
   "source": [
    "# python also supports order of operation and,\n",
    "# spacing has no effect\n",
    "(3 * 3) + 35 -1"
   ]
  },
  {
   "cell_type": "code",
   "execution_count": 20,
   "metadata": {},
   "outputs": [
    {
     "data": {
      "text/plain": [
       "9"
      ]
     },
     "execution_count": 20,
     "metadata": {},
     "output_type": "execute_result"
    }
   ],
   "source": [
    "3*3"
   ]
  },
  {
   "cell_type": "code",
   "execution_count": 21,
   "metadata": {},
   "outputs": [
    {
     "data": {
      "text/plain": [
       "34"
      ]
     },
     "execution_count": 21,
     "metadata": {},
     "output_type": "execute_result"
    }
   ],
   "source": [
    "35-1"
   ]
  },
  {
   "cell_type": "code",
   "execution_count": 22,
   "metadata": {},
   "outputs": [
    {
     "data": {
      "text/plain": [
       "43"
      ]
     },
     "execution_count": 22,
     "metadata": {},
     "output_type": "execute_result"
    }
   ],
   "source": [
    "34 + 9"
   ]
  },
  {
   "cell_type": "code",
   "execution_count": 226,
   "metadata": {},
   "outputs": [
    {
     "data": {
      "text/plain": [
       "4.6"
      ]
     },
     "execution_count": 226,
     "metadata": {},
     "output_type": "execute_result"
    }
   ],
   "source": [
    "# floats # anything w a decimal\n",
    "1.3 + 3.3"
   ]
  },
  {
   "cell_type": "markdown",
   "metadata": {},
   "source": [
    "3 * .1"
   ]
  },
  {
   "cell_type": "code",
   "execution_count": 235,
   "metadata": {},
   "outputs": [
    {
     "name": "stdout",
     "output_type": "stream",
     "text": [
      "0.30000000000000004\n"
     ]
    }
   ],
   "source": [
    "# and remember you will sometimes get an arbitrary number of \n",
    "# decimal places, and that happens in all languages, \n",
    "# you can round those and we'll worry about that later\n",
    "equation = .2 + .1\n",
    "print(equation)"
   ]
  },
  {
   "cell_type": "code",
   "execution_count": 240,
   "metadata": {},
   "outputs": [
    {
     "ename": "TypeError",
     "evalue": "can only concatenate str (not \"int\") to str",
     "output_type": "error",
     "traceback": [
      "\u001b[1;31m---------------------------------------------------------------------------\u001b[0m",
      "\u001b[1;31mTypeError\u001b[0m                                 Traceback (most recent call last)",
      "\u001b[1;32m<ipython-input-240-44a0af65d3dc>\u001b[0m in \u001b[0;36m<module>\u001b[1;34m\u001b[0m\n\u001b[0;32m      4\u001b[0m \u001b[1;31m# let's say you want to use a variable's value w/in a function\u001b[0m\u001b[1;33m\u001b[0m\u001b[1;33m\u001b[0m\u001b[1;33m\u001b[0m\u001b[0m\n\u001b[0;32m      5\u001b[0m \u001b[0mage\u001b[0m \u001b[1;33m=\u001b[0m \u001b[1;36m23\u001b[0m\u001b[1;33m\u001b[0m\u001b[1;33m\u001b[0m\u001b[0m\n\u001b[1;32m----> 6\u001b[1;33m \u001b[0mmessage\u001b[0m \u001b[1;33m=\u001b[0m \u001b[1;34m\"Happy \"\u001b[0m \u001b[1;33m+\u001b[0m \u001b[0mage\u001b[0m \u001b[1;33m+\u001b[0m \u001b[1;34m\"rd Birthday\"\u001b[0m\u001b[1;33m\u001b[0m\u001b[1;33m\u001b[0m\u001b[0m\n\u001b[0m",
      "\u001b[1;31mTypeError\u001b[0m: can only concatenate str (not \"int\") to str"
     ]
    }
   ],
   "source": [
    "# Crash Course p. 31\n",
    "# Avoiding Type Errors with the str() Function\n",
    "            ####  TypeError: can only concatenate str (not \"int\") to str \n",
    "# let's say you want to use a variable's value w/in a function, this wont' work\n",
    "age = 23\n",
    "message = \"Happy \" + age + \"rd Birthday\""
   ]
  },
  {
   "cell_type": "markdown",
   "metadata": {},
   "source": [
    "Type Error: Python cannot recognize the kind of info you're using\n",
    "* in the case above, Python knows the variable above for age could represent either the value 23 or the characters 2 and 3.\n",
    "* When you use ints w/in strings, you need to tell Python to use the int as a string of characters"
   ]
  },
  {
   "cell_type": "code",
   "execution_count": 242,
   "metadata": {},
   "outputs": [],
   "source": [
    "# So let's try again, calling age as a string\n",
    "# aka wrapping the variable age in the string function, per Crash Course p. 32\n",
    "message2 = \"Happy \" + str(age) + \"rd Birthday!\""
   ]
  },
  {
   "cell_type": "code",
   "execution_count": 243,
   "metadata": {},
   "outputs": [
    {
     "name": "stdout",
     "output_type": "stream",
     "text": [
      "Happy 23rd Birthday!\n"
     ]
    }
   ],
   "source": [
    "print(message2)"
   ]
  },
  {
   "cell_type": "code",
   "execution_count": 244,
   "metadata": {},
   "outputs": [
    {
     "name": "stdout",
     "output_type": "stream",
     "text": [
      "8\n"
     ]
    }
   ],
   "source": [
    "# try it yourself\n",
    "print(5 + 3)"
   ]
  },
  {
   "cell_type": "code",
   "execution_count": 245,
   "metadata": {},
   "outputs": [],
   "source": [
    "poms = 4\n",
    "pomsNeeded = \"I need to get \" + str(poms) + \" Pomodoros today!\""
   ]
  },
  {
   "cell_type": "code",
   "execution_count": 246,
   "metadata": {},
   "outputs": [
    {
     "data": {
      "text/plain": [
       "'I need to get 4 Pomodoros today!'"
      ]
     },
     "execution_count": 246,
     "metadata": {},
     "output_type": "execute_result"
    }
   ],
   "source": [
    "pomsNeeded"
   ]
  },
  {
   "cell_type": "markdown",
   "metadata": {},
   "source": [
    "**Crash Course in Python Exercises**\n",
    "     * page 54\n",
    "     * A Closer Look at Loops\n",
    "         * one of the most common ways to code repetitive tasks"
   ]
  },
  {
   "cell_type": "code",
   "execution_count": 2,
   "metadata": {},
   "outputs": [],
   "source": [
    "# Let's create a list\n",
    "magicians = ['Presto Chango', 'Al Kazam', 'A. Cadabra']"
   ]
  },
  {
   "cell_type": "code",
   "execution_count": 6,
   "metadata": {},
   "outputs": [
    {
     "name": "stdout",
     "output_type": "stream",
     "text": [
      "['Presto Chango', 'Al Kazam', 'A. Cadabra', 'Ball Thazar']\n"
     ]
    }
   ],
   "source": [
    "print(magicians)"
   ]
  },
  {
   "cell_type": "code",
   "execution_count": 24,
   "metadata": {},
   "outputs": [
    {
     "name": "stdout",
     "output_type": "stream",
     "text": [
      "Presto Chango\n",
      "Al Kazam\n",
      "A. Cadabra\n",
      "Ball Thazar\n"
     ]
    }
   ],
   "source": [
    "# so you can just use 'x' in here for your loop\n",
    "# this for line tells Python to retrieve the first value form the list magicians\n",
    "# and store it in the variable x, then retrieves the next value and stories it in x also\n",
    "# code finishes when there are no more elements to pull from the list\n",
    "for x in magicians:\n",
    "    print(x)\n",
    "\n",
    "# so the pattern is \n",
    "# for x in varible:\n",
    "#     do whatever"
   ]
  },
  {
   "cell_type": "code",
   "execution_count": 5,
   "metadata": {},
   "outputs": [],
   "source": [
    "# Let's ADD an element to our list\n",
    "magicians.append(\"Ball Thazar\")"
   ]
  },
  {
   "cell_type": "code",
   "execution_count": 8,
   "metadata": {},
   "outputs": [
    {
     "data": {
      "text/plain": [
       "'Ball Thazar'"
      ]
     },
     "execution_count": 8,
     "metadata": {},
     "output_type": "execute_result"
    }
   ],
   "source": [
    "# use pop to REMOVE an item by index\n",
    "magicians.pop(3)"
   ]
  },
  {
   "cell_type": "code",
   "execution_count": 9,
   "metadata": {},
   "outputs": [
    {
     "name": "stdout",
     "output_type": "stream",
     "text": [
      "['Presto Chango', 'Al Kazam', 'A. Cadabra']\n"
     ]
    }
   ],
   "source": [
    "print(magicians)"
   ]
  },
  {
   "cell_type": "code",
   "execution_count": null,
   "metadata": {},
   "outputs": [],
   "source": []
  },
  {
   "cell_type": "code",
   "execution_count": null,
   "metadata": {},
   "outputs": [],
   "source": [
    "# But you don't always need to use a For loop, \n",
    "# try out enumerate\n",
    "# https://medium.com/better-programming/stop-using-range-in-your-python-for-loops-53c04593f936\n"
   ]
  },
  {
   "cell_type": "code",
   "execution_count": 248,
   "metadata": {},
   "outputs": [
    {
     "name": "stdout",
     "output_type": "stream",
     "text": [
      "0 54\n",
      "1 67\n",
      "2 48\n",
      "3 99\n",
      "4 27\n"
     ]
    }
   ],
   "source": [
    "# compare/contrast more with for loop\n",
    "scores = [54,67,48,99,27]\n",
    "for i in range(len(scores)):\n",
    "   print(i, scores[i])"
   ]
  },
  {
   "cell_type": "code",
   "execution_count": null,
   "metadata": {},
   "outputs": [],
   "source": []
  },
  {
   "cell_type": "markdown",
   "metadata": {},
   "source": [
    "**Python enumerate function**\n",
    "    1. built-in function\n",
    "    2. adds a counter to an iterable and returns it\n",
    "        a. adds counter to an iterable and returns it (the enumerate object).\n",
    "    3. loop over something with an automatic counter\n",
    "    4. accepts and optional argument\n",
    "        a. tells enumerate where to start the index\n",
    "        b. ex ..(enumerate(my_list), 1):\n",
    "    5. syntax\n",
    "        a. for counter, value in enumerate(some list):\n",
    "               print(counter, value)\n",
    "        b. 'enumerate(iterable, start)'\n",
    "    6. adds a counter as a key of the enumerate function \n",
    "               \n",
    "        \n",
    "        \n",
    "    "
   ]
  },
  {
   "cell_type": "code",
   "execution_count": 51,
   "metadata": {},
   "outputs": [
    {
     "name": "stdout",
     "output_type": "stream",
     "text": [
      "1 apple\n",
      "2 banana\n",
      "3 peach\n",
      "4 pear\n"
     ]
    }
   ],
   "source": [
    "# enumerate example\n",
    "my_enum_list = ['apple', 'banana', 'peach', 'pear']\n",
    "# passing argument to start index at 1\n",
    "for x, value in enumerate(my_enum_list, 1):\n",
    "    print(x, value)"
   ]
  },
  {
   "cell_type": "code",
   "execution_count": 1,
   "metadata": {},
   "outputs": [],
   "source": [
    "# another enumerate example\n",
    "second_list = ['tire', 'lever', 'break', 'hub', 'hoop', \n",
    "               'chain', 'front derailleur', 'rear derailleur', \n",
    "               'cassette', 'seat post']"
   ]
  },
  {
   "cell_type": "code",
   "execution_count": 2,
   "metadata": {},
   "outputs": [
    {
     "name": "stdout",
     "output_type": "stream",
     "text": [
      "seat post\n"
     ]
    }
   ],
   "source": [
    "# negative indexing example\n",
    "print(second_list[-1])"
   ]
  },
  {
   "cell_type": "code",
   "execution_count": null,
   "metadata": {},
   "outputs": [],
   "source": []
  },
  {
   "cell_type": "code",
   "execution_count": null,
   "metadata": {},
   "outputs": [],
   "source": []
  },
  {
   "cell_type": "code",
   "execution_count": 3,
   "metadata": {},
   "outputs": [
    {
     "name": "stdout",
     "output_type": "stream",
     "text": [
      "0 tire\n",
      "1 lever\n",
      "2 break\n",
      "3 hub\n",
      "4 hoop\n",
      "5 chain\n",
      "6 front derailleur\n",
      "7 rear derailleur\n",
      "8 cassette\n",
      "9 seat post\n"
     ]
    }
   ],
   "source": [
    "# so here I'm not giving an argument telling the enumeration to start, so we're starting at zero\n",
    "for y, value in enumerate(second_list):\n",
    "    print(y, value)"
   ]
  },
  {
   "cell_type": "code",
   "execution_count": 64,
   "metadata": {},
   "outputs": [],
   "source": [
    "# another example\n",
    "test_scores = [55, 66, 56,76, 93, 45, 44, 88, 96, 22]"
   ]
  },
  {
   "cell_type": "code",
   "execution_count": 66,
   "metadata": {},
   "outputs": [
    {
     "name": "stdout",
     "output_type": "stream",
     "text": [
      "0 55\n",
      "1 66\n",
      "2 56\n",
      "3 76\n",
      "4 93\n",
      "5 45\n",
      "6 44\n",
      "7 88\n",
      "8 96\n",
      "9 22\n"
     ]
    }
   ],
   "source": [
    "for t, score in enumerate(test_scores):\n",
    "    print(t, score)"
   ]
  },
  {
   "cell_type": "code",
   "execution_count": 92,
   "metadata": {},
   "outputs": [],
   "source": [
    "# get the mean of the test scores\n",
    "import statistics as st\n",
    "score_average = st.mean(test_scores)"
   ]
  },
  {
   "cell_type": "code",
   "execution_count": 93,
   "metadata": {},
   "outputs": [
    {
     "name": "stdout",
     "output_type": "stream",
     "text": [
      "64.1\n"
     ]
    }
   ],
   "source": [
    "print(score_average)"
   ]
  },
  {
   "cell_type": "code",
   "execution_count": 90,
   "metadata": {},
   "outputs": [
    {
     "ename": "TypeError",
     "evalue": "'int' object is not callable",
     "output_type": "error",
     "traceback": [
      "\u001b[1;31m---------------------------------------------------------------------------\u001b[0m",
      "\u001b[1;31mTypeError\u001b[0m                                 Traceback (most recent call last)",
      "\u001b[1;32m<ipython-input-90-d4afd961c877>\u001b[0m in \u001b[0;36m<module>\u001b[1;34m\u001b[0m\n\u001b[1;32m----> 1\u001b[1;33m \u001b[0mtotal\u001b[0m \u001b[1;33m=\u001b[0m \u001b[0msum\u001b[0m\u001b[1;33m(\u001b[0m\u001b[0mtest_scores\u001b[0m\u001b[1;33m)\u001b[0m\u001b[1;33m\u001b[0m\u001b[1;33m\u001b[0m\u001b[0m\n\u001b[0m",
      "\u001b[1;31mTypeError\u001b[0m: 'int' object is not callable"
     ]
    }
   ],
   "source": [
    "total = sum(test_scores)"
   ]
  },
  {
   "cell_type": "code",
   "execution_count": 95,
   "metadata": {},
   "outputs": [
    {
     "ename": "TypeError",
     "evalue": "'int' object is not callable",
     "output_type": "error",
     "traceback": [
      "\u001b[1;31m---------------------------------------------------------------------------\u001b[0m",
      "\u001b[1;31mTypeError\u001b[0m                                 Traceback (most recent call last)",
      "\u001b[1;32m<ipython-input-95-c83c783f1e4d>\u001b[0m in \u001b[0;36m<module>\u001b[1;34m\u001b[0m\n\u001b[0;32m      1\u001b[0m \u001b[0ma\u001b[0m \u001b[1;33m=\u001b[0m \u001b[1;33m[\u001b[0m\u001b[1;36m2\u001b[0m\u001b[1;33m,\u001b[0m \u001b[1;36m3\u001b[0m\u001b[1;33m,\u001b[0m \u001b[1;36m5\u001b[0m\u001b[1;33m,\u001b[0m \u001b[1;36m8\u001b[0m\u001b[1;33m]\u001b[0m\u001b[1;33m\u001b[0m\u001b[1;33m\u001b[0m\u001b[0m\n\u001b[1;32m----> 2\u001b[1;33m \u001b[0msum\u001b[0m\u001b[1;33m(\u001b[0m\u001b[0ma\u001b[0m\u001b[1;33m)\u001b[0m\u001b[1;33m\u001b[0m\u001b[1;33m\u001b[0m\u001b[0m\n\u001b[0m",
      "\u001b[1;31mTypeError\u001b[0m: 'int' object is not callable"
     ]
    }
   ],
   "source": [
    "a = [2, 3, 5, 8]\n",
    "sum(a)"
   ]
  },
  {
   "cell_type": "code",
   "execution_count": 58,
   "metadata": {},
   "outputs": [
    {
     "data": {
      "text/plain": [
       "[0, 1, 2, 3, 4, 5, 6, 7, 8, 9]"
      ]
     },
     "execution_count": 58,
     "metadata": {},
     "output_type": "execute_result"
    }
   ],
   "source": [
    "# don't forget about list comprehensions\n",
    "x = [i for i in range(10)]\n",
    "x"
   ]
  },
  {
   "cell_type": "code",
   "execution_count": null,
   "metadata": {},
   "outputs": [],
   "source": []
  },
  {
   "cell_type": "code",
   "execution_count": null,
   "metadata": {},
   "outputs": [],
   "source": [
    "Enumerate vs For loop"
   ]
  },
  {
   "cell_type": "code",
   "execution_count": null,
   "metadata": {},
   "outputs": [],
   "source": []
  },
  {
   "cell_type": "code",
   "execution_count": null,
   "metadata": {},
   "outputs": [],
   "source": []
  },
  {
   "cell_type": "code",
   "execution_count": null,
   "metadata": {},
   "outputs": [],
   "source": []
  },
  {
   "cell_type": "code",
   "execution_count": null,
   "metadata": {},
   "outputs": [],
   "source": []
  },
  {
   "cell_type": "markdown",
   "metadata": {},
   "source": [
    "**Python range function**\n",
    "1. create a sequence of numbers\n",
    "2. the sequence starts from zero\n",
    "3. increments by 1\n",
    "4. stops before a specific number\n",
    "5. syntax - 'range(start, stop, step)'\n",
    "    a. ex. x = range(0, 20, 2) \n",
    "    b. you can also use a negative step to count backwards\n",
    "6. Used when you need to perform an action a specific number of times\n",
    "7. commonly used with a for or while loop over lists strings etc\n",
    "8. returns a range object"
   ]
  },
  {
   "cell_type": "code",
   "execution_count": 61,
   "metadata": {},
   "outputs": [
    {
     "name": "stdout",
     "output_type": "stream",
     "text": [
      "3\n",
      "9\n",
      "15\n",
      "21\n",
      "27\n",
      "33\n"
     ]
    }
   ],
   "source": [
    "# range practice\n",
    "# start on 3, go to 39 and step by 6\n",
    "f = range(3, 39, 6)\n",
    "for x in f:\n",
    "    print(x)"
   ]
  },
  {
   "cell_type": "code",
   "execution_count": 60,
   "metadata": {},
   "outputs": [
    {
     "name": "stdout",
     "output_type": "stream",
     "text": [
      "0 1 2 3 4 5 "
     ]
    }
   ],
   "source": [
    "for i in range(6):\n",
    "    print(i, end = \" \")\n",
    "# the end = \" \" is just adding a space so that output is all on one row"
   ]
  },
  {
   "cell_type": "code",
   "execution_count": 96,
   "metadata": {},
   "outputs": [
    {
     "name": "stdout",
     "output_type": "stream",
     "text": [
      "0 1 2 3 4 5 6 7 8 9 \n",
      "10 20 30 40 \n",
      "Sum of first 10 natural number : 110\n"
     ]
    }
   ],
   "source": [
    "# Python Program to \n",
    "# show range() basics \n",
    "\n",
    "# printing a number \n",
    "for i in range(10): \n",
    "\tprint(i, end =\" \") \n",
    "print() \n",
    "\n",
    "# using range for iteration \n",
    "l = [10, 20, 30, 40] \n",
    "# the len here is telling the loop how long to run, aka 'run for as long as there are elements'\n",
    "for i in range(len(l)): \n",
    "\tprint(l[i], end =\" \") \n",
    "print() \n",
    "\n",
    "# performing sum of natural numbers\n",
    "sum = 0\n",
    "for i in range(1, 11): \n",
    "\tsum = sum + i \n",
    "print(\"Sum of first 10 natural number :\", sum) \n"
   ]
  },
  {
   "cell_type": "code",
   "execution_count": 37,
   "metadata": {},
   "outputs": [
    {
     "name": "stdout",
     "output_type": "stream",
     "text": [
      "11\n",
      "22\n",
      "33\n",
      "44\n",
      "55\n"
     ]
    }
   ],
   "source": [
    "# another example of using range for iteration\n",
    "ff = [11, 22, 33, 44, 55]\n",
    "for g in range(len(ff)):\n",
    "    print(ff[g])"
   ]
  },
  {
   "cell_type": "code",
   "execution_count": 98,
   "metadata": {},
   "outputs": [],
   "source": [
    "# https://book.pythontips.com/en/latest/map_filter.html"
   ]
  }
 ],
 "metadata": {
  "kernelspec": {
   "display_name": "Python 3",
   "language": "python",
   "name": "python3"
  },
  "language_info": {
   "codemirror_mode": {
    "name": "ipython",
    "version": 3
   },
   "file_extension": ".py",
   "mimetype": "text/x-python",
   "name": "python",
   "nbconvert_exporter": "python",
   "pygments_lexer": "ipython3",
   "version": "3.7.6"
  }
 },
 "nbformat": 4,
 "nbformat_minor": 4
}
