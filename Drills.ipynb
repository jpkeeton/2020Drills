{
 "cells": [
  {
   "cell_type": "code",
   "execution_count": 32,
   "metadata": {},
   "outputs": [],
   "source": [
    "# Get more out of Jupyter Notebooks\n",
    "# https://towardsdatascience.com/bringing-the-best-out-of-jupyter-notebooks-for-data-science-f0871519ca29\n",
    "\n",
    "import jupyterthemes\n"
   ]
  },
  {
   "cell_type": "code",
   "execution_count": 19,
   "metadata": {},
   "outputs": [
    {
     "name": "stdout",
     "output_type": "stream",
     "text": [
      "Available Themes: \n",
      "   chesterish\n",
      "   grade3\n",
      "   gruvboxd\n",
      "   gruvboxl\n",
      "   monokai\n",
      "   oceans16\n",
      "   onedork\n",
      "   solarizedd\n",
      "   solarizedl\n"
     ]
    }
   ],
   "source": [
    "!jt -l"
   ]
  },
  {
   "cell_type": "code",
   "execution_count": 24,
   "metadata": {},
   "outputs": [
    {
     "ename": "SyntaxError",
     "evalue": "invalid syntax (<ipython-input-24-726cb426bae2>, line 10)",
     "output_type": "error",
     "traceback": [
      "\u001b[1;36m  File \u001b[1;32m\"<ipython-input-24-726cb426bae2>\"\u001b[1;36m, line \u001b[1;32m10\u001b[0m\n\u001b[1;33m    jt -t onedork\u001b[0m\n\u001b[1;37m                ^\u001b[0m\n\u001b[1;31mSyntaxError\u001b[0m\u001b[1;31m:\u001b[0m invalid syntax\n"
     ]
    }
   ],
   "source": [
    "# https://towardsdatascience.com/bringing-the-best-out-of-jupyter-notebooks-for-data-science-f0871519ca29\n",
    "# selecting a particular theme\n",
    "# jt -t <name of the theme>\n",
    "# reverting to original Theme\n",
    "# jt -r\n",
    "\n",
    "# Just use a '!' upfront if you want to change the theme w/in Jupyter Notebooks\n",
    "\n",
    "\n",
    "!jt -t onedork\n",
    "\n"
   ]
  },
  {
   "cell_type": "code",
   "execution_count": 31,
   "metadata": {},
   "outputs": [
    {
     "name": "stdout",
     "output_type": "stream",
     "text": [
      " Volume in drive C is JerKee Ace\n",
      " Volume Serial Number is 2607-AD6F\n",
      "\n",
      " Directory of C:\\Users\\jpkee\\Desktop\\PythonProjects\n",
      "\n",
      "06/17/2020  10:25 AM    <DIR>          .\n",
      "06/17/2020  10:25 AM    <DIR>          ..\n",
      "04/21/2020  12:39 PM                 0 .~Section 4\n",
      "03/23/2020  06:39 PM    <DIR>          .idea\n",
      "03/17/2020  05:28 PM             4,093 .ipynb\n",
      "06/15/2020  11:44 AM    <DIR>          .ipynb_checkpoints\n",
      "03/31/2020  04:20 PM    <DIR>          __MACOSX\n",
      "04/22/2020  09:36 AM         3,602,377 2ndAttemptAtAnimatingGraphs.ipynb\n",
      "05/27/2020  01:12 PM               555 actuallyBlankAndCanBeUsed.ipynb\n",
      "04/02/2020  07:25 PM             2,282 AltairAttempt.ipynb\n",
      "04/20/2020  01:32 PM            35,185 AnimateYourGraphs.ipynb\n",
      "04/09/2020  10:40 AM               898 API.Practice\n",
      "05/06/2020  12:11 PM    <DIR>          Books and PDFs\n",
      "06/01/2020  09:57 AM             8,226 BuildingPermitData.ipynb\n",
      "06/17/2020  08:35 AM           627,653 Classes.ipynb\n",
      "06/17/2020  08:34 AM             3,038 Common_Simple_Coding_Questions.ipynb\n",
      "04/20/2020  12:58 PM         2,755,680 COVID.gif.gif\n",
      "05/04/2020  07:43 AM            63,266 CovidAnimationAttemptFails.ipynb\n",
      "04/12/2020  12:20 PM             1,140 Data_Exploration_Notes.ipynb\n",
      "05/20/2020  03:43 PM           296,500 DataStructures.ipynb\n",
      "04/09/2020  03:40 PM    <DIR>          DataViz\n",
      "06/17/2020  10:25 AM            37,257 Drills.ipynb\n",
      "05/25/2020  09:03 AM             1,688 EyeStrainNotifier.ipynb\n",
      "04/06/2020  12:47 PM             3,527 FibFunction.ipynb\n",
      "05/20/2020  03:42 PM           239,974 FreeUdemyCoursePandas.ipynb\n",
      "06/17/2020  08:35 AM            17,348 FunctionsAndArgsAndKwargs.ipynb\n",
      "06/05/2020  11:12 AM            50,557 geckodriver.log\n",
      "04/02/2020  07:26 PM            99,068 GotAltairWorking.ipynb\n",
      "06/01/2020  09:54 AM             6,166 GUI_Studies.ipynb\n",
      "03/08/2020  09:56 PM                22 HelloWorld2020.py\n",
      "06/11/2020  12:54 PM    <DIR>          JupyterNotebookWork\n",
      "06/17/2020  08:35 AM             4,660 ListComprehensions.ipynb\n",
      "06/17/2020  08:35 AM            19,736 ListsDrills.ipynb\n",
      "06/12/2020  03:04 PM    <DIR>          LYNDA _Using Python for Automation\n",
      "05/12/2020  11:25 AM    <DIR>          Lynda_Scripting_for_Testers\n",
      "06/09/2020  01:38 PM            12,152 MagicCommands.ipynb\n",
      "04/27/2020  02:15 PM            37,403 MakeoverMonday.FuelPrices\n",
      "06/08/2020  11:25 AM        29,537,952 Manning.Geoprocessing.with.Python.pdf\n",
      "03/31/2020  04:20 PM    <DIR>          Master Data Analysis with Python - Intro to pandas\n",
      "05/20/2020  03:42 PM           832,053 MatPlotLibPractice.ipynb\n",
      "05/05/2020  09:47 AM            11,068 MessiRonaldo_MakeOverMonday.ipynb\n",
      "05/05/2020  09:49 AM             4,946 MessiRonaldoStatsForMakeOverMondayPandas.ipynb\n",
      "03/30/2020  03:47 PM            89,224 NBA 2018-19 Season.csv\n",
      "04/27/2020  07:53 AM               782 NumPy.Array.Manipulation\n",
      "04/26/2020  03:14 PM               961 NumPyArrayManipulation.ipynb\n",
      "04/27/2020  01:57 PM             1,386 NumpyArrayManipulations.ipynb\n",
      "06/17/2020  08:35 AM            89,358 NumPyDrills.ipynb\n",
      "04/29/2020  04:29 PM             4,285 OOP_ObjectOrientedProgrammingPractice.ipynb\n",
      "05/25/2020  10:42 AM            37,109 PandasConcepts&Drills.ipynb\n",
      "04/18/2020  02:39 PM            79,714 PandasDataVizExample.ipynb\n",
      "06/17/2020  08:35 AM            71,505 PandasDrills.ipynb\n",
      "05/25/2020  10:42 AM             5,297 PandasNBAData.ipynb\n",
      "04/03/2020  10:41 AM               614 PandasPlaceholderEMPTY.ipynb\n",
      "04/01/2020  12:38 PM    <DIR>          PDFs\n",
      "06/16/2020  02:37 PM    <DIR>          Pictures\n",
      "03/27/2020  02:25 PM               672 Placeholder for new stuff.ipynb\n",
      "06/01/2020  09:55 AM             5,353 PlotlyStuff.ipynb\n",
      "05/25/2020  12:10 PM         3,582,076 PlotlyVizzes.ipynb\n",
      "06/08/2020  11:23 AM        10,661,464 Practices_of_the_Python_Pro.pdf\n",
      "04/03/2020  12:12 PM             1,117 PycharmProjectsFolder.lnk\n",
      "05/20/2020  10:03 AM    <DIR>          Python Cheat Sheets\n",
      "06/17/2020  08:35 AM               636 Python_Keywords.ipynb\n",
      "04/20/2020  11:21 AM               878 PythonAndAPIs.ipynb\n",
      "06/17/2020  10:17 AM    <DIR>          PythonSelenium\n",
      "05/31/2020  02:27 PM             1,088 RecursiveFunctions.ipynb\n",
      "05/19/2020  09:33 AM             1,914 RequestsJSONExample.ipynb\n",
      "03/31/2020  11:51 AM            34,437 SeabornDataVizExample.ipynb\n",
      "04/23/2020  11:12 AM           190,697 Section3_Selecting Subsets of Data with Brackets, Loc and Iloc.ipynb\n",
      "04/22/2020  11:05 PM           184,093 Section4_Boolean_Indexing.ipynb\n",
      "04/17/2020  11:06 AM               690 SimplePrintExample.ipynb\n",
      "03/23/2020  11:03 PM               301 SpyderTest.py\n",
      "03/26/2020  04:29 PM    <DIR>          TabPy\n",
      "03/26/2020  04:24 PM        27,659,001 TabPy_NathanMannheimer.zip\n",
      "06/05/2020  10:26 AM    <DIR>          Testing with Python\n",
      "04/15/2020  08:58 AM    <DIR>          Udemy - Python 3 Programming Beginner to Pro Masterclass\n",
      "04/22/2020  09:40 AM               759 Udemy.MasterDataAnalysisSection4.BooleanIndexing.ipynb\n",
      "06/10/2020  11:33 AM    <DIR>          Udemy_Automated_Software_Testing_with_Python\n",
      "04/20/2020  01:41 PM    <DIR>          Udemy_Master Data Analysis with Python - Intro to Pandas\n",
      "04/20/2020  02:13 PM            26,067 UdemyIntroToPandas_Section3.ipynb\n",
      "05/22/2020  08:34 AM             2,351 Untitled.ipynb\n",
      "06/15/2020  07:34 AM               636 Untitled1.ipynb\n",
      "05/22/2020  01:52 PM               903 UnzippingGzipForTaxiData.ipynb\n",
      "08/02/2015  10:45 AM    11,749,014,987 yellow_tripdata_2015-01-06.csv\n",
      "              63 File(s) 11,830,066,825 bytes\n",
      "              20 Dir(s)  72,300,687,360 bytes free\n"
     ]
    }
   ],
   "source": [
    "# magic and shell commands -> https://jakevdp.github.io/PythonDataScienceHandbook/01.05-ipython-and-shell-commands.html\n",
    "\n",
    "# use %ls to get the directory\n",
    "%ls\n",
    "\n",
    "# print working directory\n",
    "# pwd"
   ]
  },
  {
   "cell_type": "code",
   "execution_count": 25,
   "metadata": {},
   "outputs": [
    {
     "data": {
      "text/plain": [
       "'C:\\\\Users\\\\jpkee\\\\Desktop\\\\PythonProjects'"
      ]
     },
     "execution_count": 25,
     "metadata": {},
     "output_type": "execute_result"
    }
   ],
   "source": []
  },
  {
   "cell_type": "markdown",
   "metadata": {},
   "source": [
    "Here I'm just  concepts from my Udemy course (Master Data Analysis with Python - Intro to Pandas)\n",
    "\n",
    "Code cells will have the word **Code** in that same menu. \n",
    "\n",
    "Also, all code cells will have the word **`In`** displayed directly to the left of the cell and a number inside of brackets denoting its order of execution. \n",
    "\n",
    "If there is no number inside the brackets, then the code cell has yet to be executed. \n",
    "\n",
    "If the cell has been executed, the result will be displayed directly below with the word **`Out`** directly to the left. \n",
    "\n",
    "Some code cells do not output anything upon execution and will not have an **`Out`** section."
   ]
  },
  {
   "cell_type": "code",
   "execution_count": 17,
   "metadata": {},
   "outputs": [],
   "source": [
    "# create a list\n",
    "thisList = [\"apple\", \"bananas\", \"pear\", \"zucch\", \"asd\", \"zzzz\", \"ss\"]"
   ]
  },
  {
   "cell_type": "code",
   "execution_count": 3,
   "metadata": {},
   "outputs": [
    {
     "name": "stdout",
     "output_type": "stream",
     "text": [
      "['apple', 'bananas', 'pear']\n"
     ]
    }
   ],
   "source": [
    "print(thisList)"
   ]
  },
  {
   "cell_type": "code",
   "execution_count": 5,
   "metadata": {},
   "outputs": [
    {
     "name": "stdout",
     "output_type": "stream",
     "text": [
      "pear\n"
     ]
    }
   ],
   "source": [
    "print(thisList[2])"
   ]
  },
  {
   "cell_type": "code",
   "execution_count": 6,
   "metadata": {},
   "outputs": [
    {
     "name": "stdout",
     "output_type": "stream",
     "text": [
      "('apple', 'banana', 'cherry')\n"
     ]
    }
   ],
   "source": [
    "#tuple\n",
    "# remember tuples are immutable, which means once defined you cannot delete\n",
    "thistuple = (\"apple\", \"banana\", \"cherry\")\n",
    "print(thistuple)"
   ]
  },
  {
   "cell_type": "code",
   "execution_count": 11,
   "metadata": {},
   "outputs": [
    {
     "name": "stdout",
     "output_type": "stream",
     "text": [
      "[2]\n",
      "[2]\n",
      "[2]\n"
     ]
    }
   ],
   "source": [
    "#for example\n",
    "for a in thisList:\n",
    "    print([2])"
   ]
  },
  {
   "cell_type": "code",
   "execution_count": 18,
   "metadata": {},
   "outputs": [
    {
     "name": "stdout",
     "output_type": "stream",
     "text": [
      "apple\n",
      "bananas\n",
      "pear\n",
      "zucch\n",
      "asd\n",
      "zzzz\n",
      "ss\n"
     ]
    }
   ],
   "source": [
    "#for example\n",
    "for x in thisList:\n",
    "    print(x)"
   ]
  },
  {
   "cell_type": "code",
   "execution_count": null,
   "metadata": {},
   "outputs": [],
   "source": []
  },
  {
   "cell_type": "code",
   "execution_count": null,
   "metadata": {},
   "outputs": [],
   "source": [
    "Length function\n",
    "\n",
    "down vote\tlen() \n",
    "\tit will count the element in the list, tuple and string and dictionary, eg.\n",
    "\t>>> mylist = [1,2,3] #list\n",
    ">>> len(mylist)\n",
    "3\n",
    ">>> word = 'hello' # string \n",
    ">>> len(word)\n",
    "5\n",
    ">>> vals = {'a':1,'b':2} #dictionary\n",
    ">>> len(vals)\n",
    "2\n",
    ">>> tup = (4,5,6) # tuple \n",
    ">>> len(tup)\n",
    "3\n",
    "\n",
    "From <http://stackoverflow.com/questions/4130027/python-count-elements-in-list> \n"
   ]
  },
  {
   "cell_type": "code",
   "execution_count": null,
   "metadata": {},
   "outputs": [],
   "source": [
    "Decorators\n",
    "http://stackoverflow.com/questions/739654/how-to-make-a-chain-of-function-decorators/1594484#1594484\n",
    "\n",
    "There is also one for generators"
   ]
  },
  {
   "cell_type": "code",
   "execution_count": null,
   "metadata": {},
   "outputs": [],
   "source": []
  },
  {
   "cell_type": "code",
   "execution_count": null,
   "metadata": {},
   "outputs": [],
   "source": []
  },
  {
   "cell_type": "code",
   "execution_count": 19,
   "metadata": {},
   "outputs": [
    {
     "name": "stdout",
     "output_type": "stream",
     "text": [
      "['apple', 'asd', 'bananas', 'pear', 'ss', 'zucch', 'zzzz']\n"
     ]
    }
   ],
   "source": [
    "sortedS = sorted(thisList)\n",
    "print(sortedS)"
   ]
  },
  {
   "cell_type": "code",
   "execution_count": 7,
   "metadata": {},
   "outputs": [
    {
     "name": "stdout",
     "output_type": "stream",
     "text": [
      "1\n",
      "2\n",
      "3\n",
      "4\n",
      "5\n"
     ]
    }
   ],
   "source": [
    "#while example\n",
    "currentValue = 1\n",
    "while currentValue <=5:\n",
    "    print(currentValue)\n",
    "    currentValue +=1"
   ]
  },
  {
   "cell_type": "code",
   "execution_count": 8,
   "metadata": {},
   "outputs": [
    {
     "name": "stdout",
     "output_type": "stream",
     "text": [
      "[1, 4, 9, 16, 25, 36, 49, 64, 81, 100]\n"
     ]
    }
   ],
   "source": [
    "# list comprehensions\n",
    "# lots of power in a single line of code\n",
    "# concise way to create lists\n",
    "squares = [x**2 for x in range(1,11)]\n",
    "print(squares)"
   ]
  },
  {
   "cell_type": "code",
   "execution_count": 9,
   "metadata": {},
   "outputs": [],
   "source": [
    "moreSquares = [y**2 for y in range(1,100)]"
   ]
  },
  {
   "cell_type": "code",
   "execution_count": 10,
   "metadata": {},
   "outputs": [
    {
     "name": "stdout",
     "output_type": "stream",
     "text": [
      "[1, 4, 9, 16, 25, 36, 49, 64, 81, 100, 121, 144, 169, 196, 225, 256, 289, 324, 361, 400, 441, 484, 529, 576, 625, 676, 729, 784, 841, 900, 961, 1024, 1089, 1156, 1225, 1296, 1369, 1444, 1521, 1600, 1681, 1764, 1849, 1936, 2025, 2116, 2209, 2304, 2401, 2500, 2601, 2704, 2809, 2916, 3025, 3136, 3249, 3364, 3481, 3600, 3721, 3844, 3969, 4096, 4225, 4356, 4489, 4624, 4761, 4900, 5041, 5184, 5329, 5476, 5625, 5776, 5929, 6084, 6241, 6400, 6561, 6724, 6889, 7056, 7225, 7396, 7569, 7744, 7921, 8100, 8281, 8464, 8649, 8836, 9025, 9216, 9409, 9604, 9801]\n"
     ]
    }
   ],
   "source": [
    "print(moreSquares)"
   ]
  },
  {
   "cell_type": "code",
   "execution_count": null,
   "metadata": {},
   "outputs": [],
   "source": [
    "#now work on subsetting this list etc....\n",
    "print(moreSquares[:3])"
   ]
  },
  {
   "cell_type": "code",
   "execution_count": null,
   "metadata": {},
   "outputs": [],
   "source": [
    "print(moreSquares[85:])"
   ]
  },
  {
   "cell_type": "markdown",
   "metadata": {},
   "source": [
    "**Generator Object**"
   ]
  },
  {
   "cell_type": "code",
   "execution_count": null,
   "metadata": {},
   "outputs": [],
   "source": [
    "int_list = [-2, 3, 5, 6, -6]\n",
    "print(x for x in int_list if x > 0)"
   ]
  },
  {
   "cell_type": "markdown",
   "metadata": {},
   "source": [
    "Generators vs List Comprehensions:\n",
    "* https://code-maven.com/range-vs-xrange-in-python\n",
    "* https://code-maven.com/list-comprehension-vs-generator-expression\n",
    "* https://code-maven.com/range-vs-xrange-in-python"
   ]
  },
  {
   "cell_type": "code",
   "execution_count": null,
   "metadata": {},
   "outputs": [],
   "source": [
    "str1 = \"AB\"\n",
    "str2 = \"34\""
   ]
  },
  {
   "cell_type": "code",
   "execution_count": null,
   "metadata": {},
   "outputs": [],
   "source": [
    "[x + y for y in str1 for x in str2]"
   ]
  },
  {
   "cell_type": "code",
   "execution_count": null,
   "metadata": {},
   "outputs": [],
   "source": [
    "x = 123\n",
    "print([y * 2 for y in x])\n",
    "# this is correct, per the DataCamp skills practice, the correct answer WAS TypeError"
   ]
  },
  {
   "cell_type": "code",
   "execution_count": null,
   "metadata": {},
   "outputs": [],
   "source": [
    "superheroes = ['thor', 'hulk']\n",
    "def to_upper(x):\n",
    "    for i in x:\n",
    "        yield i.upper()"
   ]
  },
  {
   "cell_type": "code",
   "execution_count": null,
   "metadata": {},
   "outputs": [],
   "source": [
    "# this will give me a generator object\n",
    "print(to_upper(superheroes))"
   ]
  },
  {
   "cell_type": "code",
   "execution_count": null,
   "metadata": {},
   "outputs": [],
   "source": [
    "x = [2, 4, 1, 5]\n",
    "squares = {i: i**2 for i in x}\n",
    "print(squares)"
   ]
  },
  {
   "cell_type": "markdown",
   "metadata": {},
   "source": [
    "**Crash Course in Python Exercises**\n",
    "     * page 29 "
   ]
  },
  {
   "cell_type": "code",
   "execution_count": null,
   "metadata": {},
   "outputs": [],
   "source": [
    "# Personal Message\n",
    "# store  a person's name in a variable\n",
    "personName = \"JingleHeimer\"\n",
    "# print a message to that person\n",
    "print(\"Hello\" + \" \" + personName)\n"
   ]
  },
  {
   "cell_type": "code",
   "execution_count": 1,
   "metadata": {},
   "outputs": [
    {
     "name": "stdout",
     "output_type": "stream",
     "text": [
      "James Jingle der Heimer\n"
     ]
    }
   ],
   "source": [
    "# Names Cases \n",
    "# store a person's name in a variable\n",
    "personName2 = \"James Jingle der Heimer\"\n",
    "# print the person's nma in lowercase, uppercase and titlecase\n",
    "print(personName2)"
   ]
  },
  {
   "cell_type": "code",
   "execution_count": 2,
   "metadata": {},
   "outputs": [],
   "source": [
    "# go thru these exercises and then write tests for them"
   ]
  },
  {
   "cell_type": "code",
   "execution_count": 4,
   "metadata": {},
   "outputs": [
    {
     "name": "stdout",
     "output_type": "stream",
     "text": [
      "James Jingle der Heimer\n"
     ]
    }
   ],
   "source": [
    "print(personName2)"
   ]
  },
  {
   "cell_type": "code",
   "execution_count": null,
   "metadata": {},
   "outputs": [],
   "source": [
    "# combining sentence with string and adding a method\n",
    "print(\"Hello\" + \" \" + personName2.title())"
   ]
  },
  {
   "cell_type": "code",
   "execution_count": 5,
   "metadata": {},
   "outputs": [
    {
     "ename": "SyntaxError",
     "evalue": "invalid character in identifier (<ipython-input-5-6250ce86be54>, line 3)",
     "output_type": "error",
     "traceback": [
      "\u001b[1;36m  File \u001b[1;32m\"<ipython-input-5-6250ce86be54>\"\u001b[1;36m, line \u001b[1;32m3\u001b[0m\n\u001b[1;33m    movtivatingQuote = (\"Here is a famous quote from Confucious - \" “It does not matter how slowly you go as long as you do not stop.”)“It does not matter how slowly you go as long as you do not stop.” Confucius\")\u001b[0m\n\u001b[1;37m                                                                      ^\u001b[0m\n\u001b[1;31mSyntaxError\u001b[0m\u001b[1;31m:\u001b[0m invalid character in identifier\n"
     ]
    }
   ],
   "source": [
    "# famous quote exercise, page 29\n",
    "# “It does not matter how slowly you go as long as you do not stop.” Confucius\n",
    "movtivatingQuote = (\"Here is a famous quote from Confucious - \" “It does not matter how slowly you go as long as you do not stop.”)“It does not matter how slowly you go as long as you do not stop.” Confucius\")"
   ]
  },
  {
   "cell_type": "code",
   "execution_count": 12,
   "metadata": {},
   "outputs": [
    {
     "name": "stdout",
     "output_type": "stream",
     "text": [
      "LIKE CONFUCIOUS SAYS - \"IT DOES NOT MATTER HOW SLOWLY YOU GO AS LONG AS YOU DO NOT STOP.\"\n"
     ]
    }
   ],
   "source": [
    "motivatingQuote2 = (\"Like confucious says - \\\"It does not matter how slowly you go as long as you do not stop.\\\"\")\n",
    "print(motivatingQuote2.upper())"
   ]
  },
  {
   "cell_type": "code",
   "execution_count": 22,
   "metadata": {},
   "outputs": [
    {
     "name": "stdout",
     "output_type": "stream",
     "text": [
      "LIKE CONFUCIOUS SAYS - \"IT DOES NOT MATTER HOW SLOWLY YOU GO AS LONG AS YOU DO NOT STOP.\"\n"
     ]
    }
   ],
   "source": [
    "motivatingQuote3 = (\"Like confucious says - \\\"It does not matter how slowly you go as long as you do not stop.\\\"\")\n",
    "print(motivatingQuote3.upper())"
   ]
  },
  {
   "cell_type": "code",
   "execution_count": 23,
   "metadata": {},
   "outputs": [
    {
     "name": "stdout",
     "output_type": "stream",
     "text": [
      "yes, they are the same\n"
     ]
    }
   ],
   "source": [
    "if motivatingQuote2 ==motivatingQuote3:\n",
    "    print(\"yes, they are the same\".lower())\n",
    "else:\n",
    "    print(\"the 2 quotes are different\".upper())"
   ]
  },
  {
   "cell_type": "code",
   "execution_count": 42,
   "metadata": {},
   "outputs": [],
   "source": [
    "# famous quote 2 exercise, page 29\n",
    "famousPerson = \"Confucious\"\n",
    "# print(famousPerson)\n",
    "motivatingQuote4 = f\"Like {famousPerson} says - \\\"It does not matter how slowly you go as long as you do not stop\\\"\""
   ]
  },
  {
   "cell_type": "code",
   "execution_count": 43,
   "metadata": {},
   "outputs": [
    {
     "name": "stdout",
     "output_type": "stream",
     "text": [
      "Like Confucious says - \"It does not matter how slowly you go as long as you do not stop\"\n"
     ]
    }
   ],
   "source": [
    "print(motivatingQuote4)"
   ]
  },
  {
   "cell_type": "code",
   "execution_count": 65,
   "metadata": {},
   "outputs": [
    {
     "data": {
      "text/plain": [
       "'there are spaces here'"
      ]
     },
     "execution_count": 65,
     "metadata": {},
     "output_type": "execute_result"
    }
   ],
   "source": [
    "# Stripping Names exercise, page 29\n",
    "# store a persons name with and w/o whitespace\n",
    "\n",
    "# first let's do new lines\n",
    "# print('Sammy\\'s balloon')\n",
    "stripName = \"    there are spaces here   \"\n",
    "# use rstrip, lstrip and strip to remove whitespace from the right, left and entire string respectively\n",
    "stripName.strip()"
   ]
  },
  {
   "cell_type": "code",
   "execution_count": null,
   "metadata": {},
   "outputs": [],
   "source": [
    "and practice # use character combinations \"\\t\" and \"\\n\""
   ]
  },
  {
   "cell_type": "code",
   "execution_count": 73,
   "metadata": {},
   "outputs": [],
   "source": [
    "tabPractice = \"this\\tis\\t a\\t tab\\t practice\""
   ]
  },
  {
   "cell_type": "code",
   "execution_count": 74,
   "metadata": {},
   "outputs": [
    {
     "name": "stdout",
     "output_type": "stream",
     "text": [
      "this\tis\t a\t tab\t practice\n"
     ]
    }
   ],
   "source": [
    "print(tabPractice)"
   ]
  },
  {
   "cell_type": "code",
   "execution_count": 114,
   "metadata": {},
   "outputs": [],
   "source": [
    "newLinePractice = \"this\\n\\tis\""
   ]
  },
  {
   "cell_type": "code",
   "execution_count": 115,
   "metadata": {},
   "outputs": [
    {
     "name": "stdout",
     "output_type": "stream",
     "text": [
      "this\n",
      "\tis\n"
     ]
    }
   ],
   "source": [
    "print(newLinePractice)"
   ]
  },
  {
   "cell_type": "code",
   "execution_count": null,
   "metadata": {},
   "outputs": [],
   "source": []
  },
  {
   "cell_type": "code",
   "execution_count": null,
   "metadata": {},
   "outputs": [],
   "source": []
  },
  {
   "cell_type": "code",
   "execution_count": 66,
   "metadata": {},
   "outputs": [
    {
     "name": "stdout",
     "output_type": "stream",
     "text": [
      "    there are spaces here   \n"
     ]
    }
   ],
   "source": [
    "print(stripName)"
   ]
  },
  {
   "cell_type": "code",
   "execution_count": 67,
   "metadata": {},
   "outputs": [
    {
     "name": "stdout",
     "output_type": "stream",
     "text": [
      "What is the \"program\"\n"
     ]
    }
   ],
   "source": [
    "print(\"What is the \\\"program\\\"\")"
   ]
  },
  {
   "cell_type": "code",
   "execution_count": null,
   "metadata": {},
   "outputs": [],
   "source": []
  },
  {
   "cell_type": "code",
   "execution_count": null,
   "metadata": {},
   "outputs": [],
   "source": [
    "# more string methods here: https://www.w3schools.com/python/python_ref_string.asp"
   ]
  },
  {
   "cell_type": "code",
   "execution_count": 68,
   "metadata": {},
   "outputs": [
    {
     "name": "stdout",
     "output_type": "stream",
     "text": [
      "False\n"
     ]
    }
   ],
   "source": [
    "# simple testing, here using 'isdigit'\n",
    "txt = \"Blue\"\n",
    "x = txt.isdigit()\n",
    "print(x)"
   ]
  },
  {
   "cell_type": "code",
   "execution_count": 69,
   "metadata": {},
   "outputs": [
    {
     "data": {
      "text/plain": [
       "5"
      ]
     },
     "execution_count": 69,
     "metadata": {},
     "output_type": "execute_result"
    }
   ],
   "source": [
    "number5 = 5\n",
    "number5"
   ]
  },
  {
   "cell_type": "code",
   "execution_count": 6,
   "metadata": {},
   "outputs": [],
   "source": [
    "# practicing asserts\n",
    "x = \"hello\"\n",
    "\n",
    "#if condition returns True, then nothing happens:\n",
    "assert x == \"hello\"\n",
    "\n",
    "# #if condition returns False, AssertionError is raised:\n",
    "# assert x == \"goodbye\"\n",
    "\n"
   ]
  },
  {
   "cell_type": "code",
   "execution_count": 7,
   "metadata": {},
   "outputs": [
    {
     "name": "stdout",
     "output_type": "stream",
     "text": [
      "we found a bug\n"
     ]
    }
   ],
   "source": [
    "x = 6\n",
    "if x == 5:\n",
    "    print(\"looks like X is equal to five yall\")\n",
    "else:\n",
    "    print(\"we found a bug\")\n",
    "    "
   ]
  },
  {
   "cell_type": "code",
   "execution_count": 10,
   "metadata": {},
   "outputs": [
    {
     "ename": "SyntaxError",
     "evalue": "invalid syntax (<ipython-input-10-52ff1ee16aa8>, line 3)",
     "output_type": "error",
     "traceback": [
      "\u001b[1;36m  File \u001b[1;32m\"<ipython-input-10-52ff1ee16aa8>\"\u001b[1;36m, line \u001b[1;32m3\u001b[0m\n\u001b[1;33m    assert number 5 == 5\u001b[0m\n\u001b[1;37m                  ^\u001b[0m\n\u001b[1;31mSyntaxError\u001b[0m\u001b[1;31m:\u001b[0m invalid syntax\n"
     ]
    }
   ],
   "source": [
    "# assert_stmt ::= \"assert\" expression1 [\",\" expression2]\n",
    "number = 5\n",
    "assert number 5 == 5\n",
    "# don't remember why this isn't working"
   ]
  },
  {
   "cell_type": "code",
   "execution_count": 11,
   "metadata": {},
   "outputs": [
    {
     "data": {
      "text/plain": [
       "5"
      ]
     },
     "execution_count": 11,
     "metadata": {},
     "output_type": "execute_result"
    }
   ],
   "source": [
    "# from Crash Course, p 30 -> Numbers\n",
    "# integers\n",
    "# you can add/subtract/multiply and divide ints in Python\n",
    "2 + 3"
   ]
  },
  {
   "cell_type": "code",
   "execution_count": 12,
   "metadata": {},
   "outputs": [
    {
     "data": {
      "text/plain": [
       "0.6666666666666666"
      ]
     },
     "execution_count": 12,
     "metadata": {},
     "output_type": "execute_result"
    }
   ],
   "source": [
    "2/3"
   ]
  },
  {
   "cell_type": "code",
   "execution_count": 13,
   "metadata": {},
   "outputs": [
    {
     "data": {
      "text/plain": [
       "0"
      ]
     },
     "execution_count": 13,
     "metadata": {},
     "output_type": "execute_result"
    }
   ],
   "source": [
    "2//3"
   ]
  },
  {
   "cell_type": "code",
   "execution_count": 14,
   "metadata": {},
   "outputs": [
    {
     "data": {
      "text/plain": [
       "6"
      ]
     },
     "execution_count": 14,
     "metadata": {},
     "output_type": "execute_result"
    }
   ],
   "source": [
    "2 * 3"
   ]
  },
  {
   "cell_type": "code",
   "execution_count": 15,
   "metadata": {},
   "outputs": [
    {
     "data": {
      "text/plain": [
       "-1"
      ]
     },
     "execution_count": 15,
     "metadata": {},
     "output_type": "execute_result"
    }
   ],
   "source": [
    "2-3"
   ]
  },
  {
   "cell_type": "code",
   "execution_count": 16,
   "metadata": {},
   "outputs": [
    {
     "data": {
      "text/plain": [
       "81"
      ]
     },
     "execution_count": 16,
     "metadata": {},
     "output_type": "execute_result"
    }
   ],
   "source": [
    "3 ** 4"
   ]
  },
  {
   "cell_type": "code",
   "execution_count": 18,
   "metadata": {},
   "outputs": [
    {
     "data": {
      "text/plain": [
       "81"
      ]
     },
     "execution_count": 18,
     "metadata": {},
     "output_type": "execute_result"
    }
   ],
   "source": [
    "27*3"
   ]
  },
  {
   "cell_type": "code",
   "execution_count": 19,
   "metadata": {},
   "outputs": [
    {
     "data": {
      "text/plain": [
       "43"
      ]
     },
     "execution_count": 19,
     "metadata": {},
     "output_type": "execute_result"
    }
   ],
   "source": [
    "# python also supports order of operation and,\n",
    "# spacing has no effect\n",
    "(3 * 3) + 35 -1"
   ]
  },
  {
   "cell_type": "code",
   "execution_count": 20,
   "metadata": {},
   "outputs": [
    {
     "data": {
      "text/plain": [
       "9"
      ]
     },
     "execution_count": 20,
     "metadata": {},
     "output_type": "execute_result"
    }
   ],
   "source": [
    "3*3"
   ]
  },
  {
   "cell_type": "code",
   "execution_count": 21,
   "metadata": {},
   "outputs": [
    {
     "data": {
      "text/plain": [
       "34"
      ]
     },
     "execution_count": 21,
     "metadata": {},
     "output_type": "execute_result"
    }
   ],
   "source": [
    "35-1"
   ]
  },
  {
   "cell_type": "code",
   "execution_count": 22,
   "metadata": {},
   "outputs": [
    {
     "data": {
      "text/plain": [
       "43"
      ]
     },
     "execution_count": 22,
     "metadata": {},
     "output_type": "execute_result"
    }
   ],
   "source": [
    "34 + 9"
   ]
  },
  {
   "cell_type": "code",
   "execution_count": 23,
   "metadata": {},
   "outputs": [
    {
     "data": {
      "text/plain": [
       "4.6"
      ]
     },
     "execution_count": 23,
     "metadata": {},
     "output_type": "execute_result"
    }
   ],
   "source": [
    "# floats\n",
    "# anything w a decimal\n",
    "\n",
    "1.3 + 3.3"
   ]
  },
  {
   "cell_type": "markdown",
   "metadata": {},
   "source": [
    "3 * .1"
   ]
  },
  {
   "cell_type": "code",
   "execution_count": 24,
   "metadata": {},
   "outputs": [
    {
     "data": {
      "text/plain": [
       "0.30000000000000004"
      ]
     },
     "execution_count": 24,
     "metadata": {},
     "output_type": "execute_result"
    }
   ],
   "source": [
    "# and remember you will sometimes get an arbitrary number of \n",
    "# decimal places, and that happens in all languages, \n",
    "# you can round those and we'll worry about that later\n",
    ".2 + .1"
   ]
  },
  {
   "cell_type": "code",
   "execution_count": 26,
   "metadata": {},
   "outputs": [
    {
     "ename": "TypeError",
     "evalue": "can only concatenate str (not \"int\") to str",
     "output_type": "error",
     "traceback": [
      "\u001b[1;31m---------------------------------------------------------------------------\u001b[0m",
      "\u001b[1;31mTypeError\u001b[0m                                 Traceback (most recent call last)",
      "\u001b[1;32m<ipython-input-26-877ae5ee3a01>\u001b[0m in \u001b[0;36m<module>\u001b[1;34m\u001b[0m\n\u001b[0;32m      3\u001b[0m \u001b[1;31m# let's say you want to use a variable's value w/in a function\u001b[0m\u001b[1;33m\u001b[0m\u001b[1;33m\u001b[0m\u001b[1;33m\u001b[0m\u001b[0m\n\u001b[0;32m      4\u001b[0m \u001b[0mage\u001b[0m \u001b[1;33m=\u001b[0m \u001b[1;36m23\u001b[0m\u001b[1;33m\u001b[0m\u001b[1;33m\u001b[0m\u001b[0m\n\u001b[1;32m----> 5\u001b[1;33m \u001b[0mmessage\u001b[0m \u001b[1;33m=\u001b[0m \u001b[1;34m\"Happy \"\u001b[0m \u001b[1;33m+\u001b[0m \u001b[0mage\u001b[0m \u001b[1;33m+\u001b[0m \u001b[1;34m\"rd Birthday\"\u001b[0m\u001b[1;33m\u001b[0m\u001b[1;33m\u001b[0m\u001b[0m\n\u001b[0m\u001b[0;32m      6\u001b[0m \u001b[0mprint\u001b[0m\u001b[1;33m(\u001b[0m\u001b[0mmessage\u001b[0m\u001b[1;33m)\u001b[0m\u001b[1;33m\u001b[0m\u001b[1;33m\u001b[0m\u001b[0m\n",
      "\u001b[1;31mTypeError\u001b[0m: can only concatenate str (not \"int\") to str"
     ]
    }
   ],
   "source": [
    "# Crash Course p. 31\n",
    "# Avoiding Type Errors with the str() Function\n",
    "            ####  TypeError: can only concatenate str (not \"int\") to str \n",
    "# let's say you want to use a variable's value w/in a function\n",
    "age = 23\n",
    "message = \"Happy \" + age + \"rd Birthday\"\n",
    "print(message)"
   ]
  },
  {
   "cell_type": "markdown",
   "metadata": {},
   "source": [
    "Type Error: Python cannot recognize the kind of info you're using\n",
    "* in the case above, Python knows the variable above for age could represent either the value 23 or the characters 2 and 3.\n",
    "* When you use ints w/in strings, you need to tell Python to use the int as a string of characters"
   ]
  },
  {
   "cell_type": "code",
   "execution_count": 27,
   "metadata": {},
   "outputs": [],
   "source": [
    "# So let's try again, calling age as an int\n",
    "# aka wrapping the variable age in the string function, per Crash Course p. 32\n",
    "message2 = \"Happy \" + str(age) + \"rd Birthday!\""
   ]
  },
  {
   "cell_type": "code",
   "execution_count": 29,
   "metadata": {},
   "outputs": [
    {
     "name": "stdout",
     "output_type": "stream",
     "text": [
      "Happy 23rd Birthday!\n"
     ]
    }
   ],
   "source": [
    "print(message2)"
   ]
  },
  {
   "cell_type": "code",
   "execution_count": 30,
   "metadata": {},
   "outputs": [
    {
     "name": "stdout",
     "output_type": "stream",
     "text": [
      "8\n"
     ]
    }
   ],
   "source": [
    "# try it yourself\n",
    "print(5 + 3)"
   ]
  },
  {
   "cell_type": "code",
   "execution_count": 37,
   "metadata": {},
   "outputs": [],
   "source": [
    "poms = 4\n",
    "pomsNeeded = \"I need to get \" + str(poms) + \" Pomodoros today!\""
   ]
  },
  {
   "cell_type": "code",
   "execution_count": 38,
   "metadata": {},
   "outputs": [
    {
     "data": {
      "text/plain": [
       "'I need to get 4 Pomodoros today!'"
      ]
     },
     "execution_count": 38,
     "metadata": {},
     "output_type": "execute_result"
    }
   ],
   "source": [
    "pomsNeeded"
   ]
  },
  {
   "cell_type": "markdown",
   "metadata": {},
   "source": [
    "**Crash Course in Python Exercises**\n",
    "     * page 54\n",
    "     * A Closer Look at Loops\n",
    "         * one of the most common ways to code repetitive tasks"
   ]
  },
  {
   "cell_type": "code",
   "execution_count": 4,
   "metadata": {},
   "outputs": [],
   "source": [
    "# Let's create a list\n",
    "\n",
    "magicians = ['Presto Chango', 'Al Kazam', 'A. Cadabra']"
   ]
  },
  {
   "cell_type": "code",
   "execution_count": 5,
   "metadata": {},
   "outputs": [
    {
     "name": "stdout",
     "output_type": "stream",
     "text": [
      "['Presto Chango', 'Al Kazam', 'A. Cadabra']\n"
     ]
    }
   ],
   "source": [
    "print(magicians)"
   ]
  },
  {
   "cell_type": "code",
   "execution_count": 6,
   "metadata": {},
   "outputs": [
    {
     "name": "stdout",
     "output_type": "stream",
     "text": [
      "[['Presto Chango', 'Al Kazam', 'A. Cadabra']]\n"
     ]
    }
   ],
   "source": [
    "print([magicians])"
   ]
  },
  {
   "cell_type": "code",
   "execution_count": 24,
   "metadata": {},
   "outputs": [
    {
     "name": "stdout",
     "output_type": "stream",
     "text": [
      "Presto Chango\n",
      "Al Kazam\n",
      "A. Cadabra\n",
      "Ball Thazar\n"
     ]
    }
   ],
   "source": [
    "# so you can just use 'x' in here to print\n",
    "# this for line tells python to retrieve the first value form the list magicians\n",
    "# and store it in the variable x, then retrieves the next value and stories it in x also\n",
    "# code finishes when there are no more elements to pull from the list\n",
    "for x in magicians:\n",
    "    print(x)\n",
    "\n",
    "# so the pattern is \n",
    "#     for x in varible:\n",
    "#     do whatever"
   ]
  },
  {
   "cell_type": "code",
   "execution_count": 23,
   "metadata": {},
   "outputs": [],
   "source": [
    "\n",
    "magicians.append(\"Ball Thazar\")"
   ]
  },
  {
   "cell_type": "code",
   "execution_count": 21,
   "metadata": {},
   "outputs": [
    {
     "data": {
      "text/plain": [
       "'Ball Thazar'"
      ]
     },
     "execution_count": 21,
     "metadata": {},
     "output_type": "execute_result"
    }
   ],
   "source": [
    "# use pop to remove an item by index\n",
    "magicians.pop(3)"
   ]
  },
  {
   "cell_type": "code",
   "execution_count": 19,
   "metadata": {},
   "outputs": [
    {
     "name": "stdout",
     "output_type": "stream",
     "text": [
      "['Presto Chango', 'Al Kazam', 'A. Cadabra', 'Ball Thazar']\n"
     ]
    }
   ],
   "source": [
    "print(magicians)"
   ]
  }
 ],
 "metadata": {
  "kernelspec": {
   "display_name": "Python 3",
   "language": "python",
   "name": "python3"
  },
  "language_info": {
   "codemirror_mode": {
    "name": "ipython",
    "version": 3
   },
   "file_extension": ".py",
   "mimetype": "text/x-python",
   "name": "python",
   "nbconvert_exporter": "python",
   "pygments_lexer": "ipython3",
   "version": "3.7.6"
  }
 },
 "nbformat": 4,
 "nbformat_minor": 4
}
