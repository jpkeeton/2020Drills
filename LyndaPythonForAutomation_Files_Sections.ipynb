{
 "cells": [
  {
   "cell_type": "markdown",
   "metadata": {},
   "source": [
    "## Lynda - Python for Automation\n",
    "\n",
    "* https://www.linkedin.com/learning/using-python-for-automation"
   ]
  },
  {
   "cell_type": "markdown",
   "metadata": {},
   "source": [
    "**Section 1**\n",
    "\n",
    "Automating file, folder, and terminal interactions with Python\n",
    "    * Write files so datasets can persist\n",
    "* Organize messy directories\n",
    "* Automate many basic processes\n",
    "* Preserve information after execution"
   ]
  },
  {
   "cell_type": "markdown",
   "metadata": {},
   "source": [
    "**File I/O**\n",
    "* a fundamental in programming\n",
    "* see inputfile.txt in exercise files\n",
    "    * C:\\Users\\jpkee\\Desktop\\PythonProjects\\LYNDA _Using Python for Automation\\Ex_Files_Python_Automation\\Exercise Files"
   ]
  },
  {
   "cell_type": "code",
   "execution_count": 40,
   "metadata": {},
   "outputs": [],
   "source": [
    "# # read a file\n",
    "# # no outside libraries needed\n",
    "# # all we need is 'open' function and pass 2 parameters, the file name and how we want to interact with the file, the mode\n",
    "\n",
    "# file_object  = open(\"filename\", \"mode\") \n",
    "test_file = ('C:/Users/jpkee/Desktop/PythonProjects/LYNDA _Using Python for Automation/Ex_Files_Python_Automation/Exercise Files/inputfile.txt')\n",
    "f = open(test_file, 'r')\n",
    "\n"
   ]
  },
  {
   "cell_type": "code",
   "execution_count": 46,
   "metadata": {},
   "outputs": [
    {
     "data": {
      "text/plain": [
       "_io.TextIOWrapper"
      ]
     },
     "execution_count": 46,
     "metadata": {},
     "output_type": "execute_result"
    }
   ],
   "source": [
    "# Bonus!\n",
    "# type(test_file) # will return a string\n",
    "#  TextIOWrapper file object\n",
    "type(f)\n",
    "\n",
    "# More on this: https://realpython.com/read-write-files-python/"
   ]
  },
  {
   "cell_type": "code",
   "execution_count": null,
   "metadata": {},
   "outputs": [],
   "source": []
  },
  {
   "cell_type": "code",
   "execution_count": 26,
   "metadata": {},
   "outputs": [
    {
     "name": "stdout",
     "output_type": "stream",
     "text": [
      "Mary 25 P\n",
      "John 32 P\n",
      "Dylan 19 F\n",
      "Julia 23 F\n",
      "Chad 17 F\n",
      "Jack 20 F\n",
      "Hailey 26 P\n",
      "Iris 23 P\n",
      "Jacob 29 P\n",
      "Jalen 37 F\n",
      "Anthony 47 F\n",
      "Jamie 26 P\n",
      "Sydney 19 F\n",
      "Chloe 21 P\n",
      "Natalie 29 P\n",
      "David 23 P\n",
      "Mario 51 P\n",
      "Jenna 28 F\n",
      "Josh 39 P\n",
      "Damean 42 F\n",
      "Zach 19 F\n",
      "Kayla 28 P\n",
      "Ben 14 F\n",
      "Hunter 61 P\n",
      "Albert 29 F\n",
      "Lauren 31 F\n",
      "Erica 16 P\n",
      "Kyle 19 P\n",
      "Jordan 29 F\n",
      "Kaleb 47 F\n",
      "Rosanna 45 P\n",
      "Joy 28 P\n",
      "Bill 29 F\n",
      "Jim 67 P\n",
      "Robin 24 F\n",
      "Sansa 28 P\n",
      "Juan 73 P\n",
      "Colin 59 P\n",
      "Jake 8 F\n",
      "Kate 58 P\n",
      "Jade 26 P\n",
      "River 29 P\n",
      "Chris 31 P\n",
      "Grace 18 F\n"
     ]
    }
   ],
   "source": [
    "# let's check then if we found it, print calling print function on f, the file opening variable\n",
    "# this output works, but\n",
    "# f.read()\n",
    "# this works better\n",
    "print(f.read())"
   ]
  },
  {
   "cell_type": "code",
   "execution_count": 23,
   "metadata": {},
   "outputs": [
    {
     "name": "stdout",
     "output_type": "stream",
     "text": [
      "closing file\n",
      "file has been closed\n"
     ]
    }
   ],
   "source": [
    "# AND always remember to close files when done\n",
    "print('closing file')\n",
    "f.close()\n",
    "print('file has been closed')\n",
    "#  you'll get a ValueError if you try to read a closed file\n",
    "# ValueError: I/O operation on closed file."
   ]
  },
  {
   "cell_type": "code",
   "execution_count": 41,
   "metadata": {},
   "outputs": [
    {
     "name": "stdout",
     "output_type": "stream",
     "text": [
      "0 Mary 25 P\n",
      "\n",
      "1 John 32 P\n",
      "\n",
      "2 Dylan 19 F\n",
      "\n",
      "3 Julia 23 F\n",
      "\n",
      "4 Chad 17 F\n",
      "\n",
      "5 Jack 20 F\n",
      "\n",
      "6 Hailey 26 P\n",
      "\n",
      "7 Iris 23 P\n",
      "\n",
      "8 Jacob 29 P\n",
      "\n",
      "9 Jalen 37 F\n",
      "\n",
      "10 Anthony 47 F\n",
      "\n",
      "11 Jamie 26 P\n",
      "\n",
      "12 Sydney 19 F\n",
      "\n",
      "13 Chloe 21 P\n",
      "\n",
      "14 Natalie 29 P\n",
      "\n",
      "15 David 23 P\n",
      "\n",
      "16 Mario 51 P\n",
      "\n",
      "17 Jenna 28 F\n",
      "\n",
      "18 Josh 39 P\n",
      "\n",
      "19 Damean 42 F\n",
      "\n",
      "20 Zach 19 F\n",
      "\n",
      "21 Kayla 28 P\n",
      "\n",
      "22 Ben 14 F\n",
      "\n",
      "23 Hunter 61 P\n",
      "\n",
      "24 Albert 29 F\n",
      "\n",
      "25 Lauren 31 F\n",
      "\n",
      "26 Erica 16 P\n",
      "\n",
      "27 Kyle 19 P\n",
      "\n",
      "28 Jordan 29 F\n",
      "\n",
      "29 Kaleb 47 F\n",
      "\n",
      "30 Rosanna 45 P\n",
      "\n",
      "31 Joy 28 P\n",
      "\n",
      "32 Bill 29 F\n",
      "\n",
      "33 Jim 67 P\n",
      "\n",
      "34 Robin 24 F\n",
      "\n",
      "35 Sansa 28 P\n",
      "\n",
      "36 Juan 73 P\n",
      "\n",
      "37 Colin 59 P\n",
      "\n",
      "38 Jake 8 F\n",
      "\n",
      "39 Kate 58 P\n",
      "\n",
      "40 Jade 26 P\n",
      "\n",
      "41 River 29 P\n",
      "\n",
      "42 Chris 31 P\n",
      "\n",
      "43 Grace 18 F\n"
     ]
    }
   ],
   "source": [
    "# Now, let's iterate thru the file, looking for specific elements, in this case a pass or fail designation\n",
    "# replace the print statement with a for loop that prints every line\n",
    "\n",
    "# to demonstrate the line-by-line looping, let's add a counter and append it to the print statements, \n",
    "# so you can see it increment\n",
    "# create a count variable of zero\n",
    "count = 0 \n",
    "for line in f:\n",
    "    print(str(count) + ' ' + line)\n",
    "    # increment your count\n",
    "    count = count + 1\n",
    "# f.close()"
   ]
  },
  {
   "cell_type": "code",
   "execution_count": 45,
   "metadata": {},
   "outputs": [
    {
     "name": "stdout",
     "output_type": "stream",
     "text": [
      "here is a person and their grade >  yes Mary 25 P\n",
      "\n",
      "here is a person and their grade >  yes John 32 P\n",
      "\n",
      "here is a person and their grade >  yes Dylan 19 F\n",
      "\n",
      "here is a person and their grade >  yes Julia 23 F\n",
      "\n",
      "here is a person and their grade >  yes Chad 17 F\n",
      "\n",
      "here is a person and their grade >  yes Jack 20 F\n",
      "\n",
      "here is a person and their grade >  yes Hailey 26 P\n",
      "\n",
      "here is a person and their grade >  yes Iris 23 P\n",
      "\n",
      "here is a person and their grade >  yes Jacob 29 P\n",
      "\n",
      "here is a person and their grade >  yes Jalen 37 F\n",
      "\n",
      "here is a person and their grade >  yes Anthony 47 F\n",
      "\n",
      "here is a person and their grade >  yes Jamie 26 P\n",
      "\n",
      "here is a person and their grade >  yes Sydney 19 F\n",
      "\n",
      "here is a person and their grade >  yes Chloe 21 P\n",
      "\n",
      "here is a person and their grade >  yes Natalie 29 P\n",
      "\n",
      "here is a person and their grade >  yes David 23 P\n",
      "\n",
      "here is a person and their grade >  yes Mario 51 P\n",
      "\n",
      "here is a person and their grade >  yes Jenna 28 F\n",
      "\n",
      "here is a person and their grade >  yes Josh 39 P\n",
      "\n",
      "here is a person and their grade >  yes Damean 42 F\n",
      "\n",
      "here is a person and their grade >  yes Zach 19 F\n",
      "\n",
      "here is a person and their grade >  yes Kayla 28 P\n",
      "\n",
      "here is a person and their grade >  yes Ben 14 F\n",
      "\n",
      "here is a person and their grade >  yes Hunter 61 P\n",
      "\n",
      "here is a person and their grade >  yes Albert 29 F\n",
      "\n",
      "here is a person and their grade >  yes Lauren 31 F\n",
      "\n",
      "here is a person and their grade >  yes Erica 16 P\n",
      "\n",
      "here is a person and their grade >  yes Kyle 19 P\n",
      "\n",
      "here is a person and their grade >  yes Jordan 29 F\n",
      "\n",
      "here is a person and their grade >  yes Kaleb 47 F\n",
      "\n",
      "here is a person and their grade >  yes Rosanna 45 P\n",
      "\n",
      "here is a person and their grade >  yes Joy 28 P\n",
      "\n",
      "here is a person and their grade >  yes Bill 29 F\n",
      "\n",
      "here is a person and their grade >  yes Jim 67 P\n",
      "\n",
      "here is a person and their grade >  yes Robin 24 F\n",
      "\n",
      "here is a person and their grade >  yes Sansa 28 P\n",
      "\n",
      "here is a person and their grade >  yes Juan 73 P\n",
      "\n",
      "here is a person and their grade >  yes Colin 59 P\n",
      "\n",
      "here is a person and their grade >  yes Jake 8 F\n",
      "\n",
      "here is a person and their grade >  yes Kate 58 P\n",
      "\n",
      "here is a person and their grade >  yes Jade 26 P\n",
      "\n",
      "here is a person and their grade >  yes River 29 P\n",
      "\n",
      "here is a person and their grade >  yes Chris 31 P\n",
      "\n",
      "here is a person and their grade >  yes Grace 18 F\n"
     ]
    }
   ],
   "source": [
    "# but do I really need the count?\n",
    "# here's the same chunk of code w/o a counter\n",
    "test_file = ('C:/Users/jpkee/Desktop/PythonProjects/LYNDA _Using Python for Automation/Ex_Files_Python_Automation/Exercise Files/inputfile.txt')\n",
    "#create the file openin variable, with read argument\n",
    "f = open(test_file, 'r')\n",
    "# loop over the lines in the file\n",
    "for blarg in f:\n",
    "    print(\"here is a person and their grade > \" + ' yes ' +  blarg)\n",
    "f.close()"
   ]
  },
  {
   "cell_type": "code",
   "execution_count": 64,
   "metadata": {},
   "outputs": [
    {
     "name": "stdout",
     "output_type": "stream",
     "text": [
      "Mary 25 P\n",
      "\n",
      "John 32 P\n",
      "\n",
      "Hailey 26 P\n",
      "\n",
      "Iris 23 P\n",
      "\n",
      "Jacob 29 P\n",
      "\n",
      "Jamie 26 P\n",
      "\n",
      "Chloe 21 P\n",
      "\n",
      "Natalie 29 P\n",
      "\n",
      "David 23 P\n",
      "\n",
      "Mario 51 P\n",
      "\n",
      "Josh 39 P\n",
      "\n",
      "Kayla 28 P\n",
      "\n",
      "Hunter 61 P\n",
      "\n",
      "Erica 16 P\n",
      "\n",
      "Kyle 19 P\n",
      "\n",
      "Rosanna 45 P\n",
      "\n",
      "Joy 28 P\n",
      "\n",
      "Jim 67 P\n",
      "\n",
      "Sansa 28 P\n",
      "\n",
      "Juan 73 P\n",
      "\n",
      "Colin 59 P\n",
      "\n",
      "Kate 58 P\n",
      "\n",
      "Jade 26 P\n",
      "\n",
      "River 29 P\n",
      "\n",
      "Chris 31 P\n",
      "\n"
     ]
    }
   ],
   "source": [
    "# now only print the Pass or fail conditions\n",
    "# let's use the .split() function to help with the pass/fail check for each person\n",
    "\n",
    "# per https://www.w3schools.com/python/ref_string_split.asp#:~:text=The%20split()%20method%20splits,number%20of%20elements%20plus%20one.\n",
    "# The split() method splits a string into a list. (aka a list of strings)\n",
    "# You can specify the separator, default separator is any whitespace.\n",
    "\n",
    "\n",
    "test_file = ('C:/Users/jpkee/Desktop/PythonProjects/LYNDA _Using Python for Automation/Ex_Files_Python_Automation/Exercise Files/inputfile.txt')\n",
    "f = open(test_file, 'r')\n",
    "for line in f:\n",
    "    # put the splitting in the 'for' loop here\n",
    "    line_split =line.split()\n",
    "    # and check if the 3rd element has a tag of P for passing\n",
    "    # if the line split results index position 2 (which would be the 3rd element)\n",
    "    # contains P \n",
    "    if line_split[2] == 'P':\n",
    "    # then print if they are a 'pass'\n",
    "        print(line)\n",
    "\n",
    "f.close()"
   ]
  },
  {
   "cell_type": "code",
   "execution_count": 91,
   "metadata": {},
   "outputs": [],
   "source": [
    "# now let's write the results to a new file\n",
    "# https://www.linkedin.com/learning/using-python-for-automation/how-to-write-files\n",
    "\n",
    "# more on writing - https://www.w3schools.com/python/python_file_write.asp\n",
    "\n",
    "\n",
    "test_file = ('C:/Users/jpkee/Desktop/PythonProjects/LYNDA _Using Python for Automation/Ex_Files_Python_Automation/Exercise Files/inputfile.txt')\n",
    "f = open(test_file, 'r')\n",
    "\n",
    "# Write the results to a new file here:\n",
    "# 'w' is the 2nd parameter so we can actually write to the file \n",
    "passfile = open('passfile.txt', 'w')\n",
    "\n",
    "for line in f:\n",
    "    # put the splitting in the for loop here\n",
    "    line_split =line.split()\n",
    "    # now if they passed \n",
    "    if line_split[2] == 'P':\n",
    "    # then write to our newly created passfile.txt file\n",
    "        passfile.write(line)\n",
    "\n",
    "f.close()\n",
    "# and don't forget to close the newly created passfile\n",
    "passfile.close()"
   ]
  },
  {
   "cell_type": "code",
   "execution_count": 58,
   "metadata": {},
   "outputs": [],
   "source": [
    "# now let's create a fail file\n",
    "\n",
    "test_file = ('C:/Users/jpkee/Desktop/PythonProjects/LYNDA _Using Python for Automation/Ex_Files_Python_Automation/Exercise Files/inputfile.txt')\n",
    "f = open(test_file, 'r')\n",
    "\n",
    "# Write the results to a new file here:\n",
    "# 'w' is the 2nd parameter so we can actually write to the file \n",
    "passFile = open('passFile.txt', 'w')\n",
    "failFile = open('failFile.txt', 'w')\n",
    "\n",
    "for line in f:\n",
    "    # put the splitting in the for loop here\n",
    "    line_split =line.split()\n",
    "    # now if they passed \n",
    "    if line_split[2] == 'P':\n",
    "    # then write to our newly created passfile.txt file\n",
    "        passFile.write(line)\n",
    "    # otherwise stick the result into a fail file\n",
    "    else:\n",
    "        failFile.write(line)\n",
    "        \n",
    "\n",
    "f.close()\n",
    "# and don't forget to close your files!\n",
    "passFile.close()\n",
    "failFile.close()\n"
   ]
  },
  {
   "cell_type": "markdown",
   "metadata": {},
   "source": [
    "**Executing terminal commands** \n",
    "* https://www.linkedin.com/learning/using-python-for-automation/executing-terminal-commands"
   ]
  },
  {
   "cell_type": "code",
   "execution_count": 48,
   "metadata": {},
   "outputs": [],
   "source": [
    "import subprocess\n",
    "# more on subprocess\n",
    "# https://docs.python.org/3.4/library/subprocess.html?highlight=popen#module-subprocess"
   ]
  },
  {
   "cell_type": "code",
   "execution_count": 51,
   "metadata": {},
   "outputs": [
    {
     "ename": "CalledProcessError",
     "evalue": "Command '['python', 'hello.py']' returned non-zero exit status 2.",
     "output_type": "error",
     "traceback": [
      "\u001b[1;31m---------------------------------------------------------------------------\u001b[0m",
      "\u001b[1;31mCalledProcessError\u001b[0m                        Traceback (most recent call last)",
      "\u001b[1;32m<ipython-input-51-b2cee4bd5058>\u001b[0m in \u001b[0;36m<module>\u001b[1;34m\u001b[0m\n\u001b[0;32m      8\u001b[0m \u001b[1;31m# check call function\u001b[0m\u001b[1;33m\u001b[0m\u001b[1;33m\u001b[0m\u001b[1;33m\u001b[0m\u001b[0m\n\u001b[0;32m      9\u001b[0m \u001b[1;32mfor\u001b[0m \u001b[0mi\u001b[0m \u001b[1;32min\u001b[0m \u001b[0mrange\u001b[0m\u001b[1;33m(\u001b[0m\u001b[1;36m0\u001b[0m\u001b[1;33m,\u001b[0m\u001b[1;36m5\u001b[0m\u001b[1;33m)\u001b[0m\u001b[1;33m:\u001b[0m\u001b[1;33m\u001b[0m\u001b[1;33m\u001b[0m\u001b[0m\n\u001b[1;32m---> 10\u001b[1;33m     \u001b[0msubprocess\u001b[0m\u001b[1;33m.\u001b[0m\u001b[0mcheck_call\u001b[0m\u001b[1;33m(\u001b[0m\u001b[1;33m[\u001b[0m\u001b[1;34m'python'\u001b[0m\u001b[1;33m,\u001b[0m \u001b[1;34m'hello.py'\u001b[0m\u001b[1;33m]\u001b[0m\u001b[1;33m)\u001b[0m\u001b[1;33m\u001b[0m\u001b[1;33m\u001b[0m\u001b[0m\n\u001b[0m\u001b[0;32m     11\u001b[0m \u001b[1;33m\u001b[0m\u001b[0m\n\u001b[0;32m     12\u001b[0m \u001b[1;31m# Saved that above here C:\\Users\\jpkee\\Desktop\\PythonProjects\\LYNDA _Using Python for Automation as script.py\u001b[0m\u001b[1;33m\u001b[0m\u001b[1;33m\u001b[0m\u001b[1;33m\u001b[0m\u001b[0m\n",
      "\u001b[1;32m~\\anaconda3\\lib\\subprocess.py\u001b[0m in \u001b[0;36mcheck_call\u001b[1;34m(*popenargs, **kwargs)\u001b[0m\n\u001b[0;32m    361\u001b[0m         \u001b[1;32mif\u001b[0m \u001b[0mcmd\u001b[0m \u001b[1;32mis\u001b[0m \u001b[1;32mNone\u001b[0m\u001b[1;33m:\u001b[0m\u001b[1;33m\u001b[0m\u001b[1;33m\u001b[0m\u001b[0m\n\u001b[0;32m    362\u001b[0m             \u001b[0mcmd\u001b[0m \u001b[1;33m=\u001b[0m \u001b[0mpopenargs\u001b[0m\u001b[1;33m[\u001b[0m\u001b[1;36m0\u001b[0m\u001b[1;33m]\u001b[0m\u001b[1;33m\u001b[0m\u001b[1;33m\u001b[0m\u001b[0m\n\u001b[1;32m--> 363\u001b[1;33m         \u001b[1;32mraise\u001b[0m \u001b[0mCalledProcessError\u001b[0m\u001b[1;33m(\u001b[0m\u001b[0mretcode\u001b[0m\u001b[1;33m,\u001b[0m \u001b[0mcmd\u001b[0m\u001b[1;33m)\u001b[0m\u001b[1;33m\u001b[0m\u001b[1;33m\u001b[0m\u001b[0m\n\u001b[0m\u001b[0;32m    364\u001b[0m     \u001b[1;32mreturn\u001b[0m \u001b[1;36m0\u001b[0m\u001b[1;33m\u001b[0m\u001b[1;33m\u001b[0m\u001b[0m\n\u001b[0;32m    365\u001b[0m \u001b[1;33m\u001b[0m\u001b[0m\n",
      "\u001b[1;31mCalledProcessError\u001b[0m: Command '['python', 'hello.py']' returned non-zero exit status 2."
     ]
    }
   ],
   "source": [
    "# create a dummy script to execute from the command line\n",
    "# C:\\Users\\jpkee\\Desktop\\PythonProjects\\LYNDA _Using Python for Automation\\hello.py\n",
    "\n",
    "# then create another file to house our terminal logic, and save it as script.py\n",
    "\n",
    "# use the sub process library, which allows us to interact w the command line\n",
    "# has many functions\n",
    "# check call function\n",
    "for i in range(0,5):\n",
    "    subprocess.check_call(['python', 'hello.py'])\n",
    "\n",
    "# Saved that above here C:\\Users\\jpkee\\Desktop\\PythonProjects\\LYNDA _Using Python for Automation as script.py\n",
    "\n",
    "\n"
   ]
  },
  {
   "cell_type": "code",
   "execution_count": 50,
   "metadata": {},
   "outputs": [
    {
     "data": {
      "image/jpeg": "[encoded data removed]",
      "text/plain": [
       "<IPython.core.display.Image object>"
      ]
     },
     "execution_count": 50,
     "metadata": {},
     "output_type": "execute_result"
    }
   ],
   "source": [
    "# Glossary\n",
    "from IPython.display import Image\n",
    "Image('C:/Users/jpkee/Desktop/PythonProjects/Pictures/subprocessExample.JPG')\n"
   ]
  },
  {
   "cell_type": "code",
   "execution_count": 52,
   "metadata": {},
   "outputs": [
    {
     "data": {
      "image/jpeg": "[encoded data removed]",
      "text/plain": [
       "<IPython.core.display.Image object>"
      ]
     },
     "execution_count": 52,
     "metadata": {},
     "output_type": "execute_result"
    }
   ],
   "source": [
    "Image('C:/Users/jpkee/Desktop/PythonProjects/Pictures/SubProcessExampleFromCMDLineCapture.JPG')"
   ]
  },
  {
   "cell_type": "markdown",
   "metadata": {},
   "source": [
    "**Organizing Directories**\n",
    "\n",
    "* https://www.linkedin.com/learning/using-python-for-automation/organizing-directories\n",
    "* We'll work out of this folder: C:\\Users\\jpkee\\Desktop\\PythonProjects\\LYNDA _Using Python for Automation\\Ex_Files_Python_Automation\\Exercise Files\\OrganizeMe\n",
    "* We'll be organizing the contents therein"
   ]
  },
  {
   "cell_type": "code",
   "execution_count": 88,
   "metadata": {},
   "outputs": [],
   "source": [
    "# Let's create a dictionary for the file types\n",
    "SUBDIRECTORIES = {\n",
    "    \"Documents\": ['.pdf', '.rtf', '.txt'],\n",
    "    \"Audio\": ['.m4a', '.avi', '.mp3'],\n",
    "    \"Videos\": ['.mov', '.avi', '.mp4'],\n",
    "    \"Images\" : ['.jpg', '.jpeg', '.png']\n",
    "}"
   ]
  },
  {
   "cell_type": "code",
   "execution_count": 89,
   "metadata": {},
   "outputs": [
    {
     "name": "stdout",
     "output_type": "stream",
     "text": [
      "{'Documents': ['.pdf', '.rtf', '.txt'], 'Audio': ['.m4a', '.avi', '.mp3'], 'Videos': ['.mov', '.avi', '.mp4'], 'Images': ['.jpg', '.jpeg', '.png']}\n"
     ]
    }
   ],
   "source": [
    "print(SUBDIRECTORIES)"
   ]
  },
  {
   "cell_type": "code",
   "execution_count": 90,
   "metadata": {},
   "outputs": [
    {
     "data": {
      "text/plain": [
       "dict"
      ]
     },
     "execution_count": 90,
     "metadata": {},
     "output_type": "execute_result"
    }
   ],
   "source": [
    "type(SUBDIRECTORIES)"
   ]
  },
  {
   "cell_type": "code",
   "execution_count": 91,
   "metadata": {},
   "outputs": [
    {
     "data": {
      "text/plain": [
       "{'Documents': ['.pdf', '.rtf', '.txt'],\n",
       " 'Audio': ['.m4a', '.avi', '.mp3'],\n",
       " 'Videos': ['.mov', '.avi', '.mp4'],\n",
       " 'Images': ['.jpg', '.jpeg', '.png']}"
      ]
     },
     "execution_count": 91,
     "metadata": {},
     "output_type": "execute_result"
    }
   ],
   "source": [
    "SUBDIRECTORIES"
   ]
  },
  {
   "cell_type": "code",
   "execution_count": 92,
   "metadata": {},
   "outputs": [
    {
     "name": "stdout",
     "output_type": "stream",
     "text": [
      "Images\n"
     ]
    }
   ],
   "source": [
    "# now let's write a function that returns a category based on the file suffix/type\n",
    "from pathlib import Path \n",
    "import os\n",
    "# and pathlib module and path function\n",
    "    # https://docs.python.org/3/library/pathlib.html?highlight=pathlib#module-pathlib\n",
    "\n",
    "# Let's create a dictionary for the file types\n",
    "SUBDIRECTORIES = {\n",
    "    \"Documents\": ['.pdf', '.rtf', '.txt'],\n",
    "    \"Audio\": ['.m4a', '.avi', '.mp3'],\n",
    "    \"Videos\": ['.mov', '.avi', '.mp4'],\n",
    "    \"Images\" : ['.jpg', '.jpeg', '.png']\n",
    "} \n",
    "    \n",
    "\n",
    "\n",
    "def pickDirectory(value):\n",
    "    # loop thru all the items in the dictionary\n",
    "    for category, suffixes in SUBDIRECTORIES.items():\n",
    "        for suffix in suffixes: \n",
    "            # if a suffix is found, return that category\n",
    "            if suffix == value:\n",
    "                return category\n",
    "    return 'MISC'\n",
    "# Basically this function loops thru the dictionary items and returns the category in which the suffix exists\n",
    "\n",
    "# make sure the directory is working, I should get 'Documents' here\n",
    "# print(pickDirectory('.jpeg'))\n",
    "                 \n",
    "\n",
    "\n",
    "\n",
    "def organizedDirectory():\n",
    "    for items in os.scandir():\n",
    "        filepath = Path(item)\n",
    "        if item.is_dir()\n",
    "            continue\n",
    "        # isolate the suffix and and determine what directory it should be org'd into\n",
    "        # .suffix attribute grabs the file extension\n",
    "        filytype = filepath.suffix.lower()\n",
    "        directory = pickDirectory(filetype)\n",
    "        directoryPath = Path(directory)\n",
    "        # but what is the directory doesn't exist?\n",
    "        # we'll need to create one\n",
    "        if directoryPath.is_dir() != True:\n",
    "            directoryPath.mkdir()\n",
    "        filepath.rename(directoryPath.joinpath(filePath))\n",
    "            "
   ]
  },
  {
   "cell_type": "code",
   "execution_count": null,
   "metadata": {},
   "outputs": [],
   "source": []
  },
  {
   "cell_type": "code",
   "execution_count": 96,
   "metadata": {},
   "outputs": [],
   "source": [
    "# Using the scandir module here -> \n",
    "    # https://docs.python.org/3/library/os.html\n",
    "    # https://docs.python.org/3/library/os.html#os.scandir will grab each object\n",
    "    # loop thru it all\n"
   ]
  },
  {
   "cell_type": "code",
   "execution_count": 94,
   "metadata": {},
   "outputs": [
    {
     "ename": "SyntaxError",
     "evalue": "unexpected EOF while parsing (<ipython-input-94-82358d7b726a>, line 6)",
     "output_type": "error",
     "traceback": [
      "\u001b[1;36m  File \u001b[1;32m\"<ipython-input-94-82358d7b726a>\"\u001b[1;36m, line \u001b[1;32m6\u001b[0m\n\u001b[1;33m    \u001b[0m\n\u001b[1;37m    ^\u001b[0m\n\u001b[1;31mSyntaxError\u001b[0m\u001b[1;31m:\u001b[0m unexpected EOF while parsing\n"
     ]
    }
   ],
   "source": [
    "\n",
    "        \n"
   ]
  },
  {
   "cell_type": "code",
   "execution_count": null,
   "metadata": {},
   "outputs": [],
   "source": []
  },
  {
   "cell_type": "code",
   "execution_count": 95,
   "metadata": {},
   "outputs": [],
   "source": [
    "# tried out the pathlib module and os module's scandir() function, next it web scraping\n",
    "\n",
    "\n"
   ]
  }
 ],
 "metadata": {
  "kernelspec": {
   "display_name": "Python 3",
   "language": "python",
   "name": "python3"
  },
  "language_info": {
   "codemirror_mode": {
    "name": "ipython",
    "version": 3
   },
   "file_extension": ".py",
   "mimetype": "text/x-python",
   "name": "python",
   "nbconvert_exporter": "python",
   "pygments_lexer": "ipython3",
   "version": "3.7.6"
  }
 },
 "nbformat": 4,
 "nbformat_minor": 4
}
