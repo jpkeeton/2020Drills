{
 "cells": [
  {
   "cell_type": "markdown",
   "metadata": {},
   "source": [
    "# Magic Functions\n"
   ]
  },
  {
   "cell_type": "markdown",
   "metadata": {},
   "source": [
    "What are they?\n",
    "\n",
    "[describe what they are here;]"
   ]
  },
  {
   "cell_type": "code",
   "execution_count": null,
   "metadata": {},
   "outputs": [],
   "source": []
  },
  {
   "cell_type": "markdown",
   "metadata": {},
   "source": [
    "LS example - \n",
    "will list the directory contents"
   ]
  },
  {
   "cell_type": "code",
   "execution_count": 2,
   "metadata": {},
   "outputs": [
    {
     "name": "stdout",
     "output_type": "stream",
     "text": [
      " Volume in drive C is JerKee Ace\n",
      " Volume Serial Number is 2607-AD6F\n",
      "\n",
      " Directory of C:\\Users\\jpkee\\Desktop\\PythonProjects\\Lynda_Scripting_for_Testers\\MyWork\n",
      "\n",
      "05/14/2020  03:40 PM    <DIR>          .\n",
      "05/14/2020  03:40 PM    <DIR>          ..\n",
      "05/14/2020  03:40 PM    <DIR>          .ipynb_checkpoints\n",
      "05/14/2020  03:40 PM           382,967 Automate Report Generation Using Google APIs.ipynb\n",
      "05/04/2020  01:44 PM               681 copyTestTimingData.csv\n",
      "05/13/2020  12:44 PM           960,296 CourseWork.ipynb\n",
      "05/14/2020  03:34 PM             1,990 scriptingForTestersLynda1.py\n",
      "05/14/2020  10:26 AM             1,542 SeleniumSection.ipynb\n",
      "05/14/2020  02:51 PM            62,330 TestDataPic.JPG\n",
      "05/14/2020  03:35 PM           135,374 TestDataRunsFineFromVSCodeCMDLine.JPG\n",
      "05/14/2020  10:17 AM                72 Untitled.ipynb\n",
      "05/14/2020  10:33 AM             2,595 Untitled1.ipynb\n",
      "05/14/2020  03:40 PM                72 Untitled2.ipynb\n",
      "05/14/2020  03:36 PM            82,487 VSCodeWorking.JPG\n",
      "              11 File(s)      1,630,406 bytes\n",
      "               3 Dir(s)  119,217,860,608 bytes free\n"
     ]
    }
   ],
   "source": [
    "%ls"
   ]
  },
  {
   "cell_type": "code",
   "execution_count": null,
   "metadata": {},
   "outputs": [],
   "source": []
  }
 ],
 "metadata": {
  "kernelspec": {
   "display_name": "Python 3",
   "language": "python",
   "name": "python3"
  },
  "language_info": {
   "codemirror_mode": {
    "name": "ipython",
    "version": 3
   },
   "file_extension": ".py",
   "mimetype": "text/x-python",
   "name": "python",
   "nbconvert_exporter": "python",
   "pygments_lexer": "ipython3",
   "version": "3.7.6"
  }
 },
 "nbformat": 4,
 "nbformat_minor": 4
}
