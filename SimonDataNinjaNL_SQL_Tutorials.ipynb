{
 "cells": [
  {
   "cell_type": "markdown",
   "metadata": {},
   "source": [
    "**Working thru Simon's SQL tutorials**\n",
    "* https://www.youtube.com/watch?v=IrCowiKyyBA\n",
    "* Docs are here: https://pypi.org/project/sql-queries/"
   ]
  },
  {
   "cell_type": "code",
   "execution_count": 3,
   "metadata": {},
   "outputs": [],
   "source": [
    "import pandas as pd\n",
    "from sqlalchemy import create_engine\n",
    "from sql_query import sql_select\n",
    "engine = create_engine('sqlite:///C:/Users/jpkee/Documents/My Tableau Repository/Datasources/F1_data-master/F1_data-master/Formula1.db')"
   ]
  },
  {
   "cell_type": "code",
   "execution_count": 4,
   "metadata": {},
   "outputs": [],
   "source": [
    "# initialize a sql_select object\n",
    "\n",
    "# sl  = SELECT\n",
    "# fr = FROM \n",
    "# - parameter names can be omitted\n",
    "qry = sql_select(\n",
    "                sl=['driverId', 'forename', 'surname'],\n",
    "                fr='drivers'\n",
    "                    )\n"
   ]
  },
  {
   "cell_type": "code",
   "execution_count": 5,
   "metadata": {},
   "outputs": [
    {
     "data": {
      "text/plain": [
       "sql_query.sql_query.sql_select"
      ]
     },
     "execution_count": 5,
     "metadata": {},
     "output_type": "execute_result"
    }
   ],
   "source": [
    "type(qry)"
   ]
  },
  {
   "cell_type": "code",
   "execution_count": 6,
   "metadata": {},
   "outputs": [
    {
     "name": "stdout",
     "output_type": "stream",
     "text": [
      "['driverId', 'forename', 'surname']\n"
     ]
    }
   ],
   "source": [
    "# View the given attributes, grabbing the headers \n",
    "print(qry.sl)"
   ]
  },
  {
   "cell_type": "code",
   "execution_count": 7,
   "metadata": {},
   "outputs": [
    {
     "name": "stdout",
     "output_type": "stream",
     "text": [
      "drivers\n"
     ]
    }
   ],
   "source": [
    "# view the table\n",
    "print(qry.fr)"
   ]
  },
  {
   "cell_type": "code",
   "execution_count": 8,
   "metadata": {},
   "outputs": [],
   "source": [
    "# use the select method to ADD a field to our query\n",
    "qry.select('nationality')"
   ]
  },
  {
   "cell_type": "code",
   "execution_count": 9,
   "metadata": {},
   "outputs": [
    {
     "name": "stdout",
     "output_type": "stream",
     "text": [
      "['nationality', 'surname', 'driverId', 'forename']\n"
     ]
    }
   ],
   "source": [
    "# Check that we are now getting back 'nationality' as well\n",
    "print(qry.sl)"
   ]
  },
  {
   "cell_type": "code",
   "execution_count": 10,
   "metadata": {},
   "outputs": [],
   "source": [
    "# change the fields, in this cas remove the previously provided fields\n",
    "qry.select(['driverId', 'forename', 'surname'], clear = True)"
   ]
  },
  {
   "cell_type": "code",
   "execution_count": 11,
   "metadata": {},
   "outputs": [
    {
     "name": "stdout",
     "output_type": "stream",
     "text": [
      "['driverId', 'forename', 'surname']\n"
     ]
    }
   ],
   "source": [
    "# verify that we did indeed remove nationality\n",
    "print(qry.sl)"
   ]
  },
  {
   "cell_type": "code",
   "execution_count": 12,
   "metadata": {},
   "outputs": [
    {
     "name": "stdout",
     "output_type": "stream",
     "text": [
      "SELECT driverId, forename, surname FROM drivers\n"
     ]
    }
   ],
   "source": [
    "# get your sql query as txt\n",
    "print(qry)"
   ]
  },
  {
   "cell_type": "code",
   "execution_count": 13,
   "metadata": {},
   "outputs": [],
   "source": [
    "## this is fun get the top rows with head function\n",
    "data = pd.read_sql(str(qry), con=engine)"
   ]
  },
  {
   "cell_type": "code",
   "execution_count": 14,
   "metadata": {},
   "outputs": [
    {
     "data": {
      "text/plain": [
       "(847, 3)"
      ]
     },
     "execution_count": 14,
     "metadata": {},
     "output_type": "execute_result"
    }
   ],
   "source": [
    "data.shape"
   ]
  },
  {
   "cell_type": "code",
   "execution_count": 15,
   "metadata": {},
   "outputs": [
    {
     "data": {
      "text/html": [
       "<div>\n",
       "<style scoped>\n",
       "    .dataframe tbody tr th:only-of-type {\n",
       "        vertical-align: middle;\n",
       "    }\n",
       "\n",
       "    .dataframe tbody tr th {\n",
       "        vertical-align: top;\n",
       "    }\n",
       "\n",
       "    .dataframe thead th {\n",
       "        text-align: right;\n",
       "    }\n",
       "</style>\n",
       "<table border=\"1\" class=\"dataframe\">\n",
       "  <thead>\n",
       "    <tr style=\"text-align: right;\">\n",
       "      <th></th>\n",
       "      <th>driverId</th>\n",
       "      <th>forename</th>\n",
       "      <th>surname</th>\n",
       "    </tr>\n",
       "  </thead>\n",
       "  <tbody>\n",
       "    <tr>\n",
       "      <th>842</th>\n",
       "      <td>844</td>\n",
       "      <td>Charles</td>\n",
       "      <td>Leclerc</td>\n",
       "    </tr>\n",
       "    <tr>\n",
       "      <th>843</th>\n",
       "      <td>845</td>\n",
       "      <td>Sergey</td>\n",
       "      <td>Sirotkin</td>\n",
       "    </tr>\n",
       "    <tr>\n",
       "      <th>844</th>\n",
       "      <td>846</td>\n",
       "      <td>Lando</td>\n",
       "      <td>Norris</td>\n",
       "    </tr>\n",
       "    <tr>\n",
       "      <th>845</th>\n",
       "      <td>847</td>\n",
       "      <td>George</td>\n",
       "      <td>Russell</td>\n",
       "    </tr>\n",
       "    <tr>\n",
       "      <th>846</th>\n",
       "      <td>848</td>\n",
       "      <td>Alexander</td>\n",
       "      <td>Albon</td>\n",
       "    </tr>\n",
       "  </tbody>\n",
       "</table>\n",
       "</div>"
      ],
      "text/plain": [
       "     driverId   forename   surname\n",
       "842       844    Charles   Leclerc\n",
       "843       845     Sergey  Sirotkin\n",
       "844       846      Lando    Norris\n",
       "845       847     George   Russell\n",
       "846       848  Alexander     Albon"
      ]
     },
     "execution_count": 15,
     "metadata": {},
     "output_type": "execute_result"
    }
   ],
   "source": [
    "data.tail()"
   ]
  },
  {
   "cell_type": "markdown",
   "metadata": {},
   "source": [
    "**Video #2**\n",
    "* https://www.youtube.com/watch?v=l5_tcFaG0nM"
   ]
  },
  {
   "cell_type": "code",
   "execution_count": 16,
   "metadata": {},
   "outputs": [],
   "source": [
    "\n",
    "# create a new select\n",
    "s_qry = sql_select(['driverID', 'forename', 'surname'], 'drivers')\n",
    "# more on sql_select here: https://programmer.spip.net/sql_select,655\n"
   ]
  },
  {
   "cell_type": "code",
   "execution_count": 17,
   "metadata": {},
   "outputs": [
    {
     "name": "stdout",
     "output_type": "stream",
     "text": [
      "SELECT driverID, forename, surname FROM drivers\n"
     ]
    }
   ],
   "source": [
    "# so basically here we are grabbing the columns and telling the query that 'drivers' is the table\n",
    " ## SELECT driverId, forename, surname FROM drivers, print it to confirm\n",
    "print(s_qry)"
   ]
  },
  {
   "cell_type": "code",
   "execution_count": 18,
   "metadata": {},
   "outputs": [],
   "source": [
    "# Basic Where statements\n",
    "# use the .where method\n",
    "# attribute is the field, cond is the value to search for in that field`\n",
    "s_qry.where(attr=\"nationality\", cond=\"Dutch\")"
   ]
  },
  {
   "cell_type": "code",
   "execution_count": 19,
   "metadata": {},
   "outputs": [
    {
     "name": "stdout",
     "output_type": "stream",
     "text": [
      "SELECT driverID, forename, surname FROM drivers WHERE nationality = \"Dutch\"\n"
     ]
    }
   ],
   "source": [
    "print(s_qry)"
   ]
  },
  {
   "cell_type": "code",
   "execution_count": 20,
   "metadata": {},
   "outputs": [
    {
     "data": {
      "text/html": [
       "<div>\n",
       "<style scoped>\n",
       "    .dataframe tbody tr th:only-of-type {\n",
       "        vertical-align: middle;\n",
       "    }\n",
       "\n",
       "    .dataframe tbody tr th {\n",
       "        vertical-align: top;\n",
       "    }\n",
       "\n",
       "    .dataframe thead th {\n",
       "        text-align: right;\n",
       "    }\n",
       "</style>\n",
       "<table border=\"1\" class=\"dataframe\">\n",
       "  <thead>\n",
       "    <tr style=\"text-align: right;\">\n",
       "      <th></th>\n",
       "      <th>driverId</th>\n",
       "      <th>forename</th>\n",
       "      <th>surname</th>\n",
       "    </tr>\n",
       "  </thead>\n",
       "  <tbody>\n",
       "    <tr>\n",
       "      <th>0</th>\n",
       "      <td>27</td>\n",
       "      <td>Christijan</td>\n",
       "      <td>Albers</td>\n",
       "    </tr>\n",
       "    <tr>\n",
       "      <th>1</th>\n",
       "      <td>38</td>\n",
       "      <td>Robert</td>\n",
       "      <td>Doornbos</td>\n",
       "    </tr>\n",
       "    <tr>\n",
       "      <th>2</th>\n",
       "      <td>50</td>\n",
       "      <td>Jos</td>\n",
       "      <td>Verstappen</td>\n",
       "    </tr>\n",
       "    <tr>\n",
       "      <th>3</th>\n",
       "      <td>136</td>\n",
       "      <td>Jan</td>\n",
       "      <td>Lammers</td>\n",
       "    </tr>\n",
       "    <tr>\n",
       "      <th>4</th>\n",
       "      <td>179</td>\n",
       "      <td>Huub</td>\n",
       "      <td>Rothengatter</td>\n",
       "    </tr>\n",
       "  </tbody>\n",
       "</table>\n",
       "</div>"
      ],
      "text/plain": [
       "   driverId    forename       surname\n",
       "0        27  Christijan        Albers\n",
       "1        38      Robert      Doornbos\n",
       "2        50         Jos    Verstappen\n",
       "3       136         Jan       Lammers\n",
       "4       179        Huub  Rothengatter"
      ]
     },
     "execution_count": 20,
     "metadata": {},
     "output_type": "execute_result"
    }
   ],
   "source": [
    "# and here's the table for that query\n",
    "data = pd.read_sql_query(str(s_qry), con=engine)\n",
    "data.head()"
   ]
  },
  {
   "cell_type": "code",
   "execution_count": 21,
   "metadata": {},
   "outputs": [
    {
     "name": "stdout",
     "output_type": "stream",
     "text": [
      "SELECT driverID, forename, surname FROM drivers WHERE nationality = \"Dutch\" AND NOT DriverId < 800\n"
     ]
    }
   ],
   "source": [
    "# add a 2nd where statement\n",
    "s_qry.where(attr=\"DriverId\", cond=800, eq='<', d=True)\n",
    "print(s_qry)"
   ]
  },
  {
   "cell_type": "code",
   "execution_count": 22,
   "metadata": {},
   "outputs": [],
   "source": [
    "# now to get the table, call the dataframe\n",
    "data = pd.read_sql_query(str(s_qry), con=engine)"
   ]
  },
  {
   "cell_type": "code",
   "execution_count": 23,
   "metadata": {},
   "outputs": [
    {
     "data": {
      "text/html": [
       "<div>\n",
       "<style scoped>\n",
       "    .dataframe tbody tr th:only-of-type {\n",
       "        vertical-align: middle;\n",
       "    }\n",
       "\n",
       "    .dataframe tbody tr th {\n",
       "        vertical-align: top;\n",
       "    }\n",
       "\n",
       "    .dataframe thead th {\n",
       "        text-align: right;\n",
       "    }\n",
       "</style>\n",
       "<table border=\"1\" class=\"dataframe\">\n",
       "  <thead>\n",
       "    <tr style=\"text-align: right;\">\n",
       "      <th></th>\n",
       "      <th>driverId</th>\n",
       "      <th>forename</th>\n",
       "      <th>surname</th>\n",
       "    </tr>\n",
       "  </thead>\n",
       "  <tbody>\n",
       "    <tr>\n",
       "      <th>0</th>\n",
       "      <td>823</td>\n",
       "      <td>Giedo</td>\n",
       "      <td>van der Garde</td>\n",
       "    </tr>\n",
       "    <tr>\n",
       "      <th>1</th>\n",
       "      <td>830</td>\n",
       "      <td>Max</td>\n",
       "      <td>Verstappen</td>\n",
       "    </tr>\n",
       "  </tbody>\n",
       "</table>\n",
       "</div>"
      ],
      "text/plain": [
       "   driverId forename        surname\n",
       "0       823    Giedo  van der Garde\n",
       "1       830      Max     Verstappen"
      ]
     },
     "execution_count": 23,
     "metadata": {},
     "output_type": "execute_result"
    }
   ],
   "source": [
    "data.head()"
   ]
  },
  {
   "cell_type": "code",
   "execution_count": 24,
   "metadata": {},
   "outputs": [
    {
     "name": "stdout",
     "output_type": "stream",
     "text": [
      "SELECT driverID, forename, surname FROM drivers\n"
     ]
    }
   ],
   "source": [
    "# Use a list as a condition\n",
    "\n",
    "# first, clear all the filters\n",
    "s_qry.where(clear=True)\n",
    "\n",
    "# check it out\n",
    "print(s_qry)"
   ]
  },
  {
   "cell_type": "code",
   "execution_count": 25,
   "metadata": {},
   "outputs": [],
   "source": [
    "s_qry.where(attr=\"nationality\", cond=[\"Dutch\", \"Belgian\"])"
   ]
  },
  {
   "cell_type": "code",
   "execution_count": 26,
   "metadata": {},
   "outputs": [
    {
     "name": "stdout",
     "output_type": "stream",
     "text": [
      "SELECT driverID, forename, surname FROM drivers WHERE (nationality = \"Dutch\" OR nationality = \"Belgian\")\n"
     ]
    }
   ],
   "source": [
    "print(s_qry)\n",
    "# note that this will OR the parameters"
   ]
  },
  {
   "cell_type": "code",
   "execution_count": 27,
   "metadata": {},
   "outputs": [
    {
     "data": {
      "text/html": [
       "<div>\n",
       "<style scoped>\n",
       "    .dataframe tbody tr th:only-of-type {\n",
       "        vertical-align: middle;\n",
       "    }\n",
       "\n",
       "    .dataframe tbody tr th {\n",
       "        vertical-align: top;\n",
       "    }\n",
       "\n",
       "    .dataframe thead th {\n",
       "        text-align: right;\n",
       "    }\n",
       "</style>\n",
       "<table border=\"1\" class=\"dataframe\">\n",
       "  <thead>\n",
       "    <tr style=\"text-align: right;\">\n",
       "      <th></th>\n",
       "      <th>driverId</th>\n",
       "      <th>forename</th>\n",
       "      <th>surname</th>\n",
       "    </tr>\n",
       "  </thead>\n",
       "  <tbody>\n",
       "    <tr>\n",
       "      <th>0</th>\n",
       "      <td>27</td>\n",
       "      <td>Christijan</td>\n",
       "      <td>Albers</td>\n",
       "    </tr>\n",
       "    <tr>\n",
       "      <th>1</th>\n",
       "      <td>38</td>\n",
       "      <td>Robert</td>\n",
       "      <td>Doornbos</td>\n",
       "    </tr>\n",
       "    <tr>\n",
       "      <th>2</th>\n",
       "      <td>50</td>\n",
       "      <td>Jos</td>\n",
       "      <td>Verstappen</td>\n",
       "    </tr>\n",
       "    <tr>\n",
       "      <th>3</th>\n",
       "      <td>92</td>\n",
       "      <td>Bertrand</td>\n",
       "      <td>Gachot</td>\n",
       "    </tr>\n",
       "    <tr>\n",
       "      <th>4</th>\n",
       "      <td>113</td>\n",
       "      <td>Philippe</td>\n",
       "      <td>Adams</td>\n",
       "    </tr>\n",
       "  </tbody>\n",
       "</table>\n",
       "</div>"
      ],
      "text/plain": [
       "   driverId    forename     surname\n",
       "0        27  Christijan      Albers\n",
       "1        38      Robert    Doornbos\n",
       "2        50         Jos  Verstappen\n",
       "3        92    Bertrand      Gachot\n",
       "4       113    Philippe       Adams"
      ]
     },
     "execution_count": 27,
     "metadata": {},
     "output_type": "execute_result"
    }
   ],
   "source": [
    "# now get the dataframe/table back\n",
    "data = pd.read_sql_query(str(s_qry), con=engine)\n",
    "data.head()"
   ]
  },
  {
   "cell_type": "code",
   "execution_count": 28,
   "metadata": {},
   "outputs": [],
   "source": [
    "# # try a select all\n",
    "# s_qry2 = sql_select(\"SELECT * FROM tasks\", 'drivers')"
   ]
  },
  {
   "cell_type": "markdown",
   "metadata": {},
   "source": [
    "**Video #3**\n",
    "* https://www.youtube.com/watch?v=uu09SgA0xuc"
   ]
  },
  {
   "cell_type": "code",
   "execution_count": 29,
   "metadata": {},
   "outputs": [],
   "source": [
    "# Group by and Having\n",
    "\n",
    "# create a new select with a group by\n",
    "# notice that you can use SQL aliases\n",
    "s_qryV3 = sql_select( sl=['nationality', 'COUNT(driverId) as cnt'],\n",
    "                    fr='drivers',\n",
    "                    gb='nationality')\n",
    "\n",
    "\n"
   ]
  },
  {
   "cell_type": "code",
   "execution_count": 30,
   "metadata": {},
   "outputs": [
    {
     "name": "stdout",
     "output_type": "stream",
     "text": [
      "SELECT nationality, COUNT(driverId) as cnt FROM drivers GROUP BY nationality\n"
     ]
    }
   ],
   "source": [
    "print(s_qryV3)"
   ]
  },
  {
   "cell_type": "code",
   "execution_count": 31,
   "metadata": {},
   "outputs": [],
   "source": [
    "dataV3 = pd.read_sql_query(str(s_qryV3), con=engine)"
   ]
  },
  {
   "cell_type": "code",
   "execution_count": 32,
   "metadata": {},
   "outputs": [],
   "source": [
    "import seaborn as sns"
   ]
  },
  {
   "cell_type": "code",
   "execution_count": 33,
   "metadata": {},
   "outputs": [],
   "source": [
    "# cm = sns.light_palette(\"red\", as_cmap=True)"
   ]
  },
  {
   "cell_type": "code",
   "execution_count": 34,
   "metadata": {},
   "outputs": [
    {
     "data": {
      "text/html": [
       "<style  type=\"text/css\" >\n",
       "    #T_39396680_93a3_11ea_b004_7cb27dedc1c7row0_col1 {\n",
       "            background-color:  #e5e419;\n",
       "            color:  #000000;\n",
       "        }    #T_39396680_93a3_11ea_b004_7cb27dedc1c7row1_col1 {\n",
       "            background-color:  #440154;\n",
       "            color:  #f1f1f1;\n",
       "        }    #T_39396680_93a3_11ea_b004_7cb27dedc1c7row2_col1 {\n",
       "            background-color:  #46327e;\n",
       "            color:  #f1f1f1;\n",
       "        }    #T_39396680_93a3_11ea_b004_7cb27dedc1c7row3_col1 {\n",
       "            background-color:  #440154;\n",
       "            color:  #f1f1f1;\n",
       "        }    #T_39396680_93a3_11ea_b004_7cb27dedc1c7row4_col1 {\n",
       "            background-color:  #482475;\n",
       "            color:  #f1f1f1;\n",
       "        }    #T_39396680_93a3_11ea_b004_7cb27dedc1c7row5_col1 {\n",
       "            background-color:  #481f70;\n",
       "            color:  #f1f1f1;\n",
       "        }    #T_39396680_93a3_11ea_b004_7cb27dedc1c7row6_col1 {\n",
       "            background-color:  #472f7d;\n",
       "            color:  #f1f1f1;\n",
       "        }    #T_39396680_93a3_11ea_b004_7cb27dedc1c7row7_col1 {\n",
       "            background-color:  #423f85;\n",
       "            color:  #f1f1f1;\n",
       "        }    #T_39396680_93a3_11ea_b004_7cb27dedc1c7row8_col1 {\n",
       "            background-color:  #fde725;\n",
       "            color:  #000000;\n",
       "        }    #T_39396680_93a3_11ea_b004_7cb27dedc1c7row9_col1 {\n",
       "            background-color:  #481b6d;\n",
       "            color:  #f1f1f1;\n",
       "        }    #T_39396680_93a3_11ea_b004_7cb27dedc1c7row10_col1 {\n",
       "            background-color:  #440154;\n",
       "            color:  #f1f1f1;\n",
       "        }    #T_39396680_93a3_11ea_b004_7cb27dedc1c7row11_col1 {\n",
       "            background-color:  #450559;\n",
       "            color:  #f1f1f1;\n",
       "        }    #T_39396680_93a3_11ea_b004_7cb27dedc1c7row12_col1 {\n",
       "            background-color:  #440154;\n",
       "            color:  #f1f1f1;\n",
       "        }    #T_39396680_93a3_11ea_b004_7cb27dedc1c7row13_col1 {\n",
       "            background-color:  #460a5d;\n",
       "            color:  #f1f1f1;\n",
       "        }    #T_39396680_93a3_11ea_b004_7cb27dedc1c7row14_col1 {\n",
       "            background-color:  #482475;\n",
       "            color:  #f1f1f1;\n",
       "        }    #T_39396680_93a3_11ea_b004_7cb27dedc1c7row15_col1 {\n",
       "            background-color:  #450559;\n",
       "            color:  #f1f1f1;\n",
       "        }    #T_39396680_93a3_11ea_b004_7cb27dedc1c7row16_col1 {\n",
       "            background-color:  #471365;\n",
       "            color:  #f1f1f1;\n",
       "        }    #T_39396680_93a3_11ea_b004_7cb27dedc1c7row17_col1 {\n",
       "            background-color:  #26828e;\n",
       "            color:  #000000;\n",
       "        }    #T_39396680_93a3_11ea_b004_7cb27dedc1c7row18_col1 {\n",
       "            background-color:  #355e8d;\n",
       "            color:  #f1f1f1;\n",
       "        }    #T_39396680_93a3_11ea_b004_7cb27dedc1c7row19_col1 {\n",
       "            background-color:  #440154;\n",
       "            color:  #f1f1f1;\n",
       "        }    #T_39396680_93a3_11ea_b004_7cb27dedc1c7row20_col1 {\n",
       "            background-color:  #440256;\n",
       "            color:  #f1f1f1;\n",
       "        }    #T_39396680_93a3_11ea_b004_7cb27dedc1c7row21_col1 {\n",
       "            background-color:  #440154;\n",
       "            color:  #f1f1f1;\n",
       "        }    #T_39396680_93a3_11ea_b004_7cb27dedc1c7row22_col1 {\n",
       "            background-color:  #460a5d;\n",
       "            color:  #f1f1f1;\n",
       "        }    #T_39396680_93a3_11ea_b004_7cb27dedc1c7row23_col1 {\n",
       "            background-color:  #22a884;\n",
       "            color:  #000000;\n",
       "        }    #T_39396680_93a3_11ea_b004_7cb27dedc1c7row24_col1 {\n",
       "            background-color:  #482878;\n",
       "            color:  #f1f1f1;\n",
       "        }    #T_39396680_93a3_11ea_b004_7cb27dedc1c7row25_col1 {\n",
       "            background-color:  #440154;\n",
       "            color:  #f1f1f1;\n",
       "        }    #T_39396680_93a3_11ea_b004_7cb27dedc1c7row26_col1 {\n",
       "            background-color:  #440154;\n",
       "            color:  #f1f1f1;\n",
       "        }    #T_39396680_93a3_11ea_b004_7cb27dedc1c7row27_col1 {\n",
       "            background-color:  #460b5e;\n",
       "            color:  #f1f1f1;\n",
       "        }    #T_39396680_93a3_11ea_b004_7cb27dedc1c7row28_col1 {\n",
       "            background-color:  #46075a;\n",
       "            color:  #f1f1f1;\n",
       "        }    #T_39396680_93a3_11ea_b004_7cb27dedc1c7row29_col1 {\n",
       "            background-color:  #471365;\n",
       "            color:  #f1f1f1;\n",
       "        }    #T_39396680_93a3_11ea_b004_7cb27dedc1c7row30_col1 {\n",
       "            background-color:  #440154;\n",
       "            color:  #f1f1f1;\n",
       "        }    #T_39396680_93a3_11ea_b004_7cb27dedc1c7row31_col1 {\n",
       "            background-color:  #46075a;\n",
       "            color:  #f1f1f1;\n",
       "        }    #T_39396680_93a3_11ea_b004_7cb27dedc1c7row32_col1 {\n",
       "            background-color:  #46075a;\n",
       "            color:  #f1f1f1;\n",
       "        }    #T_39396680_93a3_11ea_b004_7cb27dedc1c7row33_col1 {\n",
       "            background-color:  #450559;\n",
       "            color:  #f1f1f1;\n",
       "        }    #T_39396680_93a3_11ea_b004_7cb27dedc1c7row34_col1 {\n",
       "            background-color:  #472f7d;\n",
       "            color:  #f1f1f1;\n",
       "        }    #T_39396680_93a3_11ea_b004_7cb27dedc1c7row35_col1 {\n",
       "            background-color:  #481f70;\n",
       "            color:  #f1f1f1;\n",
       "        }    #T_39396680_93a3_11ea_b004_7cb27dedc1c7row36_col1 {\n",
       "            background-color:  #481668;\n",
       "            color:  #f1f1f1;\n",
       "        }    #T_39396680_93a3_11ea_b004_7cb27dedc1c7row37_col1 {\n",
       "            background-color:  #472f7d;\n",
       "            color:  #f1f1f1;\n",
       "        }    #T_39396680_93a3_11ea_b004_7cb27dedc1c7row38_col1 {\n",
       "            background-color:  #440256;\n",
       "            color:  #f1f1f1;\n",
       "        }    #T_39396680_93a3_11ea_b004_7cb27dedc1c7row39_col1 {\n",
       "            background-color:  #46075a;\n",
       "            color:  #f1f1f1;\n",
       "        }    #T_39396680_93a3_11ea_b004_7cb27dedc1c7row40_col1 {\n",
       "            background-color:  #450559;\n",
       "            color:  #f1f1f1;\n",
       "        }</style><table id=\"T_39396680_93a3_11ea_b004_7cb27dedc1c7\" ><thead>    <tr>        <th class=\"blank level0\" ></th>        <th class=\"col_heading level0 col0\" >nationality</th>        <th class=\"col_heading level0 col1\" >cnt</th>    </tr></thead><tbody>\n",
       "                <tr>\n",
       "                        <th id=\"T_39396680_93a3_11ea_b004_7cb27dedc1c7level0_row0\" class=\"row_heading level0 row0\" >0</th>\n",
       "                        <td id=\"T_39396680_93a3_11ea_b004_7cb27dedc1c7row0_col0\" class=\"data row0 col0\" >American</td>\n",
       "                        <td id=\"T_39396680_93a3_11ea_b004_7cb27dedc1c7row0_col1\" class=\"data row0 col1\" >157</td>\n",
       "            </tr>\n",
       "            <tr>\n",
       "                        <th id=\"T_39396680_93a3_11ea_b004_7cb27dedc1c7level0_row1\" class=\"row_heading level0 row1\" >1</th>\n",
       "                        <td id=\"T_39396680_93a3_11ea_b004_7cb27dedc1c7row1_col0\" class=\"data row1 col0\" >American-Italian</td>\n",
       "                        <td id=\"T_39396680_93a3_11ea_b004_7cb27dedc1c7row1_col1\" class=\"data row1 col1\" >1</td>\n",
       "            </tr>\n",
       "            <tr>\n",
       "                        <th id=\"T_39396680_93a3_11ea_b004_7cb27dedc1c7level0_row2\" class=\"row_heading level0 row2\" >2</th>\n",
       "                        <td id=\"T_39396680_93a3_11ea_b004_7cb27dedc1c7row2_col0\" class=\"data row2 col0\" >Argentine</td>\n",
       "                        <td id=\"T_39396680_93a3_11ea_b004_7cb27dedc1c7row2_col1\" class=\"data row2 col1\" >24</td>\n",
       "            </tr>\n",
       "            <tr>\n",
       "                        <th id=\"T_39396680_93a3_11ea_b004_7cb27dedc1c7level0_row3\" class=\"row_heading level0 row3\" >3</th>\n",
       "                        <td id=\"T_39396680_93a3_11ea_b004_7cb27dedc1c7row3_col0\" class=\"data row3 col0\" >Argentine-Italian</td>\n",
       "                        <td id=\"T_39396680_93a3_11ea_b004_7cb27dedc1c7row3_col1\" class=\"data row3 col1\" >1</td>\n",
       "            </tr>\n",
       "            <tr>\n",
       "                        <th id=\"T_39396680_93a3_11ea_b004_7cb27dedc1c7level0_row4\" class=\"row_heading level0 row4\" >4</th>\n",
       "                        <td id=\"T_39396680_93a3_11ea_b004_7cb27dedc1c7row4_col0\" class=\"data row4 col0\" >Australian</td>\n",
       "                        <td id=\"T_39396680_93a3_11ea_b004_7cb27dedc1c7row4_col1\" class=\"data row4 col1\" >17</td>\n",
       "            </tr>\n",
       "            <tr>\n",
       "                        <th id=\"T_39396680_93a3_11ea_b004_7cb27dedc1c7level0_row5\" class=\"row_heading level0 row5\" >5</th>\n",
       "                        <td id=\"T_39396680_93a3_11ea_b004_7cb27dedc1c7row5_col0\" class=\"data row5 col0\" >Austrian</td>\n",
       "                        <td id=\"T_39396680_93a3_11ea_b004_7cb27dedc1c7row5_col1\" class=\"data row5 col1\" >15</td>\n",
       "            </tr>\n",
       "            <tr>\n",
       "                        <th id=\"T_39396680_93a3_11ea_b004_7cb27dedc1c7level0_row6\" class=\"row_heading level0 row6\" >6</th>\n",
       "                        <td id=\"T_39396680_93a3_11ea_b004_7cb27dedc1c7row6_col0\" class=\"data row6 col0\" >Belgian</td>\n",
       "                        <td id=\"T_39396680_93a3_11ea_b004_7cb27dedc1c7row6_col1\" class=\"data row6 col1\" >23</td>\n",
       "            </tr>\n",
       "            <tr>\n",
       "                        <th id=\"T_39396680_93a3_11ea_b004_7cb27dedc1c7level0_row7\" class=\"row_heading level0 row7\" >7</th>\n",
       "                        <td id=\"T_39396680_93a3_11ea_b004_7cb27dedc1c7row7_col0\" class=\"data row7 col0\" >Brazilian</td>\n",
       "                        <td id=\"T_39396680_93a3_11ea_b004_7cb27dedc1c7row7_col1\" class=\"data row7 col1\" >31</td>\n",
       "            </tr>\n",
       "            <tr>\n",
       "                        <th id=\"T_39396680_93a3_11ea_b004_7cb27dedc1c7level0_row8\" class=\"row_heading level0 row8\" >8</th>\n",
       "                        <td id=\"T_39396680_93a3_11ea_b004_7cb27dedc1c7row8_col0\" class=\"data row8 col0\" >British</td>\n",
       "                        <td id=\"T_39396680_93a3_11ea_b004_7cb27dedc1c7row8_col1\" class=\"data row8 col1\" >164</td>\n",
       "            </tr>\n",
       "            <tr>\n",
       "                        <th id=\"T_39396680_93a3_11ea_b004_7cb27dedc1c7level0_row9\" class=\"row_heading level0 row9\" >9</th>\n",
       "                        <td id=\"T_39396680_93a3_11ea_b004_7cb27dedc1c7row9_col0\" class=\"data row9 col0\" >Canadian</td>\n",
       "                        <td id=\"T_39396680_93a3_11ea_b004_7cb27dedc1c7row9_col1\" class=\"data row9 col1\" >13</td>\n",
       "            </tr>\n",
       "            <tr>\n",
       "                        <th id=\"T_39396680_93a3_11ea_b004_7cb27dedc1c7level0_row10\" class=\"row_heading level0 row10\" >10</th>\n",
       "                        <td id=\"T_39396680_93a3_11ea_b004_7cb27dedc1c7row10_col0\" class=\"data row10 col0\" >Chilean</td>\n",
       "                        <td id=\"T_39396680_93a3_11ea_b004_7cb27dedc1c7row10_col1\" class=\"data row10 col1\" >1</td>\n",
       "            </tr>\n",
       "            <tr>\n",
       "                        <th id=\"T_39396680_93a3_11ea_b004_7cb27dedc1c7level0_row11\" class=\"row_heading level0 row11\" >11</th>\n",
       "                        <td id=\"T_39396680_93a3_11ea_b004_7cb27dedc1c7row11_col0\" class=\"data row11 col0\" >Colombian</td>\n",
       "                        <td id=\"T_39396680_93a3_11ea_b004_7cb27dedc1c7row11_col1\" class=\"data row11 col1\" >3</td>\n",
       "            </tr>\n",
       "            <tr>\n",
       "                        <th id=\"T_39396680_93a3_11ea_b004_7cb27dedc1c7level0_row12\" class=\"row_heading level0 row12\" >12</th>\n",
       "                        <td id=\"T_39396680_93a3_11ea_b004_7cb27dedc1c7row12_col0\" class=\"data row12 col0\" >Czech</td>\n",
       "                        <td id=\"T_39396680_93a3_11ea_b004_7cb27dedc1c7row12_col1\" class=\"data row12 col1\" >1</td>\n",
       "            </tr>\n",
       "            <tr>\n",
       "                        <th id=\"T_39396680_93a3_11ea_b004_7cb27dedc1c7level0_row13\" class=\"row_heading level0 row13\" >13</th>\n",
       "                        <td id=\"T_39396680_93a3_11ea_b004_7cb27dedc1c7row13_col0\" class=\"data row13 col0\" >Danish</td>\n",
       "                        <td id=\"T_39396680_93a3_11ea_b004_7cb27dedc1c7row13_col1\" class=\"data row13 col1\" >5</td>\n",
       "            </tr>\n",
       "            <tr>\n",
       "                        <th id=\"T_39396680_93a3_11ea_b004_7cb27dedc1c7level0_row14\" class=\"row_heading level0 row14\" >14</th>\n",
       "                        <td id=\"T_39396680_93a3_11ea_b004_7cb27dedc1c7row14_col0\" class=\"data row14 col0\" >Dutch</td>\n",
       "                        <td id=\"T_39396680_93a3_11ea_b004_7cb27dedc1c7row14_col1\" class=\"data row14 col1\" >17</td>\n",
       "            </tr>\n",
       "            <tr>\n",
       "                        <th id=\"T_39396680_93a3_11ea_b004_7cb27dedc1c7level0_row15\" class=\"row_heading level0 row15\" >15</th>\n",
       "                        <td id=\"T_39396680_93a3_11ea_b004_7cb27dedc1c7row15_col0\" class=\"data row15 col0\" >East German</td>\n",
       "                        <td id=\"T_39396680_93a3_11ea_b004_7cb27dedc1c7row15_col1\" class=\"data row15 col1\" >3</td>\n",
       "            </tr>\n",
       "            <tr>\n",
       "                        <th id=\"T_39396680_93a3_11ea_b004_7cb27dedc1c7level0_row16\" class=\"row_heading level0 row16\" >16</th>\n",
       "                        <td id=\"T_39396680_93a3_11ea_b004_7cb27dedc1c7row16_col0\" class=\"data row16 col0\" >Finnish</td>\n",
       "                        <td id=\"T_39396680_93a3_11ea_b004_7cb27dedc1c7row16_col1\" class=\"data row16 col1\" >9</td>\n",
       "            </tr>\n",
       "            <tr>\n",
       "                        <th id=\"T_39396680_93a3_11ea_b004_7cb27dedc1c7level0_row17\" class=\"row_heading level0 row17\" >17</th>\n",
       "                        <td id=\"T_39396680_93a3_11ea_b004_7cb27dedc1c7row17_col0\" class=\"data row17 col0\" >French</td>\n",
       "                        <td id=\"T_39396680_93a3_11ea_b004_7cb27dedc1c7row17_col1\" class=\"data row17 col1\" >73</td>\n",
       "            </tr>\n",
       "            <tr>\n",
       "                        <th id=\"T_39396680_93a3_11ea_b004_7cb27dedc1c7level0_row18\" class=\"row_heading level0 row18\" >18</th>\n",
       "                        <td id=\"T_39396680_93a3_11ea_b004_7cb27dedc1c7row18_col0\" class=\"data row18 col0\" >German</td>\n",
       "                        <td id=\"T_39396680_93a3_11ea_b004_7cb27dedc1c7row18_col1\" class=\"data row18 col1\" >49</td>\n",
       "            </tr>\n",
       "            <tr>\n",
       "                        <th id=\"T_39396680_93a3_11ea_b004_7cb27dedc1c7level0_row19\" class=\"row_heading level0 row19\" >19</th>\n",
       "                        <td id=\"T_39396680_93a3_11ea_b004_7cb27dedc1c7row19_col0\" class=\"data row19 col0\" >Hungarian</td>\n",
       "                        <td id=\"T_39396680_93a3_11ea_b004_7cb27dedc1c7row19_col1\" class=\"data row19 col1\" >1</td>\n",
       "            </tr>\n",
       "            <tr>\n",
       "                        <th id=\"T_39396680_93a3_11ea_b004_7cb27dedc1c7level0_row20\" class=\"row_heading level0 row20\" >20</th>\n",
       "                        <td id=\"T_39396680_93a3_11ea_b004_7cb27dedc1c7row20_col0\" class=\"data row20 col0\" >Indian</td>\n",
       "                        <td id=\"T_39396680_93a3_11ea_b004_7cb27dedc1c7row20_col1\" class=\"data row20 col1\" >2</td>\n",
       "            </tr>\n",
       "            <tr>\n",
       "                        <th id=\"T_39396680_93a3_11ea_b004_7cb27dedc1c7level0_row21\" class=\"row_heading level0 row21\" >21</th>\n",
       "                        <td id=\"T_39396680_93a3_11ea_b004_7cb27dedc1c7row21_col0\" class=\"data row21 col0\" >Indonesian</td>\n",
       "                        <td id=\"T_39396680_93a3_11ea_b004_7cb27dedc1c7row21_col1\" class=\"data row21 col1\" >1</td>\n",
       "            </tr>\n",
       "            <tr>\n",
       "                        <th id=\"T_39396680_93a3_11ea_b004_7cb27dedc1c7level0_row22\" class=\"row_heading level0 row22\" >22</th>\n",
       "                        <td id=\"T_39396680_93a3_11ea_b004_7cb27dedc1c7row22_col0\" class=\"data row22 col0\" >Irish</td>\n",
       "                        <td id=\"T_39396680_93a3_11ea_b004_7cb27dedc1c7row22_col1\" class=\"data row22 col1\" >5</td>\n",
       "            </tr>\n",
       "            <tr>\n",
       "                        <th id=\"T_39396680_93a3_11ea_b004_7cb27dedc1c7level0_row23\" class=\"row_heading level0 row23\" >23</th>\n",
       "                        <td id=\"T_39396680_93a3_11ea_b004_7cb27dedc1c7row23_col0\" class=\"data row23 col0\" >Italian</td>\n",
       "                        <td id=\"T_39396680_93a3_11ea_b004_7cb27dedc1c7row23_col1\" class=\"data row23 col1\" >99</td>\n",
       "            </tr>\n",
       "            <tr>\n",
       "                        <th id=\"T_39396680_93a3_11ea_b004_7cb27dedc1c7level0_row24\" class=\"row_heading level0 row24\" >24</th>\n",
       "                        <td id=\"T_39396680_93a3_11ea_b004_7cb27dedc1c7row24_col0\" class=\"data row24 col0\" >Japanese</td>\n",
       "                        <td id=\"T_39396680_93a3_11ea_b004_7cb27dedc1c7row24_col1\" class=\"data row24 col1\" >19</td>\n",
       "            </tr>\n",
       "            <tr>\n",
       "                        <th id=\"T_39396680_93a3_11ea_b004_7cb27dedc1c7level0_row25\" class=\"row_heading level0 row25\" >25</th>\n",
       "                        <td id=\"T_39396680_93a3_11ea_b004_7cb27dedc1c7row25_col0\" class=\"data row25 col0\" >Liechtensteiner</td>\n",
       "                        <td id=\"T_39396680_93a3_11ea_b004_7cb27dedc1c7row25_col1\" class=\"data row25 col1\" >1</td>\n",
       "            </tr>\n",
       "            <tr>\n",
       "                        <th id=\"T_39396680_93a3_11ea_b004_7cb27dedc1c7level0_row26\" class=\"row_heading level0 row26\" >26</th>\n",
       "                        <td id=\"T_39396680_93a3_11ea_b004_7cb27dedc1c7row26_col0\" class=\"data row26 col0\" >Malaysian</td>\n",
       "                        <td id=\"T_39396680_93a3_11ea_b004_7cb27dedc1c7row26_col1\" class=\"data row26 col1\" >1</td>\n",
       "            </tr>\n",
       "            <tr>\n",
       "                        <th id=\"T_39396680_93a3_11ea_b004_7cb27dedc1c7level0_row27\" class=\"row_heading level0 row27\" >27</th>\n",
       "                        <td id=\"T_39396680_93a3_11ea_b004_7cb27dedc1c7row27_col0\" class=\"data row27 col0\" >Mexican</td>\n",
       "                        <td id=\"T_39396680_93a3_11ea_b004_7cb27dedc1c7row27_col1\" class=\"data row27 col1\" >6</td>\n",
       "            </tr>\n",
       "            <tr>\n",
       "                        <th id=\"T_39396680_93a3_11ea_b004_7cb27dedc1c7level0_row28\" class=\"row_heading level0 row28\" >28</th>\n",
       "                        <td id=\"T_39396680_93a3_11ea_b004_7cb27dedc1c7row28_col0\" class=\"data row28 col0\" >Monegasque</td>\n",
       "                        <td id=\"T_39396680_93a3_11ea_b004_7cb27dedc1c7row28_col1\" class=\"data row28 col1\" >4</td>\n",
       "            </tr>\n",
       "            <tr>\n",
       "                        <th id=\"T_39396680_93a3_11ea_b004_7cb27dedc1c7level0_row29\" class=\"row_heading level0 row29\" >29</th>\n",
       "                        <td id=\"T_39396680_93a3_11ea_b004_7cb27dedc1c7row29_col0\" class=\"data row29 col0\" >New Zealander</td>\n",
       "                        <td id=\"T_39396680_93a3_11ea_b004_7cb27dedc1c7row29_col1\" class=\"data row29 col1\" >9</td>\n",
       "            </tr>\n",
       "            <tr>\n",
       "                        <th id=\"T_39396680_93a3_11ea_b004_7cb27dedc1c7level0_row30\" class=\"row_heading level0 row30\" >30</th>\n",
       "                        <td id=\"T_39396680_93a3_11ea_b004_7cb27dedc1c7row30_col0\" class=\"data row30 col0\" >Polish</td>\n",
       "                        <td id=\"T_39396680_93a3_11ea_b004_7cb27dedc1c7row30_col1\" class=\"data row30 col1\" >1</td>\n",
       "            </tr>\n",
       "            <tr>\n",
       "                        <th id=\"T_39396680_93a3_11ea_b004_7cb27dedc1c7level0_row31\" class=\"row_heading level0 row31\" >31</th>\n",
       "                        <td id=\"T_39396680_93a3_11ea_b004_7cb27dedc1c7row31_col0\" class=\"data row31 col0\" >Portuguese</td>\n",
       "                        <td id=\"T_39396680_93a3_11ea_b004_7cb27dedc1c7row31_col1\" class=\"data row31 col1\" >4</td>\n",
       "            </tr>\n",
       "            <tr>\n",
       "                        <th id=\"T_39396680_93a3_11ea_b004_7cb27dedc1c7level0_row32\" class=\"row_heading level0 row32\" >32</th>\n",
       "                        <td id=\"T_39396680_93a3_11ea_b004_7cb27dedc1c7row32_col0\" class=\"data row32 col0\" >Rhodesian</td>\n",
       "                        <td id=\"T_39396680_93a3_11ea_b004_7cb27dedc1c7row32_col1\" class=\"data row32 col1\" >4</td>\n",
       "            </tr>\n",
       "            <tr>\n",
       "                        <th id=\"T_39396680_93a3_11ea_b004_7cb27dedc1c7level0_row33\" class=\"row_heading level0 row33\" >33</th>\n",
       "                        <td id=\"T_39396680_93a3_11ea_b004_7cb27dedc1c7row33_col0\" class=\"data row33 col0\" >Russian</td>\n",
       "                        <td id=\"T_39396680_93a3_11ea_b004_7cb27dedc1c7row33_col1\" class=\"data row33 col1\" >3</td>\n",
       "            </tr>\n",
       "            <tr>\n",
       "                        <th id=\"T_39396680_93a3_11ea_b004_7cb27dedc1c7level0_row34\" class=\"row_heading level0 row34\" >34</th>\n",
       "                        <td id=\"T_39396680_93a3_11ea_b004_7cb27dedc1c7row34_col0\" class=\"data row34 col0\" >South African</td>\n",
       "                        <td id=\"T_39396680_93a3_11ea_b004_7cb27dedc1c7row34_col1\" class=\"data row34 col1\" >23</td>\n",
       "            </tr>\n",
       "            <tr>\n",
       "                        <th id=\"T_39396680_93a3_11ea_b004_7cb27dedc1c7level0_row35\" class=\"row_heading level0 row35\" >35</th>\n",
       "                        <td id=\"T_39396680_93a3_11ea_b004_7cb27dedc1c7row35_col0\" class=\"data row35 col0\" >Spanish</td>\n",
       "                        <td id=\"T_39396680_93a3_11ea_b004_7cb27dedc1c7row35_col1\" class=\"data row35 col1\" >15</td>\n",
       "            </tr>\n",
       "            <tr>\n",
       "                        <th id=\"T_39396680_93a3_11ea_b004_7cb27dedc1c7level0_row36\" class=\"row_heading level0 row36\" >36</th>\n",
       "                        <td id=\"T_39396680_93a3_11ea_b004_7cb27dedc1c7row36_col0\" class=\"data row36 col0\" >Swedish</td>\n",
       "                        <td id=\"T_39396680_93a3_11ea_b004_7cb27dedc1c7row36_col1\" class=\"data row36 col1\" >10</td>\n",
       "            </tr>\n",
       "            <tr>\n",
       "                        <th id=\"T_39396680_93a3_11ea_b004_7cb27dedc1c7level0_row37\" class=\"row_heading level0 row37\" >37</th>\n",
       "                        <td id=\"T_39396680_93a3_11ea_b004_7cb27dedc1c7row37_col0\" class=\"data row37 col0\" >Swiss</td>\n",
       "                        <td id=\"T_39396680_93a3_11ea_b004_7cb27dedc1c7row37_col1\" class=\"data row37 col1\" >23</td>\n",
       "            </tr>\n",
       "            <tr>\n",
       "                        <th id=\"T_39396680_93a3_11ea_b004_7cb27dedc1c7level0_row38\" class=\"row_heading level0 row38\" >38</th>\n",
       "                        <td id=\"T_39396680_93a3_11ea_b004_7cb27dedc1c7row38_col0\" class=\"data row38 col0\" >Thai</td>\n",
       "                        <td id=\"T_39396680_93a3_11ea_b004_7cb27dedc1c7row38_col1\" class=\"data row38 col1\" >2</td>\n",
       "            </tr>\n",
       "            <tr>\n",
       "                        <th id=\"T_39396680_93a3_11ea_b004_7cb27dedc1c7level0_row39\" class=\"row_heading level0 row39\" >39</th>\n",
       "                        <td id=\"T_39396680_93a3_11ea_b004_7cb27dedc1c7row39_col0\" class=\"data row39 col0\" >Uruguayan</td>\n",
       "                        <td id=\"T_39396680_93a3_11ea_b004_7cb27dedc1c7row39_col1\" class=\"data row39 col1\" >4</td>\n",
       "            </tr>\n",
       "            <tr>\n",
       "                        <th id=\"T_39396680_93a3_11ea_b004_7cb27dedc1c7level0_row40\" class=\"row_heading level0 row40\" >40</th>\n",
       "                        <td id=\"T_39396680_93a3_11ea_b004_7cb27dedc1c7row40_col0\" class=\"data row40 col0\" >Venezuelan</td>\n",
       "                        <td id=\"T_39396680_93a3_11ea_b004_7cb27dedc1c7row40_col1\" class=\"data row40 col1\" >3</td>\n",
       "            </tr>\n",
       "    </tbody></table>"
      ],
      "text/plain": [
       "<pandas.io.formats.style.Styler at 0x124361a5448>"
      ]
     },
     "execution_count": 34,
     "metadata": {},
     "output_type": "execute_result"
    }
   ],
   "source": [
    "dataV3.style.background_gradient(cmap='viridis')"
   ]
  },
  {
   "cell_type": "code",
   "execution_count": 33,
   "metadata": {},
   "outputs": [
    {
     "data": {
      "text/html": [
       "<div>\n",
       "<style scoped>\n",
       "    .dataframe tbody tr th:only-of-type {\n",
       "        vertical-align: middle;\n",
       "    }\n",
       "\n",
       "    .dataframe tbody tr th {\n",
       "        vertical-align: top;\n",
       "    }\n",
       "\n",
       "    .dataframe thead th {\n",
       "        text-align: right;\n",
       "    }\n",
       "</style>\n",
       "<table border=\"1\" class=\"dataframe\">\n",
       "  <thead>\n",
       "    <tr style=\"text-align: right;\">\n",
       "      <th></th>\n",
       "      <th>nationality</th>\n",
       "      <th>cnt</th>\n",
       "    </tr>\n",
       "  </thead>\n",
       "  <tbody>\n",
       "    <tr>\n",
       "      <th>0</th>\n",
       "      <td>American</td>\n",
       "      <td>157</td>\n",
       "    </tr>\n",
       "    <tr>\n",
       "      <th>1</th>\n",
       "      <td>American-Italian</td>\n",
       "      <td>1</td>\n",
       "    </tr>\n",
       "    <tr>\n",
       "      <th>2</th>\n",
       "      <td>Argentine</td>\n",
       "      <td>24</td>\n",
       "    </tr>\n",
       "    <tr>\n",
       "      <th>3</th>\n",
       "      <td>Argentine-Italian</td>\n",
       "      <td>1</td>\n",
       "    </tr>\n",
       "    <tr>\n",
       "      <th>4</th>\n",
       "      <td>Australian</td>\n",
       "      <td>17</td>\n",
       "    </tr>\n",
       "  </tbody>\n",
       "</table>\n",
       "</div>"
      ],
      "text/plain": [
       "         nationality  cnt\n",
       "0           American  157\n",
       "1   American-Italian    1\n",
       "2          Argentine   24\n",
       "3  Argentine-Italian    1\n",
       "4         Australian   17"
      ]
     },
     "execution_count": 33,
     "metadata": {},
     "output_type": "execute_result"
    }
   ],
   "source": [
    "dataV3.head()"
   ]
  },
  {
   "cell_type": "code",
   "execution_count": 35,
   "metadata": {},
   "outputs": [
    {
     "data": {
      "text/html": [
       "<style  type=\"text/css\" >\n",
       "    #T_3c017886_93a3_11ea_a7ce_7cb27dedc1c7row0_col0 {\n",
       "            background-color:  black;\n",
       "            color:  lawngreen;\n",
       "            border-color:  white;\n",
       "        }    #T_3c017886_93a3_11ea_a7ce_7cb27dedc1c7row0_col1 {\n",
       "            background-color:  black;\n",
       "            color:  lawngreen;\n",
       "            border-color:  white;\n",
       "        }    #T_3c017886_93a3_11ea_a7ce_7cb27dedc1c7row1_col0 {\n",
       "            background-color:  black;\n",
       "            color:  lawngreen;\n",
       "            border-color:  white;\n",
       "        }    #T_3c017886_93a3_11ea_a7ce_7cb27dedc1c7row1_col1 {\n",
       "            background-color:  black;\n",
       "            color:  lawngreen;\n",
       "            border-color:  white;\n",
       "        }    #T_3c017886_93a3_11ea_a7ce_7cb27dedc1c7row2_col0 {\n",
       "            background-color:  black;\n",
       "            color:  lawngreen;\n",
       "            border-color:  white;\n",
       "        }    #T_3c017886_93a3_11ea_a7ce_7cb27dedc1c7row2_col1 {\n",
       "            background-color:  black;\n",
       "            color:  lawngreen;\n",
       "            border-color:  white;\n",
       "        }    #T_3c017886_93a3_11ea_a7ce_7cb27dedc1c7row3_col0 {\n",
       "            background-color:  black;\n",
       "            color:  lawngreen;\n",
       "            border-color:  white;\n",
       "        }    #T_3c017886_93a3_11ea_a7ce_7cb27dedc1c7row3_col1 {\n",
       "            background-color:  black;\n",
       "            color:  lawngreen;\n",
       "            border-color:  white;\n",
       "        }    #T_3c017886_93a3_11ea_a7ce_7cb27dedc1c7row4_col0 {\n",
       "            background-color:  black;\n",
       "            color:  lawngreen;\n",
       "            border-color:  white;\n",
       "        }    #T_3c017886_93a3_11ea_a7ce_7cb27dedc1c7row4_col1 {\n",
       "            background-color:  black;\n",
       "            color:  lawngreen;\n",
       "            border-color:  white;\n",
       "        }    #T_3c017886_93a3_11ea_a7ce_7cb27dedc1c7row5_col0 {\n",
       "            background-color:  black;\n",
       "            color:  lawngreen;\n",
       "            border-color:  white;\n",
       "        }    #T_3c017886_93a3_11ea_a7ce_7cb27dedc1c7row5_col1 {\n",
       "            background-color:  black;\n",
       "            color:  lawngreen;\n",
       "            border-color:  white;\n",
       "        }    #T_3c017886_93a3_11ea_a7ce_7cb27dedc1c7row6_col0 {\n",
       "            background-color:  black;\n",
       "            color:  lawngreen;\n",
       "            border-color:  white;\n",
       "        }    #T_3c017886_93a3_11ea_a7ce_7cb27dedc1c7row6_col1 {\n",
       "            background-color:  black;\n",
       "            color:  lawngreen;\n",
       "            border-color:  white;\n",
       "        }    #T_3c017886_93a3_11ea_a7ce_7cb27dedc1c7row7_col0 {\n",
       "            background-color:  black;\n",
       "            color:  lawngreen;\n",
       "            border-color:  white;\n",
       "        }    #T_3c017886_93a3_11ea_a7ce_7cb27dedc1c7row7_col1 {\n",
       "            background-color:  black;\n",
       "            color:  lawngreen;\n",
       "            border-color:  white;\n",
       "        }    #T_3c017886_93a3_11ea_a7ce_7cb27dedc1c7row8_col0 {\n",
       "            background-color:  black;\n",
       "            color:  lawngreen;\n",
       "            border-color:  white;\n",
       "        }    #T_3c017886_93a3_11ea_a7ce_7cb27dedc1c7row8_col1 {\n",
       "            background-color:  black;\n",
       "            color:  lawngreen;\n",
       "            border-color:  white;\n",
       "        }    #T_3c017886_93a3_11ea_a7ce_7cb27dedc1c7row9_col0 {\n",
       "            background-color:  black;\n",
       "            color:  lawngreen;\n",
       "            border-color:  white;\n",
       "        }    #T_3c017886_93a3_11ea_a7ce_7cb27dedc1c7row9_col1 {\n",
       "            background-color:  black;\n",
       "            color:  lawngreen;\n",
       "            border-color:  white;\n",
       "        }    #T_3c017886_93a3_11ea_a7ce_7cb27dedc1c7row10_col0 {\n",
       "            background-color:  black;\n",
       "            color:  lawngreen;\n",
       "            border-color:  white;\n",
       "        }    #T_3c017886_93a3_11ea_a7ce_7cb27dedc1c7row10_col1 {\n",
       "            background-color:  black;\n",
       "            color:  lawngreen;\n",
       "            border-color:  white;\n",
       "        }    #T_3c017886_93a3_11ea_a7ce_7cb27dedc1c7row11_col0 {\n",
       "            background-color:  black;\n",
       "            color:  lawngreen;\n",
       "            border-color:  white;\n",
       "        }    #T_3c017886_93a3_11ea_a7ce_7cb27dedc1c7row11_col1 {\n",
       "            background-color:  black;\n",
       "            color:  lawngreen;\n",
       "            border-color:  white;\n",
       "        }    #T_3c017886_93a3_11ea_a7ce_7cb27dedc1c7row12_col0 {\n",
       "            background-color:  black;\n",
       "            color:  lawngreen;\n",
       "            border-color:  white;\n",
       "        }    #T_3c017886_93a3_11ea_a7ce_7cb27dedc1c7row12_col1 {\n",
       "            background-color:  black;\n",
       "            color:  lawngreen;\n",
       "            border-color:  white;\n",
       "        }    #T_3c017886_93a3_11ea_a7ce_7cb27dedc1c7row13_col0 {\n",
       "            background-color:  black;\n",
       "            color:  lawngreen;\n",
       "            border-color:  white;\n",
       "        }    #T_3c017886_93a3_11ea_a7ce_7cb27dedc1c7row13_col1 {\n",
       "            background-color:  black;\n",
       "            color:  lawngreen;\n",
       "            border-color:  white;\n",
       "        }    #T_3c017886_93a3_11ea_a7ce_7cb27dedc1c7row14_col0 {\n",
       "            background-color:  black;\n",
       "            color:  lawngreen;\n",
       "            border-color:  white;\n",
       "        }    #T_3c017886_93a3_11ea_a7ce_7cb27dedc1c7row14_col1 {\n",
       "            background-color:  black;\n",
       "            color:  lawngreen;\n",
       "            border-color:  white;\n",
       "        }    #T_3c017886_93a3_11ea_a7ce_7cb27dedc1c7row15_col0 {\n",
       "            background-color:  black;\n",
       "            color:  lawngreen;\n",
       "            border-color:  white;\n",
       "        }    #T_3c017886_93a3_11ea_a7ce_7cb27dedc1c7row15_col1 {\n",
       "            background-color:  black;\n",
       "            color:  lawngreen;\n",
       "            border-color:  white;\n",
       "        }    #T_3c017886_93a3_11ea_a7ce_7cb27dedc1c7row16_col0 {\n",
       "            background-color:  black;\n",
       "            color:  lawngreen;\n",
       "            border-color:  white;\n",
       "        }    #T_3c017886_93a3_11ea_a7ce_7cb27dedc1c7row16_col1 {\n",
       "            background-color:  black;\n",
       "            color:  lawngreen;\n",
       "            border-color:  white;\n",
       "        }    #T_3c017886_93a3_11ea_a7ce_7cb27dedc1c7row17_col0 {\n",
       "            background-color:  black;\n",
       "            color:  lawngreen;\n",
       "            border-color:  white;\n",
       "        }    #T_3c017886_93a3_11ea_a7ce_7cb27dedc1c7row17_col1 {\n",
       "            background-color:  black;\n",
       "            color:  lawngreen;\n",
       "            border-color:  white;\n",
       "        }    #T_3c017886_93a3_11ea_a7ce_7cb27dedc1c7row18_col0 {\n",
       "            background-color:  black;\n",
       "            color:  lawngreen;\n",
       "            border-color:  white;\n",
       "        }    #T_3c017886_93a3_11ea_a7ce_7cb27dedc1c7row18_col1 {\n",
       "            background-color:  black;\n",
       "            color:  lawngreen;\n",
       "            border-color:  white;\n",
       "        }    #T_3c017886_93a3_11ea_a7ce_7cb27dedc1c7row19_col0 {\n",
       "            background-color:  black;\n",
       "            color:  lawngreen;\n",
       "            border-color:  white;\n",
       "        }    #T_3c017886_93a3_11ea_a7ce_7cb27dedc1c7row19_col1 {\n",
       "            background-color:  black;\n",
       "            color:  lawngreen;\n",
       "            border-color:  white;\n",
       "        }    #T_3c017886_93a3_11ea_a7ce_7cb27dedc1c7row20_col0 {\n",
       "            background-color:  black;\n",
       "            color:  lawngreen;\n",
       "            border-color:  white;\n",
       "        }    #T_3c017886_93a3_11ea_a7ce_7cb27dedc1c7row20_col1 {\n",
       "            background-color:  black;\n",
       "            color:  lawngreen;\n",
       "            border-color:  white;\n",
       "        }    #T_3c017886_93a3_11ea_a7ce_7cb27dedc1c7row21_col0 {\n",
       "            background-color:  black;\n",
       "            color:  lawngreen;\n",
       "            border-color:  white;\n",
       "        }    #T_3c017886_93a3_11ea_a7ce_7cb27dedc1c7row21_col1 {\n",
       "            background-color:  black;\n",
       "            color:  lawngreen;\n",
       "            border-color:  white;\n",
       "        }    #T_3c017886_93a3_11ea_a7ce_7cb27dedc1c7row22_col0 {\n",
       "            background-color:  black;\n",
       "            color:  lawngreen;\n",
       "            border-color:  white;\n",
       "        }    #T_3c017886_93a3_11ea_a7ce_7cb27dedc1c7row22_col1 {\n",
       "            background-color:  black;\n",
       "            color:  lawngreen;\n",
       "            border-color:  white;\n",
       "        }    #T_3c017886_93a3_11ea_a7ce_7cb27dedc1c7row23_col0 {\n",
       "            background-color:  black;\n",
       "            color:  lawngreen;\n",
       "            border-color:  white;\n",
       "        }    #T_3c017886_93a3_11ea_a7ce_7cb27dedc1c7row23_col1 {\n",
       "            background-color:  black;\n",
       "            color:  lawngreen;\n",
       "            border-color:  white;\n",
       "        }    #T_3c017886_93a3_11ea_a7ce_7cb27dedc1c7row24_col0 {\n",
       "            background-color:  black;\n",
       "            color:  lawngreen;\n",
       "            border-color:  white;\n",
       "        }    #T_3c017886_93a3_11ea_a7ce_7cb27dedc1c7row24_col1 {\n",
       "            background-color:  black;\n",
       "            color:  lawngreen;\n",
       "            border-color:  white;\n",
       "        }    #T_3c017886_93a3_11ea_a7ce_7cb27dedc1c7row25_col0 {\n",
       "            background-color:  black;\n",
       "            color:  lawngreen;\n",
       "            border-color:  white;\n",
       "        }    #T_3c017886_93a3_11ea_a7ce_7cb27dedc1c7row25_col1 {\n",
       "            background-color:  black;\n",
       "            color:  lawngreen;\n",
       "            border-color:  white;\n",
       "        }    #T_3c017886_93a3_11ea_a7ce_7cb27dedc1c7row26_col0 {\n",
       "            background-color:  black;\n",
       "            color:  lawngreen;\n",
       "            border-color:  white;\n",
       "        }    #T_3c017886_93a3_11ea_a7ce_7cb27dedc1c7row26_col1 {\n",
       "            background-color:  black;\n",
       "            color:  lawngreen;\n",
       "            border-color:  white;\n",
       "        }    #T_3c017886_93a3_11ea_a7ce_7cb27dedc1c7row27_col0 {\n",
       "            background-color:  black;\n",
       "            color:  lawngreen;\n",
       "            border-color:  white;\n",
       "        }    #T_3c017886_93a3_11ea_a7ce_7cb27dedc1c7row27_col1 {\n",
       "            background-color:  black;\n",
       "            color:  lawngreen;\n",
       "            border-color:  white;\n",
       "        }    #T_3c017886_93a3_11ea_a7ce_7cb27dedc1c7row28_col0 {\n",
       "            background-color:  black;\n",
       "            color:  lawngreen;\n",
       "            border-color:  white;\n",
       "        }    #T_3c017886_93a3_11ea_a7ce_7cb27dedc1c7row28_col1 {\n",
       "            background-color:  black;\n",
       "            color:  lawngreen;\n",
       "            border-color:  white;\n",
       "        }    #T_3c017886_93a3_11ea_a7ce_7cb27dedc1c7row29_col0 {\n",
       "            background-color:  black;\n",
       "            color:  lawngreen;\n",
       "            border-color:  white;\n",
       "        }    #T_3c017886_93a3_11ea_a7ce_7cb27dedc1c7row29_col1 {\n",
       "            background-color:  black;\n",
       "            color:  lawngreen;\n",
       "            border-color:  white;\n",
       "        }    #T_3c017886_93a3_11ea_a7ce_7cb27dedc1c7row30_col0 {\n",
       "            background-color:  black;\n",
       "            color:  lawngreen;\n",
       "            border-color:  white;\n",
       "        }    #T_3c017886_93a3_11ea_a7ce_7cb27dedc1c7row30_col1 {\n",
       "            background-color:  black;\n",
       "            color:  lawngreen;\n",
       "            border-color:  white;\n",
       "        }    #T_3c017886_93a3_11ea_a7ce_7cb27dedc1c7row31_col0 {\n",
       "            background-color:  black;\n",
       "            color:  lawngreen;\n",
       "            border-color:  white;\n",
       "        }    #T_3c017886_93a3_11ea_a7ce_7cb27dedc1c7row31_col1 {\n",
       "            background-color:  black;\n",
       "            color:  lawngreen;\n",
       "            border-color:  white;\n",
       "        }    #T_3c017886_93a3_11ea_a7ce_7cb27dedc1c7row32_col0 {\n",
       "            background-color:  black;\n",
       "            color:  lawngreen;\n",
       "            border-color:  white;\n",
       "        }    #T_3c017886_93a3_11ea_a7ce_7cb27dedc1c7row32_col1 {\n",
       "            background-color:  black;\n",
       "            color:  lawngreen;\n",
       "            border-color:  white;\n",
       "        }    #T_3c017886_93a3_11ea_a7ce_7cb27dedc1c7row33_col0 {\n",
       "            background-color:  black;\n",
       "            color:  lawngreen;\n",
       "            border-color:  white;\n",
       "        }    #T_3c017886_93a3_11ea_a7ce_7cb27dedc1c7row33_col1 {\n",
       "            background-color:  black;\n",
       "            color:  lawngreen;\n",
       "            border-color:  white;\n",
       "        }    #T_3c017886_93a3_11ea_a7ce_7cb27dedc1c7row34_col0 {\n",
       "            background-color:  black;\n",
       "            color:  lawngreen;\n",
       "            border-color:  white;\n",
       "        }    #T_3c017886_93a3_11ea_a7ce_7cb27dedc1c7row34_col1 {\n",
       "            background-color:  black;\n",
       "            color:  lawngreen;\n",
       "            border-color:  white;\n",
       "        }    #T_3c017886_93a3_11ea_a7ce_7cb27dedc1c7row35_col0 {\n",
       "            background-color:  black;\n",
       "            color:  lawngreen;\n",
       "            border-color:  white;\n",
       "        }    #T_3c017886_93a3_11ea_a7ce_7cb27dedc1c7row35_col1 {\n",
       "            background-color:  black;\n",
       "            color:  lawngreen;\n",
       "            border-color:  white;\n",
       "        }    #T_3c017886_93a3_11ea_a7ce_7cb27dedc1c7row36_col0 {\n",
       "            background-color:  black;\n",
       "            color:  lawngreen;\n",
       "            border-color:  white;\n",
       "        }    #T_3c017886_93a3_11ea_a7ce_7cb27dedc1c7row36_col1 {\n",
       "            background-color:  black;\n",
       "            color:  lawngreen;\n",
       "            border-color:  white;\n",
       "        }    #T_3c017886_93a3_11ea_a7ce_7cb27dedc1c7row37_col0 {\n",
       "            background-color:  black;\n",
       "            color:  lawngreen;\n",
       "            border-color:  white;\n",
       "        }    #T_3c017886_93a3_11ea_a7ce_7cb27dedc1c7row37_col1 {\n",
       "            background-color:  black;\n",
       "            color:  lawngreen;\n",
       "            border-color:  white;\n",
       "        }    #T_3c017886_93a3_11ea_a7ce_7cb27dedc1c7row38_col0 {\n",
       "            background-color:  black;\n",
       "            color:  lawngreen;\n",
       "            border-color:  white;\n",
       "        }    #T_3c017886_93a3_11ea_a7ce_7cb27dedc1c7row38_col1 {\n",
       "            background-color:  black;\n",
       "            color:  lawngreen;\n",
       "            border-color:  white;\n",
       "        }    #T_3c017886_93a3_11ea_a7ce_7cb27dedc1c7row39_col0 {\n",
       "            background-color:  black;\n",
       "            color:  lawngreen;\n",
       "            border-color:  white;\n",
       "        }    #T_3c017886_93a3_11ea_a7ce_7cb27dedc1c7row39_col1 {\n",
       "            background-color:  black;\n",
       "            color:  lawngreen;\n",
       "            border-color:  white;\n",
       "        }    #T_3c017886_93a3_11ea_a7ce_7cb27dedc1c7row40_col0 {\n",
       "            background-color:  black;\n",
       "            color:  lawngreen;\n",
       "            border-color:  white;\n",
       "        }    #T_3c017886_93a3_11ea_a7ce_7cb27dedc1c7row40_col1 {\n",
       "            background-color:  black;\n",
       "            color:  lawngreen;\n",
       "            border-color:  white;\n",
       "        }</style><table id=\"T_3c017886_93a3_11ea_a7ce_7cb27dedc1c7\" ><thead>    <tr>        <th class=\"blank level0\" ></th>        <th class=\"col_heading level0 col0\" >nationality</th>        <th class=\"col_heading level0 col1\" >cnt</th>    </tr></thead><tbody>\n",
       "                <tr>\n",
       "                        <th id=\"T_3c017886_93a3_11ea_a7ce_7cb27dedc1c7level0_row0\" class=\"row_heading level0 row0\" >0</th>\n",
       "                        <td id=\"T_3c017886_93a3_11ea_a7ce_7cb27dedc1c7row0_col0\" class=\"data row0 col0\" >American</td>\n",
       "                        <td id=\"T_3c017886_93a3_11ea_a7ce_7cb27dedc1c7row0_col1\" class=\"data row0 col1\" >157</td>\n",
       "            </tr>\n",
       "            <tr>\n",
       "                        <th id=\"T_3c017886_93a3_11ea_a7ce_7cb27dedc1c7level0_row1\" class=\"row_heading level0 row1\" >1</th>\n",
       "                        <td id=\"T_3c017886_93a3_11ea_a7ce_7cb27dedc1c7row1_col0\" class=\"data row1 col0\" >American-Italian</td>\n",
       "                        <td id=\"T_3c017886_93a3_11ea_a7ce_7cb27dedc1c7row1_col1\" class=\"data row1 col1\" >1</td>\n",
       "            </tr>\n",
       "            <tr>\n",
       "                        <th id=\"T_3c017886_93a3_11ea_a7ce_7cb27dedc1c7level0_row2\" class=\"row_heading level0 row2\" >2</th>\n",
       "                        <td id=\"T_3c017886_93a3_11ea_a7ce_7cb27dedc1c7row2_col0\" class=\"data row2 col0\" >Argentine</td>\n",
       "                        <td id=\"T_3c017886_93a3_11ea_a7ce_7cb27dedc1c7row2_col1\" class=\"data row2 col1\" >24</td>\n",
       "            </tr>\n",
       "            <tr>\n",
       "                        <th id=\"T_3c017886_93a3_11ea_a7ce_7cb27dedc1c7level0_row3\" class=\"row_heading level0 row3\" >3</th>\n",
       "                        <td id=\"T_3c017886_93a3_11ea_a7ce_7cb27dedc1c7row3_col0\" class=\"data row3 col0\" >Argentine-Italian</td>\n",
       "                        <td id=\"T_3c017886_93a3_11ea_a7ce_7cb27dedc1c7row3_col1\" class=\"data row3 col1\" >1</td>\n",
       "            </tr>\n",
       "            <tr>\n",
       "                        <th id=\"T_3c017886_93a3_11ea_a7ce_7cb27dedc1c7level0_row4\" class=\"row_heading level0 row4\" >4</th>\n",
       "                        <td id=\"T_3c017886_93a3_11ea_a7ce_7cb27dedc1c7row4_col0\" class=\"data row4 col0\" >Australian</td>\n",
       "                        <td id=\"T_3c017886_93a3_11ea_a7ce_7cb27dedc1c7row4_col1\" class=\"data row4 col1\" >17</td>\n",
       "            </tr>\n",
       "            <tr>\n",
       "                        <th id=\"T_3c017886_93a3_11ea_a7ce_7cb27dedc1c7level0_row5\" class=\"row_heading level0 row5\" >5</th>\n",
       "                        <td id=\"T_3c017886_93a3_11ea_a7ce_7cb27dedc1c7row5_col0\" class=\"data row5 col0\" >Austrian</td>\n",
       "                        <td id=\"T_3c017886_93a3_11ea_a7ce_7cb27dedc1c7row5_col1\" class=\"data row5 col1\" >15</td>\n",
       "            </tr>\n",
       "            <tr>\n",
       "                        <th id=\"T_3c017886_93a3_11ea_a7ce_7cb27dedc1c7level0_row6\" class=\"row_heading level0 row6\" >6</th>\n",
       "                        <td id=\"T_3c017886_93a3_11ea_a7ce_7cb27dedc1c7row6_col0\" class=\"data row6 col0\" >Belgian</td>\n",
       "                        <td id=\"T_3c017886_93a3_11ea_a7ce_7cb27dedc1c7row6_col1\" class=\"data row6 col1\" >23</td>\n",
       "            </tr>\n",
       "            <tr>\n",
       "                        <th id=\"T_3c017886_93a3_11ea_a7ce_7cb27dedc1c7level0_row7\" class=\"row_heading level0 row7\" >7</th>\n",
       "                        <td id=\"T_3c017886_93a3_11ea_a7ce_7cb27dedc1c7row7_col0\" class=\"data row7 col0\" >Brazilian</td>\n",
       "                        <td id=\"T_3c017886_93a3_11ea_a7ce_7cb27dedc1c7row7_col1\" class=\"data row7 col1\" >31</td>\n",
       "            </tr>\n",
       "            <tr>\n",
       "                        <th id=\"T_3c017886_93a3_11ea_a7ce_7cb27dedc1c7level0_row8\" class=\"row_heading level0 row8\" >8</th>\n",
       "                        <td id=\"T_3c017886_93a3_11ea_a7ce_7cb27dedc1c7row8_col0\" class=\"data row8 col0\" >British</td>\n",
       "                        <td id=\"T_3c017886_93a3_11ea_a7ce_7cb27dedc1c7row8_col1\" class=\"data row8 col1\" >164</td>\n",
       "            </tr>\n",
       "            <tr>\n",
       "                        <th id=\"T_3c017886_93a3_11ea_a7ce_7cb27dedc1c7level0_row9\" class=\"row_heading level0 row9\" >9</th>\n",
       "                        <td id=\"T_3c017886_93a3_11ea_a7ce_7cb27dedc1c7row9_col0\" class=\"data row9 col0\" >Canadian</td>\n",
       "                        <td id=\"T_3c017886_93a3_11ea_a7ce_7cb27dedc1c7row9_col1\" class=\"data row9 col1\" >13</td>\n",
       "            </tr>\n",
       "            <tr>\n",
       "                        <th id=\"T_3c017886_93a3_11ea_a7ce_7cb27dedc1c7level0_row10\" class=\"row_heading level0 row10\" >10</th>\n",
       "                        <td id=\"T_3c017886_93a3_11ea_a7ce_7cb27dedc1c7row10_col0\" class=\"data row10 col0\" >Chilean</td>\n",
       "                        <td id=\"T_3c017886_93a3_11ea_a7ce_7cb27dedc1c7row10_col1\" class=\"data row10 col1\" >1</td>\n",
       "            </tr>\n",
       "            <tr>\n",
       "                        <th id=\"T_3c017886_93a3_11ea_a7ce_7cb27dedc1c7level0_row11\" class=\"row_heading level0 row11\" >11</th>\n",
       "                        <td id=\"T_3c017886_93a3_11ea_a7ce_7cb27dedc1c7row11_col0\" class=\"data row11 col0\" >Colombian</td>\n",
       "                        <td id=\"T_3c017886_93a3_11ea_a7ce_7cb27dedc1c7row11_col1\" class=\"data row11 col1\" >3</td>\n",
       "            </tr>\n",
       "            <tr>\n",
       "                        <th id=\"T_3c017886_93a3_11ea_a7ce_7cb27dedc1c7level0_row12\" class=\"row_heading level0 row12\" >12</th>\n",
       "                        <td id=\"T_3c017886_93a3_11ea_a7ce_7cb27dedc1c7row12_col0\" class=\"data row12 col0\" >Czech</td>\n",
       "                        <td id=\"T_3c017886_93a3_11ea_a7ce_7cb27dedc1c7row12_col1\" class=\"data row12 col1\" >1</td>\n",
       "            </tr>\n",
       "            <tr>\n",
       "                        <th id=\"T_3c017886_93a3_11ea_a7ce_7cb27dedc1c7level0_row13\" class=\"row_heading level0 row13\" >13</th>\n",
       "                        <td id=\"T_3c017886_93a3_11ea_a7ce_7cb27dedc1c7row13_col0\" class=\"data row13 col0\" >Danish</td>\n",
       "                        <td id=\"T_3c017886_93a3_11ea_a7ce_7cb27dedc1c7row13_col1\" class=\"data row13 col1\" >5</td>\n",
       "            </tr>\n",
       "            <tr>\n",
       "                        <th id=\"T_3c017886_93a3_11ea_a7ce_7cb27dedc1c7level0_row14\" class=\"row_heading level0 row14\" >14</th>\n",
       "                        <td id=\"T_3c017886_93a3_11ea_a7ce_7cb27dedc1c7row14_col0\" class=\"data row14 col0\" >Dutch</td>\n",
       "                        <td id=\"T_3c017886_93a3_11ea_a7ce_7cb27dedc1c7row14_col1\" class=\"data row14 col1\" >17</td>\n",
       "            </tr>\n",
       "            <tr>\n",
       "                        <th id=\"T_3c017886_93a3_11ea_a7ce_7cb27dedc1c7level0_row15\" class=\"row_heading level0 row15\" >15</th>\n",
       "                        <td id=\"T_3c017886_93a3_11ea_a7ce_7cb27dedc1c7row15_col0\" class=\"data row15 col0\" >East German</td>\n",
       "                        <td id=\"T_3c017886_93a3_11ea_a7ce_7cb27dedc1c7row15_col1\" class=\"data row15 col1\" >3</td>\n",
       "            </tr>\n",
       "            <tr>\n",
       "                        <th id=\"T_3c017886_93a3_11ea_a7ce_7cb27dedc1c7level0_row16\" class=\"row_heading level0 row16\" >16</th>\n",
       "                        <td id=\"T_3c017886_93a3_11ea_a7ce_7cb27dedc1c7row16_col0\" class=\"data row16 col0\" >Finnish</td>\n",
       "                        <td id=\"T_3c017886_93a3_11ea_a7ce_7cb27dedc1c7row16_col1\" class=\"data row16 col1\" >9</td>\n",
       "            </tr>\n",
       "            <tr>\n",
       "                        <th id=\"T_3c017886_93a3_11ea_a7ce_7cb27dedc1c7level0_row17\" class=\"row_heading level0 row17\" >17</th>\n",
       "                        <td id=\"T_3c017886_93a3_11ea_a7ce_7cb27dedc1c7row17_col0\" class=\"data row17 col0\" >French</td>\n",
       "                        <td id=\"T_3c017886_93a3_11ea_a7ce_7cb27dedc1c7row17_col1\" class=\"data row17 col1\" >73</td>\n",
       "            </tr>\n",
       "            <tr>\n",
       "                        <th id=\"T_3c017886_93a3_11ea_a7ce_7cb27dedc1c7level0_row18\" class=\"row_heading level0 row18\" >18</th>\n",
       "                        <td id=\"T_3c017886_93a3_11ea_a7ce_7cb27dedc1c7row18_col0\" class=\"data row18 col0\" >German</td>\n",
       "                        <td id=\"T_3c017886_93a3_11ea_a7ce_7cb27dedc1c7row18_col1\" class=\"data row18 col1\" >49</td>\n",
       "            </tr>\n",
       "            <tr>\n",
       "                        <th id=\"T_3c017886_93a3_11ea_a7ce_7cb27dedc1c7level0_row19\" class=\"row_heading level0 row19\" >19</th>\n",
       "                        <td id=\"T_3c017886_93a3_11ea_a7ce_7cb27dedc1c7row19_col0\" class=\"data row19 col0\" >Hungarian</td>\n",
       "                        <td id=\"T_3c017886_93a3_11ea_a7ce_7cb27dedc1c7row19_col1\" class=\"data row19 col1\" >1</td>\n",
       "            </tr>\n",
       "            <tr>\n",
       "                        <th id=\"T_3c017886_93a3_11ea_a7ce_7cb27dedc1c7level0_row20\" class=\"row_heading level0 row20\" >20</th>\n",
       "                        <td id=\"T_3c017886_93a3_11ea_a7ce_7cb27dedc1c7row20_col0\" class=\"data row20 col0\" >Indian</td>\n",
       "                        <td id=\"T_3c017886_93a3_11ea_a7ce_7cb27dedc1c7row20_col1\" class=\"data row20 col1\" >2</td>\n",
       "            </tr>\n",
       "            <tr>\n",
       "                        <th id=\"T_3c017886_93a3_11ea_a7ce_7cb27dedc1c7level0_row21\" class=\"row_heading level0 row21\" >21</th>\n",
       "                        <td id=\"T_3c017886_93a3_11ea_a7ce_7cb27dedc1c7row21_col0\" class=\"data row21 col0\" >Indonesian</td>\n",
       "                        <td id=\"T_3c017886_93a3_11ea_a7ce_7cb27dedc1c7row21_col1\" class=\"data row21 col1\" >1</td>\n",
       "            </tr>\n",
       "            <tr>\n",
       "                        <th id=\"T_3c017886_93a3_11ea_a7ce_7cb27dedc1c7level0_row22\" class=\"row_heading level0 row22\" >22</th>\n",
       "                        <td id=\"T_3c017886_93a3_11ea_a7ce_7cb27dedc1c7row22_col0\" class=\"data row22 col0\" >Irish</td>\n",
       "                        <td id=\"T_3c017886_93a3_11ea_a7ce_7cb27dedc1c7row22_col1\" class=\"data row22 col1\" >5</td>\n",
       "            </tr>\n",
       "            <tr>\n",
       "                        <th id=\"T_3c017886_93a3_11ea_a7ce_7cb27dedc1c7level0_row23\" class=\"row_heading level0 row23\" >23</th>\n",
       "                        <td id=\"T_3c017886_93a3_11ea_a7ce_7cb27dedc1c7row23_col0\" class=\"data row23 col0\" >Italian</td>\n",
       "                        <td id=\"T_3c017886_93a3_11ea_a7ce_7cb27dedc1c7row23_col1\" class=\"data row23 col1\" >99</td>\n",
       "            </tr>\n",
       "            <tr>\n",
       "                        <th id=\"T_3c017886_93a3_11ea_a7ce_7cb27dedc1c7level0_row24\" class=\"row_heading level0 row24\" >24</th>\n",
       "                        <td id=\"T_3c017886_93a3_11ea_a7ce_7cb27dedc1c7row24_col0\" class=\"data row24 col0\" >Japanese</td>\n",
       "                        <td id=\"T_3c017886_93a3_11ea_a7ce_7cb27dedc1c7row24_col1\" class=\"data row24 col1\" >19</td>\n",
       "            </tr>\n",
       "            <tr>\n",
       "                        <th id=\"T_3c017886_93a3_11ea_a7ce_7cb27dedc1c7level0_row25\" class=\"row_heading level0 row25\" >25</th>\n",
       "                        <td id=\"T_3c017886_93a3_11ea_a7ce_7cb27dedc1c7row25_col0\" class=\"data row25 col0\" >Liechtensteiner</td>\n",
       "                        <td id=\"T_3c017886_93a3_11ea_a7ce_7cb27dedc1c7row25_col1\" class=\"data row25 col1\" >1</td>\n",
       "            </tr>\n",
       "            <tr>\n",
       "                        <th id=\"T_3c017886_93a3_11ea_a7ce_7cb27dedc1c7level0_row26\" class=\"row_heading level0 row26\" >26</th>\n",
       "                        <td id=\"T_3c017886_93a3_11ea_a7ce_7cb27dedc1c7row26_col0\" class=\"data row26 col0\" >Malaysian</td>\n",
       "                        <td id=\"T_3c017886_93a3_11ea_a7ce_7cb27dedc1c7row26_col1\" class=\"data row26 col1\" >1</td>\n",
       "            </tr>\n",
       "            <tr>\n",
       "                        <th id=\"T_3c017886_93a3_11ea_a7ce_7cb27dedc1c7level0_row27\" class=\"row_heading level0 row27\" >27</th>\n",
       "                        <td id=\"T_3c017886_93a3_11ea_a7ce_7cb27dedc1c7row27_col0\" class=\"data row27 col0\" >Mexican</td>\n",
       "                        <td id=\"T_3c017886_93a3_11ea_a7ce_7cb27dedc1c7row27_col1\" class=\"data row27 col1\" >6</td>\n",
       "            </tr>\n",
       "            <tr>\n",
       "                        <th id=\"T_3c017886_93a3_11ea_a7ce_7cb27dedc1c7level0_row28\" class=\"row_heading level0 row28\" >28</th>\n",
       "                        <td id=\"T_3c017886_93a3_11ea_a7ce_7cb27dedc1c7row28_col0\" class=\"data row28 col0\" >Monegasque</td>\n",
       "                        <td id=\"T_3c017886_93a3_11ea_a7ce_7cb27dedc1c7row28_col1\" class=\"data row28 col1\" >4</td>\n",
       "            </tr>\n",
       "            <tr>\n",
       "                        <th id=\"T_3c017886_93a3_11ea_a7ce_7cb27dedc1c7level0_row29\" class=\"row_heading level0 row29\" >29</th>\n",
       "                        <td id=\"T_3c017886_93a3_11ea_a7ce_7cb27dedc1c7row29_col0\" class=\"data row29 col0\" >New Zealander</td>\n",
       "                        <td id=\"T_3c017886_93a3_11ea_a7ce_7cb27dedc1c7row29_col1\" class=\"data row29 col1\" >9</td>\n",
       "            </tr>\n",
       "            <tr>\n",
       "                        <th id=\"T_3c017886_93a3_11ea_a7ce_7cb27dedc1c7level0_row30\" class=\"row_heading level0 row30\" >30</th>\n",
       "                        <td id=\"T_3c017886_93a3_11ea_a7ce_7cb27dedc1c7row30_col0\" class=\"data row30 col0\" >Polish</td>\n",
       "                        <td id=\"T_3c017886_93a3_11ea_a7ce_7cb27dedc1c7row30_col1\" class=\"data row30 col1\" >1</td>\n",
       "            </tr>\n",
       "            <tr>\n",
       "                        <th id=\"T_3c017886_93a3_11ea_a7ce_7cb27dedc1c7level0_row31\" class=\"row_heading level0 row31\" >31</th>\n",
       "                        <td id=\"T_3c017886_93a3_11ea_a7ce_7cb27dedc1c7row31_col0\" class=\"data row31 col0\" >Portuguese</td>\n",
       "                        <td id=\"T_3c017886_93a3_11ea_a7ce_7cb27dedc1c7row31_col1\" class=\"data row31 col1\" >4</td>\n",
       "            </tr>\n",
       "            <tr>\n",
       "                        <th id=\"T_3c017886_93a3_11ea_a7ce_7cb27dedc1c7level0_row32\" class=\"row_heading level0 row32\" >32</th>\n",
       "                        <td id=\"T_3c017886_93a3_11ea_a7ce_7cb27dedc1c7row32_col0\" class=\"data row32 col0\" >Rhodesian</td>\n",
       "                        <td id=\"T_3c017886_93a3_11ea_a7ce_7cb27dedc1c7row32_col1\" class=\"data row32 col1\" >4</td>\n",
       "            </tr>\n",
       "            <tr>\n",
       "                        <th id=\"T_3c017886_93a3_11ea_a7ce_7cb27dedc1c7level0_row33\" class=\"row_heading level0 row33\" >33</th>\n",
       "                        <td id=\"T_3c017886_93a3_11ea_a7ce_7cb27dedc1c7row33_col0\" class=\"data row33 col0\" >Russian</td>\n",
       "                        <td id=\"T_3c017886_93a3_11ea_a7ce_7cb27dedc1c7row33_col1\" class=\"data row33 col1\" >3</td>\n",
       "            </tr>\n",
       "            <tr>\n",
       "                        <th id=\"T_3c017886_93a3_11ea_a7ce_7cb27dedc1c7level0_row34\" class=\"row_heading level0 row34\" >34</th>\n",
       "                        <td id=\"T_3c017886_93a3_11ea_a7ce_7cb27dedc1c7row34_col0\" class=\"data row34 col0\" >South African</td>\n",
       "                        <td id=\"T_3c017886_93a3_11ea_a7ce_7cb27dedc1c7row34_col1\" class=\"data row34 col1\" >23</td>\n",
       "            </tr>\n",
       "            <tr>\n",
       "                        <th id=\"T_3c017886_93a3_11ea_a7ce_7cb27dedc1c7level0_row35\" class=\"row_heading level0 row35\" >35</th>\n",
       "                        <td id=\"T_3c017886_93a3_11ea_a7ce_7cb27dedc1c7row35_col0\" class=\"data row35 col0\" >Spanish</td>\n",
       "                        <td id=\"T_3c017886_93a3_11ea_a7ce_7cb27dedc1c7row35_col1\" class=\"data row35 col1\" >15</td>\n",
       "            </tr>\n",
       "            <tr>\n",
       "                        <th id=\"T_3c017886_93a3_11ea_a7ce_7cb27dedc1c7level0_row36\" class=\"row_heading level0 row36\" >36</th>\n",
       "                        <td id=\"T_3c017886_93a3_11ea_a7ce_7cb27dedc1c7row36_col0\" class=\"data row36 col0\" >Swedish</td>\n",
       "                        <td id=\"T_3c017886_93a3_11ea_a7ce_7cb27dedc1c7row36_col1\" class=\"data row36 col1\" >10</td>\n",
       "            </tr>\n",
       "            <tr>\n",
       "                        <th id=\"T_3c017886_93a3_11ea_a7ce_7cb27dedc1c7level0_row37\" class=\"row_heading level0 row37\" >37</th>\n",
       "                        <td id=\"T_3c017886_93a3_11ea_a7ce_7cb27dedc1c7row37_col0\" class=\"data row37 col0\" >Swiss</td>\n",
       "                        <td id=\"T_3c017886_93a3_11ea_a7ce_7cb27dedc1c7row37_col1\" class=\"data row37 col1\" >23</td>\n",
       "            </tr>\n",
       "            <tr>\n",
       "                        <th id=\"T_3c017886_93a3_11ea_a7ce_7cb27dedc1c7level0_row38\" class=\"row_heading level0 row38\" >38</th>\n",
       "                        <td id=\"T_3c017886_93a3_11ea_a7ce_7cb27dedc1c7row38_col0\" class=\"data row38 col0\" >Thai</td>\n",
       "                        <td id=\"T_3c017886_93a3_11ea_a7ce_7cb27dedc1c7row38_col1\" class=\"data row38 col1\" >2</td>\n",
       "            </tr>\n",
       "            <tr>\n",
       "                        <th id=\"T_3c017886_93a3_11ea_a7ce_7cb27dedc1c7level0_row39\" class=\"row_heading level0 row39\" >39</th>\n",
       "                        <td id=\"T_3c017886_93a3_11ea_a7ce_7cb27dedc1c7row39_col0\" class=\"data row39 col0\" >Uruguayan</td>\n",
       "                        <td id=\"T_3c017886_93a3_11ea_a7ce_7cb27dedc1c7row39_col1\" class=\"data row39 col1\" >4</td>\n",
       "            </tr>\n",
       "            <tr>\n",
       "                        <th id=\"T_3c017886_93a3_11ea_a7ce_7cb27dedc1c7level0_row40\" class=\"row_heading level0 row40\" >40</th>\n",
       "                        <td id=\"T_3c017886_93a3_11ea_a7ce_7cb27dedc1c7row40_col0\" class=\"data row40 col0\" >Venezuelan</td>\n",
       "                        <td id=\"T_3c017886_93a3_11ea_a7ce_7cb27dedc1c7row40_col1\" class=\"data row40 col1\" >3</td>\n",
       "            </tr>\n",
       "    </tbody></table>"
      ],
      "text/plain": [
       "<pandas.io.formats.style.Styler at 0x12436823588>"
      ]
     },
     "execution_count": 35,
     "metadata": {},
     "output_type": "execute_result"
    }
   ],
   "source": [
    "dataV3.style.set_properties(**{'background-color': 'black',\n",
    "                            'color': 'lawngreen',\n",
    "                            'border-color': 'white'})"
   ]
  },
  {
   "cell_type": "code",
   "execution_count": 36,
   "metadata": {},
   "outputs": [],
   "source": [
    "# # and per Video # 3, filter with .having method\n",
    "# works the same as where\n",
    "s_qryV3.having(attr='COUNT(driverId)', cond=100, eq='>')"
   ]
  },
  {
   "cell_type": "code",
   "execution_count": 37,
   "metadata": {},
   "outputs": [
    {
     "name": "stdout",
     "output_type": "stream",
     "text": [
      "SELECT nationality, COUNT(driverId) as cnt FROM drivers GROUP BY nationality HAVING COUNT(driverId) > 100\n"
     ]
    }
   ],
   "source": [
    "print(s_qryV3)"
   ]
  },
  {
   "cell_type": "code",
   "execution_count": 38,
   "metadata": {},
   "outputs": [],
   "source": [
    "dataV3 = pd.read_sql_query(str(s_qryV3), con=engine)"
   ]
  },
  {
   "cell_type": "code",
   "execution_count": 39,
   "metadata": {},
   "outputs": [
    {
     "data": {
      "text/html": [
       "<div>\n",
       "<style scoped>\n",
       "    .dataframe tbody tr th:only-of-type {\n",
       "        vertical-align: middle;\n",
       "    }\n",
       "\n",
       "    .dataframe tbody tr th {\n",
       "        vertical-align: top;\n",
       "    }\n",
       "\n",
       "    .dataframe thead th {\n",
       "        text-align: right;\n",
       "    }\n",
       "</style>\n",
       "<table border=\"1\" class=\"dataframe\">\n",
       "  <thead>\n",
       "    <tr style=\"text-align: right;\">\n",
       "      <th></th>\n",
       "      <th>nationality</th>\n",
       "      <th>cnt</th>\n",
       "    </tr>\n",
       "  </thead>\n",
       "  <tbody>\n",
       "    <tr>\n",
       "      <th>0</th>\n",
       "      <td>American</td>\n",
       "      <td>157</td>\n",
       "    </tr>\n",
       "    <tr>\n",
       "      <th>1</th>\n",
       "      <td>British</td>\n",
       "      <td>164</td>\n",
       "    </tr>\n",
       "  </tbody>\n",
       "</table>\n",
       "</div>"
      ],
      "text/plain": [
       "  nationality  cnt\n",
       "0    American  157\n",
       "1     British  164"
      ]
     },
     "execution_count": 39,
     "metadata": {},
     "output_type": "execute_result"
    }
   ],
   "source": [
    "dataV3.head()"
   ]
  },
  {
   "cell_type": "code",
   "execution_count": 43,
   "metadata": {},
   "outputs": [],
   "source": [
    "## try a select all later\n",
    "# Per Simon,\n",
    "# If you do sql_select('*', 'drivers') then it should work\n",
    "\n",
    "# Basically the first parameter gets put behind SELECT and the second behind FROM\n",
    "\n",
    "# so sql_select('*', 'drivers') make SELECT * FROM drivers\n",
    "#still need to try this, get it working"
   ]
  },
  {
   "cell_type": "markdown",
   "metadata": {},
   "source": [
    "**Video #4**\n",
    "* https://www.youtube.com/watch?v=xIJeUPAT8zE\n",
    "* Order by and Limit Statements"
   ]
  },
  {
   "cell_type": "code",
   "execution_count": 49,
   "metadata": {},
   "outputs": [],
   "source": [
    "s_qryV4 = sql_select( sl=['nationality', 'COUNT(driverId) as cnt'],\n",
    "                    fr='drivers',\n",
    "                    gb='nationality')"
   ]
  },
  {
   "cell_type": "code",
   "execution_count": 50,
   "metadata": {},
   "outputs": [
    {
     "name": "stdout",
     "output_type": "stream",
     "text": [
      "SELECT nationality, COUNT(driverId) as cnt FROM drivers GROUP BY nationality\n"
     ]
    }
   ],
   "source": [
    "print(s_qryV4)"
   ]
  },
  {
   "cell_type": "code",
   "execution_count": 62,
   "metadata": {},
   "outputs": [
    {
     "name": "stdout",
     "output_type": "stream",
     "text": [
      "SELECT nationality, COUNT(driverId) as cnt FROM drivers GROUP BY nationality ORDER BY cnt DESC\n"
     ]
    }
   ],
   "source": [
    "# Add an order by statement\n",
    "# specify the field to order by in the attribute parameter and set Descending by calling asc as false\n",
    "s_qryV4.order_by(attr='cnt', asc=False)\n",
    "print(s_qryV4)"
   ]
  },
  {
   "cell_type": "code",
   "execution_count": 63,
   "metadata": {},
   "outputs": [],
   "source": [
    "# get the results\n",
    "data = pd.read_sql_query(str(s_qryV4), con=engine)"
   ]
  },
  {
   "cell_type": "code",
   "execution_count": 64,
   "metadata": {},
   "outputs": [
    {
     "data": {
      "text/html": [
       "<div>\n",
       "<style scoped>\n",
       "    .dataframe tbody tr th:only-of-type {\n",
       "        vertical-align: middle;\n",
       "    }\n",
       "\n",
       "    .dataframe tbody tr th {\n",
       "        vertical-align: top;\n",
       "    }\n",
       "\n",
       "    .dataframe thead th {\n",
       "        text-align: right;\n",
       "    }\n",
       "</style>\n",
       "<table border=\"1\" class=\"dataframe\">\n",
       "  <thead>\n",
       "    <tr style=\"text-align: right;\">\n",
       "      <th></th>\n",
       "      <th>nationality</th>\n",
       "      <th>cnt</th>\n",
       "    </tr>\n",
       "  </thead>\n",
       "  <tbody>\n",
       "    <tr>\n",
       "      <th>0</th>\n",
       "      <td>British</td>\n",
       "      <td>164</td>\n",
       "    </tr>\n",
       "    <tr>\n",
       "      <th>1</th>\n",
       "      <td>American</td>\n",
       "      <td>157</td>\n",
       "    </tr>\n",
       "    <tr>\n",
       "      <th>2</th>\n",
       "      <td>Italian</td>\n",
       "      <td>99</td>\n",
       "    </tr>\n",
       "    <tr>\n",
       "      <th>3</th>\n",
       "      <td>French</td>\n",
       "      <td>73</td>\n",
       "    </tr>\n",
       "    <tr>\n",
       "      <th>4</th>\n",
       "      <td>German</td>\n",
       "      <td>49</td>\n",
       "    </tr>\n",
       "  </tbody>\n",
       "</table>\n",
       "</div>"
      ],
      "text/plain": [
       "  nationality  cnt\n",
       "0     British  164\n",
       "1    American  157\n",
       "2     Italian   99\n",
       "3      French   73\n",
       "4      German   49"
      ]
     },
     "execution_count": 64,
     "metadata": {},
     "output_type": "execute_result"
    }
   ],
   "source": [
    "# so here we're grouping on count of driver nationalality\n",
    "data.head()\n",
    "# there are 164 Brits, 157 Americans, etc..."
   ]
  },
  {
   "cell_type": "code",
   "execution_count": 79,
   "metadata": {},
   "outputs": [
    {
     "name": "stdout",
     "output_type": "stream",
     "text": [
      "SELECT nationality, COUNT(driverId) as cnt FROM drivers GROUP BY nationality ORDER BY cnt DESC LIMIT 3\n"
     ]
    }
   ],
   "source": [
    "# Add a limit statement\n",
    "s_qryV4.limit(3)\n",
    "print(s_qryV4)"
   ]
  },
  {
   "cell_type": "code",
   "execution_count": 81,
   "metadata": {},
   "outputs": [
    {
     "data": {
      "text/html": [
       "<div>\n",
       "<style scoped>\n",
       "    .dataframe tbody tr th:only-of-type {\n",
       "        vertical-align: middle;\n",
       "    }\n",
       "\n",
       "    .dataframe tbody tr th {\n",
       "        vertical-align: top;\n",
       "    }\n",
       "\n",
       "    .dataframe thead th {\n",
       "        text-align: right;\n",
       "    }\n",
       "</style>\n",
       "<table border=\"1\" class=\"dataframe\">\n",
       "  <thead>\n",
       "    <tr style=\"text-align: right;\">\n",
       "      <th></th>\n",
       "      <th>nationality</th>\n",
       "      <th>cnt</th>\n",
       "    </tr>\n",
       "  </thead>\n",
       "  <tbody>\n",
       "    <tr>\n",
       "      <th>0</th>\n",
       "      <td>British</td>\n",
       "      <td>164</td>\n",
       "    </tr>\n",
       "    <tr>\n",
       "      <th>1</th>\n",
       "      <td>American</td>\n",
       "      <td>157</td>\n",
       "    </tr>\n",
       "    <tr>\n",
       "      <th>2</th>\n",
       "      <td>Italian</td>\n",
       "      <td>99</td>\n",
       "    </tr>\n",
       "  </tbody>\n",
       "</table>\n",
       "</div>"
      ],
      "text/plain": [
       "  nationality  cnt\n",
       "0     British  164\n",
       "1    American  157\n",
       "2     Italian   99"
      ]
     },
     "execution_count": 81,
     "metadata": {},
     "output_type": "execute_result"
    }
   ],
   "source": [
    "# so now because of the limit we only get back 3, even if we try to pull 10 rows back in the head function\n",
    "data = pd.read_sql_query(str(s_qryV4), con=engine)\n",
    "data.head(10)"
   ]
  },
  {
   "cell_type": "code",
   "execution_count": null,
   "metadata": {},
   "outputs": [],
   "source": [
    "# you can also just add an lm parameter in the select statement, like this:\n",
    "s_qryV4 = sql_select( sl=['nationality', 'COUNT(driverId) as cnt'],\n",
    "                    fr='drivers',\n",
    "                    gb='nationality',\n",
    "                    lm=20)"
   ]
  },
  {
   "cell_type": "code",
   "execution_count": 82,
   "metadata": {},
   "outputs": [
    {
     "name": "stdout",
     "output_type": "stream",
     "text": [
      "SELECT nationality, COUNT(driverId) as cnt FROM drivers GROUP BY nationality\n"
     ]
    }
   ],
   "source": [
    "# clear the ORDER By and Limit statements\n",
    "s_qryV4.order_by(clear=True)\n",
    "s_qryV4.limit(clear=True)\n",
    "print(s_qryV4)"
   ]
  },
  {
   "cell_type": "markdown",
   "metadata": {},
   "source": [
    "**Video #5**\n",
    "* Nested Queries\n",
    "* https://www.youtube.com/watch?v=WA_a7Rs85Bs&"
   ]
  },
  {
   "cell_type": "code",
   "execution_count": 99,
   "metadata": {},
   "outputs": [
    {
     "name": "stdout",
     "output_type": "stream",
     "text": [
      "SELECT nationality as nat, COUNT(driverId) as count FROM drivers WHERE racdId = 1012 GROUP BY nationality\n"
     ]
    }
   ],
   "source": [
    "# create a query object that will create a table w 2 fields, nat and count\n",
    "nest2 = sql_select(['nationality as nat', 'COUNT(driverId) as count'], 'drivers', gb='nationality')\n",
    "print(nest)"
   ]
  },
  {
   "cell_type": "code",
   "execution_count": 106,
   "metadata": {},
   "outputs": [],
   "source": [
    "# use this query as argument for the fr parameter\n",
    "s_qryV5 = sql_select(sl=['nat', 'count'], fr=nest)"
   ]
  },
  {
   "cell_type": "code",
   "execution_count": 107,
   "metadata": {},
   "outputs": [
    {
     "name": "stdout",
     "output_type": "stream",
     "text": [
      "SELECT nat, count FROM (SELECT nationality as nat, COUNT(driverId) as count FROM drivers WHERE racdId = 1012 GROUP BY nationality)\n"
     ]
    }
   ],
   "source": [
    "print(s_qryV5)"
   ]
  },
  {
   "cell_type": "code",
   "execution_count": 113,
   "metadata": {},
   "outputs": [],
   "source": [
    "# nest a sql_select object into the WHERE statement\n",
    "# Create a query object returning driver IDs that part'd in the 1000th official F1 GB in China\n",
    "nest3 = sql_select('driverId', 'results')\n",
    "nest3.where(attr='raceId', cond=1012)"
   ]
  },
  {
   "cell_type": "code",
   "execution_count": 114,
   "metadata": {},
   "outputs": [
    {
     "name": "stdout",
     "output_type": "stream",
     "text": [
      "20 drivers were in the 2019 Chinese GP\n"
     ]
    }
   ],
   "source": [
    "data = pd.read_sql_query(str(nest3), con=engine)\n",
    "print(f\"{len(data)} drivers were in the 2019 Chinese GP\")"
   ]
  },
  {
   "cell_type": "code",
   "execution_count": 115,
   "metadata": {},
   "outputs": [],
   "source": [
    "# then use this query result to find add'l driver info\n",
    "s_qryV5 = sql_select(['forename', 'surname', 'nationality'], 'drivers')\n",
    "s_qryV5.where(attr='driverid', cond=nest3)\n",
    "s_qryV5.order_by(attr='surname')"
   ]
  },
  {
   "cell_type": "code",
   "execution_count": 116,
   "metadata": {},
   "outputs": [
    {
     "name": "stdout",
     "output_type": "stream",
     "text": [
      "SELECT forename, surname, nationality FROM drivers WHERE driverid IN (SELECT driverId FROM results WHERE raceId = 1012) ORDER BY surname ASC\n"
     ]
    }
   ],
   "source": [
    "print(s_qryV5)"
   ]
  },
  {
   "cell_type": "code",
   "execution_count": 117,
   "metadata": {},
   "outputs": [
    {
     "data": {
      "text/html": [
       "<div>\n",
       "<style scoped>\n",
       "    .dataframe tbody tr th:only-of-type {\n",
       "        vertical-align: middle;\n",
       "    }\n",
       "\n",
       "    .dataframe tbody tr th {\n",
       "        vertical-align: top;\n",
       "    }\n",
       "\n",
       "    .dataframe thead th {\n",
       "        text-align: right;\n",
       "    }\n",
       "</style>\n",
       "<table border=\"1\" class=\"dataframe\">\n",
       "  <thead>\n",
       "    <tr style=\"text-align: right;\">\n",
       "      <th></th>\n",
       "      <th>forename</th>\n",
       "      <th>surname</th>\n",
       "      <th>nationality</th>\n",
       "    </tr>\n",
       "  </thead>\n",
       "  <tbody>\n",
       "    <tr>\n",
       "      <th>0</th>\n",
       "      <td>Alexander</td>\n",
       "      <td>Albon</td>\n",
       "      <td>Thai</td>\n",
       "    </tr>\n",
       "    <tr>\n",
       "      <th>1</th>\n",
       "      <td>Valtteri</td>\n",
       "      <td>Bottas</td>\n",
       "      <td>Finnish</td>\n",
       "    </tr>\n",
       "    <tr>\n",
       "      <th>2</th>\n",
       "      <td>Pierre</td>\n",
       "      <td>Gasly</td>\n",
       "      <td>French</td>\n",
       "    </tr>\n",
       "    <tr>\n",
       "      <th>3</th>\n",
       "      <td>Antonio</td>\n",
       "      <td>Giovinazzi</td>\n",
       "      <td>Italian</td>\n",
       "    </tr>\n",
       "    <tr>\n",
       "      <th>4</th>\n",
       "      <td>Romain</td>\n",
       "      <td>Grosjean</td>\n",
       "      <td>French</td>\n",
       "    </tr>\n",
       "  </tbody>\n",
       "</table>\n",
       "</div>"
      ],
      "text/plain": [
       "    forename     surname nationality\n",
       "0  Alexander       Albon        Thai\n",
       "1   Valtteri      Bottas     Finnish\n",
       "2     Pierre       Gasly      French\n",
       "3    Antonio  Giovinazzi     Italian\n",
       "4     Romain    Grosjean      French"
      ]
     },
     "execution_count": 117,
     "metadata": {},
     "output_type": "execute_result"
    }
   ],
   "source": [
    "data5 = pd.read_sql_query(str(s_qryV5), con=engine)\n",
    "data5.head()"
   ]
  },
  {
   "cell_type": "markdown",
   "metadata": {},
   "source": [
    "**Video #6**\n",
    "* Joining Tables\n",
    "* https://www.youtube.com/watch?v=thEO3eDli3U"
   ]
  },
  {
   "cell_type": "code",
   "execution_count": 131,
   "metadata": {},
   "outputs": [
    {
     "name": "stdout",
     "output_type": "stream",
     "text": [
      "SELECT driverId, position, time FROM results WHERE raceId = 1012 ORDER BY position ASC\n"
     ]
    }
   ],
   "source": [
    "# get 2019 Chinese Grand Prix results, from the RESULTS table\n",
    "s_qry_results = sql_select(['driverId', 'position', 'time'], fr='results')\n",
    "s_qry_results.where(attr='raceId', cond=1012)\n",
    "s_qry_results.order_by(attr='position')\n",
    "print(s_qry_results)"
   ]
  },
  {
   "cell_type": "code",
   "execution_count": 135,
   "metadata": {},
   "outputs": [
    {
     "data": {
      "text/html": [
       "<div>\n",
       "<style scoped>\n",
       "    .dataframe tbody tr th:only-of-type {\n",
       "        vertical-align: middle;\n",
       "    }\n",
       "\n",
       "    .dataframe tbody tr th {\n",
       "        vertical-align: top;\n",
       "    }\n",
       "\n",
       "    .dataframe thead th {\n",
       "        text-align: right;\n",
       "    }\n",
       "</style>\n",
       "<table border=\"1\" class=\"dataframe\">\n",
       "  <thead>\n",
       "    <tr style=\"text-align: right;\">\n",
       "      <th></th>\n",
       "      <th>driverId</th>\n",
       "      <th>position</th>\n",
       "      <th>time</th>\n",
       "    </tr>\n",
       "  </thead>\n",
       "  <tbody>\n",
       "    <tr>\n",
       "      <th>0</th>\n",
       "      <td>1</td>\n",
       "      <td>1</td>\n",
       "      <td>1:32:06.350</td>\n",
       "    </tr>\n",
       "    <tr>\n",
       "      <th>1</th>\n",
       "      <td>822</td>\n",
       "      <td>2</td>\n",
       "      <td>+6.552</td>\n",
       "    </tr>\n",
       "    <tr>\n",
       "      <th>2</th>\n",
       "      <td>20</td>\n",
       "      <td>3</td>\n",
       "      <td>+13.774</td>\n",
       "    </tr>\n",
       "    <tr>\n",
       "      <th>3</th>\n",
       "      <td>830</td>\n",
       "      <td>4</td>\n",
       "      <td>+27.627</td>\n",
       "    </tr>\n",
       "    <tr>\n",
       "      <th>4</th>\n",
       "      <td>844</td>\n",
       "      <td>5</td>\n",
       "      <td>+31.276</td>\n",
       "    </tr>\n",
       "  </tbody>\n",
       "</table>\n",
       "</div>"
      ],
      "text/plain": [
       "   driverId position         time\n",
       "0         1        1  1:32:06.350\n",
       "1       822        2       +6.552\n",
       "2        20        3      +13.774\n",
       "3       830        4      +27.627\n",
       "4       844        5      +31.276"
      ]
     },
     "execution_count": 135,
     "metadata": {},
     "output_type": "execute_result"
    }
   ],
   "source": [
    "data = pd.read_sql_query(str(s_qry_results), con=engine)\n",
    "data.head()"
   ]
  },
  {
   "cell_type": "code",
   "execution_count": 137,
   "metadata": {},
   "outputs": [
    {
     "name": "stdout",
     "output_type": "stream",
     "text": [
      "SELECT driverId, forename, surname, nationality FROM drivers\n"
     ]
    }
   ],
   "source": [
    "# let's add more driver details from the DRIVER table\n",
    "# create a drivers object\n",
    "s_qry_drivers = sql_select(['driverId', 'forename', 'surname', 'nationality'], 'drivers')\n",
    "print(s_qry_drivers)"
   ]
  },
  {
   "cell_type": "code",
   "execution_count": 139,
   "metadata": {},
   "outputs": [
    {
     "data": {
      "text/html": [
       "<div>\n",
       "<style scoped>\n",
       "    .dataframe tbody tr th:only-of-type {\n",
       "        vertical-align: middle;\n",
       "    }\n",
       "\n",
       "    .dataframe tbody tr th {\n",
       "        vertical-align: top;\n",
       "    }\n",
       "\n",
       "    .dataframe thead th {\n",
       "        text-align: right;\n",
       "    }\n",
       "</style>\n",
       "<table border=\"1\" class=\"dataframe\">\n",
       "  <thead>\n",
       "    <tr style=\"text-align: right;\">\n",
       "      <th></th>\n",
       "      <th>driverId</th>\n",
       "      <th>forename</th>\n",
       "      <th>surname</th>\n",
       "      <th>nationality</th>\n",
       "    </tr>\n",
       "  </thead>\n",
       "  <tbody>\n",
       "    <tr>\n",
       "      <th>0</th>\n",
       "      <td>1</td>\n",
       "      <td>Lewis</td>\n",
       "      <td>Hamilton</td>\n",
       "      <td>British</td>\n",
       "    </tr>\n",
       "    <tr>\n",
       "      <th>1</th>\n",
       "      <td>2</td>\n",
       "      <td>Nick</td>\n",
       "      <td>Heidfeld</td>\n",
       "      <td>German</td>\n",
       "    </tr>\n",
       "    <tr>\n",
       "      <th>2</th>\n",
       "      <td>3</td>\n",
       "      <td>Nico</td>\n",
       "      <td>Rosberg</td>\n",
       "      <td>German</td>\n",
       "    </tr>\n",
       "    <tr>\n",
       "      <th>3</th>\n",
       "      <td>4</td>\n",
       "      <td>Fernando</td>\n",
       "      <td>Alonso</td>\n",
       "      <td>Spanish</td>\n",
       "    </tr>\n",
       "    <tr>\n",
       "      <th>4</th>\n",
       "      <td>5</td>\n",
       "      <td>Heikki</td>\n",
       "      <td>Kovalainen</td>\n",
       "      <td>Finnish</td>\n",
       "    </tr>\n",
       "  </tbody>\n",
       "</table>\n",
       "</div>"
      ],
      "text/plain": [
       "   driverId  forename     surname nationality\n",
       "0         1     Lewis    Hamilton     British\n",
       "1         2      Nick    Heidfeld      German\n",
       "2         3      Nico     Rosberg      German\n",
       "3         4  Fernando      Alonso     Spanish\n",
       "4         5    Heikki  Kovalainen     Finnish"
      ]
     },
     "execution_count": 139,
     "metadata": {},
     "output_type": "execute_result"
    }
   ],
   "source": [
    "data = pd.read_sql_query(str(s_qry_drivers), con=engine)\n",
    "data.head()"
   ]
  },
  {
   "cell_type": "code",
   "execution_count": 142,
   "metadata": {},
   "outputs": [
    {
     "name": "stdout",
     "output_type": "stream",
     "text": [
      "SELECT ax.driverId, ax.position, ax.time, ba.driverId, ba.forename, ba.surname, ba.nationality FROM results AS ax  LEFT JOIN drivers AS ba ON ax.driverId = ba.driverId WHERE raceId = 1012 ORDER BY position ASC\n"
     ]
    }
   ],
   "source": [
    "s_qry_results.join(s_qry_drivers, how='left', on=('driverId', 'driverId'))\n",
    "print(s_qry_results)"
   ]
  },
  {
   "cell_type": "code",
   "execution_count": 144,
   "metadata": {},
   "outputs": [
    {
     "data": {
      "text/html": [
       "<div>\n",
       "<style scoped>\n",
       "    .dataframe tbody tr th:only-of-type {\n",
       "        vertical-align: middle;\n",
       "    }\n",
       "\n",
       "    .dataframe tbody tr th {\n",
       "        vertical-align: top;\n",
       "    }\n",
       "\n",
       "    .dataframe thead th {\n",
       "        text-align: right;\n",
       "    }\n",
       "</style>\n",
       "<table border=\"1\" class=\"dataframe\">\n",
       "  <thead>\n",
       "    <tr style=\"text-align: right;\">\n",
       "      <th></th>\n",
       "      <th>driverId</th>\n",
       "      <th>position</th>\n",
       "      <th>time</th>\n",
       "      <th>driverId</th>\n",
       "      <th>forename</th>\n",
       "      <th>surname</th>\n",
       "      <th>nationality</th>\n",
       "    </tr>\n",
       "  </thead>\n",
       "  <tbody>\n",
       "    <tr>\n",
       "      <th>0</th>\n",
       "      <td>1</td>\n",
       "      <td>1</td>\n",
       "      <td>1:32:06.350</td>\n",
       "      <td>1</td>\n",
       "      <td>Lewis</td>\n",
       "      <td>Hamilton</td>\n",
       "      <td>British</td>\n",
       "    </tr>\n",
       "    <tr>\n",
       "      <th>1</th>\n",
       "      <td>822</td>\n",
       "      <td>2</td>\n",
       "      <td>+6.552</td>\n",
       "      <td>822</td>\n",
       "      <td>Valtteri</td>\n",
       "      <td>Bottas</td>\n",
       "      <td>Finnish</td>\n",
       "    </tr>\n",
       "    <tr>\n",
       "      <th>2</th>\n",
       "      <td>20</td>\n",
       "      <td>3</td>\n",
       "      <td>+13.774</td>\n",
       "      <td>20</td>\n",
       "      <td>Sebastian</td>\n",
       "      <td>Vettel</td>\n",
       "      <td>German</td>\n",
       "    </tr>\n",
       "    <tr>\n",
       "      <th>3</th>\n",
       "      <td>830</td>\n",
       "      <td>4</td>\n",
       "      <td>+27.627</td>\n",
       "      <td>830</td>\n",
       "      <td>Max</td>\n",
       "      <td>Verstappen</td>\n",
       "      <td>Dutch</td>\n",
       "    </tr>\n",
       "    <tr>\n",
       "      <th>4</th>\n",
       "      <td>844</td>\n",
       "      <td>5</td>\n",
       "      <td>+31.276</td>\n",
       "      <td>844</td>\n",
       "      <td>Charles</td>\n",
       "      <td>Leclerc</td>\n",
       "      <td>Monegasque</td>\n",
       "    </tr>\n",
       "  </tbody>\n",
       "</table>\n",
       "</div>"
      ],
      "text/plain": [
       "   driverId position         time  driverId   forename     surname nationality\n",
       "0         1        1  1:32:06.350         1      Lewis    Hamilton     British\n",
       "1       822        2       +6.552       822   Valtteri      Bottas     Finnish\n",
       "2        20        3      +13.774        20  Sebastian      Vettel      German\n",
       "3       830        4      +27.627       830        Max  Verstappen       Dutch\n",
       "4       844        5      +31.276       844    Charles     Leclerc  Monegasque"
      ]
     },
     "execution_count": 144,
     "metadata": {},
     "output_type": "execute_result"
    }
   ],
   "source": [
    "dataJoinResults = pd.read_sql_query(str(s_qry_results), con=engine)\n",
    "dataJoinResults.head()"
   ]
  },
  {
   "cell_type": "markdown",
   "metadata": {},
   "source": [
    "**Video #7**\n",
    "* Update\n",
    "* https://www.youtube.com/watch?v=wBS8xxzI3Bs"
   ]
  },
  {
   "cell_type": "code",
   "execution_count": 155,
   "metadata": {},
   "outputs": [],
   "source": [
    "# Update, set and where statements\n",
    "# first, pull in the update module\n",
    "from sql_query import sql_update\n",
    "s_qry_driversUpdate = sql_select(['forename', 'surname', 'code'], 'drivers')\n",
    "s_qry_driversUpdate.where(attr='driverId', cond=830)"
   ]
  },
  {
   "cell_type": "code",
   "execution_count": 156,
   "metadata": {},
   "outputs": [
    {
     "name": "stdout",
     "output_type": "stream",
     "text": [
      "SELECT forename, surname, code FROM drivers WHERE driverId = 830\n"
     ]
    }
   ],
   "source": [
    "print(s_qry_driversUpdate)"
   ]
  },
  {
   "cell_type": "code",
   "execution_count": 157,
   "metadata": {},
   "outputs": [
    {
     "data": {
      "text/html": [
       "<div>\n",
       "<style scoped>\n",
       "    .dataframe tbody tr th:only-of-type {\n",
       "        vertical-align: middle;\n",
       "    }\n",
       "\n",
       "    .dataframe tbody tr th {\n",
       "        vertical-align: top;\n",
       "    }\n",
       "\n",
       "    .dataframe thead th {\n",
       "        text-align: right;\n",
       "    }\n",
       "</style>\n",
       "<table border=\"1\" class=\"dataframe\">\n",
       "  <thead>\n",
       "    <tr style=\"text-align: right;\">\n",
       "      <th></th>\n",
       "      <th>forename</th>\n",
       "      <th>surname</th>\n",
       "      <th>code</th>\n",
       "    </tr>\n",
       "  </thead>\n",
       "  <tbody>\n",
       "    <tr>\n",
       "      <th>0</th>\n",
       "      <td>Max</td>\n",
       "      <td>Verstappen</td>\n",
       "      <td>VER</td>\n",
       "    </tr>\n",
       "  </tbody>\n",
       "</table>\n",
       "</div>"
      ],
      "text/plain": [
       "  forename     surname code\n",
       "0      Max  Verstappen  VER"
      ]
     },
     "execution_count": 157,
     "metadata": {},
     "output_type": "execute_result"
    }
   ],
   "source": [
    "dataUpdate = pd.read_sql_query(str(s_qry_driversUpdate), con=engine)\n",
    "dataUpdate.head()"
   ]
  },
  {
   "cell_type": "code",
   "execution_count": 177,
   "metadata": {},
   "outputs": [],
   "source": [
    "# so this bit is wrong, let's fix it\n",
    "# you must include the 'up' parameter\n",
    "u_qry = sql_update(up='drivers')\n",
    "u_qry.set_(attr='code', val='VER')"
   ]
  },
  {
   "cell_type": "code",
   "execution_count": 178,
   "metadata": {},
   "outputs": [
    {
     "name": "stdout",
     "output_type": "stream",
     "text": [
      "UPDATE drivers SET code = \"VER\"  WHERE driverId = 830\n"
     ]
    }
   ],
   "source": [
    "# you can use the where, but just set this in the u_qry bit like this, but didn't work on the first pass\n",
    "# u_qry = sql_update(up='drivers', wh=dataUpdate.wh)\n",
    "\n",
    "\n",
    "\n",
    "u_qry.where(attr='driverId', cond=830)\n",
    "print(u_qry)"
   ]
  },
  {
   "cell_type": "code",
   "execution_count": 179,
   "metadata": {},
   "outputs": [],
   "source": [
    "from sqlalchemy.sql import text"
   ]
  },
  {
   "cell_type": "code",
   "execution_count": 180,
   "metadata": {},
   "outputs": [],
   "source": [
    " with engine.connect() as con :\n",
    "        con.execute(text(str(u_qry)))\n",
    "  # don't forget to import txt!\n"
   ]
  },
  {
   "cell_type": "code",
   "execution_count": 181,
   "metadata": {},
   "outputs": [
    {
     "data": {
      "text/html": [
       "<div>\n",
       "<style scoped>\n",
       "    .dataframe tbody tr th:only-of-type {\n",
       "        vertical-align: middle;\n",
       "    }\n",
       "\n",
       "    .dataframe tbody tr th {\n",
       "        vertical-align: top;\n",
       "    }\n",
       "\n",
       "    .dataframe thead th {\n",
       "        text-align: right;\n",
       "    }\n",
       "</style>\n",
       "<table border=\"1\" class=\"dataframe\">\n",
       "  <thead>\n",
       "    <tr style=\"text-align: right;\">\n",
       "      <th></th>\n",
       "      <th>forename</th>\n",
       "      <th>surname</th>\n",
       "      <th>code</th>\n",
       "    </tr>\n",
       "  </thead>\n",
       "  <tbody>\n",
       "    <tr>\n",
       "      <th>0</th>\n",
       "      <td>Max</td>\n",
       "      <td>Verstappen</td>\n",
       "      <td>VER</td>\n",
       "    </tr>\n",
       "  </tbody>\n",
       "</table>\n",
       "</div>"
      ],
      "text/plain": [
       "  forename     surname code\n",
       "0      Max  Verstappen  VER"
      ]
     },
     "execution_count": 181,
     "metadata": {},
     "output_type": "execute_result"
    }
   ],
   "source": [
    "dataUpdate2 = pd.read_sql_query(str(s_qry_driversUpdate), con=engine)\n",
    "dataUpdate2.head()"
   ]
  },
  {
   "cell_type": "code",
   "execution_count": null,
   "metadata": {},
   "outputs": [],
   "source": []
  }
 ],
 "metadata": {
  "kernelspec": {
   "display_name": "Python 3",
   "language": "python",
   "name": "python3"
  },
  "language_info": {
   "codemirror_mode": {
    "name": "ipython",
    "version": 3
   },
   "file_extension": ".py",
   "mimetype": "text/x-python",
   "name": "python",
   "nbconvert_exporter": "python",
   "pygments_lexer": "ipython3",
   "version": "3.7.6"
  }
 },
 "nbformat": 4,
 "nbformat_minor": 4
}
