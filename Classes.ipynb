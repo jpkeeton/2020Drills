{
 "cells": [
  {
   "cell_type": "markdown",
   "metadata": {},
   "source": [
    "**Classes**"
   ]
  },
  {
   "cell_type": "markdown",
   "metadata": {},
   "source": [
    "1. used to organize code combining data and actions\n",
    "2. to use a class, create an *instance*\n",
    "3. attribute - a variable associated with a class\n",
    "4. method - a function associated with a class\n",
    "5. convention - start class names with a capital letter\n",
    "6. the __init__() method runs automatically\n",
    "7. __init__() requires one argument and one optional parameter\n",
    "7.5. all classes hava a function called __init__(), which is always executed when the class is being initiated\n",
    "8. first parameter, self, references the current instance of the class\n",
    "9. a class is like a blueprint for creating objects"
   ]
  },
  {
   "cell_type": "code",
   "execution_count": 18,
   "metadata": {},
   "outputs": [],
   "source": [
    "# Class example, from Python Flash Cards\n",
    "class Trail():\n",
    "    \"\"\" this is a class to represent trails, like hiking trails\"\"\"\n",
    "    def __init__(self, dest, len=0):\n",
    "        self.dest = dest\n",
    "        self.len = len"
   ]
  },
  {
   "cell_type": "code",
   "execution_count": 19,
   "metadata": {},
   "outputs": [],
   "source": [
    "# here is another example, from https://www.w3schools.com/python/python_classes.asp\n",
    "class Person:\n",
    "    def __init__(self, name, age):\n",
    "        self.name = name\n",
    "        self.age = age"
   ]
  },
  {
   "cell_type": "code",
   "execution_count": 20,
   "metadata": {},
   "outputs": [],
   "source": [
    "p1 = Person(\"John\", 35)"
   ]
  },
  {
   "cell_type": "code",
   "execution_count": 21,
   "metadata": {},
   "outputs": [
    {
     "name": "stdout",
     "output_type": "stream",
     "text": [
      "<__main__.Person object at 0x00000262F816A508>\n",
      "John\n",
      "35\n"
     ]
    }
   ],
   "source": [
    "print(p1)\n",
    "print(p1.name)\n",
    "print(p1.age)"
   ]
  },
  {
   "cell_type": "code",
   "execution_count": 22,
   "metadata": {},
   "outputs": [],
   "source": [
    "# now let's create my own, how about bikes?\n",
    "class Bike():\n",
    "    \"\"\"this class will represent bicycles\"\"\"\n",
    "    def __init__(self, wheelSize, discipline, make, model):\n",
    "        self.wheelSize = wheelSize\n",
    "        self.discipline = discipline\n",
    "        self.make = make\n",
    "        self.model = model"
   ]
  },
  {
   "cell_type": "code",
   "execution_count": 23,
   "metadata": {},
   "outputs": [],
   "source": [
    "bike1 = Bike(700, \"gravel\", \"Trek\", \"Checkpoint\")"
   ]
  },
  {
   "cell_type": "code",
   "execution_count": 24,
   "metadata": {},
   "outputs": [
    {
     "name": "stdout",
     "output_type": "stream",
     "text": [
      "700\n",
      "gravel\n",
      "Trek\n",
      "Checkpoint\n"
     ]
    }
   ],
   "source": [
    "print(bike1.wheelSize)\n",
    "print(bike1.discipline)\n",
    "print(bike1.make)\n",
    "print(bike1.model)"
   ]
  },
  {
   "cell_type": "code",
   "execution_count": 25,
   "metadata": {},
   "outputs": [],
   "source": [
    "#Let's do another class\n",
    "class snowboard():\n",
    "    \"\"\"setting up for a snowboard class\"\"\"\n",
    "    def __init__(self, length, width, make, model):\n",
    "        self.length = length\n",
    "        self.width = width\n",
    "        self.make = make\n",
    "        self.model = model"
   ]
  },
  {
   "cell_type": "code",
   "execution_count": 26,
   "metadata": {},
   "outputs": [],
   "source": [
    "oldBoard = snowboard(156, 28, \"Libtech\", \"Attack Banana\")"
   ]
  },
  {
   "cell_type": "code",
   "execution_count": 27,
   "metadata": {},
   "outputs": [
    {
     "name": "stdout",
     "output_type": "stream",
     "text": [
      "<class '__main__.snowboard'>\n"
     ]
    }
   ],
   "source": [
    "print(snowboard)"
   ]
  },
  {
   "cell_type": "code",
   "execution_count": 28,
   "metadata": {},
   "outputs": [],
   "source": [
    "# # another from this tutorial - https://www.youtube.com/watch?v=wfcWRAxRVBA\n",
    "# class Robot:\n",
    "#     def introduce_self(self):\n",
    "#         print(\"My name is \" + self.name)\n",
    "#         # 'self' refers to whatever object we're running this function on      "
   ]
  },
  {
   "cell_type": "code",
   "execution_count": 29,
   "metadata": {},
   "outputs": [],
   "source": [
    "# # create an object out of this class, with the default Python constructor\n",
    "# r1 = Robot()"
   ]
  },
  {
   "cell_type": "code",
   "execution_count": 30,
   "metadata": {},
   "outputs": [],
   "source": [
    "# # now set the attributes of the r1 object and when you run this cell a new object has been created, \n",
    "# # it's assigned to r1 and it's attributes have been set\n",
    "# r1.name = \"Tom\"\n",
    "# r1.color = \"red\"\n",
    "# r1.weight = 30 "
   ]
  },
  {
   "cell_type": "code",
   "execution_count": 31,
   "metadata": {},
   "outputs": [],
   "source": [
    "# r1.introduce_self()"
   ]
  },
  {
   "cell_type": "code",
   "execution_count": 32,
   "metadata": {},
   "outputs": [],
   "source": [
    "# # now let's create another Robot object and set it's attributes\n",
    "# r2 = Robot()\n",
    "# r2.name = \"Jerry\"\n",
    "# r2.color = \"blue\"\n",
    "# r2.weight = 40"
   ]
  },
  {
   "cell_type": "code",
   "execution_count": 33,
   "metadata": {},
   "outputs": [],
   "source": [
    "# now run this method\n",
    "# r2.introduce_self()"
   ]
  },
  {
   "cell_type": "code",
   "execution_count": 42,
   "metadata": {},
   "outputs": [],
   "source": [
    "# now let's use a contstructor to help with attribute errors, \n",
    "# like if your object attribute and is mispelled in the attribute vs function\n",
    "class Robot:\n",
    "    def __init__(self, name, color, weight):\n",
    "        # this block of code is setting set this object's name to givenName, etc\n",
    "        # it's common practice to name your arguments above the same as your attributes below\n",
    "        self.name = name\n",
    "        self.color = color \n",
    "        self.weight = weight\n",
    "        \n",
    "    def introduce_self(self):\n",
    "        print(\"My name is \" + self.name)\n",
    "     \n"
   ]
  },
  {
   "cell_type": "code",
   "execution_count": 46,
   "metadata": {},
   "outputs": [],
   "source": [
    "r1 = Robot(\"Tom\", \"red\", 30)\n",
    "r2 = Robot(\"Jerry\", \"blue\", 40)"
   ]
  },
  {
   "cell_type": "code",
   "execution_count": 49,
   "metadata": {},
   "outputs": [
    {
     "name": "stdout",
     "output_type": "stream",
     "text": [
      "My name is Tom\n",
      "My name is Jerry\n"
     ]
    }
   ],
   "source": [
    "r1.introduce_self()\n",
    "r2.introduce_self()"
   ]
  },
  {
   "cell_type": "code",
   "execution_count": null,
   "metadata": {},
   "outputs": [],
   "source": []
  }
 ],
 "metadata": {
  "kernelspec": {
   "display_name": "Python 3",
   "language": "python",
   "name": "python3"
  },
  "language_info": {
   "codemirror_mode": {
    "name": "ipython",
    "version": 3
   },
   "file_extension": ".py",
   "mimetype": "text/x-python",
   "name": "python",
   "nbconvert_exporter": "python",
   "pygments_lexer": "ipython3",
   "version": "3.7.6"
  }
 },
 "nbformat": 4,
 "nbformat_minor": 4
}
