{
 "cells": [
  {
   "cell_type": "markdown",
   "metadata": {},
   "source": [
    "**Classes**"
   ]
  },
  {
   "cell_type": "markdown",
   "metadata": {},
   "source": [
    "1. used to organize code combining data and actions\n",
    "2. to use a class, create an *instance*\n",
    "3. attribute - a variable associated with a class\n",
    "4. method - a function associated with a class\n",
    "5. convention - start class names with a capital letter\n",
    "6. the __init__() method runs automatically\n",
    "7. __init__() requires one argument and one optional parameter\n",
    "8. all classes hava a function called __init__(), which is always executed when the class is being initiated\n",
    "9. first parameter, self, references the current instance of the class\n",
    "10. a class is like a blueprint for creating objects\n",
    "11. when creating classe, don't bother with the parenthese after the class name, unless you are subclassing other classes, which would look like 'class TestClass(subclass):'\n",
    "12. self - any variable prefixed with with 'self' is available to every method in the class\n",
    "13. more on self - required in the method definition, must come first, when Python call the __init__ method to create an instance of the class, the method will automatically pass the self argument."
   ]
  },
  {
   "cell_type": "code",
   "execution_count": 169,
   "metadata": {},
   "outputs": [],
   "source": [
    "# Class example, from Python Flash Cards\n",
    "class Trail:\n",
    "    \"\"\" this is a class to represent trails, like hiking trails\"\"\"\n",
    "    def __init__(self, dest, len=0):\n",
    "        self.dest = dest\n",
    "        self.len = len"
   ]
  },
  {
   "cell_type": "code",
   "execution_count": 170,
   "metadata": {},
   "outputs": [],
   "source": [
    "# here is another example, from https://www.w3schools.com/python/python_classes.asp\n",
    "class Person:\n",
    "    def __init__(self, name, age):\n",
    "        self.name = name\n",
    "        self.age = age"
   ]
  },
  {
   "cell_type": "code",
   "execution_count": 171,
   "metadata": {},
   "outputs": [],
   "source": [
    "p1 = Person(\"John\", 35)"
   ]
  },
  {
   "cell_type": "code",
   "execution_count": 172,
   "metadata": {},
   "outputs": [
    {
     "name": "stdout",
     "output_type": "stream",
     "text": [
      "<__main__.Person object at 0x00000262F8185708>\n",
      "John\n",
      "35\n"
     ]
    }
   ],
   "source": [
    "print(p1)\n",
    "print(p1.name)\n",
    "print(p1.age)"
   ]
  },
  {
   "cell_type": "code",
   "execution_count": 173,
   "metadata": {},
   "outputs": [],
   "source": [
    "# now let's create my own, how about bikes?\n",
    "class Bike:\n",
    "    \"\"\"this class will represent bicycles\"\"\"\n",
    "    def __init__(self, wheelSize, discipline, make, model):\n",
    "        self.wheelSize = wheelSize\n",
    "        self.discipline = discipline\n",
    "        self.make = make\n",
    "        self.model = model\n",
    "        \n",
    "    def bike_details(self):\n",
    "        print(\"My main \" + self.discipline + \" bike is a \" + self.make + \" \" + self.model +\".\") \n",
    "    \n",
    "    \n",
    "#     def introduce_self(self):\n",
    "#         print(\"My name is \" + self.name)"
   ]
  },
  {
   "cell_type": "code",
   "execution_count": 174,
   "metadata": {},
   "outputs": [],
   "source": [
    "bike1 = Bike(700, \"gravel\", \"Trek\", \"Checkpoint\")\n",
    "bike2 = Bike(700, \"do it all\", \"Bianchi\", \"Volpe\")\n",
    "bike3 = Bike(26, \"urban assault\", \"Trek\", \"Antelope\")\n",
    "bike4 = Bike(26, \"full squish\", \"Specialized\", \"SX Trail II\")\n",
    "bike5 = Bike(26, \"hard tail\", \"KHS\", \"Alite 1000\")"
   ]
  },
  {
   "cell_type": "code",
   "execution_count": 175,
   "metadata": {},
   "outputs": [
    {
     "name": "stdout",
     "output_type": "stream",
     "text": [
      "700\n",
      "gravel\n",
      "Trek\n",
      "Checkpoint\n"
     ]
    }
   ],
   "source": [
    "print(bike1.wheelSize)\n",
    "print(bike1.discipline)\n",
    "print(bike1.make)\n",
    "print(bike1.model)"
   ]
  },
  {
   "cell_type": "code",
   "execution_count": 176,
   "metadata": {},
   "outputs": [
    {
     "name": "stdout",
     "output_type": "stream",
     "text": [
      "My main gravel bike is a Trek Checkpoint.\n",
      "My main do it all bike is a Bianchi Volpe.\n",
      "My main urban assault bike is a Trek Antelope.\n",
      "My main full squish bike is a Specialized SX Trail II.\n",
      "My main hard tail bike is a KHS Alite 1000.\n"
     ]
    }
   ],
   "source": [
    "# Let's get the details for bike 1\n",
    "bike1.bike_details()\n",
    "bike2.bike_details()\n",
    "bike3.bike_details()\n",
    "bike4.bike_details()\n",
    "bike5.bike_details()"
   ]
  },
  {
   "cell_type": "code",
   "execution_count": 190,
   "metadata": {},
   "outputs": [],
   "source": [
    "#Let's do another class\n",
    "class snowboard:\n",
    "    \"\"\"setting up for a snowboard class\"\"\"\n",
    "    def __init__(self, length, width, make, model):\n",
    "        self.length = length\n",
    "        self.width = width\n",
    "        self.make = make\n",
    "        self.model = model"
   ]
  },
  {
   "cell_type": "code",
   "execution_count": 191,
   "metadata": {},
   "outputs": [],
   "source": [
    "oldBoard = snowboard(156, 28, \"Libtech\", \"Attack Banana\")"
   ]
  },
  {
   "cell_type": "code",
   "execution_count": 192,
   "metadata": {},
   "outputs": [
    {
     "name": "stdout",
     "output_type": "stream",
     "text": [
      "<class '__main__.snowboard'>\n"
     ]
    }
   ],
   "source": [
    "print(snowboard)"
   ]
  },
  {
   "cell_type": "code",
   "execution_count": 180,
   "metadata": {},
   "outputs": [],
   "source": [
    "# # another from this tutorial - https://www.youtube.com/watch?v=wfcWRAxRVBA\n",
    "# class Robot:\n",
    "#     def introduce_self(self):\n",
    "#         print(\"My name is \" + self.name)\n",
    "#         # 'self' refers to whatever object we're running this function on      "
   ]
  },
  {
   "cell_type": "code",
   "execution_count": 181,
   "metadata": {},
   "outputs": [],
   "source": [
    "# # create an object out of this class, with the default Python constructor\n",
    "# r1 = Robot()"
   ]
  },
  {
   "cell_type": "code",
   "execution_count": 182,
   "metadata": {},
   "outputs": [],
   "source": [
    "# # now set the attributes of the r1 object and when you run this cell a new object has been created, \n",
    "# # it's assigned to r1 and it's attributes have been set\n",
    "# r1.name = \"Tom\"\n",
    "# r1.color = \"red\"\n",
    "# r1.weight = 30 "
   ]
  },
  {
   "cell_type": "code",
   "execution_count": 183,
   "metadata": {},
   "outputs": [],
   "source": [
    "# r1.introduce_self()"
   ]
  },
  {
   "cell_type": "code",
   "execution_count": 184,
   "metadata": {},
   "outputs": [],
   "source": [
    "# # now let's create another Robot object and set it's attributes\n",
    "# r2 = Robot()\n",
    "# r2.name = \"Jerry\"\n",
    "# r2.color = \"blue\"\n",
    "# r2.weight = 40"
   ]
  },
  {
   "cell_type": "code",
   "execution_count": 185,
   "metadata": {},
   "outputs": [],
   "source": [
    "# now run this method\n",
    "# r2.introduce_self()"
   ]
  },
  {
   "cell_type": "code",
   "execution_count": 186,
   "metadata": {},
   "outputs": [],
   "source": [
    "# now let's use a contstructor to help with attribute errors, \n",
    "# like if your object attribute and is mispelled in the attribute vs function\n",
    "class Robot:\n",
    "    def __init__(self, name, color, weight):\n",
    "        # this block of code is setting set this object's name to givenName, etc\n",
    "        # it's common practice to name your arguments above the same as your attributes below\n",
    "        self.name = name\n",
    "        self.color = color \n",
    "        self.weight = weight\n",
    "        \n",
    "    def introduce_self(self):\n",
    "        print(\"My name is \" + self.name)\n",
    "     \n"
   ]
  },
  {
   "cell_type": "code",
   "execution_count": 187,
   "metadata": {},
   "outputs": [],
   "source": [
    "r1 = Robot(\"Tom\", \"red\", 30)\n",
    "r2 = Robot(\"Jerry\", \"blue\", 40)"
   ]
  },
  {
   "cell_type": "code",
   "execution_count": 188,
   "metadata": {},
   "outputs": [
    {
     "name": "stdout",
     "output_type": "stream",
     "text": [
      "My name is Tom\n",
      "My name is Jerry\n"
     ]
    }
   ],
   "source": [
    "r1.introduce_self()\n",
    "r2.introduce_self()"
   ]
  },
  {
   "cell_type": "code",
   "execution_count": 200,
   "metadata": {},
   "outputs": [],
   "source": [
    "# another class example, this time from Python Crash Course book, page 162\n",
    "class Dog:\n",
    "    \"\"\"a simple attempt to model a dog\"\"\"\n",
    "    \n",
    "    def __init__(self, name, age):\n",
    "        \"\"\"inititalize name and age attributes\"\"\"\n",
    "        self.name = name\n",
    "        self.age - age\n",
    "        \n",
    "    def sit(self):\n",
    "        \"\"\"simulate a dog sitting in response to a command.\"\"\"\n",
    "        print(self.name.title() + \" is now sitting.\")\n",
    "        \n",
    "    def roll_over(self):\n",
    "        \"\"\"simulate a dog rolling over\"\"\"\n",
    "        print(self.name.title() + \" rolled over!\")\n",
    "        "
   ]
  },
  {
   "cell_type": "code",
   "execution_count": null,
   "metadata": {},
   "outputs": [],
   "source": []
  }
 ],
 "metadata": {
  "kernelspec": {
   "display_name": "Python 3",
   "language": "python",
   "name": "python3"
  },
  "language_info": {
   "codemirror_mode": {
    "name": "ipython",
    "version": 3
   },
   "file_extension": ".py",
   "mimetype": "text/x-python",
   "name": "python",
   "nbconvert_exporter": "python",
   "pygments_lexer": "ipython3",
   "version": "3.7.6"
  }
 },
 "nbformat": 4,
 "nbformat_minor": 4
}
