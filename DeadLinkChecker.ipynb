{
 "cells": [
  {
   "cell_type": "markdown",
   "metadata": {},
   "source": [
    "Dead Link Checker"
   ]
  },
  {
   "cell_type": "markdown",
   "metadata": {},
   "source": [
    "First challenge/project: \n",
    "\n",
    "** *** Dead link tester *** **\n",
    "\n",
    "\n",
    "* User enters a web site address.\n",
    "* Program accesses site and checks all page resources (e.g., js files, css files, images, etc.).\n",
    "* Program notes any that are \"dead.\"\n",
    "* Program follows href addresses on the page and repeats the test.\n",
    "* Program stays in the same domain.\n",
    "* Program has a \"depth\" limit on following href-chains \n",
    "    ** (e.g., don't go more than 10 pages \"deep\" into a site).\n",
    "* Program does not perform a repeat test of any page or link.\n",
    "* Program has a total pages test limit.\n",
    "* Program should have a time limit safety.\n",
    "* Program should have a throttle setting (number of tests per second or similar).\n",
    "* Program should test javascript-generated content as well.\n",
    "* Final report should go to console and text file (plain text, but human readable).\n",
    "    * Report should show, for each page tested, the main URL, links on the page, total dead ones.\n",
    "    * Report should show the total test time.\n",
    "    * Program shows progress on console during testing.\n",
    "\n",
    "Use whatever common modules are needed to accomplish the task. Likely needs include Splinter or Selenium. Requests and BeautifulSoup might end up being useful, too.\n",
    "\n",
    "Optional: Create process such that the test is automatically executed once per day and sends an alert to an admin if any problems are encountered."
   ]
  },
  {
   "cell_type": "markdown",
   "metadata": {},
   "source": [
    "To Do:\n",
    "1. Study Splinter"
   ]
  }
 ],
 "metadata": {
  "kernelspec": {
   "display_name": "Python 3",
   "language": "python",
   "name": "python3"
  },
  "language_info": {
   "codemirror_mode": {
    "name": "ipython",
    "version": 3
   },
   "file_extension": ".py",
   "mimetype": "text/x-python",
   "name": "python",
   "nbconvert_exporter": "python",
   "pygments_lexer": "ipython3",
   "version": "3.7.6"
  }
 },
 "nbformat": 4,
 "nbformat_minor": 4
}
