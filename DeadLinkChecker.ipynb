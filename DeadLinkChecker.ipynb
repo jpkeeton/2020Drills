{
 "cells": [
  {
   "cell_type": "markdown",
   "metadata": {},
   "source": [
    "**Dead Link Tester**"
   ]
  },
  {
   "cell_type": "markdown",
   "metadata": {},
   "source": [
    "First challenge/project: \n",
    "\n",
    "1. User enters a web site address.\n",
    "    * JK - this is from the command line ya?\n",
    "        * JK - not a GUI? though that'd be cool\n",
    "2. Program accesses site and checks all page resources (e.g., js files, css files, images, etc.).\n",
    "    * JK - so page is launched and \n",
    "    * JK - starts looking or just HREFs or, actually evertyhing?\n",
    "* Program notes any that are \"dead.\"\n",
    "    * JK - like pgm will open a tab or window and check for 404?\n",
    "* Program follows href addresses on the page and repeats the test.\n",
    "    * JK - yah like above, should \n",
    "* Program stays in the same domain.\n",
    "    * JK - should be fine, don't leave\n",
    "* Program has a \"depth\" limit on following href-chains \n",
    "    * ** (e.g., don't go more than 10 pages \"deep\" into a site).\n",
    "* Program does not perform a repeat test of any page or link.\n",
    "    * JK - ok, not sure how that'd work\n",
    "* Program has a total pages test limit.\n",
    "    * JK - ok, not sure how that'd work\n",
    "* Program should have a time limit safety.\n",
    "    * JK - like if run time = > n seconds\n",
    "        * JK - break out and quit, close the application\n",
    "* Program should have a throttle setting (number of tests per second or similar).\n",
    "    * JK - something like a sleep/wait or whatever\n",
    "* Program should test javascript-generated content as well.\n",
    "    * JK - that can probably done with xpath\n",
    "* Final report should go to console and text file (plain text, but human readable).\n",
    "    * Report should show, for each page tested, the main URL, links on the page, total dead ones.\n",
    "    * Report should show the total test time.\n",
    "    * Program shows progress on console during testing.\n",
    "\n",
    "Use whatever common modules are needed to accomplish the task. Likely needs include Splinter or Selenium. Requests and BeautifulSoup might end up being useful, too.\n",
    "\n",
    "Optional: Create process such that the test is automatically executed once per day and sends an alert to an admin if any problems are encountered."
   ]
  },
  {
   "cell_type": "markdown",
   "metadata": {},
   "source": [
    "To Do:\n",
    "* Study Splinter\n",
    "* \n",
    "* \n"
   ]
  },
  {
   "cell_type": "code",
   "execution_count": null,
   "metadata": {},
   "outputs": [],
   "source": [
    "# Splinter\n",
    "# https://www.youtube.com/watch?v=ApA7EVwSzg0\n",
    "# seems to be often used alongside Selenium"
   ]
  },
  {
   "cell_type": "code",
   "execution_count": null,
   "metadata": {},
   "outputs": [],
   "source": [
    "# look at my other selenium and see if i'm pullin in the chromedriver\n",
    "# https://github.com/jpkeeton/2020Drills/blob/master/SeleniumStudies.ipynb"
   ]
  },
  {
   "cell_type": "code",
   "execution_count": null,
   "metadata": {},
   "outputs": [],
   "source": [
    "from selenium import webdriver\n",
    "# The Keys class provide keys in the keyboard like RETURN, F1, ALT etc.\n",
    "from selenium.webdriver.common.keys import Keys\n",
    "\n",
    "# pointing to the specific version here\n",
    "# so here, driver is a variable and the \n",
    "driver = webdriver.Chrome(executable_path=r'C:\\Users\\jpkee\\Downloads\\chromedriver_win32\\chromedriver.exe')\n",
    "print('starting test')\n",
    "\n",
    "\n",
    "# the driver.get method will navigate to a page given by the URL\n",
    "# Webdriver will wait unti lthe page has fully loaded, aka the 'onload' event has fired\n",
    "driver.get(\"http://www.python.org\")\n",
    "\n",
    "# just a print statement for fun/tracking\n",
    "print(\"Kickin' off the test!\")\n",
    "assert \"Python\" in driver.title\n",
    "\n",
    "# Close\n",
    "print('Closing the Browser')\n",
    "driver.close()"
   ]
  },
  {
   "cell_type": "markdown",
   "metadata": {},
   "source": [
    "Config Module\n",
    "* module for configuring Python programs \n",
    "* aims to offer more power and flexibility than existing ConfigParser module\n"
   ]
  },
  {
   "cell_type": "code",
   "execution_count": null,
   "metadata": {},
   "outputs": [],
   "source": [
    "# More Splinter Work\n",
    "# https://www.youtube.com/watch?v=ApA7EVwSzg0\n",
    "from splinter import Browser\n",
    "from selenium import webdriver\n",
    "# from config import username, password\n",
    "\n",
    "\n",
    "executable_path={'executable_path':r'C:\\Users\\jpkee\\Downloads\\chromedriver_win32\\chromedriver.exe'}\n",
    "print('Starting test')\n",
    "\n",
    "\n",
    "#set some default behaviors for browser\n",
    "options = webdriver.ChromeOptions()\n",
    "\n",
    "# Maximize windows\n",
    "print('Maximizing window')\n",
    "options.add_argument(\"--start-maximized\")\n",
    "\n",
    "# Disable notifications\n",
    "options.add_argument(\"--disable-notifications\")\n",
    "\n",
    "# create the browser and call the ex. path variable\n",
    "# and we'll use headless = False so the brower will actually launch\n",
    "browser = Browser('chrome', **executable_path, headless=True)\n",
    "browser.visit(\"http://www.python.org\")\n",
    "\n",
    "# assert \"Python\" in browser.title\n",
    "\n",
    "searchy = \"Pythond\"\n",
    "if searchy in browser.title:\n",
    "    print('Found it')\n",
    "else:\n",
    "    print('Nope, not there')\n",
    "    \n",
    "print('Ending test')\n",
    "browser.quit()\n",
    "\n",
    "# Next Steps, point to a different site, twitter?\n",
    "# grab some fields\n",
    "# put the fields into a list?\n",
    "\n",
    "# So got it running headless and put the search term into a variable\n",
    "# used the variable in an if/else statement"
   ]
  },
  {
   "cell_type": "code",
   "execution_count": null,
   "metadata": {},
   "outputs": [],
   "source": []
  },
  {
   "cell_type": "code",
   "execution_count": 23,
   "metadata": {},
   "outputs": [
    {
     "name": "stdout",
     "output_type": "stream",
     "text": [
      "Please enter your fully qualified domain name: http://www.python.org\n",
      "Hold please, we're checking....\n",
      "We found the Python website\n",
      "Ending test\n"
     ]
    }
   ],
   "source": [
    "# set imports\n",
    "from splinter import Browser\n",
    "from selenium import webdriver\n",
    "\n",
    "# from BeautifulSoup import BeautifulSoup\n",
    "from bs4 import BeautifulSoup\n",
    "\n",
    "import urllib\n",
    "import re\n",
    "\n",
    "# User enters a web site address.\n",
    "site_to_visit = input(\"Please enter your fully qualified domain name: \") \n",
    "\n",
    "# driver location\n",
    "executable_path={'executable_path':r'C:\\Users\\jpkee\\Downloads\\chromedriver_win32\\chromedriver.exe'}\n",
    "# create a browser instance\n",
    "browser = Browser('chrome', **executable_path, headless=False)\n",
    "\n",
    "# stick the user input into the visit method\n",
    "print('Hold please, we\\'re checking....')\n",
    "browser.visit(site_to_visit)\n",
    "\n",
    "site_confirmation_text = \"Welcome to Python.org\"\n",
    "if site_confirmation_text in browser.title:\n",
    "    print('We found the Python website')\n",
    "else:\n",
    "    print('Misfire')\n",
    "\n",
    "# # start grabbing all the hrefs\n",
    "# soup = BeautifulSoup(site_to_visit)\n",
    "# for link in soup.findAll('a', attrs={'href': re.compile(\"^http://\")}):\n",
    "#     print link.get('href')\n",
    "    \n",
    "    \n",
    "print('Ending test')\n",
    "browser.quit()\n"
   ]
  },
  {
   "cell_type": "code",
   "execution_count": null,
   "metadata": {},
   "outputs": [],
   "source": [
    "# Now to get all the links\n",
    "soup = BeautifulSoup(html_page)\n",
    "for link in soup.findAll('a', attrs={'href': re.compile(\"^http://\")}):\n",
    "    print link.get('href')"
   ]
  },
  {
   "cell_type": "code",
   "execution_count": 20,
   "metadata": {},
   "outputs": [
    {
     "name": "stdout",
     "output_type": "stream",
     "text": [
      "http://video.arstechnica.com/\n",
      "http://arstechnica.com/?view=grid\n",
      "http://arstechnica.com/?view=archive\n",
      "http://arstechnica.com/?theme=light\n",
      "http://arstechnica.com/?theme=dark\n",
      "http://arstechnica.com/?view=mobile\n",
      "http://condenast.com/\n"
     ]
    }
   ],
   "source": [
    "# from BeautifulSoup import BeautifulSoup\n",
    "from bs4 import BeautifulSoup\n",
    "from urllib.request import urlopen\n",
    "import re\n",
    "\n",
    "\n",
    "# html = urlopen(\"http://www.google.com/\").read()\n",
    "# print(html)\n",
    "\n",
    "html_page = urllib.request.urlopen(\"https://arstechnica.com\").read()\n",
    "soup = BeautifulSoup(html_page)\n",
    "for link in soup.findAll('a', attrs={'href': re.compile(\"^http://\")}):\n",
    "#     print link.get('href')\n",
    "    print(link.get('href'))"
   ]
  },
  {
   "cell_type": "code",
   "execution_count": 19,
   "metadata": {},
   "outputs": [
    {
     "name": "stdout",
     "output_type": "stream",
     "text": [
      "b'<!doctype html><html itemscope=\"\" itemtype=\"http://schema.org/WebPage\" lang=\"en\"><head><meta content=\"Search the world\\'s information, including webpages, images, videos and more. Google has many special features to help you find exactly what you\\'re looking for.\" name=\"description\"><meta content=\"noodp\" name=\"robots\"><meta content=\"text/html; charset=UTF-8\" http-equiv=\"Content-Type\"><meta content=\"/images/branding/googleg/1x/googleg_standard_color_128dp.png\" itemprop=\"image\"><title>Google</title><script nonce=\"dfj0CYFhAZ2N1LawJHxxVA==\">(function(){window.google={kEI:\\'Ju51X9_2HsLE-gTl_KzwDQ\\',kEXPI:\\'0,18167,183995,1151585,5662,731,223,5105,206,3204,10,1226,364,1499,611,206,383,246,5,1185,169,648,639,2586,227,50,264,3,65,308,146,317,214,271,2,11,867,111,454,319,90,136,189,65,726,240,256,1118562,1197713,570,7,302672,26305,13677,4855,32692,16111,28687,9188,8384,4858,1362,9291,3026,4741,2648,8385,1808,4020,978,7931,5297,2054,920,873,6976,3646,1142,13386,4516,1397,1381,921,2275,8,85,2711,1593,1279,2212,530,149,1103,841,516,1466,56,157,4101,312,1135,1,3,2049,620,2023,1777,143,377,1947,2219,103,330,1282,17,2926,2247,1812,1787,3227,1990,855,7,5599,469,6286,4454,642,6134,1742,4929,108,3407,908,2,941,2614,2397,7468,1,219,10,1477,1138,432,3,346,1200,44,1,820,1,2550,2073,149,189,3312,2489,2252,3942,1791,4,1528,1695,609,224,1014,269,874,405,1860,2393,74,615,821,281,52,75,4,135,2163,464,459,1555,4,5098,1316,2018,93,175,997,1426,69,305,1016,1294,1514,1299,1407,344,690,1542,426,239,1934,2070,518,912,565,688,431,30,1173,130,2551,139,3094,990,52,1773,1011,246,1475,994,850,80,368,1,1006,638,37,109,519,1,889,69,360,115,2,572,1,1,1001,64,1729,4,3,994,610,2361,503,296,2295,1388,64,51,262,554,2,73,403,464,320,23,1,6,314,385,28,11,731,42,22,97,504,112,144,104,1162,430,194,113,12,1009,171,54,408,2,772,455,148,528,139,1064,3,1035,606,1963,5752835,3591,5997108,2801217,549,333,444,1,2,80,1,900,896,1,9,2,2551,1,748,141,59,736,563,1,4265,1,1,2,1017,9,305,3299,248,595,1,529,1,34,76,38,60,4,44,2,33,12,24,1,7,2,1,1,1,1,1,6,1,6,11,1,1,1,23959362,52,2700389,15696\\',kBL:\\'_x1E\\'};google.sn=\\'webhp\\';google.kHL=\\'en\\';})();(function(){google.lc=[];google.li=0;google.getEI=function(a){for(var c;a&&(!a.getAttribute||!(c=a.getAttribute(\"eid\")));)a=a.parentNode;return c||google.kEI};google.getLEI=function(a){for(var c=null;a&&(!a.getAttribute||!(c=a.getAttribute(\"leid\")));)a=a.parentNode;return c};google.ml=function(){return null};google.time=function(){return Date.now()};google.log=function(a,c,b,d,g){if(b=google.logUrl(a,c,b,d,g)){a=new Image;var e=google.lc,f=google.li;e[f]=a;a.onerror=a.onload=a.onabort=function(){delete e[f]};google.vel&&google.vel.lu&&google.vel.lu(b);a.src=b;google.li=f+1}};google.logUrl=function(a,c,b,d,g){var e=\"\",f=google.ls||\"\";b||-1!=c.search(\"&ei=\")||(e=\"&ei=\"+google.getEI(d),-1==c.search(\"&lei=\")&&(d=google.getLEI(d))&&(e+=\"&lei=\"+d));d=\"\";!b&&google.cshid&&-1==c.search(\"&cshid=\")&&\"slh\"!=a&&(d=\"&cshid=\"+google.cshid);b=b||\"/\"+(g||\"gen_204\")+\"?atyp=i&ct=\"+a+\"&cad=\"+c+e+f+\"&zx=\"+google.time()+d;/^http:/i.test(b)&&\"https:\"==window.location.protocol&&(google.ml(Error(\"a\"),!1,{src:b,glmm:1}),b=\"\");return b};}).call(this);(function(){google.y={};google.x=function(a,b){if(a)var c=a.id;else{do c=Math.random();while(google.y[c])}google.y[c]=[a,b];return!1};google.lm=[];google.plm=function(a){google.lm.push.apply(google.lm,a)};google.lq=[];google.load=function(a,b,c){google.lq.push([[a],b,c])};google.loadAll=function(a,b){google.lq.push([a,b])};}).call(this);google.f={};(function(){\\ndocument.documentElement.addEventListener(\"submit\",function(b){var a;if(a=b.target){var c=a.getAttribute(\"data-submitfalse\");a=\"1\"==c||\"q\"==c&&!a.elements.q.value?!0:!1}else a=!1;a&&(b.preventDefault(),b.stopPropagation())},!0);document.documentElement.addEventListener(\"click\",function(b){var a;a:{for(a=b.target;a&&a!=document.documentElement;a=a.parentElement)if(\"A\"==a.tagName){a=\"1\"==a.getAttribute(\"data-nohref\");break a}a=!1}a&&b.preventDefault()},!0);}).call(this);\\nvar a=window.location,b=a.href.indexOf(\"#\");if(0<=b){var c=a.href.substring(b+1);/(^|&)q=/.test(c)&&-1==c.indexOf(\"#\")&&a.replace(\"/search?\"+c.replace(/(^|&)fp=[^&]*/g,\"\")+\"&cad=h\")};</script><style>#gbar,#guser{font-size:13px;padding-top:1px !important;}#gbar{height:22px}#guser{padding-bottom:7px !important;text-align:right}.gbh,.gbd{border-top:1px solid #c9d7f1;font-size:1px}.gbh{height:0;position:absolute;top:24px;width:100%}@media all{.gb1{height:22px;margin-right:.5em;vertical-align:top}#gbar{float:left}}a.gb1,a.gb4{text-decoration:underline !important}a.gb1,a.gb4{color:#00c !important}.gbi .gb4{color:#dd8e27 !important}.gbf .gb4{color:#900 !important}\\n</style><style>body,td,a,p,.h{font-family:arial,sans-serif}body{margin:0;overflow-y:scroll}#gog{padding:3px 8px 0}td{line-height:.8em}.gac_m td{line-height:17px}form{margin-bottom:20px}.h{color:#36c}.q{color:#00c}em{font-weight:bold;font-style:normal}.lst{height:25px;width:496px}.gsfi,.lst{font:18px arial,sans-serif}.gsfs{font:17px arial,sans-serif}.ds{display:inline-box;display:inline-block;margin:3px 0 4px;margin-left:4px}input{font-family:inherit}body{background:#fff;color:#000}a{color:#11c;text-decoration:none}a:hover,a:active{text-decoration:underline}.fl a{color:#36c}a:visited{color:#551a8b}.sblc{padding-top:5px}.sblc a{display:block;margin:2px 0;margin-left:13px;font-size:11px}.lsbb{background:#eee;border:solid 1px;border-color:#ccc #999 #999 #ccc;height:30px}.lsbb{display:block}#WqQANb a{display:inline-block;margin:0 12px}.lsb{background:url(/images/nav_logo229.png) 0 -261px repeat-x;border:none;color:#000;cursor:pointer;height:30px;margin:0;outline:0;font:15px arial,sans-serif;vertical-align:top}.lsb:active{background:#ccc}.lst:focus{outline:none}</style><script nonce=\"dfj0CYFhAZ2N1LawJHxxVA==\"></script></head><body bgcolor=\"#fff\"><script nonce=\"dfj0CYFhAZ2N1LawJHxxVA==\">(function(){var src=\\'/images/nav_logo229.png\\';var iesg=false;document.body.onload = function(){window.n && window.n();if (document.images){new Image().src=src;}\\nif (!iesg){document.f&&document.f.q.focus();document.gbqf&&document.gbqf.q.focus();}\\n}\\n})();</script><div id=\"mngb\"><div id=gbar><nobr><b class=gb1>Search</b> <a class=gb1 href=\"http://www.google.com/imghp?hl=en&tab=wi\">Images</a> <a class=gb1 href=\"http://maps.google.com/maps?hl=en&tab=wl\">Maps</a> <a class=gb1 href=\"https://play.google.com/?hl=en&tab=w8\">Play</a> <a class=gb1 href=\"http://www.youtube.com/?gl=US&tab=w1\">YouTube</a> <a class=gb1 href=\"https://news.google.com/?tab=wn\">News</a> <a class=gb1 href=\"https://mail.google.com/mail/?tab=wm\">Gmail</a> <a class=gb1 href=\"https://drive.google.com/?tab=wo\">Drive</a> <a class=gb1 style=\"text-decoration:none\" href=\"https://www.google.com/intl/en/about/products?tab=wh\"><u>More</u> &raquo;</a></nobr></div><div id=guser width=100%><nobr><span id=gbn class=gbi></span><span id=gbf class=gbf></span><span id=gbe></span><a href=\"http://www.google.com/history/optout?hl=en\" class=gb4>Web History</a> | <a  href=\"/preferences?hl=en\" class=gb4>Settings</a> | <a target=_top id=gb_70 href=\"https://accounts.google.com/ServiceLogin?hl=en&passive=true&continue=http://www.google.com/&ec=GAZAAQ\" class=gb4>Sign in</a></nobr></div><div class=gbh style=left:0></div><div class=gbh style=right:0></div></div><center><br clear=\"all\" id=\"lgpd\"><div id=\"lga\"><img alt=\"Google\" height=\"92\" src=\"/images/branding/googlelogo/1x/googlelogo_white_background_color_272x92dp.png\" style=\"padding:28px 0 14px\" width=\"272\" id=\"hplogo\"><br><br></div><form action=\"/search\" name=\"f\"><table cellpadding=\"0\" cellspacing=\"0\"><tr valign=\"top\"><td width=\"25%\">&nbsp;</td><td align=\"center\" nowrap=\"\"><input name=\"ie\" value=\"ISO-8859-1\" type=\"hidden\"><input value=\"en\" name=\"hl\" type=\"hidden\"><input name=\"source\" type=\"hidden\" value=\"hp\"><input name=\"biw\" type=\"hidden\"><input name=\"bih\" type=\"hidden\"><div class=\"ds\" style=\"height:32px;margin:4px 0\"><input class=\"lst\" style=\"margin:0;padding:5px 8px 0 6px;vertical-align:top;color:#000\" autocomplete=\"off\" value=\"\" title=\"Google Search\" maxlength=\"2048\" name=\"q\" size=\"57\"></div><br style=\"line-height:0\"><span class=\"ds\"><span class=\"lsbb\"><input class=\"lsb\" value=\"Google Search\" name=\"btnG\" type=\"submit\"></span></span><span class=\"ds\"><span class=\"lsbb\"><input class=\"lsb\" id=\"tsuid1\" value=\"I\\'m Feeling Lucky\" name=\"btnI\" type=\"submit\"><script nonce=\"dfj0CYFhAZ2N1LawJHxxVA==\">(function(){var id=\\'tsuid1\\';document.getElementById(id).onclick = function(){if (this.form.q.value){this.checked = 1;if (this.form.iflsig)this.form.iflsig.disabled = false;}\\nelse top.location=\\'/doodles/\\';};})();</script><input value=\"AINFCbYAAAAAX3X8No9B0TKb239M-vlqDD1SBcsmSstx\" name=\"iflsig\" type=\"hidden\"></span></span></td><td class=\"fl sblc\" align=\"left\" nowrap=\"\" width=\"25%\"><a href=\"/advanced_search?hl=en&amp;authuser=0\">Advanced search</a></td></tr></table><input id=\"gbv\" name=\"gbv\" type=\"hidden\" value=\"1\"><script nonce=\"dfj0CYFhAZ2N1LawJHxxVA==\">(function(){var a,b=\"1\";if(document&&document.getElementById)if(\"undefined\"!=typeof XMLHttpRequest)b=\"2\";else if(\"undefined\"!=typeof ActiveXObject){var c,d,e=[\"MSXML2.XMLHTTP.6.0\",\"MSXML2.XMLHTTP.3.0\",\"MSXML2.XMLHTTP\",\"Microsoft.XMLHTTP\"];for(c=0;d=e[c++];)try{new ActiveXObject(d),b=\"2\"}catch(h){}}a=b;if(\"2\"==a&&-1==location.search.indexOf(\"&gbv=2\")){var f=google.gbvu,g=document.getElementById(\"gbv\");g&&(g.value=a);f&&window.setTimeout(function(){location.href=f},0)};}).call(this);</script></form><div id=\"gac_scont\"></div><div style=\"font-size:83%;min-height:3.5em\"><br><div id=\"prm\"><style>.szppmdbYutt__middle-slot-promo{font-size:small;margin-bottom:32px}.szppmdbYutt__middle-slot-promo a.ZIeIlb{display:inline-block;text-decoration:none}.szppmdbYutt__middle-slot-promo img{border:none;margin-right:5px;vertical-align:middle}</style><div class=\"szppmdbYutt__middle-slot-promo\" data-ved=\"0ahUKEwjfoYzJ05PsAhVCop4KHWU-C94QnIcBCAQ\"><a class=\"NKcBbd\" href=\"https://www.google.com/url?q=https://launchnightin.withgoogle.com/en%3Futm_source%3Dgoogle%26utm_medium%3Dhpp%26utm_campaign%3DLNI&amp;source=hpp&amp;id=19020627&amp;ct=3&amp;usg=AFQjCNFndjmn9irg3bwcyQPYVzkHML2Amg&amp;sa=X&amp;ved=0ahUKEwjfoYzJ05PsAhVCop4KHWU-C94Q8IcBCAU\" rel=\"nofollow\">Watch Now</a><span>! Check out a few new products from Google</span></div></div></div><span id=\"footer\"><div style=\"font-size:10pt\"><div style=\"margin:19px auto;text-align:center\" id=\"WqQANb\"><a href=\"/intl/en/ads/\">Advertising\\xa0Programs</a><a href=\"/services/\">Business Solutions</a><a href=\"/intl/en/about.html\">About Google</a></div></div><p style=\"font-size:8pt;color:#767676\">&copy; 2020 - <a href=\"/intl/en/policies/privacy/\">Privacy</a> - <a href=\"/intl/en/policies/terms/\">Terms</a></p></span></center><script nonce=\"dfj0CYFhAZ2N1LawJHxxVA==\">(function(){window.google.cdo={height:0,width:0};(function(){var a=window.innerWidth,b=window.innerHeight;if(!a||!b){var c=window.document,d=\"CSS1Compat\"==c.compatMode?c.documentElement:c.body;a=d.clientWidth;b=d.clientHeight}a&&b&&(a!=google.cdo.width||b!=google.cdo.height)&&google.log(\"\",\"\",\"/client_204?&atyp=i&biw=\"+a+\"&bih=\"+b+\"&ei=\"+google.kEI);}).call(this);})();(function(){var u=\\'/xjs/_/js/k\\\\x3dxjs.hp.en_US.bE1IFkQX7tU.O/m\\\\x3dsb_he,d/am\\\\x3dAJ4gDg/d\\\\x3d1/rs\\\\x3dACT90oE8r3lc8ibncEi3ooMU20jXAZrLHA\\';\\nsetTimeout(function(){var b=document;var a=\"SCRIPT\";\"application/xhtml+xml\"===b.contentType&&(a=a.toLowerCase());a=b.createElement(a);a.src=u;google.timers&&google.timers.load&&google.tick&&google.tick(\"load\",\"xjsls\");document.body.appendChild(a)},0);})();(function(){window.google.xjsu=\\'/xjs/_/js/k\\\\x3dxjs.hp.en_US.bE1IFkQX7tU.O/m\\\\x3dsb_he,d/am\\\\x3dAJ4gDg/d\\\\x3d1/rs\\\\x3dACT90oE8r3lc8ibncEi3ooMU20jXAZrLHA\\';})();function _DumpException(e){throw e;}\\nfunction _F_installCss(c){}\\n(function(){google.jl={dw:false,em:[],emw:false,lls:\\'default\\',pdt:0,snet:true,uwp:true};})();(function(){var pmc=\\'{\\\\x22d\\\\x22:{},\\\\x22sb_he\\\\x22:{\\\\x22agen\\\\x22:true,\\\\x22cgen\\\\x22:true,\\\\x22client\\\\x22:\\\\x22heirloom-hp\\\\x22,\\\\x22dh\\\\x22:true,\\\\x22dhqt\\\\x22:true,\\\\x22ds\\\\x22:\\\\x22\\\\x22,\\\\x22ffql\\\\x22:\\\\x22en\\\\x22,\\\\x22fl\\\\x22:true,\\\\x22host\\\\x22:\\\\x22google.com\\\\x22,\\\\x22isbh\\\\x22:28,\\\\x22jsonp\\\\x22:true,\\\\x22msgs\\\\x22:{\\\\x22cibl\\\\x22:\\\\x22Clear Search\\\\x22,\\\\x22dym\\\\x22:\\\\x22Did you mean:\\\\x22,\\\\x22lcky\\\\x22:\\\\x22I\\\\\\\\u0026#39;m Feeling Lucky\\\\x22,\\\\x22lml\\\\x22:\\\\x22Learn more\\\\x22,\\\\x22oskt\\\\x22:\\\\x22Input tools\\\\x22,\\\\x22psrc\\\\x22:\\\\x22This search was removed from your \\\\\\\\u003Ca href\\\\x3d\\\\\\\\\\\\x22/history\\\\\\\\\\\\x22\\\\\\\\u003EWeb History\\\\\\\\u003C/a\\\\\\\\u003E\\\\x22,\\\\x22psrl\\\\x22:\\\\x22Remove\\\\x22,\\\\x22sbit\\\\x22:\\\\x22Search by image\\\\x22,\\\\x22srch\\\\x22:\\\\x22Google Search\\\\x22},\\\\x22ovr\\\\x22:{},\\\\x22pq\\\\x22:\\\\x22\\\\x22,\\\\x22refpd\\\\x22:true,\\\\x22rfs\\\\x22:[],\\\\x22sbpl\\\\x22:16,\\\\x22sbpr\\\\x22:16,\\\\x22scd\\\\x22:10,\\\\x22stok\\\\x22:\\\\x22y6sOdA-fO1uhxxf7OWZS7HzAzK0\\\\x22,\\\\x22uhde\\\\x22:false}}\\';google.pmc=JSON.parse(pmc);})();</script>        </body></html>'\n"
     ]
    }
   ],
   "source": []
  },
  {
   "cell_type": "code",
   "execution_count": null,
   "metadata": {},
   "outputs": [],
   "source": []
  },
  {
   "cell_type": "code",
   "execution_count": null,
   "metadata": {},
   "outputs": [],
   "source": [
    "# create an instance of browser\n",
    "browserS = Browser('chrome', **executable_path, headless=False)\n",
    "# now grab the site to visit\n",
    "newPlace = (\"http://www.python.org\")\n",
    "browserS.visit(newPlace)\n",
    "# browserS.visit(site_to_visit)\n",
    "browserS.quit()"
   ]
  },
  {
   "cell_type": "code",
   "execution_count": null,
   "metadata": {},
   "outputs": [],
   "source": [
    "# so now take that value and open browser\n",
    "site_to_visit\n",
    "\n",
    "newPlace = (\"http://www.python.org\")\n",
    "browserS.visit(\"http://www.python.org\")"
   ]
  },
  {
   "cell_type": "code",
   "execution_count": null,
   "metadata": {},
   "outputs": [],
   "source": [
    "\n"
   ]
  },
  {
   "cell_type": "code",
   "execution_count": null,
   "metadata": {},
   "outputs": [],
   "source": []
  },
  {
   "cell_type": "code",
   "execution_count": null,
   "metadata": {},
   "outputs": [],
   "source": [
    "# random bits\n",
    "links = soup.findAll('tr')[5].findAll('a', href=re.compile(\"Company\"))\n"
   ]
  },
  {
   "cell_type": "code",
   "execution_count": null,
   "metadata": {},
   "outputs": [],
   "source": [
    "html_page = urllib2.urlopen(\"http://www.cnn.com\")\n",
    "soup = BeautifulSoup(html_page)\n",
    "# # for link in soup.findAll('a'):\n",
    "# #     print link.get('href')"
   ]
  },
  {
   "cell_type": "code",
   "execution_count": null,
   "metadata": {},
   "outputs": [],
   "source": []
  },
  {
   "cell_type": "code",
   "execution_count": null,
   "metadata": {},
   "outputs": [],
   "source": []
  },
  {
   "cell_type": "code",
   "execution_count": null,
   "metadata": {},
   "outputs": [],
   "source": []
  },
  {
   "cell_type": "code",
   "execution_count": null,
   "metadata": {},
   "outputs": [],
   "source": []
  },
  {
   "cell_type": "code",
   "execution_count": null,
   "metadata": {},
   "outputs": [],
   "source": []
  },
  {
   "cell_type": "code",
   "execution_count": null,
   "metadata": {},
   "outputs": [],
   "source": []
  },
  {
   "cell_type": "code",
   "execution_count": null,
   "metadata": {},
   "outputs": [],
   "source": []
  },
  {
   "cell_type": "code",
   "execution_count": null,
   "metadata": {},
   "outputs": [],
   "source": []
  },
  {
   "cell_type": "code",
   "execution_count": null,
   "metadata": {},
   "outputs": [],
   "source": []
  },
  {
   "cell_type": "code",
   "execution_count": null,
   "metadata": {},
   "outputs": [],
   "source": []
  },
  {
   "cell_type": "code",
   "execution_count": null,
   "metadata": {},
   "outputs": [],
   "source": []
  },
  {
   "cell_type": "code",
   "execution_count": null,
   "metadata": {},
   "outputs": [],
   "source": []
  },
  {
   "cell_type": "code",
   "execution_count": null,
   "metadata": {},
   "outputs": [],
   "source": []
  },
  {
   "cell_type": "code",
   "execution_count": null,
   "metadata": {},
   "outputs": [],
   "source": []
  }
 ],
 "metadata": {
  "kernelspec": {
   "display_name": "Python 3",
   "language": "python",
   "name": "python3"
  },
  "language_info": {
   "codemirror_mode": {
    "name": "ipython",
    "version": 3
   },
   "file_extension": ".py",
   "mimetype": "text/x-python",
   "name": "python",
   "nbconvert_exporter": "python",
   "pygments_lexer": "ipython3",
   "version": "3.7.6"
  }
 },
 "nbformat": 4,
 "nbformat_minor": 4
}
