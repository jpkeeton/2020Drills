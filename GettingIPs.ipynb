{
 "cells": [
  {
   "cell_type": "markdown",
   "metadata": {},
   "source": [
    "Networking Stuff with Python\n",
    "\n",
    "Resources:\n",
    "* https://stackoverflow.com/questions/45653856/how-to-open-cmd-and-run-ipconfig-in-python\n",
    "* LabEveryDay -> https://www.youtube.com/watch?v=PTUhiDnYrbs\n",
    "* How to Ping Multiple IP Addresses -> https://www.youtube.com/watch?v=bV0SYc7E39c\n",
    "* How to Ping IP Address -> https://www.youtube.com/watch?v=hDXT6dfTVBk\n"
   ]
  },
  {
   "cell_type": "code",
   "execution_count": null,
   "metadata": {},
   "outputs": [],
   "source": [
    "# How to Ping Multiple IP Addresses -> https://www.youtube.com/watch?v=bV0SYc7E39c\n"
   ]
  },
  {
   "cell_type": "code",
   "execution_count": null,
   "metadata": {},
   "outputs": [],
   "source": []
  },
  {
   "cell_type": "code",
   "execution_count": null,
   "metadata": {},
   "outputs": [],
   "source": []
  },
  {
   "cell_type": "code",
   "execution_count": null,
   "metadata": {},
   "outputs": [],
   "source": []
  },
  {
   "cell_type": "code",
   "execution_count": null,
   "metadata": {},
   "outputs": [],
   "source": []
  },
  {
   "cell_type": "code",
   "execution_count": null,
   "metadata": {},
   "outputs": [],
   "source": [
    "# How to Ping IP Address -> https://www.youtube.com/watch?v=hDXT6dfTVBk"
   ]
  },
  {
   "cell_type": "code",
   "execution_count": 2,
   "metadata": {},
   "outputs": [
    {
     "name": "stdout",
     "output_type": "stream",
     "text": [
      "enter the ip you want to check:192.168.1.1\n"
     ]
    },
    {
     "data": {
      "text/plain": [
       "0"
      ]
     },
     "execution_count": 2,
     "metadata": {},
     "output_type": "execute_result"
    }
   ],
   "source": [
    "import os\n",
    "ip_to_check = input(\"enter the ip you want to check:\")\n",
    "os.system('ping -n 4 {}'.format(ip_to_check))"
   ]
  },
  {
   "cell_type": "code",
   "execution_count": 1,
   "metadata": {},
   "outputs": [
    {
     "name": "stdout",
     "output_type": "stream",
     "text": [
      "enter the ip you want to check:192.168.1.1\n",
      "---\n"
     ]
    },
    {
     "ename": "NameError",
     "evalue": "name 'os' is not defined",
     "output_type": "error",
     "traceback": [
      "\u001b[1;31m---------------------------------------------------------------------------\u001b[0m",
      "\u001b[1;31mNameError\u001b[0m                                 Traceback (most recent call last)",
      "\u001b[1;32m<ipython-input-1-dfe0af7c97a5>\u001b[0m in \u001b[0;36m<module>\u001b[1;34m\u001b[0m\n\u001b[0;32m      1\u001b[0m \u001b[0mip_to_check\u001b[0m \u001b[1;33m=\u001b[0m \u001b[0minput\u001b[0m\u001b[1;33m(\u001b[0m\u001b[1;34m\"enter the ip you want to check:\"\u001b[0m\u001b[1;33m)\u001b[0m\u001b[1;33m\u001b[0m\u001b[1;33m\u001b[0m\u001b[0m\n\u001b[0;32m      2\u001b[0m \u001b[0mprint\u001b[0m\u001b[1;33m(\u001b[0m\u001b[1;34m'-'\u001b[0m \u001b[1;33m*\u001b[0m \u001b[1;36m3\u001b[0m\u001b[1;33m)\u001b[0m\u001b[1;33m\u001b[0m\u001b[1;33m\u001b[0m\u001b[0m\n\u001b[1;32m----> 3\u001b[1;33m \u001b[0mos\u001b[0m\u001b[1;33m.\u001b[0m\u001b[0msystem\u001b[0m\u001b[1;33m(\u001b[0m\u001b[1;34m'ping -n 4 {}'\u001b[0m\u001b[1;33m.\u001b[0m\u001b[0mformat\u001b[0m\u001b[1;33m(\u001b[0m\u001b[0mip_to_check\u001b[0m\u001b[1;33m)\u001b[0m\u001b[1;33m)\u001b[0m\u001b[1;33m\u001b[0m\u001b[1;33m\u001b[0m\u001b[0m\n\u001b[0m",
      "\u001b[1;31mNameError\u001b[0m: name 'os' is not defined"
     ]
    }
   ],
   "source": [
    "\n",
    "ip_to_check = input(\"enter the ip you want to check:\")\n",
    "print('-' * 3)\n",
    "os.system('ping -n 4 {}'.format(ip_to_check)) "
   ]
  },
  {
   "cell_type": "code",
   "execution_count": null,
   "metadata": {},
   "outputs": [],
   "source": []
  },
  {
   "cell_type": "code",
   "execution_count": 23,
   "metadata": {},
   "outputs": [
    {
     "name": "stdout",
     "output_type": "stream",
     "text": [
      "\r\n",
      "Windows IP Configuration\r\n",
      "\r\n",
      "\r\n",
      "Ethernet adapter Ethernet:\r\n",
      "\r\n",
      "   Media State . . . . . . . . . . . : Media disconnected\r\n",
      "   Connection-specific DNS Suffix  . : \r\n",
      "\r\n",
      "Wireless LAN adapter Local Area Connection* 1:\r\n",
      "\r\n",
      "   Media State . . . . . . . . . . . : Media disconnected\r\n",
      "   Connection-specific DNS Suffix  . : \r\n",
      "\r\n",
      "Wireless LAN adapter Local Area Connection* 2:\r\n",
      "\r\n",
      "   Media State . . . . . . . . . . . : Media disconnected\r\n",
      "   Connection-specific DNS Suffix  . : \r\n",
      "\r\n",
      "Wireless LAN adapter Wi-Fi:\r\n",
      "\r\n",
      "   Connection-specific DNS Suffix  . : \r\n",
      "   Link-local IPv6 Address . . . . . : fe80::99bc:b3a0:371:1520%7\r\n",
      "   IPv4 Address. . . . . . . . . . . : 192.168.1.187\r\n",
      "   Subnet Mask . . . . . . . . . . . : 255.255.255.0\r\n",
      "   Default Gateway . . . . . . . . . : 192.168.1.1\r\n",
      "\r\n",
      "Ethernet adapter Bluetooth Network Connection:\r\n",
      "\r\n",
      "   Media State . . . . . . . . . . . : Media disconnected\r\n",
      "   Connection-specific DNS Suffix  . : \r\n",
      "\n"
     ]
    }
   ],
   "source": [
    "import subprocess\n",
    "proc = subprocess.check_output(\"ipconfig\" ).decode('utf-8')\n",
    "print (proc)"
   ]
  },
  {
   "cell_type": "code",
   "execution_count": 12,
   "metadata": {},
   "outputs": [],
   "source": [
    "import os\n",
    "f = os.system(\"cmd/ipconfig\")"
   ]
  },
  {
   "cell_type": "code",
   "execution_count": 13,
   "metadata": {},
   "outputs": [
    {
     "data": {
      "text/plain": [
       "0"
      ]
     },
     "execution_count": 13,
     "metadata": {},
     "output_type": "execute_result"
    }
   ],
   "source": [
    "os.system(\"ipconfig.exe\")"
   ]
  },
  {
   "cell_type": "code",
   "execution_count": 14,
   "metadata": {},
   "outputs": [],
   "source": [
    "import socket\n",
    "def get_ip_address():\n",
    "    s = socket.socket(socket.AF_INET, socket.SOCK_DGRAM)\n",
    "    s.connect((\"8.8.8.8\", 80))\n",
    "    return s.getsockname()[0]"
   ]
  },
  {
   "cell_type": "code",
   "execution_count": 15,
   "metadata": {},
   "outputs": [
    {
     "data": {
      "text/plain": [
       "<function __main__.get_ip_address()>"
      ]
     },
     "execution_count": 15,
     "metadata": {},
     "output_type": "execute_result"
    }
   ],
   "source": [
    "get_ip_address"
   ]
  },
  {
   "cell_type": "code",
   "execution_count": 16,
   "metadata": {},
   "outputs": [
    {
     "name": "stdout",
     "output_type": "stream",
     "text": [
      "\r\n",
      "Windows IP Configuration\r\n",
      "\r\n",
      "\r\n",
      "Ethernet adapter Ethernet:\r\n",
      "\r\n",
      "   Media State . . . . . . . . . . . : Media disconnected\r\n",
      "   Connection-specific DNS Suffix  . : \r\n",
      "\r\n",
      "Wireless LAN adapter Local Area Connection* 1:\r\n",
      "\r\n",
      "   Media State . . . . . . . . . . . : Media disconnected\r\n",
      "   Connection-specific DNS Suffix  . : \r\n",
      "\r\n",
      "Wireless LAN adapter Local Area Connection* 2:\r\n",
      "\r\n",
      "   Media State . . . . . . . . . . . : Media disconnected\r\n",
      "   Connection-specific DNS Suffix  . : \r\n",
      "\r\n",
      "Wireless LAN adapter Wi-Fi:\r\n",
      "\r\n",
      "   Connection-specific DNS Suffix  . : \r\n",
      "   Link-local IPv6 Address . . . . . : fe80::99bc:b3a0:371:1520%7\r\n",
      "   IPv4 Address. . . . . . . . . . . : 192.168.1.187\r\n",
      "   Subnet Mask . . . . . . . . . . . : 255.255.255.0\r\n",
      "   Default Gateway . . . . . . . . . : 192.168.1.1\r\n",
      "\r\n",
      "Ethernet adapter Bluetooth Network Connection:\r\n",
      "\r\n",
      "   Media State . . . . . . . . . . . : Media disconnected\r\n",
      "   Connection-specific DNS Suffix  . : \r\n",
      "\n"
     ]
    }
   ],
   "source": [
    "import subprocess\n",
    "proc = subprocess.check_output(\"ipconfig\" ).decode('utf-8')\n",
    "print (proc)"
   ]
  },
  {
   "cell_type": "code",
   "execution_count": 17,
   "metadata": {},
   "outputs": [],
   "source": [
    "import platform    # For getting the operating system name\n",
    "import subprocess  # For executing a shell command\n",
    "\n",
    "def ping(host):\n",
    "    \"\"\"\n",
    "    Returns True if host (str) responds to a ping request.\n",
    "    Remember that a host may not respond to a ping (ICMP) request even if the host name is valid.\n",
    "    \"\"\"\n",
    "\n",
    "    # Option for the number of packets as a function of\n",
    "    param = '-n' if platform.system().lower()=='windows' else '-c'\n",
    "\n",
    "    # Building the command. Ex: \"ping -c 1 google.com\"\n",
    "    command = ['ping', param, '1', host]\n",
    "\n",
    "    return subprocess.call(command) == 0"
   ]
  },
  {
   "cell_type": "code",
   "execution_count": 18,
   "metadata": {},
   "outputs": [
    {
     "ename": "SyntaxError",
     "evalue": "Missing parentheses in call to 'print'. Did you mean print(hostname, 'is up!')? (<ipython-input-18-3f88c2bb0dd8>, line 7)",
     "output_type": "error",
     "traceback": [
      "\u001b[1;36m  File \u001b[1;32m\"<ipython-input-18-3f88c2bb0dd8>\"\u001b[1;36m, line \u001b[1;32m7\u001b[0m\n\u001b[1;33m    print hostname, 'is up!'\u001b[0m\n\u001b[1;37m                 ^\u001b[0m\n\u001b[1;31mSyntaxError\u001b[0m\u001b[1;31m:\u001b[0m Missing parentheses in call to 'print'. Did you mean print(hostname, 'is up!')?\n"
     ]
    }
   ],
   "source": [
    "import os\n",
    "hostname = \"google.com\" #example\n",
    "response = os.system(\"ping -c 1 \" + hostname)\n",
    "\n",
    "#and then check the response...\n",
    "if response == 0:\n",
    "  print hostname, 'is up!'\n",
    "else:\n",
    "  print hostname, 'is down!'"
   ]
  },
  {
   "cell_type": "code",
   "execution_count": 19,
   "metadata": {},
   "outputs": [
    {
     "ename": "AttributeError",
     "evalue": "module 'subprocess' has no attribute 'open'",
     "output_type": "error",
     "traceback": [
      "\u001b[1;31m---------------------------------------------------------------------------\u001b[0m",
      "\u001b[1;31mAttributeError\u001b[0m                            Traceback (most recent call last)",
      "\u001b[1;32m<ipython-input-19-2430f0dd83c3>\u001b[0m in \u001b[0;36m<module>\u001b[1;34m\u001b[0m\n\u001b[0;32m      1\u001b[0m \u001b[1;32mimport\u001b[0m \u001b[0msubprocess\u001b[0m\u001b[1;33m\u001b[0m\u001b[1;33m\u001b[0m\u001b[0m\n\u001b[1;32m----> 2\u001b[1;33m \u001b[0mping_response\u001b[0m \u001b[1;33m=\u001b[0m \u001b[0msubprocess\u001b[0m\u001b[1;33m.\u001b[0m\u001b[0mopen\u001b[0m\u001b[1;33m(\u001b[0m\u001b[1;33m[\u001b[0m\u001b[1;34m\"/bin/ping\"\u001b[0m\u001b[1;33m,\u001b[0m \u001b[1;34m\"-c1\"\u001b[0m\u001b[1;33m,\u001b[0m \u001b[1;34m\"-w100\"\u001b[0m\u001b[1;33m,\u001b[0m \u001b[1;34m\"192.168.1.1\"\u001b[0m\u001b[1;33m]\u001b[0m\u001b[1;33m,\u001b[0m \u001b[0mstdout\u001b[0m\u001b[1;33m=\u001b[0m\u001b[0msubprocess\u001b[0m\u001b[1;33m.\u001b[0m\u001b[0mPIPE\u001b[0m\u001b[1;33m)\u001b[0m\u001b[1;33m.\u001b[0m\u001b[0mstdout\u001b[0m\u001b[1;33m.\u001b[0m\u001b[0mread\u001b[0m\u001b[1;33m(\u001b[0m\u001b[1;33m)\u001b[0m\u001b[1;33m\u001b[0m\u001b[1;33m\u001b[0m\u001b[0m\n\u001b[0m",
      "\u001b[1;31mAttributeError\u001b[0m: module 'subprocess' has no attribute 'open'"
     ]
    }
   ],
   "source": [
    "import subprocess\n",
    "ping_response = subprocess.open([\"/bin/ping\", \"-c1\", \"-w100\", \"192.168.1.1\"], stdout=subprocess.PIPE).stdout.read()"
   ]
  },
  {
   "cell_type": "code",
   "execution_count": 20,
   "metadata": {},
   "outputs": [],
   "source": [
    "import ping3\n",
    "# from ping3 import ping, verbose_ping"
   ]
  },
  {
   "cell_type": "code",
   "execution_count": 21,
   "metadata": {},
   "outputs": [
    {
     "ename": "SyntaxError",
     "evalue": "EOL while scanning string literal (<ipython-input-21-9b4d1d90aec7>, line 4)",
     "output_type": "error",
     "traceback": [
      "\u001b[1;36m  File \u001b[1;32m\"<ipython-input-21-9b4d1d90aec7>\"\u001b[1;36m, line \u001b[1;32m4\u001b[0m\n\u001b[1;33m    response = os.popen(f\"ping{ip}).read()\u001b[0m\n\u001b[1;37m                                          ^\u001b[0m\n\u001b[1;31mSyntaxError\u001b[0m\u001b[1;31m:\u001b[0m EOL while scanning string literal\n"
     ]
    }
   ],
   "source": [
    "import os\n",
    "ip_list = ['8.8.8.8', '192.168.1.1']\n",
    "for ip in ip_list:\n",
    "    response = os.popen(f\"ping{ip}).read()\n",
    "    if \"Received = 4\" in response:\n",
    "        print(f\"Up {ip} Ping Successful\")\n",
    "    else:\n",
    "        print(f\"No {ip} Ping Unsuccessful\")"
   ]
  },
  {
   "cell_type": "code",
   "execution_count": 22,
   "metadata": {},
   "outputs": [
    {
     "ename": "NameError",
     "evalue": "name 'ip_list' is not defined",
     "output_type": "error",
     "traceback": [
      "\u001b[1;31m---------------------------------------------------------------------------\u001b[0m",
      "\u001b[1;31mNameError\u001b[0m                                 Traceback (most recent call last)",
      "\u001b[1;32m<ipython-input-22-345789a115c0>\u001b[0m in \u001b[0;36m<module>\u001b[1;34m\u001b[0m\n\u001b[1;32m----> 1\u001b[1;33m \u001b[0mprint\u001b[0m\u001b[1;33m(\u001b[0m\u001b[0mip_list\u001b[0m\u001b[1;33m)\u001b[0m\u001b[1;33m\u001b[0m\u001b[1;33m\u001b[0m\u001b[0m\n\u001b[0m",
      "\u001b[1;31mNameError\u001b[0m: name 'ip_list' is not defined"
     ]
    }
   ],
   "source": [
    "print(ip_list)"
   ]
  },
  {
   "cell_type": "code",
   "execution_count": null,
   "metadata": {},
   "outputs": [],
   "source": []
  },
  {
   "cell_type": "code",
   "execution_count": null,
   "metadata": {},
   "outputs": [],
   "source": []
  },
  {
   "cell_type": "code",
   "execution_count": null,
   "metadata": {},
   "outputs": [],
   "source": []
  },
  {
   "cell_type": "code",
   "execution_count": null,
   "metadata": {},
   "outputs": [],
   "source": []
  }
 ],
 "metadata": {
  "kernelspec": {
   "display_name": "Python 3",
   "language": "python",
   "name": "python3"
  },
  "language_info": {
   "codemirror_mode": {
    "name": "ipython",
    "version": 3
   },
   "file_extension": ".py",
   "mimetype": "text/x-python",
   "name": "python",
   "nbconvert_exporter": "python",
   "pygments_lexer": "ipython3",
   "version": "3.7.6"
  }
 },
 "nbformat": 4,
 "nbformat_minor": 2
}
