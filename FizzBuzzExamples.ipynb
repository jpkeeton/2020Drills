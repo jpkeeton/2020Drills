{
 "cells": [
  {
   "cell_type": "markdown",
   "metadata": {},
   "source": [
    "\n",
    "FizzBuzz Examples\n",
    "\n",
    "\n",
    "* http://www.compciv.org/guides/python/fundamentals/fizzbuzz-challenge\n",
    "* https://medium.com/@GalarnykMichael/python-basics-8-fizzbuzz-441e97c6c767\n",
    "* https://www.w3resource.com/python-exercises/python-conditional-exercise-10.php"
   ]
  },
  {
   "cell_type": "code",
   "execution_count": null,
   "metadata": {},
   "outputs": [],
   "source": [
    "# Answer from here: http://www.compciv.org/guides/python/fundamentals/fizzbuzz-challenge/\n",
    "\n",
    "# for num in range(1, 101):\n",
    "#     if num % 15 is 0:\n",
    "#         print(\"FizzBuzz\")\n",
    "#     elif num % 3 is 0:\n",
    "#         print(\"Fizz\")\n",
    "#     elif num % 5 is 0:\n",
    "#         print(\"Buzz\")\n",
    "#     else:\n",
    "#         print(num)"
   ]
  },
  {
   "cell_type": "code",
   "execution_count": null,
   "metadata": {},
   "outputs": [],
   "source": [
    "# Write a program that prints numbers 1 - 100\n",
    "# remember the range function just creates a sequence of numbers\n",
    "# (starts, ends and steps bits here)\n",
    "for num in range(2, 11, 2):\n",
    "    print(num, end = ' ')"
   ]
  },
  {
   "cell_type": "code",
   "execution_count": null,
   "metadata": {},
   "outputs": [],
   "source": [
    "# or, you could use a while loop\n",
    "\n",
    "# num = 1\n",
    "# while num < 101:\n",
    "#     print(num)\n",
    "#     num += 1\n",
    "\n",
    "# set a variable that is incremented\n",
    "\n",
    "\n",
    "fizz_value = 1\n",
    "while fizz_value < 5:\n",
    "#     print(fizz_value + 'test')\n",
    "    print(fizz_value)\n",
    "    # then increment \n",
    "    fizz_value +=1\n"
   ]
  },
  {
   "cell_type": "code",
   "execution_count": 7,
   "metadata": {},
   "outputs": [
    {
     "name": "stdout",
     "output_type": "stream",
     "text": [
      "3 4 5 6 7 8 9 10 11 12 13 14 15 16 17 18 19 20 21 22 23 "
     ]
    }
   ],
   "source": [
    "# Do another while\n",
    "w_test = 3\n",
    "while w_test < 24:\n",
    "    print(w_test, end =\" \")\n",
    "    w_test +=1\n",
    "\n"
   ]
  },
  {
   "cell_type": "code",
   "execution_count": null,
   "metadata": {},
   "outputs": [],
   "source": []
  },
  {
   "cell_type": "code",
   "execution_count": 8,
   "metadata": {},
   "outputs": [
    {
     "name": "stdout",
     "output_type": "stream",
     "text": [
      "1\n",
      "2\n",
      "3\n",
      "4\n",
      "5\n"
     ]
    }
   ],
   "source": [
    "# Remember a basic example of a while loop\n",
    "# create a counter\n",
    "currentValue = 1\n",
    "\n",
    "# while something is happening\n",
    "while currentValue <=5:\n",
    "\n",
    "    # do something\n",
    "    print(currentValue)\n",
    "    \n",
    "    # iterator\n",
    "    currentValue +=1"
   ]
  },
  {
   "cell_type": "code",
   "execution_count": null,
   "metadata": {},
   "outputs": [],
   "source": []
  },
  {
   "cell_type": "code",
   "execution_count": 6,
   "metadata": {},
   "outputs": [
    {
     "name": "stdout",
     "output_type": "stream",
     "text": [
      "[1, 2, 3, 4, 5, 6, 7, 8, 9, 10]\n"
     ]
    }
   ],
   "source": [
    "#     try sticking it into a list\n",
    "test_list =[]\n",
    "for x in range(1,11):\n",
    "#     print(x, end =\" \")\n",
    "    test_list.append(x)\n",
    "print(test_list)\n",
    "#     GOT IT FIRST TRY!"
   ]
  },
  {
   "cell_type": "code",
   "execution_count": 9,
   "metadata": {},
   "outputs": [
    {
     "name": "stdout",
     "output_type": "stream",
     "text": [
      "1 2 3 4 5 6 7 8 9 10 11 12 13 14 15 16 17 18 19 20 "
     ]
    }
   ],
   "source": [
    "for numzz in range(1, 21):\n",
    "    print(numzz, end = \" \")"
   ]
  },
  {
   "cell_type": "code",
   "execution_count": null,
   "metadata": {},
   "outputs": [],
   "source": [
    "# for multiples of three print fizz\n",
    "# so i'd have to say like, if divisible by 3 then do something"
   ]
  },
  {
   "cell_type": "code",
   "execution_count": 53,
   "metadata": {},
   "outputs": [
    {
     "name": "stdout",
     "output_type": "stream",
     "text": [
      "1 is the number and it is not divible by 3 or 5\n",
      "2 is the number and it is not divible by 3 or 5\n",
      "3 is the number and it is divisible by 3\n",
      "3 is the number and it is not divible by 3 or 5\n",
      "4 is the number and it is not divible by 3 or 5\n",
      "5 is the number and it is divisible by 5\n",
      "6 is the number and it is divisible by 3\n",
      "6 is the number and it is not divible by 3 or 5\n",
      "7 is the number and it is not divible by 3 or 5\n"
     ]
    }
   ],
   "source": [
    "# so to break things down, \n",
    "# 1. find a number divisible by thing\n",
    "\n",
    "# JUST this (lines 5 and 6) won't work cuz you gotta put it in the for loop\n",
    "# if numzz % 3 is 0:\n",
    "#     print('yes')\n",
    "    \n",
    "    \n",
    "for numzz in range(1, 8):\n",
    "#     print(numzz, end = \" \")\n",
    "#     print(numzz)\n",
    "    if numzz % 3 is 0:\n",
    "        print(numzz, end = \" is the number and it\")\n",
    "        print(' is divisible by 3')\n",
    "    if numzz % 5 is 0:\n",
    "        print(numzz, end = \" is the number and it\")\n",
    "        print(' is divisible by 5')\n",
    "    else:\n",
    "        print(numzz, end = \" is the number and it\")\n",
    "        print(\" is not divible by 3 or 5\")"
   ]
  },
  {
   "cell_type": "code",
   "execution_count": 49,
   "metadata": {},
   "outputs": [
    {
     "name": "stdout",
     "output_type": "stream",
     "text": [
      "buzz\n",
      "buzz\n",
      "buzz\n",
      "buzz\n",
      "  B\n",
      "buzz\n",
      "buzz\n",
      "buzz\n",
      "buzz\n",
      "  B\n",
      "buzz\n",
      "buzz\n",
      "buzz\n",
      "buzz\n",
      "  B\n",
      "buzz\n",
      "buzz\n",
      "buzz\n",
      "buzz\n",
      "  B\n"
     ]
    }
   ],
   "source": [
    "for numzz in range(1, 21):\n",
    "#     print(numzz, end = \" \")\n",
    "#     print(numzz)\n",
    "    if numzz % 5 is 0:\n",
    "            ## * remember you can use '=='\n",
    "    #             like if i % 7 == 0:\n",
    "#         print(numzz, end = \" \")\n",
    "#         print('is divisible')\n",
    "        print('  B')\n",
    "    else:\n",
    "        print(\"buzz\")\n"
   ]
  },
  {
   "cell_type": "code",
   "execution_count": null,
   "metadata": {},
   "outputs": [],
   "source": [
    "# 3. the number if divisible by 3"
   ]
  },
  {
   "cell_type": "code",
   "execution_count": 74,
   "metadata": {},
   "outputs": [
    {
     "name": "stdout",
     "output_type": "stream",
     "text": [
      "10\n"
     ]
    }
   ],
   "source": []
  },
  {
   "cell_type": "code",
   "execution_count": null,
   "metadata": {},
   "outputs": [],
   "source": [
    "# if numzz == 3:\n",
    "#     print(numzz)\n",
    "# else:\n",
    "#     print('nope')"
   ]
  },
  {
   "cell_type": "markdown",
   "metadata": {},
   "source": [
    "But what if your number is divisible by both 3 and 5?"
   ]
  },
  {
   "cell_type": "markdown",
   "metadata": {},
   "source": [
    "Step 4: For numbers which are multiples of both three and five print “FizzBuzz”\n",
    "\n",
    "* Just use an and!"
   ]
  },
  {
   "cell_type": "code",
   "execution_count": 38,
   "metadata": {},
   "outputs": [
    {
     "name": "stdout",
     "output_type": "stream",
     "text": [
      "15 30 45 60 75 90 105 120 135 150 165 180 195 210 225 240 255 270 285 300 315 330 345 360 375 390 405 420 435 450 465 480 495 510 525 540 555 570 585 600 615 630 645 660 675 690 705 720 735 750 765 780 795 810 825 840 855 870 885 900 915 930 945 960 975 990 1005 1020 1035 1050 1065 1080 1095 1110 1125 1140 1155 1170 1185 1200 1215 1230 1245 1260 1275 1290 1305 1320 1335 1350 1365 1380 1395 1410 1425 1440 1455 1470 1485 1500 1515 1530 1545 1560 1575 1590 1605 1620 1635 1650 1665 1680 1695 1710 1725 1740 1755 1770 1785 1800 1815 1830 1845 1860 1875 1890 1905 1920 1935 1950 1965 1980 1995 2010 2025 2040 2055 2070 2085 2100 2115 2130 2145 2160 2175 2190 2205 2220 2235 2250 2265 2280 2295 2310 2325 2340 2355 2370 2385 2400 2415 2430 2445 2460 2475 2490 2505 2520 2535 2550 2565 2580 2595 2610 2625 2640 2655 2670 2685 2700 2715 2730 2745 2760 2775 2790 2805 2820 2835 2850 2865 2880 2895 2910 2925 2940 2955 2970 2985 3000 3015 3030 3045 3060 3075 3090 3105 3120 3135 3150 3165 3180 3195 3210 3225 3240 3255 3270 3285 3300 3315 3330 3345 3360 3375 3390 3405 3420 3435 3450 3465 3480 3495 3510 3525 3540 3555 3570 3585 3600 3615 3630 3645 3660 3675 3690 3705 3720 3735 3750 3765 3780 3795 3810 3825 3840 3855 3870 3885 3900 3915 3930 3945 3960 3975 3990 4005 4020 4035 4050 4065 4080 4095 4110 4125 4140 4155 4170 4185 4200 4215 4230 4245 4260 4275 4290 4305 4320 4335 4350 4365 4380 4395 4410 4425 4440 "
     ]
    }
   ],
   "source": [
    "for numzz in range(1, 4444):\n",
    "# of x AND y, do z\n",
    "    if numzz % 3 is 0 and numzz % 5 is 0:\n",
    "        print(numzz, end = \" \")\n",
    "    "
   ]
  },
  {
   "cell_type": "markdown",
   "metadata": {},
   "source": [
    "Part of the point of this exercise is to realize the dangers of conditional branching.\n",
    "And also that you understand how to for loop and conditionally branch."
   ]
  },
  {
   "cell_type": "code",
   "execution_count": 39,
   "metadata": {},
   "outputs": [],
   "source": [
    "# Also was reminded today about the is vs ==\n",
    "# Difference between == and is operator in Python\n",
    "# The == operator compares the values of both the operands and checks for value equality. \n",
    "# Whereas is operator checks whether both the operands refer to the same object or not."
   ]
  },
  {
   "cell_type": "code",
   "execution_count": 73,
   "metadata": {},
   "outputs": [
    {
     "name": "stdout",
     "output_type": "stream",
     "text": [
      "yay for 7\n",
      "yay for 14\n",
      "yay for 21\n",
      "yay for 28\n"
     ]
    }
   ],
   "source": [
    "# Another run thru: https://www.youtube.com/watch?v=jV0yhde5xY8\n",
    "# ending with a single line option: http://michaeljgilliland.blogspot.com/2013/01/one-line-fizz-buzz-test-in-python.html\n",
    "\n",
    "for i in range(1, 32):\n",
    "    if i % 7 == 0:\n",
    "        print('yay for ' + str(i))"
   ]
  },
  {
   "cell_type": "code",
   "execution_count": 114,
   "metadata": {},
   "outputs": [
    {
     "name": "stdout",
     "output_type": "stream",
     "text": [
      "1\n",
      "2\n",
      "fizz\n",
      "4\n",
      "buzz\n",
      "fizz\n",
      "7\n",
      "8\n",
      "fizz\n"
     ]
    }
   ],
   "source": [
    "# here you'd create a variable for the output\n",
    "for i in range(1, 10):\n",
    "    output = ''\n",
    "    if i % 3 == 0:\n",
    "        output = 'fizz'\n",
    "    if i % 5 == 0:\n",
    "        # this plus equals here will concate the fizz and buzz if it's divisible by both 3 and 15\n",
    "        output += 'buzz'\n",
    "        # use an or here\n",
    "    print(output or i)\n",
    "\n",
    "\n",
    "    "
   ]
  },
  {
   "cell_type": "code",
   "execution_count": null,
   "metadata": {},
   "outputs": [],
   "source": [
    "# here you can use ternary operators\n",
    "# Ternary operators also known as conditional \n",
    "# expressions are operators that evaluate something based on a condition being true or false\n",
    "\n",
    "here is an example of fizzbuzz with ternary operators\n"
   ]
  },
  {
   "cell_type": "code",
   "execution_count": null,
   "metadata": {},
   "outputs": [],
   "source": []
  },
  {
   "cell_type": "code",
   "execution_count": null,
   "metadata": {},
   "outputs": [],
   "source": [
    "for i in range(1, 32):\n",
    "    if i % 7 == 0:\n",
    "        print('yay for ' + str(i))"
   ]
  },
  {
   "cell_type": "code",
   "execution_count": 89,
   "metadata": {},
   "outputs": [
    {
     "name": "stdout",
     "output_type": "stream",
     "text": [
      "5\n",
      "10\n",
      "15\n",
      "20\n",
      "25\n",
      "30\n",
      "35\n",
      "40\n",
      "45\n",
      "50\n",
      "55\n"
     ]
    }
   ],
   "source": [
    "for x in range(1, 59):\n",
    "    if x % 5 == 0:\n",
    "        print(x)"
   ]
  },
  {
   "cell_type": "code",
   "execution_count": null,
   "metadata": {},
   "outputs": [],
   "source": []
  },
  {
   "cell_type": "code",
   "execution_count": null,
   "metadata": {},
   "outputs": [],
   "source": []
  },
  {
   "cell_type": "code",
   "execution_count": null,
   "metadata": {},
   "outputs": [],
   "source": []
  },
  {
   "cell_type": "code",
   "execution_count": null,
   "metadata": {},
   "outputs": [],
   "source": []
  },
  {
   "cell_type": "code",
   "execution_count": null,
   "metadata": {},
   "outputs": [],
   "source": []
  },
  {
   "cell_type": "code",
   "execution_count": null,
   "metadata": {},
   "outputs": [],
   "source": [
    "# here is another 1-line example:\n",
    "# from https://gist.github.com/konstantinfarrell/c4f84ea579615da63de0eb325753b71d\n",
    "\n",
    "# Using a lambda function\n",
    "print(list(map(lambda i: \"Fizz\"*(i%3==0)+\"Buzz\"*(i%5==0) or str(i), range(1,101))))\n",
    "\n",
    "# Using a for loop\n",
    "for i in range(1, 101): print(\"Fizz\"*(i%3==0)+\"Buzz\"*(i%5==0) or str(i))"
   ]
  }
 ],
 "metadata": {
  "kernelspec": {
   "display_name": "Python 3",
   "language": "python",
   "name": "python3"
  },
  "language_info": {
   "codemirror_mode": {
    "name": "ipython",
    "version": 3
   },
   "file_extension": ".py",
   "mimetype": "text/x-python",
   "name": "python",
   "nbconvert_exporter": "python",
   "pygments_lexer": "ipython3",
   "version": "3.7.6"
  }
 },
 "nbformat": 4,
 "nbformat_minor": 4
}
