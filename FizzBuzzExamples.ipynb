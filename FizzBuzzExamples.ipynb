{
 "cells": [
  {
   "cell_type": "markdown",
   "metadata": {},
   "source": [
    "\n",
    "FizzBuzz Examples\n",
    "\n",
    "\n",
    "* http://www.compciv.org/guides/python/fundamentals/fizzbuzz-challenge\n",
    "* https://medium.com/@GalarnykMichael/python-basics-8-fizzbuzz-441e97c6c767\n",
    "* https://www.w3resource.com/python-exercises/python-conditional-exercise-10.php"
   ]
  },
  {
   "cell_type": "code",
   "execution_count": null,
   "metadata": {},
   "outputs": [],
   "source": [
    "# Answer from here: http://www.compciv.org/guides/python/fundamentals/fizzbuzz-challenge/\n",
    "\n",
    "# for num in range(1, 101):\n",
    "#     if num % 15 is 0:\n",
    "#         print(\"FizzBuzz\")\n",
    "#     elif num % 3 is 0:\n",
    "#         print(\"Fizz\")\n",
    "#     elif num % 5 is 0:\n",
    "#         print(\"Buzz\")\n",
    "#     else:\n",
    "#         print(num)"
   ]
  },
  {
   "cell_type": "code",
   "execution_count": null,
   "metadata": {},
   "outputs": [],
   "source": [
    "# Write a program that prints numbers 1 - 100\n",
    "# remember the range function just creates a sequence of numbers\n",
    "for num in range(2, 11, 2):\n",
    "    print(num, end = ' ')"
   ]
  },
  {
   "cell_type": "code",
   "execution_count": null,
   "metadata": {},
   "outputs": [],
   "source": [
    "# or, you could use a while loop\n",
    "\n",
    "# num = 1\n",
    "# while num < 101:\n",
    "#     print(num)\n",
    "#     num += 1\n",
    "\n",
    "# set a variable that is incremented\n",
    "\n",
    "\n",
    "fizz_value = 1\n",
    "while fizz_value < 5:\n",
    "#     print(fizz_value + 'test')\n",
    "    print(fizz_value)\n",
    "    # then increment \n",
    "    fizz_value +=1\n"
   ]
  },
  {
   "cell_type": "code",
   "execution_count": null,
   "metadata": {},
   "outputs": [],
   "source": [
    "# Do another while\n",
    "w_test = 55\n",
    "while w_test < 30:\n",
    "    print(w_test)\n",
    "    w_test +=1"
   ]
  },
  {
   "cell_type": "code",
   "execution_count": null,
   "metadata": {},
   "outputs": [],
   "source": []
  },
  {
   "cell_type": "code",
   "execution_count": null,
   "metadata": {},
   "outputs": [],
   "source": [
    "# Remember a basic example of a while loop here\n",
    "# While loop example\n",
    "# create a counter\n",
    "currentValue = 1\n",
    "# while something is happening\n",
    "while currentValue <=5:\n",
    "    # do something\n",
    "    print(currentValue)\n",
    "    # iterator\n",
    "    currentValue +=1"
   ]
  },
  {
   "cell_type": "code",
   "execution_count": null,
   "metadata": {},
   "outputs": [],
   "source": []
  },
  {
   "cell_type": "code",
   "execution_count": null,
   "metadata": {},
   "outputs": [],
   "source": [
    "test_list =[]\n",
    "for x in range(1,300):\n",
    "#     print(x, end =\" \")\n",
    "#     try sticking it into a list\n",
    "#     GOT IT FIRST TRY!\n",
    "    test_list.append(x)\n",
    "print(test_list)\n"
   ]
  },
  {
   "cell_type": "code",
   "execution_count": 19,
   "metadata": {},
   "outputs": [
    {
     "name": "stdout",
     "output_type": "stream",
     "text": [
      "1 2 3 4 5 6 7 8 9 10 11 12 13 14 15 16 17 18 19 20 "
     ]
    }
   ],
   "source": [
    "for numzz in range(1, 21):\n",
    "    print(numzz, end = \" \")"
   ]
  },
  {
   "cell_type": "code",
   "execution_count": 10,
   "metadata": {},
   "outputs": [],
   "source": [
    "# for multiples of three print fizz\n",
    "# so i'd have to say like, if divisible by 3 then do something"
   ]
  },
  {
   "cell_type": "code",
   "execution_count": 56,
   "metadata": {},
   "outputs": [
    {
     "name": "stdout",
     "output_type": "stream",
     "text": [
      "buzz\n",
      "buzz\n",
      "  Fizz\n",
      "buzz\n",
      "buzz\n",
      "  Fizz\n",
      "buzz\n",
      "buzz\n",
      "  Fizz\n",
      "buzz\n",
      "buzz\n",
      "  Fizz\n",
      "buzz\n",
      "buzz\n",
      "  Fizz\n",
      "buzz\n",
      "buzz\n",
      "  Fizz\n",
      "buzz\n",
      "buzz\n"
     ]
    }
   ],
   "source": [
    "# so to break things down, \n",
    "# 1. find a number divisible by thing\n",
    "\n",
    "# JUST this (lines 5 and 6) won't work cuz you gotta put it in the for loop\n",
    "# if numzz % 3 is 0:\n",
    "#     print('yes')\n",
    "    \n",
    "    \n",
    "for numzz in range(1, 21):\n",
    "#     print(numzz, end = \" \")\n",
    "#     print(numzz)\n",
    "    if numzz % 3 is 0:\n",
    "#         print(numzz, end = \" \")\n",
    "#         print('is divisible')\n",
    "        print('  Fizz')\n",
    "    else:\n",
    "        print(\"buzz\")\n",
    "    "
   ]
  },
  {
   "cell_type": "code",
   "execution_count": null,
   "metadata": {},
   "outputs": [],
   "source": [
    "for numzz in range(1, 21):\n",
    "#     print(numzz, end = \" \")\n",
    "#     print(numzz)\n",
    "    if numzz % 5 is 0:\n",
    "#         print(numzz, end = \" \")\n",
    "#         print('is divisible')\n",
    "        print('  B')\n",
    "    else:\n",
    "        print(\"buzz\")\n",
    "    "
   ]
  },
  {
   "cell_type": "code",
   "execution_count": null,
   "metadata": {},
   "outputs": [],
   "source": [
    "# 3. the number if divisible by 3"
   ]
  },
  {
   "cell_type": "code",
   "execution_count": null,
   "metadata": {},
   "outputs": [],
   "source": []
  },
  {
   "cell_type": "code",
   "execution_count": null,
   "metadata": {},
   "outputs": [],
   "source": [
    "# if numzz == 3:\n",
    "#     print(numzz)\n",
    "# else:\n",
    "#     print('nope')"
   ]
  },
  {
   "cell_type": "code",
   "execution_count": null,
   "metadata": {},
   "outputs": [],
   "source": []
  },
  {
   "cell_type": "code",
   "execution_count": null,
   "metadata": {},
   "outputs": [],
   "source": []
  },
  {
   "cell_type": "code",
   "execution_count": null,
   "metadata": {},
   "outputs": [],
   "source": []
  }
 ],
 "metadata": {
  "kernelspec": {
   "display_name": "Python 3",
   "language": "python",
   "name": "python3"
  },
  "language_info": {
   "codemirror_mode": {
    "name": "ipython",
    "version": 3
   },
   "file_extension": ".py",
   "mimetype": "text/x-python",
   "name": "python",
   "nbconvert_exporter": "python",
   "pygments_lexer": "ipython3",
   "version": "3.7.6"
  }
 },
 "nbformat": 4,
 "nbformat_minor": 4
}
