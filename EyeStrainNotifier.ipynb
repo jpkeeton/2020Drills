{
 "cells": [
  {
   "cell_type": "code",
   "execution_count": 4,
   "metadata": {},
   "outputs": [],
   "source": [
    "# https://github.com/b01jan/eye-strain-notifer/blob/master/main.py\n",
    "# doesn't seem to work, but might be fun to play with\n",
    "from win10toast import ToastNotifier\n",
    "from idle_time import IdleMonitor\n",
    "import time"
   ]
  },
  {
   "cell_type": "code",
   "execution_count": null,
   "metadata": {},
   "outputs": [],
   "source": [
    "def monitor_idle_time():\n",
    "\tmonitor = IdleMonitor.get_monitor()\n",
    "\tidle_time = monitor.get_idle_time()\n",
    "\treturn idle_time\n",
    "\n",
    "\n",
    "def notify():\n",
    "\tnotification = ToastNotifier()\n",
    "\tnotification.show_toast(\"Reminder to look away from the screen for 20 seconds!\",\n",
    "\t                        duration=10, msg=\"If possible, look at something that is at least 20 meters away.\")\n",
    "\n",
    "\n",
    "if __name__ == '__main__':\n",
    "\tproceed = True\n",
    "\twhile proceed:\n",
    "\t\ttime.sleep(20)\n",
    "\t\tif monitor_idle_time() > 5:\n",
    "\t\t\tnotify()"
   ]
  },
  {
   "cell_type": "code",
   "execution_count": null,
   "metadata": {},
   "outputs": [],
   "source": []
  }
 ],
 "metadata": {
  "kernelspec": {
   "display_name": "Python 3",
   "language": "python",
   "name": "python3"
  },
  "language_info": {
   "codemirror_mode": {
    "name": "ipython",
    "version": 3
   },
   "file_extension": ".py",
   "mimetype": "text/x-python",
   "name": "python",
   "nbconvert_exporter": "python",
   "pygments_lexer": "ipython3",
   "version": "3.7.6"
  }
 },
 "nbformat": 4,
 "nbformat_minor": 4
}
