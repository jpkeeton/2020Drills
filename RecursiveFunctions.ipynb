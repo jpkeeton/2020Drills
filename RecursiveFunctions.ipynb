{
 "cells": [
  {
   "cell_type": "markdown",
   "metadata": {},
   "source": [
    "Recursive Function\n",
    "\n",
    "Resources:\n",
    "* https://thepythonguru.com/python-recursive-functions\n",
    "* https://realpython.com/python-thinking-recursively\n",
    "* https://www.programiz.com/python-programming/recursion\n",
    "* https://stackabuse.com/understanding-recursive-functions-with-python/\n",
    "* https://www.datacamp.com/community/tutorials/understanding-recursive-functions-python\n",
    "* https://www.w3schools.com/python/gloss_python_function_recursion.asp\n",
    "* https://www.python-course.eu/recursive_functions.php\n"
   ]
  }
 ],
 "metadata": {
  "kernelspec": {
   "display_name": "Python 3",
   "language": "python",
   "name": "python3"
  },
  "language_info": {
   "codemirror_mode": {
    "name": "ipython",
    "version": 3
   },
   "file_extension": ".py",
   "mimetype": "text/x-python",
   "name": "python",
   "nbconvert_exporter": "python",
   "pygments_lexer": "ipython3",
   "version": "3.7.6"
  }
 },
 "nbformat": 4,
 "nbformat_minor": 4
}
