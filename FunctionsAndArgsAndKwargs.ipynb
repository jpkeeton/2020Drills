{
 "cells": [
  {
   "cell_type": "markdown",
   "metadata": {},
   "source": [
    "Functions and Args and Kwargs\n",
    "\n",
    "First let's review functions\n",
    " * functions enable you to create reusable blocks of code\n",
    " * allow you to define a set of actions, just call the function name at any time\n",
    " * chunk of code that does something\n",
    " * each one does a diffrent thing and are awesome when combined\n",
    " * also makes sharing easier\n",
    " * keyword always = def\n",
    " \n",
    " \n",
    "There are many built-in Python functions\n",
    "     * like print, sum, range, etc\n",
    " * here are more - https://docs.python.org/3/library/functions.html\n",
    " \n",
    "But you can also create your own, aka 'user-defined' functions of course.\n",
    "\n",
    "\n",
    "Function resources:  https://www.youtube.com/watch?v=rfscVS0vtbw&t=5234s\n",
    " \n",
    "Also:\n",
    " **Methods vs Functions**\n",
    "* Methods\n",
    "    * Python method is like a function, except it is *attached* to an object.\n",
    "    * A method is on an object.\n",
    "    * A function is independent of an object.\n",
    "    * For Java and C#, there are only methods.\n",
    "    * For C, there are only functions.\n",
    "    * For *C++ and Python* it would depend on whether or not you're in a class.\n",
    "    \n",
    "More here on this - https://www.geeksforgeeks.org/difference-method-function-python/\n",
    "\n",
    " "
   ]
  },
  {
   "cell_type": "code",
   "execution_count": 143,
   "metadata": {},
   "outputs": [
    {
     "name": "stdout",
     "output_type": "stream",
     "text": [
      "hi, just drilling some Python\n"
     ]
    }
   ],
   "source": [
    "# built in function\n",
    "print(\"hi, just drilling some Python\")"
   ]
  },
  {
   "cell_type": "code",
   "execution_count": 144,
   "metadata": {},
   "outputs": [
    {
     "name": "stdout",
     "output_type": "stream",
     "text": [
      "this is a print statement yo!\n"
     ]
    }
   ],
   "source": [
    "# https://www.w3schools.com/python/python_functions.asp\n",
    "# Let's create our own function. \n",
    "# Let's do 5 to sink it in\n",
    "\n",
    "# functions always start with 'def', followed by the name and '():'\n",
    "# like this:\n",
    "def printMe():\n",
    "    print(\"this is a print statement yo!\")\n",
    "printMe()"
   ]
  },
  {
   "cell_type": "markdown",
   "metadata": {},
   "source": [
    "What about using a return statement?\n",
    "* print and return are different concepts\n",
    "\n",
    "* Print\n",
    "    * print is a function you call\n",
    "    * use print when you want to **show** a value\n",
    "* Return\n",
    "    * What is a return value?\n",
    "        * ends the function execution and returns the result\n",
    "        * anything after the return is not executed\n",
    "    * How do you write a function that returns a value?\n",
    "        * ..\n",
    "   "
   ]
  },
  {
   "cell_type": "code",
   "execution_count": 145,
   "metadata": {},
   "outputs": [
    {
     "data": {
      "text/plain": [
       "10"
      ]
     },
     "execution_count": 145,
     "metadata": {},
     "output_type": "execute_result"
    }
   ],
   "source": [
    "# Return value example\n",
    "# functions return 'none' by default\n",
    "# good description here: https://www.udemy.com/course/automated-software-testing-with-python/learn/lecture/16000290#overview\n",
    "# and here: https://www.guru99.com/functions-in-python.html\n",
    "# when return runs, the function exits \n",
    "def add(x, y):\n",
    "    return x + y\n",
    "add(5, 5)"
   ]
  },
  {
   "cell_type": "code",
   "execution_count": 146,
   "metadata": {},
   "outputs": [
    {
     "name": "stdout",
     "output_type": "stream",
     "text": [
      "False\n"
     ]
    }
   ],
   "source": [
    "# another return example:\n",
    "def is_true(a):\n",
    "    return bool(a)\n",
    "result = is_true(3>4)\n",
    "print(result)"
   ]
  },
  {
   "cell_type": "code",
   "execution_count": null,
   "metadata": {},
   "outputs": [],
   "source": []
  },
  {
   "cell_type": "code",
   "execution_count": 147,
   "metadata": {},
   "outputs": [
    {
     "name": "stdout",
     "output_type": "stream",
     "text": [
      "woof!\n"
     ]
    }
   ],
   "source": [
    "# simple print function\n",
    "def asf():\n",
    "    \"\"\" simple print\"\"\"\n",
    "    print(\"woof!\")\n",
    "asf()"
   ]
  },
  {
   "cell_type": "code",
   "execution_count": 148,
   "metadata": {},
   "outputs": [],
   "source": [
    "#another print function\n",
    "def hello():\n",
    "    # the triple quotes is the docstring, a short description of the function.\n",
    "    \"\"\" Greet Everyone \"\"\"\n",
    "    # followed by the function body\n",
    "    # there is no line limit for the function body, and is indented under the function definition (the def part)\n",
    "    print(\"Hello!\")"
   ]
  },
  {
   "cell_type": "code",
   "execution_count": 149,
   "metadata": {},
   "outputs": [
    {
     "name": "stdout",
     "output_type": "stream",
     "text": [
      "Hello!\n",
      "woof!\n"
     ]
    },
    {
     "data": {
      "text/plain": [
       "(None, None)"
      ]
     },
     "execution_count": 149,
     "metadata": {},
     "output_type": "execute_result"
    }
   ],
   "source": [
    "# just call the function here\n",
    "hello(), asf()\n",
    "# and go ahead and call asf too\n",
    "# you'll get '(none)' if you have 2 print functions, \n",
    "# per - https://stackoverflow.com/questions/28812851/why-is-this-printing-none-in-the-output\n",
    "# asf()"
   ]
  },
  {
   "cell_type": "code",
   "execution_count": null,
   "metadata": {},
   "outputs": [],
   "source": []
  },
  {
   "cell_type": "code",
   "execution_count": null,
   "metadata": {},
   "outputs": [],
   "source": []
  },
  {
   "cell_type": "code",
   "execution_count": 150,
   "metadata": {},
   "outputs": [],
   "source": [
    "# More simple functions, try a sum\n",
    "listOfNumbers = [1, 3, 4, 5, 6, 3, 2, 4, 4, 5, 3, 3]"
   ]
  },
  {
   "cell_type": "code",
   "execution_count": 151,
   "metadata": {},
   "outputs": [
    {
     "name": "stdout",
     "output_type": "stream",
     "text": [
      "[1, 3, 4, 5, 6, 3, 2, 4, 4, 5, 3, 3]\n"
     ]
    }
   ],
   "source": [
    "print(listOfNumbers)"
   ]
  },
  {
   "cell_type": "code",
   "execution_count": 152,
   "metadata": {},
   "outputs": [
    {
     "data": {
      "text/plain": [
       "43"
      ]
     },
     "execution_count": 152,
     "metadata": {},
     "output_type": "execute_result"
    }
   ],
   "source": [
    "sum(listOfNumbers)"
   ]
  },
  {
   "cell_type": "code",
   "execution_count": 153,
   "metadata": {},
   "outputs": [],
   "source": [
    "# average(listOfNumbers)\n",
    "# mean(listOfNumbers)\n",
    "# so I'm not seeing a straight Average or mean working, it looks like i need to import stats library \n",
    "# https://www.geeksforgeeks.org/python-statistics-mean-function\n",
    "import statistics"
   ]
  },
  {
   "cell_type": "code",
   "execution_count": 154,
   "metadata": {},
   "outputs": [],
   "source": [
    "dataToAverage = [3, 4, 5, 3, 3, 4, 5, 299, 5, 100, 4, 3, 2, 2, 8, 8, 8, 8, 8, 7, 7, 7, 7]\n"
   ]
  },
  {
   "cell_type": "code",
   "execution_count": 155,
   "metadata": {},
   "outputs": [
    {
     "name": "stdout",
     "output_type": "stream",
     "text": [
      "[3, 4, 5, 3, 3, 4, 5, 299, 5, 100, 4, 3, 2, 2, 8, 8, 8, 8, 8, 7, 7, 7, 7]\n"
     ]
    }
   ],
   "source": [
    "print(dataToAverage)"
   ]
  },
  {
   "cell_type": "code",
   "execution_count": 156,
   "metadata": {},
   "outputs": [],
   "source": [
    "x = statistics.mean(dataToAverage)"
   ]
  },
  {
   "cell_type": "code",
   "execution_count": 157,
   "metadata": {},
   "outputs": [
    {
     "name": "stdout",
     "output_type": "stream",
     "text": [
      "the average of my list is 22.17391304347826\n"
     ]
    }
   ],
   "source": [
    "print(\"the average of my list is\", x)"
   ]
  },
  {
   "cell_type": "code",
   "execution_count": 158,
   "metadata": {},
   "outputs": [
    {
     "name": "stdout",
     "output_type": "stream",
     "text": [
      "5\n"
     ]
    }
   ],
   "source": [
    "# now checking out the median - https://docs.python.org/3/library/statistics.html\n",
    "y = statistics.median(dataToAverage)\n",
    "print(y)"
   ]
  },
  {
   "cell_type": "code",
   "execution_count": null,
   "metadata": {},
   "outputs": [],
   "source": []
  },
  {
   "cell_type": "markdown",
   "metadata": {},
   "source": [
    "**Arguments**\n",
    "\n",
    "Functions can take arguments, or, information passed into the the function\n",
    "- arguments are added inside the parentheses\n",
    "- add multiple if you want, just separate them with a comma\n",
    "- aka args or aka parameters\n",
    "- but, from a function's perspective, a parameter is the variable inside the parenthesis\n",
    "- and an argument is the value that is sent to the function"
   ]
  },
  {
   "cell_type": "markdown",
   "metadata": {},
   "source": [
    "Args Time!"
   ]
  },
  {
   "cell_type": "code",
   "execution_count": 159,
   "metadata": {},
   "outputs": [],
   "source": [
    "# function with arguments\n",
    "# parameters are IN the parentheses\n",
    "# these are *positional arguments*\n",
    "def first_and_last_name(first, second):\n",
    "  # arguments are sent to the function\n",
    "    print(first + \" this is my last name \" + second)"
   ]
  },
  {
   "cell_type": "code",
   "execution_count": 160,
   "metadata": {},
   "outputs": [
    {
     "name": "stdout",
     "output_type": "stream",
     "text": [
      "1st ARGUMENT this is my last name 2nd ARGUMENT\n"
     ]
    }
   ],
   "source": [
    "#Now, make sure when calling the function we need to make sure there are corresponding arguments\n",
    "#If the function has 2 parameters, we need to give the function 2 arguments \n",
    "first_and_last_name(\"1st ARGUMENT\", \"2nd ARGUMENT\")\n",
    "\n",
    "# so again, the arguments from the function definition *line up with* the parameters in the call, is that right? \n"
   ]
  },
  {
   "cell_type": "code",
   "execution_count": 161,
   "metadata": {},
   "outputs": [],
   "source": [
    "#But, what if we don't KNOW how many arguments we'll need?\n",
    "#This is where *args comes in\n",
    "#Just add it to your parameter name\n",
    "# like this\n",
    "def args_example(*kids):\n",
    "    print(\"the youngest child is \" + kids[2])\n",
    "    #above here we are using getting the 3rd index position, to pull Daisy (0, 1, 2 as is the usual case w indexing)\n",
    "    "
   ]
  },
  {
   "cell_type": "code",
   "execution_count": 162,
   "metadata": {},
   "outputs": [
    {
     "name": "stdout",
     "output_type": "stream",
     "text": [
      "the youngest child is daisy\n"
     ]
    }
   ],
   "source": [
    "args_example(\"bo\", \"luke\", \"daisy\")"
   ]
  },
  {
   "cell_type": "code",
   "execution_count": 163,
   "metadata": {},
   "outputs": [
    {
     "ename": "SyntaxError",
     "evalue": "invalid syntax (<ipython-input-163-e9d5fd01edb8>, line 2)",
     "output_type": "error",
     "traceback": [
      "\u001b[1;36m  File \u001b[1;32m\"<ipython-input-163-e9d5fd01edb8>\"\u001b[1;36m, line \u001b[1;32m2\u001b[0m\n\u001b[1;33m    def anotherArgsExample()\u001b[0m\n\u001b[1;37m                            ^\u001b[0m\n\u001b[1;31mSyntaxError\u001b[0m\u001b[1;31m:\u001b[0m invalid syntax\n"
     ]
    }
   ],
   "source": [
    "#more args\n",
    "def anotherArgsExample()"
   ]
  },
  {
   "cell_type": "markdown",
   "metadata": {},
   "source": [
    "Parameters vs Arguments\n",
    "    * parameter is info the function needs to do it's work\n",
    "    * argument is a value passed to the function\n",
    "    * sometimes used interchangeably\n",
    "    \n",
    "So:\n",
    "- parameter = def hello(name):\n",
    "- argument = def hello(\"Gretchen\"):"
   ]
  },
  {
   "cell_type": "code",
   "execution_count": null,
   "metadata": {},
   "outputs": [],
   "source": [
    "# so to define parameters for a function, place them within the parentheses in the function definition\n",
    "# to run, the function needs a name argument\n",
    "# pass an argument to a function by including a value in teh parenthiss "
   ]
  },
  {
   "cell_type": "code",
   "execution_count": 165,
   "metadata": {},
   "outputs": [],
   "source": [
    "# this isn't working hrrrm\n",
    "def myello(name):\n",
    "    print('Hello, {name}!')"
   ]
  },
  {
   "cell_type": "code",
   "execution_count": 164,
   "metadata": {},
   "outputs": [
    {
     "data": {
      "text/plain": [
       "<function __main__.myello(name)>"
      ]
     },
     "execution_count": 164,
     "metadata": {},
     "output_type": "execute_result"
    }
   ],
   "source": [
    "myello"
   ]
  },
  {
   "cell_type": "markdown",
   "metadata": {},
   "source": [
    "Kwargs Time!\n"
   ]
  },
  {
   "cell_type": "code",
   "execution_count": null,
   "metadata": {},
   "outputs": [],
   "source": []
  },
  {
   "cell_type": "code",
   "execution_count": null,
   "metadata": {},
   "outputs": [],
   "source": []
  },
  {
   "cell_type": "code",
   "execution_count": null,
   "metadata": {},
   "outputs": [],
   "source": []
  },
  {
   "cell_type": "markdown",
   "metadata": {},
   "source": [
    "**Lambdas** - what are they?\n",
    "* aka small, anonymous functions\n",
    "* function declared with no name\n",
    "* look different, but behave the same as regular functions, where 'def' is invoked\n",
    "* can take any number of arguments, but contain only a single expression\n",
    "* may or may not return a value\n",
    "* can be used to return function objects\n",
    "\n",
    "*syntax* - lambda argument(s): expression  \n",
    "*ex.* - remainder = lambda num: num % 2 \n",
    "\n",
    "**Why use them?**\n",
    "* you just need a quick, one-off function\n",
    "* you might need to pass a function as an argument to a higher-order function\n",
    "\n",
    " \n"
   ]
  },
  {
   "cell_type": "code",
   "execution_count": null,
   "metadata": {},
   "outputs": [],
   "source": [
    "# so here, lambda num: num % 2 is the lambda function\n",
    "# the 'num' is the argument\n",
    "# the 'num % 2' is the expression\n",
    "# The expression gets the modulus of the input parameter by 2\n",
    "myFirstLambda = lambda num:num % 4354354"
   ]
  },
  {
   "cell_type": "code",
   "execution_count": null,
   "metadata": {},
   "outputs": [],
   "source": [
    "myFirstLambda(2)"
   ]
  },
  {
   "cell_type": "code",
   "execution_count": null,
   "metadata": {},
   "outputs": [],
   "source": [
    "#another lambda example:\n",
    "#here we're just multiplying a couple numbers, then calling the lambda function with the arguments, or is it parameters, below\n",
    "product = lambda x, y : x * y"
   ]
  },
  {
   "cell_type": "code",
   "execution_count": null,
   "metadata": {},
   "outputs": [],
   "source": [
    "product(3, 335)"
   ]
  },
  {
   "cell_type": "code",
   "execution_count": null,
   "metadata": {},
   "outputs": [],
   "source": [
    "# # we could also use 3 arguments\n",
    "# product = lambda x, y, z : x * y - z\n",
    "# etc etc"
   ]
  },
  {
   "cell_type": "code",
   "execution_count": null,
   "metadata": {},
   "outputs": [],
   "source": []
  },
  {
   "cell_type": "markdown",
   "metadata": {},
   "source": [
    "###### "
   ]
  },
  {
   "cell_type": "code",
   "execution_count": null,
   "metadata": {},
   "outputs": [],
   "source": []
  }
 ],
 "metadata": {
  "kernelspec": {
   "display_name": "Python 3",
   "language": "python",
   "name": "python3"
  },
  "language_info": {
   "codemirror_mode": {
    "name": "ipython",
    "version": 3
   },
   "file_extension": ".py",
   "mimetype": "text/x-python",
   "name": "python",
   "nbconvert_exporter": "python",
   "pygments_lexer": "ipython3",
   "version": "3.7.6"
  }
 },
 "nbformat": 4,
 "nbformat_minor": 4
}
