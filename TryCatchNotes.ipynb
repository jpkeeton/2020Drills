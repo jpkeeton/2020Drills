{
 "cells": [
  {
   "cell_type": "markdown",
   "metadata": {},
   "source": [
    "Try/Catch\n",
    "Resources:\n",
    "* https://docs.python.org/3/tutorial/errors.html\n",
    "* https://www.w3schools.com/python/python_try_except.asp\n",
    "* https://realpython.com/python-exceptions\n",
    "* https://www.programiz.com/python-programming/exception-handling\n"
   ]
  },
  {
   "cell_type": "markdown",
   "metadata": {},
   "source": [
    "**Elements**\n",
    "* try - tests a block of code for errors\n",
    "* except - handles errors\n",
    "* finally - let's you execute code regardless of the try/catch results"
   ]
  },
  {
   "cell_type": "code",
   "execution_count": 3,
   "metadata": {},
   "outputs": [
    {
     "name": "stdout",
     "output_type": "stream",
     "text": [
      "We've got an error\n"
     ]
    }
   ],
   "source": [
    "# So here we'll generate an exception, because x is not defined\n",
    "try:\n",
    "    print(x)\n",
    "except:\n",
    "    print('We\\'ve got an error')\n",
    "# The try block throws an error --> so the except block will be executed\n",
    "# w/o this you'll get an error\n",
    "# but if define the variable you'll be fine"
   ]
  },
  {
   "cell_type": "code",
   "execution_count": 11,
   "metadata": {},
   "outputs": [
    {
     "name": "stdout",
     "output_type": "stream",
     "text": [
      "Variable z is not defined\n"
     ]
    }
   ],
   "source": [
    "# You can also have as many exception blocks as you want\n",
    "# here we'll print different kinds of errors\n",
    "\n",
    "try:\n",
    "    print(z)\n",
    "except NameError:\n",
    "    print('Variable z is not defined')\n",
    "except:\n",
    "    print('something else went wrong')"
   ]
  },
  {
   "cell_type": "code",
   "execution_count": 15,
   "metadata": {},
   "outputs": [
    {
     "name": "stdout",
     "output_type": "stream",
     "text": [
      "asdf\n",
      "nothing went wrong\n"
     ]
    }
   ],
   "source": [
    "# you can use the else keyword to define a block of code to be executed if no errors exist\n",
    "try:\n",
    "#     print(x)\n",
    "    print(\"asdf\")\n",
    "except:\n",
    "    print('something went wrong')\n",
    "else:\n",
    "    print(\"nothing went wrong, things are working\")"
   ]
  },
  {
   "cell_type": "raw",
   "metadata": {},
   "source": [
    "Versus Syntax Errors\n",
    "Common Reasons for SyntaxError\n",
    " 1. "
   ]
  },
  {
   "cell_type": "code",
   "execution_count": null,
   "metadata": {},
   "outputs": [],
   "source": []
  }
 ],
 "metadata": {
  "kernelspec": {
   "display_name": "Python 3",
   "language": "python",
   "name": "python3"
  },
  "language_info": {
   "codemirror_mode": {
    "name": "ipython",
    "version": 3
   },
   "file_extension": ".py",
   "mimetype": "text/x-python",
   "name": "python",
   "nbconvert_exporter": "python",
   "pygments_lexer": "ipython3",
   "version": "3.6.9"
  }
 },
 "nbformat": 4,
 "nbformat_minor": 2
}
