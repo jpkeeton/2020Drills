{
 "cells": [
  {
   "cell_type": "markdown",
   "metadata": {},
   "source": [
    "## Lynda - Python for Automation\n",
    "\n",
    "* https://www.linkedin.com/learning/using-python-for-automation"
   ]
  },
  {
   "cell_type": "markdown",
   "metadata": {},
   "source": [
    "**Section 1**\n",
    "\n",
    "Automating file, folder, and terminal interactions with Python\n",
    "* Write files so datasets can persist\n",
    "* Organize messy directories\n",
    "* Automate many basic processes\n",
    "* Preserve information after execution"
   ]
  },
  {
   "cell_type": "markdown",
   "metadata": {},
   "source": [
    "**File I/O**\n",
    "* a fundamental in programming\n",
    "* see inputfile.txt in exercise files\n",
    "    * C:\\Users\\jpkee\\Desktop\\PythonProjects\\LYNDA _Using Python for Automation\\Ex_Files_Python_Automation\\Exercise Files"
   ]
  },
  {
   "cell_type": "code",
   "execution_count": 30,
   "metadata": {},
   "outputs": [],
   "source": [
    "# # read the file\n",
    "# # no outside libraries needed\n",
    "# # all we need is 'open' function and pass 2 parameters, the file name and how we want to interact with the file\n",
    "\n",
    "\n",
    "test_file = ('C:/Users/jpkee/Desktop/PythonProjects/LYNDA _Using Python for Automation/Ex_Files_Python_Automation/Exercise Files/inputfile.txt')\n",
    "f = open(test_file, 'r')\n"
   ]
  },
  {
   "cell_type": "code",
   "execution_count": 29,
   "metadata": {},
   "outputs": [
    {
     "ename": "ValueError",
     "evalue": "I/O operation on closed file.",
     "output_type": "error",
     "traceback": [
      "\u001b[1;31m---------------------------------------------------------------------------\u001b[0m",
      "\u001b[1;31mValueError\u001b[0m                                Traceback (most recent call last)",
      "\u001b[1;32m<ipython-input-29-bc3a843f7e2b>\u001b[0m in \u001b[0;36m<module>\u001b[1;34m\u001b[0m\n\u001b[0;32m      3\u001b[0m \u001b[1;31m# f.read()\u001b[0m\u001b[1;33m\u001b[0m\u001b[1;33m\u001b[0m\u001b[1;33m\u001b[0m\u001b[0m\n\u001b[0;32m      4\u001b[0m \u001b[1;31m# this works better\u001b[0m\u001b[1;33m\u001b[0m\u001b[1;33m\u001b[0m\u001b[1;33m\u001b[0m\u001b[0m\n\u001b[1;32m----> 5\u001b[1;33m \u001b[0mprint\u001b[0m\u001b[1;33m(\u001b[0m\u001b[0mf\u001b[0m\u001b[1;33m.\u001b[0m\u001b[0mread\u001b[0m\u001b[1;33m(\u001b[0m\u001b[1;33m)\u001b[0m\u001b[1;33m)\u001b[0m\u001b[1;33m\u001b[0m\u001b[1;33m\u001b[0m\u001b[0m\n\u001b[0m",
      "\u001b[1;31mValueError\u001b[0m: I/O operation on closed file."
     ]
    }
   ],
   "source": [
    "# let's check then if we found it, print calling print function on f, the file opening variable\n",
    "# this output works, but\n",
    "# f.read()\n",
    "# this works better\n",
    "print(f.read())"
   ]
  },
  {
   "cell_type": "code",
   "execution_count": 28,
   "metadata": {},
   "outputs": [],
   "source": [
    "# AND always remember to close files when done\n",
    "# f.close()\n",
    "\n",
    "#  you'll get a ValueError if you try to read a closed file\n",
    "# ValueError: I/O operation on closed file."
   ]
  },
  {
   "cell_type": "code",
   "execution_count": 31,
   "metadata": {},
   "outputs": [
    {
     "name": "stdout",
     "output_type": "stream",
     "text": [
      "0Mary 25 P\n",
      "\n",
      "1John 32 P\n",
      "\n",
      "2Dylan 19 F\n",
      "\n",
      "3Julia 23 F\n",
      "\n",
      "4Chad 17 F\n",
      "\n",
      "5Jack 20 F\n",
      "\n",
      "6Hailey 26 P\n",
      "\n",
      "7Iris 23 P\n",
      "\n",
      "8Jacob 29 P\n",
      "\n",
      "9Jalen 37 F\n",
      "\n",
      "10Anthony 47 F\n",
      "\n",
      "11Jamie 26 P\n",
      "\n",
      "12Sydney 19 F\n",
      "\n",
      "13Chloe 21 P\n",
      "\n",
      "14Natalie 29 P\n",
      "\n",
      "15David 23 P\n",
      "\n",
      "16Mario 51 P\n",
      "\n",
      "17Jenna 28 F\n",
      "\n",
      "18Josh 39 P\n",
      "\n",
      "19Damean 42 F\n",
      "\n",
      "20Zach 19 F\n",
      "\n",
      "21Kayla 28 P\n",
      "\n",
      "22Ben 14 F\n",
      "\n",
      "23Hunter 61 P\n",
      "\n",
      "24Albert 29 F\n",
      "\n",
      "25Lauren 31 F\n",
      "\n",
      "26Erica 16 P\n",
      "\n",
      "27Kyle 19 P\n",
      "\n",
      "28Jordan 29 F\n",
      "\n",
      "29Kaleb 47 F\n",
      "\n",
      "30Rosanna 45 P\n",
      "\n",
      "31Joy 28 P\n",
      "\n",
      "32Bill 29 F\n",
      "\n",
      "33Jim 67 P\n",
      "\n",
      "34Robin 24 F\n",
      "\n",
      "35Sansa 28 P\n",
      "\n",
      "36Juan 73 P\n",
      "\n",
      "37Colin 59 P\n",
      "\n",
      "38Jake 8 F\n",
      "\n",
      "39Kate 58 P\n",
      "\n",
      "40Jade 26 P\n",
      "\n",
      "41River 29 P\n",
      "\n",
      "42Chris 31 P\n",
      "\n",
      "43Grace 18 F\n"
     ]
    }
   ],
   "source": [
    "# Now, let's iterate thru the file, looking for specific elements, in this case a pass or fail designation\n",
    "# replace the print statement with a for loop that prints every line\n",
    "\n",
    "# to demonstrate the line-by-line looping, let's add a counter and append it to the print statements, \n",
    "# so you can see it increment\n",
    "count = 0 \n",
    "for line in f:\n",
    "    print(str(count) + line)\n",
    "    count = count + 1\n",
    "f.close()"
   ]
  },
  {
   "cell_type": "code",
   "execution_count": 39,
   "metadata": {},
   "outputs": [
    {
     "name": "stdout",
     "output_type": "stream",
     "text": [
      "here is a person and their grade > Mary 25 P\n",
      "\n",
      "here is a person and their grade > John 32 P\n",
      "\n",
      "here is a person and their grade > Dylan 19 F\n",
      "\n",
      "here is a person and their grade > Julia 23 F\n",
      "\n",
      "here is a person and their grade > Chad 17 F\n",
      "\n",
      "here is a person and their grade > Jack 20 F\n",
      "\n",
      "here is a person and their grade > Hailey 26 P\n",
      "\n",
      "here is a person and their grade > Iris 23 P\n",
      "\n",
      "here is a person and their grade > Jacob 29 P\n",
      "\n",
      "here is a person and their grade > Jalen 37 F\n",
      "\n",
      "here is a person and their grade > Anthony 47 F\n",
      "\n",
      "here is a person and their grade > Jamie 26 P\n",
      "\n",
      "here is a person and their grade > Sydney 19 F\n",
      "\n",
      "here is a person and their grade > Chloe 21 P\n",
      "\n",
      "here is a person and their grade > Natalie 29 P\n",
      "\n",
      "here is a person and their grade > David 23 P\n",
      "\n",
      "here is a person and their grade > Mario 51 P\n",
      "\n",
      "here is a person and their grade > Jenna 28 F\n",
      "\n",
      "here is a person and their grade > Josh 39 P\n",
      "\n",
      "here is a person and their grade > Damean 42 F\n",
      "\n",
      "here is a person and their grade > Zach 19 F\n",
      "\n",
      "here is a person and their grade > Kayla 28 P\n",
      "\n",
      "here is a person and their grade > Ben 14 F\n",
      "\n",
      "here is a person and their grade > Hunter 61 P\n",
      "\n",
      "here is a person and their grade > Albert 29 F\n",
      "\n",
      "here is a person and their grade > Lauren 31 F\n",
      "\n",
      "here is a person and their grade > Erica 16 P\n",
      "\n",
      "here is a person and their grade > Kyle 19 P\n",
      "\n",
      "here is a person and their grade > Jordan 29 F\n",
      "\n",
      "here is a person and their grade > Kaleb 47 F\n",
      "\n",
      "here is a person and their grade > Rosanna 45 P\n",
      "\n",
      "here is a person and their grade > Joy 28 P\n",
      "\n",
      "here is a person and their grade > Bill 29 F\n",
      "\n",
      "here is a person and their grade > Jim 67 P\n",
      "\n",
      "here is a person and their grade > Robin 24 F\n",
      "\n",
      "here is a person and their grade > Sansa 28 P\n",
      "\n",
      "here is a person and their grade > Juan 73 P\n",
      "\n",
      "here is a person and their grade > Colin 59 P\n",
      "\n",
      "here is a person and their grade > Jake 8 F\n",
      "\n",
      "here is a person and their grade > Kate 58 P\n",
      "\n",
      "here is a person and their grade > Jade 26 P\n",
      "\n",
      "here is a person and their grade > River 29 P\n",
      "\n",
      "here is a person and their grade > Chris 31 P\n",
      "\n",
      "here is a person and their grade > Grace 18 F\n"
     ]
    }
   ],
   "source": [
    "# but do I really need the count?\n",
    "# here's the same chunk of code w/o a counter\n",
    "test_file = ('C:/Users/jpkee/Desktop/PythonProjects/LYNDA _Using Python for Automation/Ex_Files_Python_Automation/Exercise Files/inputfile.txt')\n",
    "f = open(test_file, 'r')\n",
    "for line in f:\n",
    "    print(\"here is a person and their grade > \" + line)\n",
    "f.close()"
   ]
  },
  {
   "cell_type": "code",
   "execution_count": 64,
   "metadata": {},
   "outputs": [
    {
     "name": "stdout",
     "output_type": "stream",
     "text": [
      "Mary 25 P\n",
      "\n",
      "John 32 P\n",
      "\n",
      "Hailey 26 P\n",
      "\n",
      "Iris 23 P\n",
      "\n",
      "Jacob 29 P\n",
      "\n",
      "Jamie 26 P\n",
      "\n",
      "Chloe 21 P\n",
      "\n",
      "Natalie 29 P\n",
      "\n",
      "David 23 P\n",
      "\n",
      "Mario 51 P\n",
      "\n",
      "Josh 39 P\n",
      "\n",
      "Kayla 28 P\n",
      "\n",
      "Hunter 61 P\n",
      "\n",
      "Erica 16 P\n",
      "\n",
      "Kyle 19 P\n",
      "\n",
      "Rosanna 45 P\n",
      "\n",
      "Joy 28 P\n",
      "\n",
      "Jim 67 P\n",
      "\n",
      "Sansa 28 P\n",
      "\n",
      "Juan 73 P\n",
      "\n",
      "Colin 59 P\n",
      "\n",
      "Kate 58 P\n",
      "\n",
      "Jade 26 P\n",
      "\n",
      "River 29 P\n",
      "\n",
      "Chris 31 P\n",
      "\n"
     ]
    }
   ],
   "source": [
    "# now only print the Pass or fail conditions\n",
    "# let's use the .split() function to help with the pass/fail check for each person\n",
    "# split by white space\n",
    "\n",
    "test_file = ('C:/Users/jpkee/Desktop/PythonProjects/LYNDA _Using Python for Automation/Ex_Files_Python_Automation/Exercise Files/inputfile.txt')\n",
    "f = open(test_file, 'r')\n",
    "for line in f:\n",
    "    # put the splitting in the for loop here\n",
    "    line_split =line.split()\n",
    "    # and check if the 3rd element has a tag of P for passing\n",
    "    # if the line splite results index position 2, which would be the 3rd element\n",
    "    # contains P, \n",
    "    if line_split[2] == 'P':\n",
    "#         then print that shit\n",
    "        print(line)\n",
    "\n",
    "f.close()"
   ]
  },
  {
   "cell_type": "code",
   "execution_count": 91,
   "metadata": {},
   "outputs": [],
   "source": [
    "# now let's write the results to a new file\n",
    "# https://www.linkedin.com/learning/using-python-for-automation/how-to-write-files\n",
    "\n",
    "# more on writing - https://www.w3schools.com/python/python_file_write.asp\n",
    "\n",
    "test_file = ('C:/Users/jpkee/Desktop/PythonProjects/LYNDA _Using Python for Automation/Ex_Files_Python_Automation/Exercise Files/inputfile.txt')\n",
    "f = open(test_file, 'r')\n",
    "\n",
    "# Write the results to a new file here:\n",
    "# 'w' is the 2nd parameter so we can actually write to the file \n",
    "passfile = open('passfile.txt', 'w')\n",
    "\n",
    "for line in f:\n",
    "    # put the splitting in the for loop here\n",
    "    line_split =line.split()\n",
    "    # now if they passed \n",
    "    if line_split[2] == 'P':\n",
    "    # then write to our newly created passfile.txt file\n",
    "        passfile.write(line)\n",
    "\n",
    "f.close()\n",
    "# and don't forget to close the newly created passfile\n",
    "passfile.close()"
   ]
  },
  {
   "cell_type": "code",
   "execution_count": 98,
   "metadata": {},
   "outputs": [],
   "source": [
    "# now let's create a fail file\n",
    "\n",
    "test_file = ('C:/Users/jpkee/Desktop/PythonProjects/LYNDA _Using Python for Automation/Ex_Files_Python_Automation/Exercise Files/inputfile.txt')\n",
    "f = open(test_file, 'r')\n",
    "\n",
    "# Write the results to a new file here:\n",
    "# 'w' is the 2nd parameter so we can actually write to the file \n",
    "passFile = open('passFile.txt', 'w')\n",
    "failFile = open('failFile.txt', 'w')\n",
    "\n",
    "for line in f:\n",
    "    # put the splitting in the for loop here\n",
    "    line_split =line.split()\n",
    "    # now if they passed \n",
    "    if line_split[2] == 'P':\n",
    "    # then write to our newly created passfile.txt file\n",
    "        passFile.write(line)\n",
    "    else:\n",
    "        failFile.write(line)\n",
    "        \n",
    "\n",
    "f.close()\n",
    "# and don't forget to close your files!\n",
    "passFile.close()\n",
    "failFile.close()\n"
   ]
  },
  {
   "cell_type": "markdown",
   "metadata": {},
   "source": [
    "**Executing terminal commands** \n",
    "* https://www.linkedin.com/learning/using-python-for-automation/executing-terminal-commands"
   ]
  },
  {
   "cell_type": "code",
   "execution_count": 108,
   "metadata": {},
   "outputs": [],
   "source": [
    "import subprocess\n",
    "# more on subprocess\n",
    "# https://docs.python.org/3.4/library/subprocess.html?highlight=popen#module-subprocess"
   ]
  },
  {
   "cell_type": "code",
   "execution_count": 109,
   "metadata": {},
   "outputs": [
    {
     "ename": "CalledProcessError",
     "evalue": "Command '['python', 'hello.py']' returned non-zero exit status 2.",
     "output_type": "error",
     "traceback": [
      "\u001b[1;31m---------------------------------------------------------------------------\u001b[0m",
      "\u001b[1;31mCalledProcessError\u001b[0m                        Traceback (most recent call last)",
      "\u001b[1;32m<ipython-input-109-bedcab1c8f66>\u001b[0m in \u001b[0;36m<module>\u001b[1;34m\u001b[0m\n\u001b[0;32m      8\u001b[0m \u001b[1;31m# check call function\u001b[0m\u001b[1;33m\u001b[0m\u001b[1;33m\u001b[0m\u001b[1;33m\u001b[0m\u001b[0m\n\u001b[0;32m      9\u001b[0m \u001b[1;32mfor\u001b[0m \u001b[0mi\u001b[0m \u001b[1;32min\u001b[0m \u001b[0mrange\u001b[0m\u001b[1;33m(\u001b[0m\u001b[1;36m0\u001b[0m\u001b[1;33m,\u001b[0m\u001b[1;36m5\u001b[0m\u001b[1;33m)\u001b[0m\u001b[1;33m:\u001b[0m\u001b[1;33m\u001b[0m\u001b[1;33m\u001b[0m\u001b[0m\n\u001b[1;32m---> 10\u001b[1;33m     \u001b[0msubprocess\u001b[0m\u001b[1;33m.\u001b[0m\u001b[0mcheck_call\u001b[0m\u001b[1;33m(\u001b[0m\u001b[1;33m[\u001b[0m\u001b[1;34m'python'\u001b[0m\u001b[1;33m,\u001b[0m \u001b[1;34m'hello.py'\u001b[0m\u001b[1;33m]\u001b[0m\u001b[1;33m)\u001b[0m\u001b[1;33m\u001b[0m\u001b[1;33m\u001b[0m\u001b[0m\n\u001b[0m\u001b[0;32m     11\u001b[0m \u001b[1;33m\u001b[0m\u001b[0m\n\u001b[0;32m     12\u001b[0m \u001b[1;31m# Saved that above here C:\\Users\\jpkee\\Desktop\\PythonProjects\\LYNDA _Using Python for Automation as script.py\u001b[0m\u001b[1;33m\u001b[0m\u001b[1;33m\u001b[0m\u001b[1;33m\u001b[0m\u001b[0m\n",
      "\u001b[1;32m~\\anaconda3\\lib\\subprocess.py\u001b[0m in \u001b[0;36mcheck_call\u001b[1;34m(*popenargs, **kwargs)\u001b[0m\n\u001b[0;32m    361\u001b[0m         \u001b[1;32mif\u001b[0m \u001b[0mcmd\u001b[0m \u001b[1;32mis\u001b[0m \u001b[1;32mNone\u001b[0m\u001b[1;33m:\u001b[0m\u001b[1;33m\u001b[0m\u001b[1;33m\u001b[0m\u001b[0m\n\u001b[0;32m    362\u001b[0m             \u001b[0mcmd\u001b[0m \u001b[1;33m=\u001b[0m \u001b[0mpopenargs\u001b[0m\u001b[1;33m[\u001b[0m\u001b[1;36m0\u001b[0m\u001b[1;33m]\u001b[0m\u001b[1;33m\u001b[0m\u001b[1;33m\u001b[0m\u001b[0m\n\u001b[1;32m--> 363\u001b[1;33m         \u001b[1;32mraise\u001b[0m \u001b[0mCalledProcessError\u001b[0m\u001b[1;33m(\u001b[0m\u001b[0mretcode\u001b[0m\u001b[1;33m,\u001b[0m \u001b[0mcmd\u001b[0m\u001b[1;33m)\u001b[0m\u001b[1;33m\u001b[0m\u001b[1;33m\u001b[0m\u001b[0m\n\u001b[0m\u001b[0;32m    364\u001b[0m     \u001b[1;32mreturn\u001b[0m \u001b[1;36m0\u001b[0m\u001b[1;33m\u001b[0m\u001b[1;33m\u001b[0m\u001b[0m\n\u001b[0;32m    365\u001b[0m \u001b[1;33m\u001b[0m\u001b[0m\n",
      "\u001b[1;31mCalledProcessError\u001b[0m: Command '['python', 'hello.py']' returned non-zero exit status 2."
     ]
    }
   ],
   "source": [
    "# create a dummy script to execute from the command line\n",
    "# C:\\Users\\jpkee\\Desktop\\PythonProjects\\LYNDA _Using Python for Automation\\hello.py\n",
    "\n",
    "# then create another file to house our terminal logic, and save it as script.py\n",
    "\n",
    "# use the sub process library, which allows us to interact w the command line\n",
    "# has many functions\n",
    "# check call function\n",
    "for i in range(0,5):\n",
    "    subprocess.check_call(['python', 'hello.py'])\n",
    "\n",
    "# Saved that above here C:\\Users\\jpkee\\Desktop\\PythonProjects\\LYNDA _Using Python for Automation as script.py\n",
    "\n",
    "\n"
   ]
  },
  {
   "cell_type": "code",
   "execution_count": 110,
   "metadata": {},
   "outputs": [
    {
     "data": {
      "image/jpeg": "[encoded data removed]",
      "text/plain": [
       "<IPython.core.display.Image object>"
      ]
     },
     "execution_count": 110,
     "metadata": {},
     "output_type": "execute_result"
    }
   ],
   "source": [
    "# Glossary\n",
    "from IPython.display import Image\n",
    "Image('C:/Users/jpkee/Desktop/PythonProjects/Pictures/subprocessExample.JPG')\n"
   ]
  }
 ],
 "metadata": {
  "kernelspec": {
   "display_name": "Python 3",
   "language": "python",
   "name": "python3"
  },
  "language_info": {
   "codemirror_mode": {
    "name": "ipython",
    "version": 3
   },
   "file_extension": ".py",
   "mimetype": "text/x-python",
   "name": "python",
   "nbconvert_exporter": "python",
   "pygments_lexer": "ipython3",
   "version": "3.7.6"
  }
 },
 "nbformat": 4,
 "nbformat_minor": 4
}
