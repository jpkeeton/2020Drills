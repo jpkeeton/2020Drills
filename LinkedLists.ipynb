{
 "cells": [
  {
   "cell_type": "markdown",
   "metadata": {},
   "source": [
    "**LinkedLists**\n",
    "\n",
    "* What is a linked list?\n",
    "    * a string of nodes\n",
    "        * like a string of beads\n",
    "    * each node contains node data and a reference to the next node\n",
    "    \n",
    "* Advantages\n",
    "    * ...\n",
    "\n",
    "\n",
    "Resources:\n",
    "* https://www.codefellows.org/blog/implementing-a-singly-linked-list-in-python\n",
    "* https://www.tutorialspoint.com/python_data_structure/python_linked_lists.htm"
   ]
  },
  {
   "cell_type": "code",
   "execution_count": null,
   "metadata": {},
   "outputs": [],
   "source": []
  }
 ],
 "metadata": {
  "kernelspec": {
   "display_name": "Python 3",
   "language": "python",
   "name": "python3"
  },
  "language_info": {
   "codemirror_mode": {
    "name": "ipython",
    "version": 3
   },
   "file_extension": ".py",
   "mimetype": "text/x-python",
   "name": "python",
   "nbconvert_exporter": "python",
   "pygments_lexer": "ipython3",
   "version": "3.7.6"
  }
 },
 "nbformat": 4,
 "nbformat_minor": 4
}
