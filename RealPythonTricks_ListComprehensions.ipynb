{
 "cells": [
  {
   "cell_type": "markdown",
   "metadata": {},
   "source": [
    "Python Tricks from Real Python\n",
    "- file:///C:/Users/jpkee/Desktop/PythonProjects/Python_Tricks.FromRealPython.pdf\n",
    "- https://realpython.com/courses/python-tricks-book/\n",
    "- https://realpython.com/lessons/python-tricks-bonus-list-comprehensions/\n"
   ]
  },
  {
   "cell_type": "code",
   "execution_count": 1,
   "metadata": {},
   "outputs": [],
   "source": [
    "# List Comprehensions\n",
    "# prett much just all for loops, over a collection\n",
    "        # more about collections here: https://docs.python.org/3/library/collections.html\n",
    "    # a more terse and compact version \n",
    "    # Real Python book \"syntactic sugar — a little shortcut for\n",
    "        #frequently used functionality that makes our lives as Python coders easier.\"\n",
    "shorthand for a regular for loop\n",
    "squares = [x * x for x in range(10)]"
   ]
  },
  {
   "cell_type": "code",
   "execution_count": 2,
   "metadata": {},
   "outputs": [
    {
     "name": "stdout",
     "output_type": "stream",
     "text": [
      "[0, 1, 4, 9, 16, 25, 36, 49, 64, 81]\n"
     ]
    }
   ],
   "source": [
    "print(squares)"
   ]
  },
  {
   "cell_type": "code",
   "execution_count": 12,
   "metadata": {},
   "outputs": [
    {
     "name": "stdout",
     "output_type": "stream",
     "text": [
      "[0, 3, 6, 9, 12, 15, 18, 21, 24, 27, 30, 33, 36, 39, 42, 45, 48, 51, 54, 57, 60, 63, 66, 69, 72, 75, 78, 81, 84, 87, 90, 93, 96, 99, 102, 105, 108, 111, 114, 117, 120, 123, 126, 129, 132, 135, 138, 141, 144, 147, 150]\n"
     ]
    }
   ],
   "source": [
    "# shorthand for a regular for loop\n",
    "#create an empty list\n",
    "squares2 = []\n",
    "# loop x with range\n",
    "for x in range(51):\n",
    "    #append the list, multiplying x by whatever\n",
    "    squares2.append(x * 3)\n",
    "# print the list\n",
    "print(squares2)"
   ]
  },
  {
   "cell_type": "markdown",
   "metadata": {},
   "source": [
    "Generalization or template for list comprehension\n",
    "* (values) = [ (expression) for (value) in (collection) ]\n",
    "\n",
    "Generalization or template form for loop\n",
    "* (values) =[ ]\n",
    "* for (value) in (collection):\n",
    "  *  (values).append( ( expression) ) \n",
    " \n",
    " \n",
    "Turning multiple lines into one! Pros & Cons of course\n",
    "\n",
    "\n"
   ]
  },
  {
   "cell_type": "code",
   "execution_count": 31,
   "metadata": {},
   "outputs": [
    {
     "name": "stdout",
     "output_type": "stream",
     "text": [
      "[0, 4, 16, 36, 64]\n"
     ]
    }
   ],
   "source": [
    "# Now here's a list comprehension with filtering\n",
    "# create the list and filter with the IF, \n",
    "# finding the range values that are divisible by 2 in this example\n",
    "# just keeping the values that are filtered\n",
    "even_squares = [x * x for x in range(10) if x % 2 == 0]\n",
    "print(even_squares)"
   ]
  },
  {
   "cell_type": "code",
   "execution_count": 21,
   "metadata": {},
   "outputs": [
    {
     "data": {
      "text/plain": [
       "0"
      ]
     },
     "execution_count": 21,
     "metadata": {},
     "output_type": "execute_result"
    }
   ],
   "source": [
    "# Reminder that modulo will give you the remainder\n",
    "30%2 # will give you a zero remainder"
   ]
  },
  {
   "cell_type": "code",
   "execution_count": 32,
   "metadata": {},
   "outputs": [
    {
     "data": {
      "text/plain": [
       "[0, 4, 16, 36, 64]"
      ]
     },
     "execution_count": 32,
     "metadata": {},
     "output_type": "execute_result"
    }
   ],
   "source": [
    "# so a for loop example with filtering\n",
    "even_squares2 = []\n",
    "for x in range(10):\n",
    "    if x % 2 == 0:\n",
    "        even_squares2.append(x * x)\n",
    "even_squares2"
   ]
  },
  {
   "cell_type": "code",
   "execution_count": 41,
   "metadata": {},
   "outputs": [
    {
     "name": "stdout",
     "output_type": "stream",
     "text": [
      "[0, 4, 16, 36, 64]\n",
      "[0, 4, 16, 36, 64]\n"
     ]
    }
   ],
   "source": [
    "# Formatting tip!\n",
    "# write them like this:\n",
    "    \n",
    "# values = [expression\n",
    "#          for value in collection\n",
    "#          if condition]\n",
    "# So then this:\n",
    "even_squares = [x * x for x in range(10) if x % 2 == 0]\n",
    "\n",
    "# can look like this:\n",
    "even_squaresFormatted = [x * x \n",
    "                for x in range(10) \n",
    "                if x % 2 == 0]\n",
    "\n",
    "print(even_squares)\n",
    "print(even_squaresFormatted)"
   ]
  },
  {
   "cell_type": "code",
   "execution_count": 40,
   "metadata": {},
   "outputs": [
    {
     "name": "stdout",
     "output_type": "stream",
     "text": [
      "[0, 4, 16, 36, 64]\n",
      "[0, 4, 16, 36, 64]\n"
     ]
    }
   ],
   "source": []
  }
 ],
 "metadata": {
  "kernelspec": {
   "display_name": "Python 3",
   "language": "python",
   "name": "python3"
  },
  "language_info": {
   "codemirror_mode": {
    "name": "ipython",
    "version": 3
   },
   "file_extension": ".py",
   "mimetype": "text/x-python",
   "name": "python",
   "nbconvert_exporter": "python",
   "pygments_lexer": "ipython3",
   "version": "3.7.6"
  }
 },
 "nbformat": 4,
 "nbformat_minor": 4
}
