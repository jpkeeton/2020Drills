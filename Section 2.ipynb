{
 "cells": [
  {
   "cell_type": "markdown",
   "metadata": {},
   "source": [
    "**Variables**\n",
    "    * Section 1\n",
    "    * https://www.udemy.com/course/automated-software-testing-with-python/learn/lecture/7736864#overview\n",
    "    \n"
   ]
  },
  {
   "cell_type": "code",
   "execution_count": null,
   "metadata": {},
   "outputs": [],
   "source": [
    "# Quick calculation example\n",
    "x = 15\n",
    "price = 9.99\n",
    "\n",
    "discount = 0.2"
   ]
  },
  {
   "cell_type": "code",
   "execution_count": null,
   "metadata": {},
   "outputs": [],
   "source": [
    "result = price * (1 - discount)\n",
    "result"
   ]
  },
  {
   "cell_type": "code",
   "execution_count": null,
   "metadata": {},
   "outputs": [],
   "source": [
    "# you can also use the print function\n",
    "print(result)"
   ]
  },
  {
   "cell_type": "code",
   "execution_count": null,
   "metadata": {},
   "outputs": [],
   "source": [
    "#Drill more calculations\n",
    "# y = 35\n",
    "itemCost = 353\n",
    "itemDiscount = .53\n",
    "\n",
    "purchaseTotal = itemCost * (1 - itemDiscount)\n",
    "# Variables Review\n",
    "# name for a value\n",
    "x = 5\n",
    "# Python actually see the value first, and then assigns it to the variable\n",
    "# Right side happens first!\n",
    "# the 5 value is created, stored in memory and the variable becomes the name for the valuepurchaseTotal"
   ]
  },
  {
   "cell_type": "code",
   "execution_count": null,
   "metadata": {},
   "outputs": [],
   "source": [
    "\n",
    "# Create two variables, var1 and var2, both with the same value.\n",
    "var1 = 12\n",
    "var2 = 12\n"
   ]
  },
  {
   "cell_type": "code",
   "execution_count": null,
   "metadata": {},
   "outputs": [],
   "source": [
    "\n",
    "\n",
    "# Create two variables, num1 and num2, which multiply together to give 16.\n",
    "num1 = 2\n",
    "num2 = 8\n",
    "results = num1*num2\n",
    "print(results)"
   ]
  },
  {
   "cell_type": "code",
   "execution_count": null,
   "metadata": {},
   "outputs": [],
   "source": []
  },
  {
   "cell_type": "code",
   "execution_count": null,
   "metadata": {},
   "outputs": [],
   "source": []
  },
  {
   "cell_type": "code",
   "execution_count": null,
   "metadata": {},
   "outputs": [],
   "source": []
  },
  {
   "cell_type": "code",
   "execution_count": null,
   "metadata": {},
   "outputs": [],
   "source": []
  },
  {
   "cell_type": "code",
   "execution_count": null,
   "metadata": {},
   "outputs": [],
   "source": [
    "# strings\n",
    "person = \"rolf \"\n",
    "person + person"
   ]
  },
  {
   "cell_type": "code",
   "execution_count": null,
   "metadata": {},
   "outputs": [],
   "source": [
    "person * 3"
   ]
  },
  {
   "cell_type": "code",
   "execution_count": null,
   "metadata": {},
   "outputs": [],
   "source": [
    "# string formatting\n",
    "# https://www.udemy.com/course/automated-software-testing-with-python/learn/lecture/16000176#overview\n",
    "\n",
    "# this is for python 3.6 or later\n",
    "\n",
    "name = \"Bob\"\n",
    "greeting = \"hello, bob\""
   ]
  },
  {
   "cell_type": "code",
   "execution_count": null,
   "metadata": {},
   "outputs": [],
   "source": [
    "name\n",
    "# greeting"
   ]
  },
  {
   "cell_type": "code",
   "execution_count": null,
   "metadata": {},
   "outputs": [],
   "source": [
    "greeting"
   ]
  },
  {
   "cell_type": "code",
   "execution_count": null,
   "metadata": {},
   "outputs": [],
   "source": []
  },
  {
   "cell_type": "markdown",
   "metadata": {},
   "source": [
    "F Strings\n",
    "\n",
    "\n",
    "* F-strings provide a way to embed expressions inside string literals, using a minimal syntax. \n",
    "* In Python source code, an f-string is a literal string, prefixed with 'f', which contains expressions inside braces. \n",
    "* The expressions are replaced with their values.\n",
    "* aka -> 'formatted string literals'"
   ]
  },
  {
   "cell_type": "code",
   "execution_count": null,
   "metadata": {},
   "outputs": [],
   "source": [
    "# F string example\n",
    "# create your string\n",
    "name2 = \"Doodoo Head\"\n",
    "# create a spot to use your f string\n",
    "# put the f up from and use braces to stick the variable\n",
    "greeting3 = f\"Hello, {name2}\""
   ]
  },
  {
   "cell_type": "code",
   "execution_count": null,
   "metadata": {},
   "outputs": [],
   "source": [
    "greeting3"
   ]
  },
  {
   "cell_type": "code",
   "execution_count": null,
   "metadata": {},
   "outputs": [],
   "source": [
    "# do it again\n",
    "persons = \"this is my people\"\n",
    "greeting4 = f\"yo yo, {persons}\"\n"
   ]
  },
  {
   "cell_type": "code",
   "execution_count": null,
   "metadata": {},
   "outputs": [],
   "source": [
    "greeting4"
   ]
  },
  {
   "cell_type": "code",
   "execution_count": null,
   "metadata": {},
   "outputs": [],
   "source": [
    "# another f string example from https://www.youtube.com/watch?v=c8nHlLEmtNg\n",
    "#create a couple variables\n",
    "aa = 3\n",
    "bb = 44\n",
    "# create a spot to stick the variables, in this case an equeation\n",
    "simpleEquation = f\"five plus ten = {aa + bb}\"\n",
    "print(simpleEquation)"
   ]
  },
  {
   "cell_type": "code",
   "execution_count": null,
   "metadata": {},
   "outputs": [],
   "source": [
    "# More f strings\n",
    "# https://www.youtube.com/watch?v=nghuHvKLhJA\n",
    "\n",
    "# First let's use the older format method\n",
    "# meh, don't even bother w this old method, Roll w the new!\n",
    "# set up variables\n",
    "first_name = \"Jo\"\n",
    "last_name = \"Bolomo\"\n",
    "\n",
    "# create a sentence w these elements\n",
    "sentence = \"my name is {} {}\".format(first_name, last_name) \n"
   ]
  },
  {
   "cell_type": "code",
   "execution_count": null,
   "metadata": {},
   "outputs": [],
   "source": [
    "sentence"
   ]
  },
  {
   "cell_type": "code",
   "execution_count": null,
   "metadata": {},
   "outputs": [],
   "source": [
    "# but this is not great, hard to figure out which is filled in where, how to best track the variables?\n",
    "\n",
    "# so f string again\n",
    "sentence2 =  f\"My name is {first_name} {last_name}.\""
   ]
  },
  {
   "cell_type": "code",
   "execution_count": null,
   "metadata": {},
   "outputs": [],
   "source": [
    "sentence2"
   ]
  },
  {
   "cell_type": "code",
   "execution_count": null,
   "metadata": {},
   "outputs": [],
   "source": [
    "# now let's set up a dictionary \n",
    "personDict = {'name': 'jennifer', 'age': 23}"
   ]
  },
  {
   "cell_type": "code",
   "execution_count": null,
   "metadata": {},
   "outputs": [],
   "source": [
    "# make sure the new dictionary is working\n",
    "personDict"
   ]
  },
  {
   "cell_type": "code",
   "execution_count": null,
   "metadata": {},
   "outputs": [],
   "source": [
    "# now use this"
   ]
  },
  {
   "cell_type": "code",
   "execution_count": null,
   "metadata": {},
   "outputs": [],
   "source": [
    "sentence3 = f\"My name is {personDict['name']} and I am {personDict['age']} years old\""
   ]
  },
  {
   "cell_type": "code",
   "execution_count": null,
   "metadata": {},
   "outputs": [],
   "source": [
    "sentence3"
   ]
  },
  {
   "cell_type": "code",
   "execution_count": null,
   "metadata": {},
   "outputs": [],
   "source": []
  },
  {
   "cell_type": "code",
   "execution_count": null,
   "metadata": {},
   "outputs": [],
   "source": [
    "# Another way to do this sort of thing w the format option, where you can use multiple options\n",
    "# defining a template\n",
    "\n",
    "newName = \"joso\"\n",
    "newGreeting = \"yo, hey sup, {}\"\n",
    "# apply the format function to the greeting and stick the name into an argument\n",
    "with_newName = newGreeting.format(newName)\n",
    "\n",
    "# then  you can reuse this w different values, putting a string in there instead of a variable\n",
    "with_newName2 = newGreeting.format(\"rolf\")"
   ]
  },
  {
   "cell_type": "code",
   "execution_count": null,
   "metadata": {},
   "outputs": [],
   "source": [
    "print(with_newName + \" and also \" + with_newName2)\n",
    "# with_newName2"
   ]
  },
  {
   "cell_type": "code",
   "execution_count": null,
   "metadata": {},
   "outputs": [],
   "source": []
  },
  {
   "cell_type": "code",
   "execution_count": null,
   "metadata": {},
   "outputs": [],
   "source": []
  },
  {
   "cell_type": "markdown",
   "metadata": {},
   "source": [
    "Getting User Input\n",
    "* video is here: https://www.udemy.com/course/automated-software-testing-with-python/learn/lecture/16000180#overview\n"
   ]
  },
  {
   "cell_type": "code",
   "execution_count": null,
   "metadata": {},
   "outputs": [],
   "source": [
    "# create a new variable for a user's name\n",
    "userName = input(\"wass your name? \")\n"
   ]
  },
  {
   "cell_type": "code",
   "execution_count": null,
   "metadata": {},
   "outputs": [],
   "source": [
    "print(userName)"
   ]
  },
  {
   "cell_type": "code",
   "execution_count": null,
   "metadata": {},
   "outputs": [],
   "source": [
    "# ** input will always give you back a string, so if you wanna number you need to cast it?\n",
    "# so if you want to calc something use the int bit like here:\n",
    "houseSize = input(\"how big is your house?\")\n",
    "squareFeet = int(houseSize)\n",
    "squareMeters = squareFeet/10.8\n",
    "print(squareMeters)\n",
    "# houseSize"
   ]
  },
  {
   "cell_type": "code",
   "execution_count": null,
   "metadata": {},
   "outputs": [],
   "source": []
  }
 ],
 "metadata": {
  "kernelspec": {
   "display_name": "Python 3",
   "language": "python",
   "name": "python3"
  },
  "language_info": {
   "codemirror_mode": {
    "name": "ipython",
    "version": 3
   },
   "file_extension": ".py",
   "mimetype": "text/x-python",
   "name": "python",
   "nbconvert_exporter": "python",
   "pygments_lexer": "ipython3",
   "version": "3.7.6"
  }
 },
 "nbformat": 4,
 "nbformat_minor": 4
}
