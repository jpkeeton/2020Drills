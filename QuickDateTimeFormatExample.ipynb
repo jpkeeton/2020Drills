{
 "cells": [
  {
   "cell_type": "code",
   "execution_count": 7,
   "metadata": {},
   "outputs": [
    {
     "name": "stdout",
     "output_type": "stream",
     "text": [
      "2020-11-19 18:45:00\n"
     ]
    }
   ],
   "source": [
    "# Source = https://stackoverflow.com/questions/33810980/date-time-split-in-python/33811625\n",
    "\n",
    "import datetime\n",
    "\n",
    "string = \"19 Nov 2020  18:45:00.000\"\n",
    "date = datetime.datetime.strptime(string, \"%d %b %Y  %H:%M:%S.%f\")\n",
    "\n",
    "print(date)"
   ]
  }
 ],
 "metadata": {
  "kernelspec": {
   "display_name": "Python 3",
   "language": "python",
   "name": "python3"
  },
  "language_info": {
   "codemirror_mode": {
    "name": "ipython",
    "version": 3
   },
   "file_extension": ".py",
   "mimetype": "text/x-python",
   "name": "python",
   "nbconvert_exporter": "python",
   "pygments_lexer": "ipython3",
   "version": "3.7.6"
  }
 },
 "nbformat": 4,
 "nbformat_minor": 4
}
