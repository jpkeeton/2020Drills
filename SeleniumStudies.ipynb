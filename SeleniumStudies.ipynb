{
 "cells": [
  {
   "cell_type": "markdown",
   "metadata": {},
   "source": [
    "**Practicing Selenium**\n",
    "\n",
    "* Resources:\n",
    "    * https://selenium-python.readthedocs.io/getting-started.html\n",
    "    * https://www.selenium.dev/selenium/docs/api/py \n",
    "    * https://selenium-python.readthedocs.io/locating-elements.html#locating-elements\n",
    "    * https://medium.com/@asheeshmisra29/web-automation-selenium-webdriver-and-python-getting-started-part-1-157be93049d7\n",
    "    * https://medium.com/@asheeshmisra29/web-automation-selenium-webdriver-and-python-getting-started-part-3-a9c07143d36d"
   ]
  },
  {
   "cell_type": "code",
   "execution_count": 3,
   "metadata": {},
   "outputs": [],
   "source": [
    "from selenium import webdriver\n",
    "# The Keys class provide keys in the keyboard like RETURN, F1, ALT etc.\n",
    "from selenium.webdriver.common.keys import Keys"
   ]
  },
  {
   "cell_type": "code",
   "execution_count": 4,
   "metadata": {},
   "outputs": [
    {
     "ename": "SessionNotCreatedException",
     "evalue": "Message: session not created: This version of ChromeDriver only supports Chrome version 85\n",
     "output_type": "error",
     "traceback": [
      "\u001b[1;31m---------------------------------------------------------------------------\u001b[0m",
      "\u001b[1;31mSessionNotCreatedException\u001b[0m                Traceback (most recent call last)",
      "\u001b[1;32m<ipython-input-4-3becf945c919>\u001b[0m in \u001b[0;36m<module>\u001b[1;34m\u001b[0m\n\u001b[0;32m      2\u001b[0m \u001b[1;33m\u001b[0m\u001b[0m\n\u001b[0;32m      3\u001b[0m \u001b[1;31m# pointing to the specific version here\u001b[0m\u001b[1;33m\u001b[0m\u001b[1;33m\u001b[0m\u001b[1;33m\u001b[0m\u001b[0m\n\u001b[1;32m----> 4\u001b[1;33m \u001b[0mdriver\u001b[0m \u001b[1;33m=\u001b[0m \u001b[0mwebdriver\u001b[0m\u001b[1;33m.\u001b[0m\u001b[0mChrome\u001b[0m\u001b[1;33m(\u001b[0m\u001b[0mexecutable_path\u001b[0m\u001b[1;33m=\u001b[0m\u001b[1;34mr'C:\\Users\\jpkee\\Downloads\\chromedriver_win32\\chromedriver.exe'\u001b[0m\u001b[1;33m)\u001b[0m\u001b[1;33m\u001b[0m\u001b[1;33m\u001b[0m\u001b[0m\n\u001b[0m\u001b[0;32m      5\u001b[0m \u001b[0mprint\u001b[0m\u001b[1;33m(\u001b[0m\u001b[1;34m'starting test'\u001b[0m\u001b[1;33m)\u001b[0m\u001b[1;33m\u001b[0m\u001b[1;33m\u001b[0m\u001b[0m\n\u001b[0;32m      6\u001b[0m \u001b[1;33m\u001b[0m\u001b[0m\n",
      "\u001b[1;32m~\\anaconda3\\lib\\site-packages\\selenium\\webdriver\\chrome\\webdriver.py\u001b[0m in \u001b[0;36m__init__\u001b[1;34m(self, executable_path, port, options, service_args, desired_capabilities, service_log_path, chrome_options, keep_alive)\u001b[0m\n\u001b[0;32m     79\u001b[0m                     \u001b[0mremote_server_addr\u001b[0m\u001b[1;33m=\u001b[0m\u001b[0mself\u001b[0m\u001b[1;33m.\u001b[0m\u001b[0mservice\u001b[0m\u001b[1;33m.\u001b[0m\u001b[0mservice_url\u001b[0m\u001b[1;33m,\u001b[0m\u001b[1;33m\u001b[0m\u001b[1;33m\u001b[0m\u001b[0m\n\u001b[0;32m     80\u001b[0m                     keep_alive=keep_alive),\n\u001b[1;32m---> 81\u001b[1;33m                 desired_capabilities=desired_capabilities)\n\u001b[0m\u001b[0;32m     82\u001b[0m         \u001b[1;32mexcept\u001b[0m \u001b[0mException\u001b[0m\u001b[1;33m:\u001b[0m\u001b[1;33m\u001b[0m\u001b[1;33m\u001b[0m\u001b[0m\n\u001b[0;32m     83\u001b[0m             \u001b[0mself\u001b[0m\u001b[1;33m.\u001b[0m\u001b[0mquit\u001b[0m\u001b[1;33m(\u001b[0m\u001b[1;33m)\u001b[0m\u001b[1;33m\u001b[0m\u001b[1;33m\u001b[0m\u001b[0m\n",
      "\u001b[1;32m~\\anaconda3\\lib\\site-packages\\selenium\\webdriver\\remote\\webdriver.py\u001b[0m in \u001b[0;36m__init__\u001b[1;34m(self, command_executor, desired_capabilities, browser_profile, proxy, keep_alive, file_detector, options)\u001b[0m\n\u001b[0;32m    155\u001b[0m             warnings.warn(\"Please use FirefoxOptions to set browser profile\",\n\u001b[0;32m    156\u001b[0m                           DeprecationWarning, stacklevel=2)\n\u001b[1;32m--> 157\u001b[1;33m         \u001b[0mself\u001b[0m\u001b[1;33m.\u001b[0m\u001b[0mstart_session\u001b[0m\u001b[1;33m(\u001b[0m\u001b[0mcapabilities\u001b[0m\u001b[1;33m,\u001b[0m \u001b[0mbrowser_profile\u001b[0m\u001b[1;33m)\u001b[0m\u001b[1;33m\u001b[0m\u001b[1;33m\u001b[0m\u001b[0m\n\u001b[0m\u001b[0;32m    158\u001b[0m         \u001b[0mself\u001b[0m\u001b[1;33m.\u001b[0m\u001b[0m_switch_to\u001b[0m \u001b[1;33m=\u001b[0m \u001b[0mSwitchTo\u001b[0m\u001b[1;33m(\u001b[0m\u001b[0mself\u001b[0m\u001b[1;33m)\u001b[0m\u001b[1;33m\u001b[0m\u001b[1;33m\u001b[0m\u001b[0m\n\u001b[0;32m    159\u001b[0m         \u001b[0mself\u001b[0m\u001b[1;33m.\u001b[0m\u001b[0m_mobile\u001b[0m \u001b[1;33m=\u001b[0m \u001b[0mMobile\u001b[0m\u001b[1;33m(\u001b[0m\u001b[0mself\u001b[0m\u001b[1;33m)\u001b[0m\u001b[1;33m\u001b[0m\u001b[1;33m\u001b[0m\u001b[0m\n",
      "\u001b[1;32m~\\anaconda3\\lib\\site-packages\\selenium\\webdriver\\remote\\webdriver.py\u001b[0m in \u001b[0;36mstart_session\u001b[1;34m(self, capabilities, browser_profile)\u001b[0m\n\u001b[0;32m    250\u001b[0m         parameters = {\"capabilities\": w3c_caps,\n\u001b[0;32m    251\u001b[0m                       \"desiredCapabilities\": capabilities}\n\u001b[1;32m--> 252\u001b[1;33m         \u001b[0mresponse\u001b[0m \u001b[1;33m=\u001b[0m \u001b[0mself\u001b[0m\u001b[1;33m.\u001b[0m\u001b[0mexecute\u001b[0m\u001b[1;33m(\u001b[0m\u001b[0mCommand\u001b[0m\u001b[1;33m.\u001b[0m\u001b[0mNEW_SESSION\u001b[0m\u001b[1;33m,\u001b[0m \u001b[0mparameters\u001b[0m\u001b[1;33m)\u001b[0m\u001b[1;33m\u001b[0m\u001b[1;33m\u001b[0m\u001b[0m\n\u001b[0m\u001b[0;32m    253\u001b[0m         \u001b[1;32mif\u001b[0m \u001b[1;34m'sessionId'\u001b[0m \u001b[1;32mnot\u001b[0m \u001b[1;32min\u001b[0m \u001b[0mresponse\u001b[0m\u001b[1;33m:\u001b[0m\u001b[1;33m\u001b[0m\u001b[1;33m\u001b[0m\u001b[0m\n\u001b[0;32m    254\u001b[0m             \u001b[0mresponse\u001b[0m \u001b[1;33m=\u001b[0m \u001b[0mresponse\u001b[0m\u001b[1;33m[\u001b[0m\u001b[1;34m'value'\u001b[0m\u001b[1;33m]\u001b[0m\u001b[1;33m\u001b[0m\u001b[1;33m\u001b[0m\u001b[0m\n",
      "\u001b[1;32m~\\anaconda3\\lib\\site-packages\\selenium\\webdriver\\remote\\webdriver.py\u001b[0m in \u001b[0;36mexecute\u001b[1;34m(self, driver_command, params)\u001b[0m\n\u001b[0;32m    319\u001b[0m         \u001b[0mresponse\u001b[0m \u001b[1;33m=\u001b[0m \u001b[0mself\u001b[0m\u001b[1;33m.\u001b[0m\u001b[0mcommand_executor\u001b[0m\u001b[1;33m.\u001b[0m\u001b[0mexecute\u001b[0m\u001b[1;33m(\u001b[0m\u001b[0mdriver_command\u001b[0m\u001b[1;33m,\u001b[0m \u001b[0mparams\u001b[0m\u001b[1;33m)\u001b[0m\u001b[1;33m\u001b[0m\u001b[1;33m\u001b[0m\u001b[0m\n\u001b[0;32m    320\u001b[0m         \u001b[1;32mif\u001b[0m \u001b[0mresponse\u001b[0m\u001b[1;33m:\u001b[0m\u001b[1;33m\u001b[0m\u001b[1;33m\u001b[0m\u001b[0m\n\u001b[1;32m--> 321\u001b[1;33m             \u001b[0mself\u001b[0m\u001b[1;33m.\u001b[0m\u001b[0merror_handler\u001b[0m\u001b[1;33m.\u001b[0m\u001b[0mcheck_response\u001b[0m\u001b[1;33m(\u001b[0m\u001b[0mresponse\u001b[0m\u001b[1;33m)\u001b[0m\u001b[1;33m\u001b[0m\u001b[1;33m\u001b[0m\u001b[0m\n\u001b[0m\u001b[0;32m    322\u001b[0m             response['value'] = self._unwrap_value(\n\u001b[0;32m    323\u001b[0m                 response.get('value', None))\n",
      "\u001b[1;32m~\\anaconda3\\lib\\site-packages\\selenium\\webdriver\\remote\\errorhandler.py\u001b[0m in \u001b[0;36mcheck_response\u001b[1;34m(self, response)\u001b[0m\n\u001b[0;32m    240\u001b[0m                 \u001b[0malert_text\u001b[0m \u001b[1;33m=\u001b[0m \u001b[0mvalue\u001b[0m\u001b[1;33m[\u001b[0m\u001b[1;34m'alert'\u001b[0m\u001b[1;33m]\u001b[0m\u001b[1;33m.\u001b[0m\u001b[0mget\u001b[0m\u001b[1;33m(\u001b[0m\u001b[1;34m'text'\u001b[0m\u001b[1;33m)\u001b[0m\u001b[1;33m\u001b[0m\u001b[1;33m\u001b[0m\u001b[0m\n\u001b[0;32m    241\u001b[0m             \u001b[1;32mraise\u001b[0m \u001b[0mexception_class\u001b[0m\u001b[1;33m(\u001b[0m\u001b[0mmessage\u001b[0m\u001b[1;33m,\u001b[0m \u001b[0mscreen\u001b[0m\u001b[1;33m,\u001b[0m \u001b[0mstacktrace\u001b[0m\u001b[1;33m,\u001b[0m \u001b[0malert_text\u001b[0m\u001b[1;33m)\u001b[0m\u001b[1;33m\u001b[0m\u001b[1;33m\u001b[0m\u001b[0m\n\u001b[1;32m--> 242\u001b[1;33m         \u001b[1;32mraise\u001b[0m \u001b[0mexception_class\u001b[0m\u001b[1;33m(\u001b[0m\u001b[0mmessage\u001b[0m\u001b[1;33m,\u001b[0m \u001b[0mscreen\u001b[0m\u001b[1;33m,\u001b[0m \u001b[0mstacktrace\u001b[0m\u001b[1;33m)\u001b[0m\u001b[1;33m\u001b[0m\u001b[1;33m\u001b[0m\u001b[0m\n\u001b[0m\u001b[0;32m    243\u001b[0m \u001b[1;33m\u001b[0m\u001b[0m\n\u001b[0;32m    244\u001b[0m     \u001b[1;32mdef\u001b[0m \u001b[0m_value_or_default\u001b[0m\u001b[1;33m(\u001b[0m\u001b[0mself\u001b[0m\u001b[1;33m,\u001b[0m \u001b[0mobj\u001b[0m\u001b[1;33m,\u001b[0m \u001b[0mkey\u001b[0m\u001b[1;33m,\u001b[0m \u001b[0mdefault\u001b[0m\u001b[1;33m)\u001b[0m\u001b[1;33m:\u001b[0m\u001b[1;33m\u001b[0m\u001b[1;33m\u001b[0m\u001b[0m\n",
      "\u001b[1;31mSessionNotCreatedException\u001b[0m: Message: session not created: This version of ChromeDriver only supports Chrome version 85\n"
     ]
    }
   ],
   "source": [
    "# Next, the instance of Chrome WebDriver is created.\n",
    "\n",
    "# pointing to the specific version here\n",
    "driver = webdriver.Chrome(executable_path=r'C:\\Users\\jpkee\\Downloads\\chromedriver_win32\\chromedriver.exe')\n",
    "print('starting test')\n",
    "\n",
    "# the driver.get method will navigate to a page given by the URL\n",
    "# Webdriver will wait unti lthe page has fully loaded, aka the 'onload' event has fired\n",
    "driver.get(\"http://www.python.org\")\n",
    "\n",
    "# just a print statement for tracking\n",
    "print(\"Kickin' off the test!\")\n",
    "\n",
    "# then we'll assert that 'Python' is in the title\n",
    "assert \"Python\" in driver.title\n",
    "\n",
    "# so the Q is the search field element\n",
    "# <input id=\"id-search-field\" name=\"q\" type=\"search\"......\n",
    "elem = driver.find_element_by_name(\"q\")\n",
    "# would be cool to have an if presen here probably\n",
    "if driver.find_elements_by_name('q'):\n",
    "    print(\"Found the search box\")\n",
    "else:\n",
    "    print(\"I'm not finding the search box\")\n",
    "    driver.close()\n",
    "# or this approach? \n",
    "  # https://stackoverflow.com/questions/45695874/check-if-element-exists-python-selenium            \n",
    "\n",
    "# here we will clear the search box\n",
    "elem.clear()\n",
    "elem.send_keys(\"pycon\")\n",
    "elem.send_keys(Keys.RETURN)\n",
    "# adding some messaging:\n",
    "title = driver.title\n",
    "print('Title is: ' + title + ' so that\\'s fun')\n",
    "\n",
    "assert \"No results found.\" not in driver.page_source\n",
    "print(\"About to close the browser\")\n",
    "driver.close()\n",
    "print(\"Browser Closed\")"
   ]
  },
  {
   "cell_type": "markdown",
   "metadata": {},
   "source": [
    "<font color='##04522a'>More on onload event:</font>\n",
    "\n",
    "* The onload attribute fires when an object has been loaded.\n",
    "\n",
    "* onload is most often used within the <body> element to execute a script once a web page has completely loaded all content (including images, script files, CSS files, etc.). However, it can be used on other elements as well (see \"Supported HTML tags\" below).\n",
    "\n",
    "* The onload attribute can be used to check the visitor's browser type and browser version, and load the proper version of the web page based on the information.\n",
    "\n",
    "* The onload attribute can also be used to deal with cookies (see \"More Examples\" below).\n",
    "    \n",
    "* reference: https://www.w3schools.com/jsref/event_onload.asp"
   ]
  },
  {
   "cell_type": "code",
   "execution_count": null,
   "metadata": {},
   "outputs": [],
   "source": [
    "from selenium import webdriver\n",
    "print(\"starting test\")\n",
    "driver = webdriver.Firefox()\n",
    "driver.get(\"http://www.python.org\")\n",
    "assert \"Python\" in driver.title\n",
    "elem = driver.find_element_by_name(\"q\")\n",
    "elem.send_keys(\"pycon\")\n",
    "elem.send_keys(Keys.RETURN)\n",
    "assert \"No results found.\" not in driver.page_source\n",
    "driver.close()\n",
    "print(\"ending test\")"
   ]
  },
  {
   "cell_type": "code",
   "execution_count": 5,
   "metadata": {},
   "outputs": [
    {
     "ename": "SessionNotCreatedException",
     "evalue": "Message: session not created: This version of ChromeDriver only supports Chrome version 80\n",
     "output_type": "error",
     "traceback": [
      "\u001b[1;31m---------------------------------------------------------------------------\u001b[0m",
      "\u001b[1;31mSessionNotCreatedException\u001b[0m                Traceback (most recent call last)",
      "\u001b[1;32m<ipython-input-5-9422c2c6a41f>\u001b[0m in \u001b[0;36m<module>\u001b[1;34m\u001b[0m\n\u001b[0;32m      1\u001b[0m \u001b[1;31m# Now let's go to Google\u001b[0m\u001b[1;33m\u001b[0m\u001b[1;33m\u001b[0m\u001b[1;33m\u001b[0m\u001b[0m\n\u001b[1;32m----> 2\u001b[1;33m \u001b[0mdriver\u001b[0m \u001b[1;33m=\u001b[0m \u001b[0mwebdriver\u001b[0m\u001b[1;33m.\u001b[0m\u001b[0mChrome\u001b[0m\u001b[1;33m(\u001b[0m\u001b[1;33m)\u001b[0m\u001b[1;33m\u001b[0m\u001b[1;33m\u001b[0m\u001b[0m\n\u001b[0m\u001b[0;32m      3\u001b[0m \u001b[1;33m\u001b[0m\u001b[0m\n\u001b[0;32m      4\u001b[0m \u001b[0mdriver\u001b[0m\u001b[1;33m.\u001b[0m\u001b[0mget\u001b[0m\u001b[1;33m(\u001b[0m\u001b[1;34m\"http://www.google.com\"\u001b[0m\u001b[1;33m)\u001b[0m\u001b[1;33m\u001b[0m\u001b[1;33m\u001b[0m\u001b[0m\n\u001b[0;32m      5\u001b[0m \u001b[0mprint\u001b[0m\u001b[1;33m(\u001b[0m\u001b[1;34m\"Kickin' off the test!\"\u001b[0m\u001b[1;33m)\u001b[0m\u001b[1;33m\u001b[0m\u001b[1;33m\u001b[0m\u001b[0m\n",
      "\u001b[1;32m~\\anaconda3\\lib\\site-packages\\selenium\\webdriver\\chrome\\webdriver.py\u001b[0m in \u001b[0;36m__init__\u001b[1;34m(self, executable_path, port, options, service_args, desired_capabilities, service_log_path, chrome_options, keep_alive)\u001b[0m\n\u001b[0;32m     79\u001b[0m                     \u001b[0mremote_server_addr\u001b[0m\u001b[1;33m=\u001b[0m\u001b[0mself\u001b[0m\u001b[1;33m.\u001b[0m\u001b[0mservice\u001b[0m\u001b[1;33m.\u001b[0m\u001b[0mservice_url\u001b[0m\u001b[1;33m,\u001b[0m\u001b[1;33m\u001b[0m\u001b[1;33m\u001b[0m\u001b[0m\n\u001b[0;32m     80\u001b[0m                     keep_alive=keep_alive),\n\u001b[1;32m---> 81\u001b[1;33m                 desired_capabilities=desired_capabilities)\n\u001b[0m\u001b[0;32m     82\u001b[0m         \u001b[1;32mexcept\u001b[0m \u001b[0mException\u001b[0m\u001b[1;33m:\u001b[0m\u001b[1;33m\u001b[0m\u001b[1;33m\u001b[0m\u001b[0m\n\u001b[0;32m     83\u001b[0m             \u001b[0mself\u001b[0m\u001b[1;33m.\u001b[0m\u001b[0mquit\u001b[0m\u001b[1;33m(\u001b[0m\u001b[1;33m)\u001b[0m\u001b[1;33m\u001b[0m\u001b[1;33m\u001b[0m\u001b[0m\n",
      "\u001b[1;32m~\\anaconda3\\lib\\site-packages\\selenium\\webdriver\\remote\\webdriver.py\u001b[0m in \u001b[0;36m__init__\u001b[1;34m(self, command_executor, desired_capabilities, browser_profile, proxy, keep_alive, file_detector, options)\u001b[0m\n\u001b[0;32m    155\u001b[0m             warnings.warn(\"Please use FirefoxOptions to set browser profile\",\n\u001b[0;32m    156\u001b[0m                           DeprecationWarning, stacklevel=2)\n\u001b[1;32m--> 157\u001b[1;33m         \u001b[0mself\u001b[0m\u001b[1;33m.\u001b[0m\u001b[0mstart_session\u001b[0m\u001b[1;33m(\u001b[0m\u001b[0mcapabilities\u001b[0m\u001b[1;33m,\u001b[0m \u001b[0mbrowser_profile\u001b[0m\u001b[1;33m)\u001b[0m\u001b[1;33m\u001b[0m\u001b[1;33m\u001b[0m\u001b[0m\n\u001b[0m\u001b[0;32m    158\u001b[0m         \u001b[0mself\u001b[0m\u001b[1;33m.\u001b[0m\u001b[0m_switch_to\u001b[0m \u001b[1;33m=\u001b[0m \u001b[0mSwitchTo\u001b[0m\u001b[1;33m(\u001b[0m\u001b[0mself\u001b[0m\u001b[1;33m)\u001b[0m\u001b[1;33m\u001b[0m\u001b[1;33m\u001b[0m\u001b[0m\n\u001b[0;32m    159\u001b[0m         \u001b[0mself\u001b[0m\u001b[1;33m.\u001b[0m\u001b[0m_mobile\u001b[0m \u001b[1;33m=\u001b[0m \u001b[0mMobile\u001b[0m\u001b[1;33m(\u001b[0m\u001b[0mself\u001b[0m\u001b[1;33m)\u001b[0m\u001b[1;33m\u001b[0m\u001b[1;33m\u001b[0m\u001b[0m\n",
      "\u001b[1;32m~\\anaconda3\\lib\\site-packages\\selenium\\webdriver\\remote\\webdriver.py\u001b[0m in \u001b[0;36mstart_session\u001b[1;34m(self, capabilities, browser_profile)\u001b[0m\n\u001b[0;32m    250\u001b[0m         parameters = {\"capabilities\": w3c_caps,\n\u001b[0;32m    251\u001b[0m                       \"desiredCapabilities\": capabilities}\n\u001b[1;32m--> 252\u001b[1;33m         \u001b[0mresponse\u001b[0m \u001b[1;33m=\u001b[0m \u001b[0mself\u001b[0m\u001b[1;33m.\u001b[0m\u001b[0mexecute\u001b[0m\u001b[1;33m(\u001b[0m\u001b[0mCommand\u001b[0m\u001b[1;33m.\u001b[0m\u001b[0mNEW_SESSION\u001b[0m\u001b[1;33m,\u001b[0m \u001b[0mparameters\u001b[0m\u001b[1;33m)\u001b[0m\u001b[1;33m\u001b[0m\u001b[1;33m\u001b[0m\u001b[0m\n\u001b[0m\u001b[0;32m    253\u001b[0m         \u001b[1;32mif\u001b[0m \u001b[1;34m'sessionId'\u001b[0m \u001b[1;32mnot\u001b[0m \u001b[1;32min\u001b[0m \u001b[0mresponse\u001b[0m\u001b[1;33m:\u001b[0m\u001b[1;33m\u001b[0m\u001b[1;33m\u001b[0m\u001b[0m\n\u001b[0;32m    254\u001b[0m             \u001b[0mresponse\u001b[0m \u001b[1;33m=\u001b[0m \u001b[0mresponse\u001b[0m\u001b[1;33m[\u001b[0m\u001b[1;34m'value'\u001b[0m\u001b[1;33m]\u001b[0m\u001b[1;33m\u001b[0m\u001b[1;33m\u001b[0m\u001b[0m\n",
      "\u001b[1;32m~\\anaconda3\\lib\\site-packages\\selenium\\webdriver\\remote\\webdriver.py\u001b[0m in \u001b[0;36mexecute\u001b[1;34m(self, driver_command, params)\u001b[0m\n\u001b[0;32m    319\u001b[0m         \u001b[0mresponse\u001b[0m \u001b[1;33m=\u001b[0m \u001b[0mself\u001b[0m\u001b[1;33m.\u001b[0m\u001b[0mcommand_executor\u001b[0m\u001b[1;33m.\u001b[0m\u001b[0mexecute\u001b[0m\u001b[1;33m(\u001b[0m\u001b[0mdriver_command\u001b[0m\u001b[1;33m,\u001b[0m \u001b[0mparams\u001b[0m\u001b[1;33m)\u001b[0m\u001b[1;33m\u001b[0m\u001b[1;33m\u001b[0m\u001b[0m\n\u001b[0;32m    320\u001b[0m         \u001b[1;32mif\u001b[0m \u001b[0mresponse\u001b[0m\u001b[1;33m:\u001b[0m\u001b[1;33m\u001b[0m\u001b[1;33m\u001b[0m\u001b[0m\n\u001b[1;32m--> 321\u001b[1;33m             \u001b[0mself\u001b[0m\u001b[1;33m.\u001b[0m\u001b[0merror_handler\u001b[0m\u001b[1;33m.\u001b[0m\u001b[0mcheck_response\u001b[0m\u001b[1;33m(\u001b[0m\u001b[0mresponse\u001b[0m\u001b[1;33m)\u001b[0m\u001b[1;33m\u001b[0m\u001b[1;33m\u001b[0m\u001b[0m\n\u001b[0m\u001b[0;32m    322\u001b[0m             response['value'] = self._unwrap_value(\n\u001b[0;32m    323\u001b[0m                 response.get('value', None))\n",
      "\u001b[1;32m~\\anaconda3\\lib\\site-packages\\selenium\\webdriver\\remote\\errorhandler.py\u001b[0m in \u001b[0;36mcheck_response\u001b[1;34m(self, response)\u001b[0m\n\u001b[0;32m    240\u001b[0m                 \u001b[0malert_text\u001b[0m \u001b[1;33m=\u001b[0m \u001b[0mvalue\u001b[0m\u001b[1;33m[\u001b[0m\u001b[1;34m'alert'\u001b[0m\u001b[1;33m]\u001b[0m\u001b[1;33m.\u001b[0m\u001b[0mget\u001b[0m\u001b[1;33m(\u001b[0m\u001b[1;34m'text'\u001b[0m\u001b[1;33m)\u001b[0m\u001b[1;33m\u001b[0m\u001b[1;33m\u001b[0m\u001b[0m\n\u001b[0;32m    241\u001b[0m             \u001b[1;32mraise\u001b[0m \u001b[0mexception_class\u001b[0m\u001b[1;33m(\u001b[0m\u001b[0mmessage\u001b[0m\u001b[1;33m,\u001b[0m \u001b[0mscreen\u001b[0m\u001b[1;33m,\u001b[0m \u001b[0mstacktrace\u001b[0m\u001b[1;33m,\u001b[0m \u001b[0malert_text\u001b[0m\u001b[1;33m)\u001b[0m\u001b[1;33m\u001b[0m\u001b[1;33m\u001b[0m\u001b[0m\n\u001b[1;32m--> 242\u001b[1;33m         \u001b[1;32mraise\u001b[0m \u001b[0mexception_class\u001b[0m\u001b[1;33m(\u001b[0m\u001b[0mmessage\u001b[0m\u001b[1;33m,\u001b[0m \u001b[0mscreen\u001b[0m\u001b[1;33m,\u001b[0m \u001b[0mstacktrace\u001b[0m\u001b[1;33m)\u001b[0m\u001b[1;33m\u001b[0m\u001b[1;33m\u001b[0m\u001b[0m\n\u001b[0m\u001b[0;32m    243\u001b[0m \u001b[1;33m\u001b[0m\u001b[0m\n\u001b[0;32m    244\u001b[0m     \u001b[1;32mdef\u001b[0m \u001b[0m_value_or_default\u001b[0m\u001b[1;33m(\u001b[0m\u001b[0mself\u001b[0m\u001b[1;33m,\u001b[0m \u001b[0mobj\u001b[0m\u001b[1;33m,\u001b[0m \u001b[0mkey\u001b[0m\u001b[1;33m,\u001b[0m \u001b[0mdefault\u001b[0m\u001b[1;33m)\u001b[0m\u001b[1;33m:\u001b[0m\u001b[1;33m\u001b[0m\u001b[1;33m\u001b[0m\u001b[0m\n",
      "\u001b[1;31mSessionNotCreatedException\u001b[0m: Message: session not created: This version of ChromeDriver only supports Chrome version 80\n"
     ]
    }
   ],
   "source": [
    "# Now let's go to Google\n",
    "driver = webdriver.Chrome()\n",
    "\n",
    "driver.get(\"http://www.google.com\")\n",
    "print(\"Kickin' off the test!\")\n",
    "\n",
    "# then we'll asser that 'Python' is in the title\n",
    "assert \"Google\" in driver.title\n",
    "\n",
    "\n",
    "elem = driver.find_element_by_name(\"q\")\n",
    "# elem.send_keys(\"pycon\")\n",
    "elem.send_keys(Keys.RETURN)\n",
    "#adding some messaging:\n",
    "title = driver.title\n",
    "print('Title is: ' + title)\n",
    "\n",
    "\n",
    "assert \"No results found.\" not in driver.page_source\n",
    "print(\"About to close the browser\")\n",
    "driver.close()\n",
    "print(\"Browser is closed\")"
   ]
  },
  {
   "cell_type": "markdown",
   "metadata": {},
   "source": [
    "**So now that the basics are taken care of, let's dive into more details!**\n"
   ]
  },
  {
   "cell_type": "markdown",
   "metadata": {},
   "source": [
    "From: https://www.selenium.dev/documentation/en/webdriver/understanding_the_components/\n",
    "\n",
    "Let's understand the components:\n",
    "\n",
    "* **API:** Application Programming Interface, the commands you use to manipulate webdriver\n",
    "* **Library:**  code module containing APIs and code necessary to implement them, like jar files for Java, dlls for .Net, ect\n",
    "* **Driver:** the bit that actually controls the browser, mostly oftenly created by the browser vendor. Usually .exe files that run on the system w the browser itself, not the system executing the tests. Sometimes people call them *proxies*\n",
    "* **Framework:** additional library used to support Webdriver suites.\n",
    "    * Examples of (unit)test frameworks include JUnit and NUnit, Cucumber, Robotium, Espresso, Appium, are some frameworks supporting natural language features. \n",
    "    * There are also system config, data creation and other frameworks.  \n",
    "    \n",
    "**Webdriver talks to a browser thru a driver** \n",
    "* Communication is 2-way. Webdriver passes commands to the browser (again, thru the driver) and receives info back from the same route.\n",
    "\n",
    "\n",
    "**Find Elements**\n",
    "* https://selenium-python.readthedocs.io/locating-elements.html\n",
    "* Selenium provides the following methods to locate elements in a page:\n",
    "    * find_element_by_id \n",
    "        * ..\n",
    "    * find_element_by_name \n",
    "        * ex. elem = driver.find_element_by_name(\"q\")\n",
    "    * find_element_by_xpath \n",
    "    * find_element_by_link_text\n",
    "    * find_element_by_partial_link_text\n",
    "    * find_element_by_tag_name\n",
    "    * find_element_by_class_name\n",
    "        * this is on cnn's\n",
    "            'sc-kAzzGY jWsvKN'\n",
    "    * find_element_by_css_selector\n",
    "* To find multiple elements (these methods will return a list):\n",
    "    * find_elements_by_name\n",
    "    * find_elements_by_xpath\n",
    "    * find_elements_by_link_text\n",
    "    * find_elements_by_partial_link_text\n",
    "    * find_elements_by_tag_name\n",
    "    * find_elements_by_class_name\n",
    "    * find_elements_by_css_selector\n"
   ]
  },
  {
   "cell_type": "code",
   "execution_count": 13,
   "metadata": {},
   "outputs": [],
   "source": [
    "# Copied from https://www.selenium.dev/documentation/en/webdriver/understanding_the_components/\n",
    "# Image('C:/Users/jpkee/Pictures/WebDriverDiagram.JPG')"
   ]
  },
  {
   "cell_type": "markdown",
   "metadata": {},
   "source": [
    "* The driver is specific to the browser. \n",
    "* The driver runs on the same system as the browser\n",
    "* Tests may or may not live on that system"
   ]
  },
  {
   "cell_type": "markdown",
   "metadata": {},
   "source": [
    "* Communication can also be *remote*:   \n",
    "(see image at https://selenium.dev/documentation/en/images/remote_comms.png?width=400px)"
   ]
  },
  {
   "cell_type": "markdown",
   "metadata": {},
   "source": [
    "* WebDriver has one job, *communicate w the browser*. \n",
    "* WebDriver doesn't know anything about testing!\n",
    "    * which is where frameworks comes into play. \n",
    "    \n",
    "* The test framework runs and executes your WebDriver and related test steps\n",
    "    * see image at https://selenium.dev/documentation/en/images/test_framework.png?width=400px\n"
   ]
  },
  {
   "cell_type": "code",
   "execution_count": null,
   "metadata": {},
   "outputs": [],
   "source": [
    "#next step is here: https://www.selenium.dev/documentation/en/webdriver/driver_requirements"
   ]
  },
  {
   "cell_type": "code",
   "execution_count": 1,
   "metadata": {},
   "outputs": [],
   "source": [
    "# #took a detour to get images displaying\n",
    "# # https://www.youtube.com/watch?v=Obkddfv3zGg\n",
    "from IPython.display import Image\n",
    "from IPython.core.display import HTML "
   ]
  },
  {
   "cell_type": "code",
   "execution_count": 5,
   "metadata": {},
   "outputs": [
    {
     "name": "stdout",
     "output_type": "stream",
     "text": [
      "going to GeekForGeeks\n",
      "<selenium.webdriver.firefox.webelement.FirefoxWebElement (session=\"082d2478-f9c7-4223-9c01-c5086965715b\", element=\"b9bb6e81-627c-4045-80d4-140db9faed80\")>\n",
      "Ending Test ashfasdfs\n"
     ]
    }
   ],
   "source": [
    "from selenium import webdriver\n",
    "# print(\"Starting Socrata Test\")\n",
    "print(\"going to GeekForGeeks\")\n",
    "\n",
    "# options = Options()\n",
    "# options.add_argument(\"--headless\")\n",
    "\n",
    "driver = webdriver.Firefox()\n",
    "# driver.get(\"https://www.tylertech.com/products/socrata\")\n",
    "driver.get(\"https://www.geeksforgeeks.org\") \n",
    "# assert \"Socrata\" in driver.title\n",
    "# elem = driver.find_element_by_name(\"dasd\")\n",
    "# elem = driver.find_element_by_id(\"firstButton\")\n",
    "\n",
    "# get element  \n",
    "element = driver.find_element_by_class_name(\"gsc-input\") \n",
    "  \n",
    "# print complete element \n",
    "print(element) \n",
    "\n",
    "# elem.send_keys(\"pycon\")\n",
    "# elem.send_keys(Keys.RETURN)\n",
    "# assert \"No results found.\" not in driver.page_source\n",
    "driver.close()\n",
    "print(\"Ending Test ashfasdfs\")\n",
    "\n",
    "# Try by class name\n",
    "# driver.get(\"https://www.geeksforgeeks.org/\") \n",
    "  \n",
    "# # get element  \n",
    "# element = driver.find_element_by_class_name(\"gsc-input\") \n",
    "  \n",
    "# # print complete element \n",
    "# print(element) \n",
    "# so that Geeks for Geeks 'by class name' worked\n",
    "\n",
    "# options = Options()\n",
    "# options.add_argument(\"--headless\")\n",
    "# options.add_argument(\"--start-maximized\")\n",
    "# options.add_argument(\"--disable-notifications\")\n",
    "# options.add_argument(\"--incognito\")"
   ]
  },
  {
   "cell_type": "code",
   "execution_count": 14,
   "metadata": {},
   "outputs": [
    {
     "name": "stdout",
     "output_type": "stream",
     "text": [
      "Seattle Open Data Portal Test\n",
      "Here is the browser title: City of Seattle Open Data portal\n"
     ]
    },
    {
     "ename": "NoSuchElementException",
     "evalue": "Message: Unable to locate element: .cs-tile-icon fa fa-handshake-o\n",
     "output_type": "error",
     "traceback": [
      "\u001b[1;31m---------------------------------------------------------------------------\u001b[0m",
      "\u001b[1;31mNoSuchElementException\u001b[0m                    Traceback (most recent call last)",
      "\u001b[1;32m<ipython-input-14-e473e5384fe3>\u001b[0m in \u001b[0;36m<module>\u001b[1;34m\u001b[0m\n\u001b[0;32m     38\u001b[0m \u001b[1;31m# print(descriptions)\u001b[0m\u001b[1;33m\u001b[0m\u001b[1;33m\u001b[0m\u001b[1;33m\u001b[0m\u001b[0m\n\u001b[0;32m     39\u001b[0m \u001b[1;33m\u001b[0m\u001b[0m\n\u001b[1;32m---> 40\u001b[1;33m \u001b[0mhandshake\u001b[0m \u001b[1;33m=\u001b[0m \u001b[0mdriver\u001b[0m\u001b[1;33m.\u001b[0m\u001b[0mfind_element_by_class_name\u001b[0m\u001b[1;33m(\u001b[0m\u001b[1;34m'cs-tile-icon fa fa-handshake-o'\u001b[0m\u001b[1;33m)\u001b[0m\u001b[1;33m\u001b[0m\u001b[1;33m\u001b[0m\u001b[0m\n\u001b[0m\u001b[0;32m     41\u001b[0m \u001b[0mprint\u001b[0m\u001b[1;33m(\u001b[0m\u001b[0mhandshake\u001b[0m\u001b[1;33m)\u001b[0m\u001b[1;33m\u001b[0m\u001b[1;33m\u001b[0m\u001b[0m\n\u001b[0;32m     42\u001b[0m \u001b[1;33m\u001b[0m\u001b[0m\n",
      "\u001b[1;32m~\\anaconda3\\lib\\site-packages\\selenium\\webdriver\\remote\\webdriver.py\u001b[0m in \u001b[0;36mfind_element_by_class_name\u001b[1;34m(self, name)\u001b[0m\n\u001b[0;32m    562\u001b[0m             \u001b[0melement\u001b[0m \u001b[1;33m=\u001b[0m \u001b[0mdriver\u001b[0m\u001b[1;33m.\u001b[0m\u001b[0mfind_element_by_class_name\u001b[0m\u001b[1;33m(\u001b[0m\u001b[1;34m'foo'\u001b[0m\u001b[1;33m)\u001b[0m\u001b[1;33m\u001b[0m\u001b[1;33m\u001b[0m\u001b[0m\n\u001b[0;32m    563\u001b[0m         \"\"\"\n\u001b[1;32m--> 564\u001b[1;33m         \u001b[1;32mreturn\u001b[0m \u001b[0mself\u001b[0m\u001b[1;33m.\u001b[0m\u001b[0mfind_element\u001b[0m\u001b[1;33m(\u001b[0m\u001b[0mby\u001b[0m\u001b[1;33m=\u001b[0m\u001b[0mBy\u001b[0m\u001b[1;33m.\u001b[0m\u001b[0mCLASS_NAME\u001b[0m\u001b[1;33m,\u001b[0m \u001b[0mvalue\u001b[0m\u001b[1;33m=\u001b[0m\u001b[0mname\u001b[0m\u001b[1;33m)\u001b[0m\u001b[1;33m\u001b[0m\u001b[1;33m\u001b[0m\u001b[0m\n\u001b[0m\u001b[0;32m    565\u001b[0m \u001b[1;33m\u001b[0m\u001b[0m\n\u001b[0;32m    566\u001b[0m     \u001b[1;32mdef\u001b[0m \u001b[0mfind_elements_by_class_name\u001b[0m\u001b[1;33m(\u001b[0m\u001b[0mself\u001b[0m\u001b[1;33m,\u001b[0m \u001b[0mname\u001b[0m\u001b[1;33m)\u001b[0m\u001b[1;33m:\u001b[0m\u001b[1;33m\u001b[0m\u001b[1;33m\u001b[0m\u001b[0m\n",
      "\u001b[1;32m~\\anaconda3\\lib\\site-packages\\selenium\\webdriver\\remote\\webdriver.py\u001b[0m in \u001b[0;36mfind_element\u001b[1;34m(self, by, value)\u001b[0m\n\u001b[0;32m    976\u001b[0m         return self.execute(Command.FIND_ELEMENT, {\n\u001b[0;32m    977\u001b[0m             \u001b[1;34m'using'\u001b[0m\u001b[1;33m:\u001b[0m \u001b[0mby\u001b[0m\u001b[1;33m,\u001b[0m\u001b[1;33m\u001b[0m\u001b[1;33m\u001b[0m\u001b[0m\n\u001b[1;32m--> 978\u001b[1;33m             'value': value})['value']\n\u001b[0m\u001b[0;32m    979\u001b[0m \u001b[1;33m\u001b[0m\u001b[0m\n\u001b[0;32m    980\u001b[0m     \u001b[1;32mdef\u001b[0m \u001b[0mfind_elements\u001b[0m\u001b[1;33m(\u001b[0m\u001b[0mself\u001b[0m\u001b[1;33m,\u001b[0m \u001b[0mby\u001b[0m\u001b[1;33m=\u001b[0m\u001b[0mBy\u001b[0m\u001b[1;33m.\u001b[0m\u001b[0mID\u001b[0m\u001b[1;33m,\u001b[0m \u001b[0mvalue\u001b[0m\u001b[1;33m=\u001b[0m\u001b[1;32mNone\u001b[0m\u001b[1;33m)\u001b[0m\u001b[1;33m:\u001b[0m\u001b[1;33m\u001b[0m\u001b[1;33m\u001b[0m\u001b[0m\n",
      "\u001b[1;32m~\\anaconda3\\lib\\site-packages\\selenium\\webdriver\\remote\\webdriver.py\u001b[0m in \u001b[0;36mexecute\u001b[1;34m(self, driver_command, params)\u001b[0m\n\u001b[0;32m    319\u001b[0m         \u001b[0mresponse\u001b[0m \u001b[1;33m=\u001b[0m \u001b[0mself\u001b[0m\u001b[1;33m.\u001b[0m\u001b[0mcommand_executor\u001b[0m\u001b[1;33m.\u001b[0m\u001b[0mexecute\u001b[0m\u001b[1;33m(\u001b[0m\u001b[0mdriver_command\u001b[0m\u001b[1;33m,\u001b[0m \u001b[0mparams\u001b[0m\u001b[1;33m)\u001b[0m\u001b[1;33m\u001b[0m\u001b[1;33m\u001b[0m\u001b[0m\n\u001b[0;32m    320\u001b[0m         \u001b[1;32mif\u001b[0m \u001b[0mresponse\u001b[0m\u001b[1;33m:\u001b[0m\u001b[1;33m\u001b[0m\u001b[1;33m\u001b[0m\u001b[0m\n\u001b[1;32m--> 321\u001b[1;33m             \u001b[0mself\u001b[0m\u001b[1;33m.\u001b[0m\u001b[0merror_handler\u001b[0m\u001b[1;33m.\u001b[0m\u001b[0mcheck_response\u001b[0m\u001b[1;33m(\u001b[0m\u001b[0mresponse\u001b[0m\u001b[1;33m)\u001b[0m\u001b[1;33m\u001b[0m\u001b[1;33m\u001b[0m\u001b[0m\n\u001b[0m\u001b[0;32m    322\u001b[0m             response['value'] = self._unwrap_value(\n\u001b[0;32m    323\u001b[0m                 response.get('value', None))\n",
      "\u001b[1;32m~\\anaconda3\\lib\\site-packages\\selenium\\webdriver\\remote\\errorhandler.py\u001b[0m in \u001b[0;36mcheck_response\u001b[1;34m(self, response)\u001b[0m\n\u001b[0;32m    240\u001b[0m                 \u001b[0malert_text\u001b[0m \u001b[1;33m=\u001b[0m \u001b[0mvalue\u001b[0m\u001b[1;33m[\u001b[0m\u001b[1;34m'alert'\u001b[0m\u001b[1;33m]\u001b[0m\u001b[1;33m.\u001b[0m\u001b[0mget\u001b[0m\u001b[1;33m(\u001b[0m\u001b[1;34m'text'\u001b[0m\u001b[1;33m)\u001b[0m\u001b[1;33m\u001b[0m\u001b[1;33m\u001b[0m\u001b[0m\n\u001b[0;32m    241\u001b[0m             \u001b[1;32mraise\u001b[0m \u001b[0mexception_class\u001b[0m\u001b[1;33m(\u001b[0m\u001b[0mmessage\u001b[0m\u001b[1;33m,\u001b[0m \u001b[0mscreen\u001b[0m\u001b[1;33m,\u001b[0m \u001b[0mstacktrace\u001b[0m\u001b[1;33m,\u001b[0m \u001b[0malert_text\u001b[0m\u001b[1;33m)\u001b[0m\u001b[1;33m\u001b[0m\u001b[1;33m\u001b[0m\u001b[0m\n\u001b[1;32m--> 242\u001b[1;33m         \u001b[1;32mraise\u001b[0m \u001b[0mexception_class\u001b[0m\u001b[1;33m(\u001b[0m\u001b[0mmessage\u001b[0m\u001b[1;33m,\u001b[0m \u001b[0mscreen\u001b[0m\u001b[1;33m,\u001b[0m \u001b[0mstacktrace\u001b[0m\u001b[1;33m)\u001b[0m\u001b[1;33m\u001b[0m\u001b[1;33m\u001b[0m\u001b[0m\n\u001b[0m\u001b[0;32m    243\u001b[0m \u001b[1;33m\u001b[0m\u001b[0m\n\u001b[0;32m    244\u001b[0m     \u001b[1;32mdef\u001b[0m \u001b[0m_value_or_default\u001b[0m\u001b[1;33m(\u001b[0m\u001b[0mself\u001b[0m\u001b[1;33m,\u001b[0m \u001b[0mobj\u001b[0m\u001b[1;33m,\u001b[0m \u001b[0mkey\u001b[0m\u001b[1;33m,\u001b[0m \u001b[0mdefault\u001b[0m\u001b[1;33m)\u001b[0m\u001b[1;33m:\u001b[0m\u001b[1;33m\u001b[0m\u001b[1;33m\u001b[0m\u001b[0m\n",
      "\u001b[1;31mNoSuchElementException\u001b[0m: Message: Unable to locate element: .cs-tile-icon fa fa-handshake-o\n"
     ]
    }
   ],
   "source": [
    "from selenium import webdriver\n",
    "# now go to https://data.seattle.gov/\n",
    "# assert landing on correct page\n",
    "from selenium import webdriver\n",
    "print(\"Seattle Open Data Portal Test\")\n",
    "driver = webdriver.Firefox()\n",
    "driver.get(\"https://data.seattle.gov\")\n",
    "\n",
    "title = \"City of Seattle Open Data portal\"\n",
    "if title in driver.title:\n",
    "    print(\"Here is the browser title: \" + title)\n",
    "else:\n",
    "    print(\"didn't find the browser title\")\n",
    "    \n",
    "    \n",
    "# To Dos\n",
    "# loop thru multiple elements\n",
    "    # for ex. elem = driver.find_element_by_name(\"q\")\n",
    "# search_box = driver.find_elements_by_name('q')\n",
    "# if search_box:\n",
    "#     print(\"Found the search box\")\n",
    "# else:\n",
    "#     print(\"I'm not finding the search box\")\n",
    "    \n",
    "# Default find elements by bit, just put different stuff in there\n",
    "# driver.find_elements_by_name('')\n",
    "# by class name\n",
    "# find_element_by_class_name\n",
    "# So look for the handshake bit\n",
    "# 'cs-tile-title' contains \n",
    "# communityHandshake = driver.find_elements_by_class_name('')\n",
    "# if search_box:\n",
    "#     print(\"Found the search box\")\n",
    "# else:\n",
    "#     print(\"I'm not finding the search box\")\n",
    "# or find this text 'Includes City Fleet, City Council, wage data'\n",
    "# descriptions = driver.find_elements_by_class_name('cs-tile-description')\n",
    "# print(descriptions)\n",
    "\n",
    "# doesn't work\n",
    "# handshake = driver.find_element_by_class_name('cs-tile-icon fa fa-handshake-o')\n",
    "# print(handshake)\n",
    "\n",
    "# cs-tile-icon fa fa-handshake-o\n",
    "# how about link text?\n",
    "continue_link = driver.find_element_by_link_text('Continue')\n",
    "continue_link = driver.find_element_by_link_text('Continue')\n",
    "\n",
    "driver.close()\n",
    "print(\"Ending Test\")"
   ]
  },
  {
   "cell_type": "code",
   "execution_count": 4,
   "metadata": {},
   "outputs": [
    {
     "name": "stdout",
     "output_type": "stream",
     "text": [
      "Kickin' off the test!\n",
      "\n",
      "About element found\n",
      "Downloads element found\n",
      "Documentation element found\n",
      "Community found\n",
      "Success Stories found\n",
      "News found\n",
      "Events found\n",
      "Found the search box\n",
      "\n",
      "Ending test and closing browser\n"
     ]
    }
   ],
   "source": [
    "# so try to loop over multiple elements\n",
    "\n",
    "from selenium import webdriver\n",
    "import time\n",
    "#create the variable\n",
    "pythonLoopTest = webdriver.Chrome(executable_path=r'C:\\Users\\jpkee\\Downloads\\chromedriver_win32\\chromedriver.exe')\n",
    "\n",
    "# go to Google\n",
    "pythonLoopTest.get(\"http://python.org\")\n",
    "# just call out that we're starting the test\n",
    "print(\"Kickin' off the test!\\n\")\n",
    "\n",
    "\n",
    "# if pythonLoopTest.find_element_by_class_name('python_logo'):\n",
    "#     print(\"Logo found\")\n",
    "# else:\n",
    "#     print('Logo Not Found')\n",
    "# so it looks like class name won't spit out the else bit, but the 'by_name' does below if it's not found    \n",
    "    \n",
    "# time.sleep(3)\n",
    "\n",
    "\n",
    "\n",
    "\n",
    "# if search_box:\n",
    "#     print(\"Search box found\")\n",
    "# else:\n",
    "#     print('Search box Not Found')\n",
    "\n",
    "# python_logo = pythonLoopTest.find_element_by_class_name('python_logo')\n",
    "\n",
    "# # so this isn't happy, try xpath\n",
    "\n",
    "# if python_logo:\n",
    "#     print(\"Logo found\")\n",
    "# else:\n",
    "#     print('Logo Not Found')\n",
    "\n",
    "\n",
    "# ABOUT\n",
    "about = pythonLoopTest.find_element_by_id('about') \n",
    "if about:\n",
    "    print(\"About element found\")\n",
    "else:\n",
    "    print(\"About element not found\")\n",
    "    \n",
    "# Downloads\n",
    "downloads = pythonLoopTest.find_element_by_id('downloads') \n",
    "if downloads:\n",
    "    print(\"Downloads element found\")\n",
    "else:\n",
    "    print(\"Downloads element not found\")\n",
    "    \n",
    "# Documentation\n",
    "docs = pythonLoopTest.find_element_by_id('documentation') \n",
    "if docs:\n",
    "    print(\"Documentation element found\")\n",
    "else:\n",
    "    print(\"Documentation element not found\")\n",
    "\n",
    "# # Community\n",
    "community = pythonLoopTest.find_element_by_id('community') \n",
    "if community:\n",
    "    print(\"Community found\")\n",
    "else:\n",
    "    print(\"Community not found\")\n",
    "\n",
    "# Success Stories\n",
    "success_stories = pythonLoopTest.find_element_by_id('success-stories') \n",
    "if success_stories:\n",
    "    print(\"Success Stories found\")\n",
    "else:\n",
    "    print(\"Success Stories found\")\n",
    "\n",
    "# News\n",
    "news = pythonLoopTest.find_element_by_id('news') \n",
    "if news:\n",
    "    print(\"News found\")\n",
    "else:\n",
    "    print(\"News not found\")\n",
    "    \n",
    "events = pythonLoopTest.find_element_by_id('events') \n",
    "if events:\n",
    "    print(\"Events found\")\n",
    "else:\n",
    "    print(\"Events not found\")\n",
    "    \n",
    "    \n",
    "# Search box\n",
    "search_box = pythonLoopTest.find_elements_by_name('q')\n",
    "if search_box:\n",
    "    print(\"Found the search box\")\n",
    "else:\n",
    "    print(\"I'm not finding the search box\")\n",
    "    \n",
    "# python_logo = pythonLoopTest.find_element_by_xpath('/html/body/div/header/div/h1/a/img')\n",
    "# if python_logo:\n",
    "#     print(\"Found the Python logo\")\n",
    "# else:\n",
    "#     print(\"I'm not finding the Python logo \")\n",
    "\n",
    "\n",
    "\n",
    "# Create a list of all the tests\n",
    "\n",
    "# try somethign like this:\n",
    "#     https://github.com/J-O-S-H-C/UIWeekly/blob/master/WA/weeklyFile.py\n",
    "\n",
    "# try:\n",
    "#     python_logo = pythonLoopTest.find_element_by_xpath('/html/body/div/header/div/h1/a/Ximg')\n",
    "#     if(python_logo):\n",
    "#         uiExists = True\n",
    "#         puaExists = False\n",
    "# except:\n",
    "#     pass\n",
    "\n",
    "\n",
    "# try:\n",
    "#     ui = driver.find_element_by_partial_link_text(\"UI Claim\")\n",
    "#     if(ui):\n",
    "#         uiExists = True\n",
    "#         puaExists = False\n",
    "# except:\n",
    "#     pass\n",
    "\n",
    "\n",
    "# call out the closure\n",
    "print(\"\\nEnding test and closing browser\")\n",
    "\n",
    "# closing browser\n",
    "pythonLoopTest.close()\n",
    "# try the quit, which chould close ALL sessions\n",
    "# pythonLoopTest.quit()"
   ]
  },
  {
   "cell_type": "code",
   "execution_count": 79,
   "metadata": {},
   "outputs": [
    {
     "name": "stdout",
     "output_type": "stream",
     "text": [
      "[<selenium.webdriver.remote.webelement.WebElement (session=\"4655059d45e429dbeb15f4ed134ca69c\", element=\"d6a9764d-5bd4-41a9-8682-ee40441ba143\")>, [<selenium.webdriver.remote.webelement.WebElement (session=\"4655059d45e429dbeb15f4ed134ca69c\", element=\"fdfa8c4f-73c7-4a77-9e9c-d50bd5bf1be5\")>]]\n"
     ]
    }
   ],
   "source": [
    "all_tests = [python_logo, search_box, ]\n",
    "print(all_tests)"
   ]
  },
  {
   "cell_type": "code",
   "execution_count": null,
   "metadata": {},
   "outputs": [],
   "source": [
    "\n"
   ]
  },
  {
   "cell_type": "code",
   "execution_count": 87,
   "metadata": {},
   "outputs": [],
   "source": [
    "# http://zetcode.com/python/selenium/\n"
   ]
  },
  {
   "cell_type": "code",
   "execution_count": null,
   "metadata": {},
   "outputs": [],
   "source": [
    "# Now let's go to Google\n",
    "driver = webdriver.Chrome()\n",
    "\n",
    "# then we'll assert that 'Python' is in the title\n",
    "assert \"Google\" in driver.title\n",
    "\n",
    "\n",
    "elem = driver.find_element_by_name(\"q\")\n",
    "# elem.send_keys(\"pycon\")\n",
    "elem.send_keys(Keys.RETURN)\n",
    "#adding some messaging:\n",
    "title = driver.title\n",
    "print('Title is: ' + title)\n",
    "\n",
    "\n",
    "assert \"No results found.\" not in driver.page_source\n",
    "print(\"About to close the browser\")\n",
    "driver.close()\n",
    "print(\"Browser is closed\")\n",
    "\n",
    "\n",
    "# or\n",
    "\n",
    "from selenium import webdriver\n",
    "print(\"starting test\")\n",
    "driver = webdriver.Firefox()\n",
    "driver.get(\"http://www.python.org\")\n",
    "assert \"Python\" in driver.title\n",
    "elem = driver.find_element_by_name(\"q\")\n",
    "elem.send_keys(\"pycon\")\n",
    "elem.send_keys(Keys.RETURN)\n",
    "assert \"No results found.\" not in driver.page_source\n",
    "driver.close()\n",
    "print(\"ending test\")"
   ]
  },
  {
   "cell_type": "markdown",
   "metadata": {},
   "source": [
    "**Automated Software Testing with Python**\n",
    "\n",
    "C:\\Users\\jpkee\\Desktop\\PythonProjects\\Udemy_Automated_Software_Testing_with_Python\\video_code\n",
    "\n"
   ]
  },
  {
   "cell_type": "code",
   "execution_count": 9,
   "metadata": {},
   "outputs": [
    {
     "name": "stdout",
     "output_type": "stream",
     "text": [
      "Welcome to Python.org\n"
     ]
    }
   ],
   "source": [
    "# headless example from http://zetcode.com/python/selenium \n",
    "# but I swapped out the initial page and pointed to python.org\n",
    "\n",
    "from selenium.webdriver import Firefox\n",
    "from selenium.webdriver.firefox.options import Options\n",
    "\n",
    "opts = Options()\n",
    "opts.headless = True\n",
    "driver = Firefox(options=opts)\n",
    "\n",
    "try:\n",
    "    driver.get('http://python.org')\n",
    "    print(driver.title)\n",
    "    assert 'Welcome to Python.org' == driver.title\n",
    "finally:\n",
    "\n",
    "    driver.quit()"
   ]
  },
  {
   "cell_type": "code",
   "execution_count": 2,
   "metadata": {},
   "outputs": [],
   "source": [
    "# https://www.reddit.com/r/selenium/comments/h7olz1/how_would_i_select_this_information_from_aweb\n",
    "# https://www.reddit.com/r/selenium/comments/gouor9/element_not_found_beginner/\n",
    "# https://www.reddit.com/r/selenium/comments/gwp30u/how_to_get_browser_console_details/\n",
    "# a good site to use for automation - http://quotes.toscrape.com/, \n",
    "    # from the Lynda Python for Automation Web Scraping section"
   ]
  },
  {
   "cell_type": "code",
   "execution_count": null,
   "metadata": {},
   "outputs": [],
   "source": []
  },
  {
   "cell_type": "code",
   "execution_count": null,
   "metadata": {},
   "outputs": [],
   "source": []
  },
  {
   "cell_type": "code",
   "execution_count": 8,
   "metadata": {},
   "outputs": [
    {
     "ename": "SessionNotCreatedException",
     "evalue": "Message: session not created: This version of ChromeDriver only supports Chrome version 85\n",
     "output_type": "error",
     "traceback": [
      "\u001b[1;31m---------------------------------------------------------------------------\u001b[0m",
      "\u001b[1;31mSessionNotCreatedException\u001b[0m                Traceback (most recent call last)",
      "\u001b[1;32m<ipython-input-8-0be6a853c635>\u001b[0m in \u001b[0;36m<module>\u001b[1;34m\u001b[0m\n\u001b[0;32m     19\u001b[0m \u001b[1;31m# chrome_options.add_argument(\"--window-size=1920x1080\")\u001b[0m\u001b[1;33m\u001b[0m\u001b[1;33m\u001b[0m\u001b[1;33m\u001b[0m\u001b[0m\n\u001b[0;32m     20\u001b[0m \u001b[1;31m# pointing to the specific driver version here\u001b[0m\u001b[1;33m\u001b[0m\u001b[1;33m\u001b[0m\u001b[1;33m\u001b[0m\u001b[0m\n\u001b[1;32m---> 21\u001b[1;33m \u001b[0mdriver\u001b[0m \u001b[1;33m=\u001b[0m \u001b[0mwebdriver\u001b[0m\u001b[1;33m.\u001b[0m\u001b[0mChrome\u001b[0m\u001b[1;33m(\u001b[0m\u001b[0mexecutable_path\u001b[0m\u001b[1;33m=\u001b[0m\u001b[1;34mr'C:\\Users\\jpkee\\Downloads\\chromedriver_win32\\chromedriver.exe'\u001b[0m\u001b[1;33m)\u001b[0m\u001b[1;33m\u001b[0m\u001b[1;33m\u001b[0m\u001b[0m\n\u001b[0m\u001b[0;32m     22\u001b[0m \u001b[1;33m\u001b[0m\u001b[0m\n\u001b[0;32m     23\u001b[0m \u001b[1;33m\u001b[0m\u001b[0m\n",
      "\u001b[1;32m~\\anaconda3\\lib\\site-packages\\selenium\\webdriver\\chrome\\webdriver.py\u001b[0m in \u001b[0;36m__init__\u001b[1;34m(self, executable_path, port, options, service_args, desired_capabilities, service_log_path, chrome_options, keep_alive)\u001b[0m\n\u001b[0;32m     79\u001b[0m                     \u001b[0mremote_server_addr\u001b[0m\u001b[1;33m=\u001b[0m\u001b[0mself\u001b[0m\u001b[1;33m.\u001b[0m\u001b[0mservice\u001b[0m\u001b[1;33m.\u001b[0m\u001b[0mservice_url\u001b[0m\u001b[1;33m,\u001b[0m\u001b[1;33m\u001b[0m\u001b[1;33m\u001b[0m\u001b[0m\n\u001b[0;32m     80\u001b[0m                     keep_alive=keep_alive),\n\u001b[1;32m---> 81\u001b[1;33m                 desired_capabilities=desired_capabilities)\n\u001b[0m\u001b[0;32m     82\u001b[0m         \u001b[1;32mexcept\u001b[0m \u001b[0mException\u001b[0m\u001b[1;33m:\u001b[0m\u001b[1;33m\u001b[0m\u001b[1;33m\u001b[0m\u001b[0m\n\u001b[0;32m     83\u001b[0m             \u001b[0mself\u001b[0m\u001b[1;33m.\u001b[0m\u001b[0mquit\u001b[0m\u001b[1;33m(\u001b[0m\u001b[1;33m)\u001b[0m\u001b[1;33m\u001b[0m\u001b[1;33m\u001b[0m\u001b[0m\n",
      "\u001b[1;32m~\\anaconda3\\lib\\site-packages\\selenium\\webdriver\\remote\\webdriver.py\u001b[0m in \u001b[0;36m__init__\u001b[1;34m(self, command_executor, desired_capabilities, browser_profile, proxy, keep_alive, file_detector, options)\u001b[0m\n\u001b[0;32m    155\u001b[0m             warnings.warn(\"Please use FirefoxOptions to set browser profile\",\n\u001b[0;32m    156\u001b[0m                           DeprecationWarning, stacklevel=2)\n\u001b[1;32m--> 157\u001b[1;33m         \u001b[0mself\u001b[0m\u001b[1;33m.\u001b[0m\u001b[0mstart_session\u001b[0m\u001b[1;33m(\u001b[0m\u001b[0mcapabilities\u001b[0m\u001b[1;33m,\u001b[0m \u001b[0mbrowser_profile\u001b[0m\u001b[1;33m)\u001b[0m\u001b[1;33m\u001b[0m\u001b[1;33m\u001b[0m\u001b[0m\n\u001b[0m\u001b[0;32m    158\u001b[0m         \u001b[0mself\u001b[0m\u001b[1;33m.\u001b[0m\u001b[0m_switch_to\u001b[0m \u001b[1;33m=\u001b[0m \u001b[0mSwitchTo\u001b[0m\u001b[1;33m(\u001b[0m\u001b[0mself\u001b[0m\u001b[1;33m)\u001b[0m\u001b[1;33m\u001b[0m\u001b[1;33m\u001b[0m\u001b[0m\n\u001b[0;32m    159\u001b[0m         \u001b[0mself\u001b[0m\u001b[1;33m.\u001b[0m\u001b[0m_mobile\u001b[0m \u001b[1;33m=\u001b[0m \u001b[0mMobile\u001b[0m\u001b[1;33m(\u001b[0m\u001b[0mself\u001b[0m\u001b[1;33m)\u001b[0m\u001b[1;33m\u001b[0m\u001b[1;33m\u001b[0m\u001b[0m\n",
      "\u001b[1;32m~\\anaconda3\\lib\\site-packages\\selenium\\webdriver\\remote\\webdriver.py\u001b[0m in \u001b[0;36mstart_session\u001b[1;34m(self, capabilities, browser_profile)\u001b[0m\n\u001b[0;32m    250\u001b[0m         parameters = {\"capabilities\": w3c_caps,\n\u001b[0;32m    251\u001b[0m                       \"desiredCapabilities\": capabilities}\n\u001b[1;32m--> 252\u001b[1;33m         \u001b[0mresponse\u001b[0m \u001b[1;33m=\u001b[0m \u001b[0mself\u001b[0m\u001b[1;33m.\u001b[0m\u001b[0mexecute\u001b[0m\u001b[1;33m(\u001b[0m\u001b[0mCommand\u001b[0m\u001b[1;33m.\u001b[0m\u001b[0mNEW_SESSION\u001b[0m\u001b[1;33m,\u001b[0m \u001b[0mparameters\u001b[0m\u001b[1;33m)\u001b[0m\u001b[1;33m\u001b[0m\u001b[1;33m\u001b[0m\u001b[0m\n\u001b[0m\u001b[0;32m    253\u001b[0m         \u001b[1;32mif\u001b[0m \u001b[1;34m'sessionId'\u001b[0m \u001b[1;32mnot\u001b[0m \u001b[1;32min\u001b[0m \u001b[0mresponse\u001b[0m\u001b[1;33m:\u001b[0m\u001b[1;33m\u001b[0m\u001b[1;33m\u001b[0m\u001b[0m\n\u001b[0;32m    254\u001b[0m             \u001b[0mresponse\u001b[0m \u001b[1;33m=\u001b[0m \u001b[0mresponse\u001b[0m\u001b[1;33m[\u001b[0m\u001b[1;34m'value'\u001b[0m\u001b[1;33m]\u001b[0m\u001b[1;33m\u001b[0m\u001b[1;33m\u001b[0m\u001b[0m\n",
      "\u001b[1;32m~\\anaconda3\\lib\\site-packages\\selenium\\webdriver\\remote\\webdriver.py\u001b[0m in \u001b[0;36mexecute\u001b[1;34m(self, driver_command, params)\u001b[0m\n\u001b[0;32m    319\u001b[0m         \u001b[0mresponse\u001b[0m \u001b[1;33m=\u001b[0m \u001b[0mself\u001b[0m\u001b[1;33m.\u001b[0m\u001b[0mcommand_executor\u001b[0m\u001b[1;33m.\u001b[0m\u001b[0mexecute\u001b[0m\u001b[1;33m(\u001b[0m\u001b[0mdriver_command\u001b[0m\u001b[1;33m,\u001b[0m \u001b[0mparams\u001b[0m\u001b[1;33m)\u001b[0m\u001b[1;33m\u001b[0m\u001b[1;33m\u001b[0m\u001b[0m\n\u001b[0;32m    320\u001b[0m         \u001b[1;32mif\u001b[0m \u001b[0mresponse\u001b[0m\u001b[1;33m:\u001b[0m\u001b[1;33m\u001b[0m\u001b[1;33m\u001b[0m\u001b[0m\n\u001b[1;32m--> 321\u001b[1;33m             \u001b[0mself\u001b[0m\u001b[1;33m.\u001b[0m\u001b[0merror_handler\u001b[0m\u001b[1;33m.\u001b[0m\u001b[0mcheck_response\u001b[0m\u001b[1;33m(\u001b[0m\u001b[0mresponse\u001b[0m\u001b[1;33m)\u001b[0m\u001b[1;33m\u001b[0m\u001b[1;33m\u001b[0m\u001b[0m\n\u001b[0m\u001b[0;32m    322\u001b[0m             response['value'] = self._unwrap_value(\n\u001b[0;32m    323\u001b[0m                 response.get('value', None))\n",
      "\u001b[1;32m~\\anaconda3\\lib\\site-packages\\selenium\\webdriver\\remote\\errorhandler.py\u001b[0m in \u001b[0;36mcheck_response\u001b[1;34m(self, response)\u001b[0m\n\u001b[0;32m    240\u001b[0m                 \u001b[0malert_text\u001b[0m \u001b[1;33m=\u001b[0m \u001b[0mvalue\u001b[0m\u001b[1;33m[\u001b[0m\u001b[1;34m'alert'\u001b[0m\u001b[1;33m]\u001b[0m\u001b[1;33m.\u001b[0m\u001b[0mget\u001b[0m\u001b[1;33m(\u001b[0m\u001b[1;34m'text'\u001b[0m\u001b[1;33m)\u001b[0m\u001b[1;33m\u001b[0m\u001b[1;33m\u001b[0m\u001b[0m\n\u001b[0;32m    241\u001b[0m             \u001b[1;32mraise\u001b[0m \u001b[0mexception_class\u001b[0m\u001b[1;33m(\u001b[0m\u001b[0mmessage\u001b[0m\u001b[1;33m,\u001b[0m \u001b[0mscreen\u001b[0m\u001b[1;33m,\u001b[0m \u001b[0mstacktrace\u001b[0m\u001b[1;33m,\u001b[0m \u001b[0malert_text\u001b[0m\u001b[1;33m)\u001b[0m\u001b[1;33m\u001b[0m\u001b[1;33m\u001b[0m\u001b[0m\n\u001b[1;32m--> 242\u001b[1;33m         \u001b[1;32mraise\u001b[0m \u001b[0mexception_class\u001b[0m\u001b[1;33m(\u001b[0m\u001b[0mmessage\u001b[0m\u001b[1;33m,\u001b[0m \u001b[0mscreen\u001b[0m\u001b[1;33m,\u001b[0m \u001b[0mstacktrace\u001b[0m\u001b[1;33m)\u001b[0m\u001b[1;33m\u001b[0m\u001b[1;33m\u001b[0m\u001b[0m\n\u001b[0m\u001b[0;32m    243\u001b[0m \u001b[1;33m\u001b[0m\u001b[0m\n\u001b[0;32m    244\u001b[0m     \u001b[1;32mdef\u001b[0m \u001b[0m_value_or_default\u001b[0m\u001b[1;33m(\u001b[0m\u001b[0mself\u001b[0m\u001b[1;33m,\u001b[0m \u001b[0mobj\u001b[0m\u001b[1;33m,\u001b[0m \u001b[0mkey\u001b[0m\u001b[1;33m,\u001b[0m \u001b[0mdefault\u001b[0m\u001b[1;33m)\u001b[0m\u001b[1;33m:\u001b[0m\u001b[1;33m\u001b[0m\u001b[1;33m\u001b[0m\u001b[0m\n",
      "\u001b[1;31mSessionNotCreatedException\u001b[0m: Message: session not created: This version of ChromeDriver only supports Chrome version 85\n"
     ]
    }
   ],
   "source": [
    "# Testing my personal website:\n",
    "# Next, the instance of Chrome WebDriver is created.\n",
    "import csv\n",
    "import re\n",
    "import time\n",
    "import os\n",
    "from datetime import datetime\n",
    "import urllib.request\n",
    "import requests\n",
    "from selenium import webdriver\n",
    "from selenium.webdriver.chrome.options import Options\n",
    "import os\n",
    "# import httplib2\n",
    "from bs4 import BeautifulSoup, SoupStrainer\n",
    "# from selenium import webdriver\n",
    "from splinter import Browser\n",
    "# chrome_options = Options()\n",
    "# chrome_options.add_argument(\"--headless\")\n",
    "# chrome_options.add_argument(\"--window-size=1920x1080\")\n",
    "# pointing to the specific driver version here\n",
    "driver = webdriver.Chrome(executable_path=r'C:\\Users\\jpkee\\Downloads\\chromedriver_win32\\chromedriver.exe')\n",
    "\n",
    "\n",
    "# executable_path={'executable_path':r'C:\\Users\\jpkee\\Downloads\\chromedriver_win32\\chromedriver.exe'}\n",
    "\n",
    "# browser = Browser('chrome', **executable_path, headless=True)\n",
    "\n",
    "\n",
    "\n",
    "\n",
    "# the driver.get method will navigate to a page given by the URL\n",
    "# Webdriver will wait unti lthe page has fully loaded, aka the 'onload' event has fired\n",
    "driver.get('https://jeremypk.net')\n",
    "\n",
    "print(\"Kickin' off the test!\")\n",
    "# assert \"jeremypk\" in driver.title\n",
    "\n",
    "\n",
    "\n",
    "# parser = 'html.parser' \n",
    "# resp = urllib.request.urlopen(driver)\n",
    "# soup = BeautifulSoup(resp, parser, from_encoding=resp.info().get_param('charset'))\n",
    "# for link in soup.find_all('a', href=True):\n",
    "#     print(link['href'])\n",
    "\n",
    "\n",
    "\n",
    "# Find all the hrefs on my site\n",
    "# blogLinkCheck = 'https://jeremypk.net/blog-feed/'\n",
    "# element = driver.find_element_by_link_text(blogLinkCheck)\n",
    "# links = driver.find_elements_by_xpath(\"//a[@href]\")\n",
    "# for link in links:\n",
    "#     print(link.get_attribute(\"href\"))\n",
    "    \n",
    "# assert blog feed is there\n",
    "# https://jeremypk.net/blog-feed/\n",
    "# blogFeed = driver.find_elements_by_xpath(\"https://jeremypk.net/blog-feed/\")\n",
    "\n",
    " \n",
    "# src = driver.page_source\n",
    "# blogFeed = re.search(r'Blog Feed', src)\n",
    "# self.assertNotEqual(text_found, None)\n",
    "\n",
    "\n",
    "# Here I'm clicking all the links on my Wordpress site\n",
    "blogFeed=driver.find_element_by_link_text(\"Blog Feed\")\n",
    "blogFeed.click()\n",
    "time.sleep(1)\n",
    "driver.back()\n",
    "\n",
    "print('clicking software testing')\n",
    "testing=driver.find_element_by_link_text(\"Software Testing/QA\")\n",
    "testing.click()\n",
    "time.sleep(1)\n",
    "driver.back()\n",
    "\n",
    "\n",
    "trainings=driver.find_element_by_link_text(\"Trainings & Certificates\")\n",
    "trainings.click()\n",
    "time.sleep(1)\n",
    "driver.back()\n",
    "\n",
    "\n",
    "dataViz=driver.find_element_by_link_text(\"Data Visualization Gallery\")\n",
    "dataViz.click()\n",
    "time.sleep(1)\n",
    "driver.back()\n",
    "\n",
    "\n",
    "\n",
    "bookshelf=driver.find_element_by_link_text(\"Bookshelf\")\n",
    "bookshelf.click()\n",
    "time.sleep(1)\n",
    "driver.back()\n",
    "\n",
    "\n",
    "about=driver.find_element_by_link_text(\"About Me\")\n",
    "about.click()\n",
    "time.sleep(1)\n",
    "driver.back()\n",
    "time.sleep(1)\n",
    "\n",
    "\n",
    "\n",
    "# elem = driver.find_element_by_name(\"q\")\n",
    "# # would be cool to have an if presen here probably\n",
    "# if driver.find_elements_by_name('q'):\n",
    "#     print(\"Found the search box\")\n",
    "# else:\n",
    "#     print(\"I'm not finding the search box\")\n",
    "#     driver.close()\n",
    "# Find this link\n",
    "# https://jeremypk.net/blog-feed\n",
    "#     https://stackoverflow.com/questions/33155454/how-to-find-an-element-by-href-value-using-selenium-python/33155512\n",
    "    # or this approach? \n",
    "  # https://stackoverflow.com/questions/45695874/check-if-element-exists-python-selenium            \n",
    "\n",
    "\n",
    "\n",
    "title = driver.title\n",
    "print('Title is: ' + title)\n",
    "\n",
    "# assert \"No results found.\" not in driver.page_source\n",
    "print('Quitting Browser')\n",
    "driver.quit()\n"
   ]
  },
  {
   "cell_type": "code",
   "execution_count": null,
   "metadata": {},
   "outputs": [],
   "source": []
  },
  {
   "cell_type": "code",
   "execution_count": null,
   "metadata": {},
   "outputs": [],
   "source": []
  },
  {
   "cell_type": "code",
   "execution_count": null,
   "metadata": {},
   "outputs": [],
   "source": []
  },
  {
   "cell_type": "code",
   "execution_count": null,
   "metadata": {},
   "outputs": [],
   "source": []
  },
  {
   "cell_type": "code",
   "execution_count": null,
   "metadata": {},
   "outputs": [],
   "source": []
  },
  {
   "cell_type": "code",
   "execution_count": null,
   "metadata": {},
   "outputs": [],
   "source": []
  },
  {
   "cell_type": "markdown",
   "metadata": {},
   "source": [
    "More scraping studies\n",
    "https://nbviewer.jupyter.org/github/Tanu-N-Prabhu/Python/blob/master/Web_scraping_Rate_My_Professor.ipynb\n",
    "\n",
    "Steps:\n",
    "* Importing the required libraries.\n",
    "* Getting the URL and storing it in a variable.\n",
    "* Making a request to the website using the requests library.\n",
    "* Using the Beautiful Soup library to get the HTML (raw) data from the website.\n",
    "* Using soup.findAll method to get the respected tag that we are looking for.\n",
    "* Removing all the HTML tags and converting it to a plain text format."
   ]
  },
  {
   "cell_type": "code",
   "execution_count": 21,
   "metadata": {},
   "outputs": [
    {
     "name": "stdout",
     "output_type": "stream",
     "text": [
      "<Response [200]>\n"
     ]
    }
   ],
   "source": [
    "# basic requests example\n",
    "import requests\n",
    "responseTest = requests.get('https://api.github.com/events')\n",
    "print(responseTest)"
   ]
  },
  {
   "cell_type": "markdown",
   "metadata": {},
   "source": [
    "More on requests\n",
    "* elegant and simple HTTP library for Python\n",
    "* "
   ]
  },
  {
   "cell_type": "markdown",
   "metadata": {},
   "source": [
    "requests and urllib are for making requests (or \"fetching data\" if you will).\n",
    "\n",
    "BeautifulSoup is not a framework - it's an HTML/XML \"parser\" - a tool for extracting data from HTML/XML - so you must fetch the data (usually with requests or urllib) and load it into BeautifulSoup.\n",
    "1. Fetch w requests or urllib\n",
    "2. load into beautiful soup\n",
    "\n",
    "\n",
    "Beautiful Soup supports the HTML parser included in Python’s standard library\n",
    "\n",
    "\n"
   ]
  },
  {
   "cell_type": "code",
   "execution_count": 22,
   "metadata": {},
   "outputs": [
    {
     "ename": "OSError",
     "evalue": "[Errno 22] Invalid argument: 'https://www.jeremypk.net'",
     "output_type": "error",
     "traceback": [
      "\u001b[1;31m---------------------------------------------------------------------------\u001b[0m",
      "\u001b[1;31mOSError\u001b[0m                                   Traceback (most recent call last)",
      "\u001b[1;32m<ipython-input-22-8bd68d0d2372>\u001b[0m in \u001b[0;36m<module>\u001b[1;34m\u001b[0m\n\u001b[0;32m      2\u001b[0m \u001b[1;31m# ??\u001b[0m\u001b[1;33m\u001b[0m\u001b[1;33m\u001b[0m\u001b[1;33m\u001b[0m\u001b[0m\n\u001b[0;32m      3\u001b[0m \u001b[1;31m# link = ()\u001b[0m\u001b[1;33m\u001b[0m\u001b[1;33m\u001b[0m\u001b[1;33m\u001b[0m\u001b[0m\n\u001b[1;32m----> 4\u001b[1;33m \u001b[1;32mwith\u001b[0m \u001b[0mopen\u001b[0m\u001b[1;33m(\u001b[0m\u001b[1;34m\"https://www.jeremypk.net\"\u001b[0m\u001b[1;33m)\u001b[0m \u001b[1;32mas\u001b[0m \u001b[0mfp\u001b[0m\u001b[1;33m:\u001b[0m\u001b[1;33m\u001b[0m\u001b[1;33m\u001b[0m\u001b[0m\n\u001b[0m\u001b[0;32m      5\u001b[0m     \u001b[0msoup\u001b[0m \u001b[1;33m=\u001b[0m \u001b[0mBeautifulSoup\u001b[0m\u001b[1;33m(\u001b[0m\u001b[0mfp\u001b[0m\u001b[1;33m,\u001b[0m \u001b[1;34m'html.parser'\u001b[0m\u001b[1;33m)\u001b[0m\u001b[1;33m\u001b[0m\u001b[1;33m\u001b[0m\u001b[0m\n\u001b[0;32m      6\u001b[0m \u001b[1;33m\u001b[0m\u001b[0m\n",
      "\u001b[1;31mOSError\u001b[0m: [Errno 22] Invalid argument: 'https://www.jeremypk.net'"
     ]
    }
   ],
   "source": [
    "from bs4 import BeautifulSoup\n",
    "# ??\n",
    "# link = ()\n",
    "with open(\"https://www.jeremypk.net\") as fp:\n",
    "    soup = BeautifulSoup(fp, 'html.parser')\n",
    "\n",
    "soup = BeautifulSoup(\"<html>a web page</html>\", 'html.parser')"
   ]
  },
  {
   "cell_type": "code",
   "execution_count": 23,
   "metadata": {},
   "outputs": [
    {
     "name": "stdout",
     "output_type": "stream",
     "text": [
      "the link: https://www.monster.com/jobs/search/?q=Software-Developer&where=Australia gave me back: <Response [200]>\n"
     ]
    }
   ],
   "source": [
    "# https://realpython.com/beautiful-soup-web-scraper-python/#challenges-of-web-scraping\n",
    "import requests\n",
    "URL = 'https://www.monster.com/jobs/search/?q=Software-Developer&where=Australia'\n",
    "page = requests.get(URL)\n",
    "print('the link: ' + URL + ' gave me back: ' + str(page))\n",
    "#"
   ]
  },
  {
   "cell_type": "code",
   "execution_count": 20,
   "metadata": {},
   "outputs": [
    {
     "name": "stdout",
     "output_type": "stream",
     "text": [
      "the link  gave me back: <Response [200]>\n"
     ]
    }
   ],
   "source": [
    "import requests\n",
    "URL = 'https://www.monster.com/jobs/search/?q=Software-Developer&where=Australia'\n",
    "page = requests.get(URL)\n",
    "print('the link  gave me back: ' + str(page))"
   ]
  },
  {
   "cell_type": "code",
   "execution_count": 25,
   "metadata": {},
   "outputs": [
    {
     "name": "stdout",
     "output_type": "stream",
     "text": [
      "\n",
      "Click For Score\n",
      "8.0\n",
      "\n",
      "\n",
      "Click For Score\n",
      "8.0\n",
      "\n",
      "\n",
      "Click For Score\n",
      "8.5\n",
      "\n",
      "\n",
      "Click For Score\n",
      "9.5\n",
      "\n",
      "\n",
      "Click For Score\n",
      "9.0\n",
      "\n",
      "\n",
      "Click For Score\n",
      "7.0\n",
      "\n",
      "\n",
      "Click For Score\n",
      "9.0\n",
      "\n",
      "\n",
      "Click For Score\n",
      "7.5\n",
      "\n",
      "\n",
      "Click For Score\n",
      "4.5\n",
      "\n",
      "\n",
      "Click For Score\n",
      "7.0\n",
      "\n",
      "\n",
      "Click For Score\n",
      "\n",
      "\n"
     ]
    }
   ],
   "source": [
    "# https://webformatter.com/html can be helfpul in gettting a better idea of a page's code\n",
    "# Just paste the code\n",
    "####\n",
    "# go headless\n",
    "# from selenium import webdriver\n",
    "\n",
    "# try:\n",
    "#     fireFoxOptions = webdriver.FirefoxOptions()\n",
    "#     fireFoxOptions.set_headless()\n",
    "#     brower = webdriver.Firefox(firefox_options=fireFoxOptions)\n",
    "\n",
    "#     brower.get('https://pythonbasics.org')\n",
    "#     print(brower.page_source)\n",
    "# finally:\n",
    "#     try:\n",
    "#         brower.close()\n",
    "#     except:\n",
    "#         pass\n",
    "\n",
    "\n",
    "\n",
    "####\n",
    "\n",
    "from selenium import webdriver\n",
    "import time\n",
    "from bs4 import BeautifulSoup\n",
    "\n",
    "browser = webdriver.Firefox()\n",
    "\n",
    "url = 'https://www.easyallies.com/#!/reviews'\n",
    "sada = browser.get(url)\n",
    "# time.sleep(3)\n",
    "source = browser.page_source\n",
    "soup = BeautifulSoup(source, 'html.parser')\n",
    "\n",
    "# for item in soup.findAll('div', attrs={'class': 'name'}):\n",
    "#     print(item.text)\n",
    "# So what if I wanted to get the score as well\n",
    "# just try to get the score first.\n",
    "for item in soup.findAll('div', attrs={'class': 'score'}):\n",
    "    print(item.text)\n",
    "# TODO don't launch the browser, no need"
   ]
  },
  {
   "cell_type": "code",
   "execution_count": null,
   "metadata": {},
   "outputs": [],
   "source": [
    "# this is a great page to practice automation!\n",
    "# https://www.youtube.com/watch?v=o_gmyQjH_3w\n",
    "# https://formy-project.herokuapp.com/autocomplete"
   ]
  }
 ],
 "metadata": {
  "kernelspec": {
   "display_name": "Python 3",
   "language": "python",
   "name": "python3"
  },
  "language_info": {
   "codemirror_mode": {
    "name": "ipython",
    "version": 3
   },
   "file_extension": ".py",
   "mimetype": "text/x-python",
   "name": "python",
   "nbconvert_exporter": "python",
   "pygments_lexer": "ipython3",
   "version": "3.7.6"
  }
 },
 "nbformat": 4,
 "nbformat_minor": 4
}
